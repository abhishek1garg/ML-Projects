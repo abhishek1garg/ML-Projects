{
 "cells": [
  {
   "cell_type": "markdown",
   "metadata": {},
   "source": [
    "# Libraries"
   ]
  },
  {
   "cell_type": "code",
   "execution_count": 1,
   "metadata": {},
   "outputs": [],
   "source": [
    "import numpy as np\n",
    "import pandas as pd\n",
    "import seaborn as sns\n",
    "import datetime\n",
    "from sklearn.model_selection import train_test_split, RandomizedSearchCV\n",
    "from sklearn.linear_model import LinearRegression,LogisticRegression \n",
    "from sklearn.svm import SVR\n",
    "from sklearn import metrics\n",
    "import matplotlib.pyplot as plt\n",
    "from lightgbm import LGBMRegressor\n",
    "from scipy.stats import uniform, randint as sp_randint\n",
    "#from matplotlib import style"
   ]
  },
  {
   "cell_type": "markdown",
   "metadata": {},
   "source": [
    "# Read Data"
   ]
  },
  {
   "cell_type": "code",
   "execution_count": 2,
   "metadata": {},
   "outputs": [],
   "source": [
    "total_case_df = pd.read_excel(\"Case_Data.xlsx\",\"Total Cases\")\n",
    "air_df = pd.read_csv(\"AQI_Data_31Jan2021.csv\")\n",
    "air_df.Date = pd.to_datetime(air_df.Date,dayfirst=True)"
   ]
  },
  {
   "cell_type": "markdown",
   "metadata": {},
   "source": [
    "# Data Mining"
   ]
  },
  {
   "cell_type": "code",
   "execution_count": 3,
   "metadata": {},
   "outputs": [],
   "source": [
    "air_df_copy=air_df.copy(deep=True)\n",
    "#air_df=air_df_copy.copy(deep=True)\n",
    "air_df.Date=air_df.Date+pd.to_timedelta(5,unit=\"d\")"
   ]
  },
  {
   "cell_type": "code",
   "execution_count": 4,
   "metadata": {},
   "outputs": [],
   "source": [
    "air_df.sort_values(by=\"Date\",inplace=True)"
   ]
  },
  {
   "cell_type": "code",
   "execution_count": 5,
   "metadata": {},
   "outputs": [
    {
     "data": {
      "text/plain": [
       "Delhi         6992\n",
       "Mumbai        3864\n",
       "Chennai       1472\n",
       "Kolkata       1288\n",
       "Pune          1288\n",
       "Hyderabad     1104\n",
       "Lucknow        736\n",
       "Chandigarh     184\n",
       "Ahmedabad      184\n",
       "Name: City, dtype: int64"
      ]
     },
     "execution_count": 5,
     "metadata": {},
     "output_type": "execute_result"
    }
   ],
   "source": [
    "air_df[\"City\"].value_counts()"
   ]
  },
  {
   "cell_type": "code",
   "execution_count": 6,
   "metadata": {},
   "outputs": [],
   "source": [
    "def data_mining (cases_city,aqi_city):\n",
    "    case_df = total_case_df[total_case_df['District']==cases_city].transpose()\n",
    "    case_df.drop(index=['State','District'],inplace=True)\n",
    "    if len(case_df.columns)==1:\n",
    "        case_df.columns=[\"Total Cases\"]\n",
    "    elif len(case_df.columns)==2:\n",
    "        case_df.columns=[\"Total Cases\",\"1\"]\n",
    "        case_df.drop(columns=\"1\",inplace=True)\n",
    "    case_df['Date'] = case_df.index\n",
    "    first_index_value=case_df.first_valid_index()\n",
    "    if case_df.loc[first_index_value,\"Total Cases\"]==np.nan:\n",
    "        prev_value=0\n",
    "    else:\n",
    "        prev_value=case_df.loc[first_index_value,\"Total Cases\"]\n",
    "        prev_date=case_df.loc[first_index_value,\"Date\"]\n",
    "        daily_cases=0\n",
    "    for i,row in case_df.iterrows():\n",
    "        if(str(row[\"Total Cases\"])!=\"nan\"):\n",
    "            if prev_date!=row[\"Date\"]:\n",
    "                daily_cases=row[\"Total Cases\"]-prev_value\n",
    "                case_df.at[i,\"Total_Day_Cases\"]=daily_cases\n",
    "                prev_value=row[\"Total Cases\"]\n",
    "                prev_date=row[\"Date\"]\n",
    "            else:\n",
    "                case_df.at[i,\"Total_Day_Cases\"]=daily_cases\n",
    "    case_df.reset_index(drop=True, inplace=True)\n",
    "    case_df = (air_df[air_df.City == aqi_city]).join(case_df.set_index('Date'),on='Date')\n",
    "    return(case_df)"
   ]
  },
  {
   "cell_type": "code",
   "execution_count": 7,
   "metadata": {},
   "outputs": [],
   "source": [
    "li=[]\n",
    "aqi_city=['Delhi','Mumbai','Chennai','Kolkata','Hyderabad']\n",
    "for i,city in enumerate(['Delhi','Mumbai City','Chennai','Kolkata','Hyderabad']):\n",
    "    city_df=data_mining(city,aqi_city[i])\n",
    "    li.append(city_df)\n",
    "major_cities_df=pd.concat(li,ignore_index=False,axis=0)"
   ]
  },
  {
   "cell_type": "code",
   "execution_count": 8,
   "metadata": {},
   "outputs": [
    {
     "data": {
      "text/plain": [
       "5479    -819.0\n",
       "7503    -819.0\n",
       "15967   -819.0\n",
       "13023   -819.0\n",
       "11735   -819.0\n",
       "         ...  \n",
       "3864       NaN\n",
       "184        NaN\n",
       "9936       NaN\n",
       "1288       NaN\n",
       "14904      NaN\n",
       "Name: Total_Day_Cases, Length: 14720, dtype: float64"
      ]
     },
     "execution_count": 8,
     "metadata": {},
     "output_type": "execute_result"
    }
   ],
   "source": [
    "major_cities_df[\"Total_Day_Cases\"].sort_values()"
   ]
  },
  {
   "cell_type": "code",
   "execution_count": 9,
   "metadata": {},
   "outputs": [
    {
     "data": {
      "text/html": [
       "<div>\n",
       "<style scoped>\n",
       "    .dataframe tbody tr th:only-of-type {\n",
       "        vertical-align: middle;\n",
       "    }\n",
       "\n",
       "    .dataframe tbody tr th {\n",
       "        vertical-align: top;\n",
       "    }\n",
       "\n",
       "    .dataframe thead th {\n",
       "        text-align: right;\n",
       "    }\n",
       "</style>\n",
       "<table border=\"1\" class=\"dataframe\">\n",
       "  <thead>\n",
       "    <tr style=\"text-align: right;\">\n",
       "      <th></th>\n",
       "      <th>City</th>\n",
       "      <th>Station_ID</th>\n",
       "      <th>Date</th>\n",
       "      <th>PM2.5_average</th>\n",
       "      <th>PM2.5_minimum</th>\n",
       "      <th>PM2.5_maximum</th>\n",
       "      <th>PM10_average</th>\n",
       "      <th>PM10_minimum</th>\n",
       "      <th>PM10_maximum</th>\n",
       "      <th>NO2_average</th>\n",
       "      <th>...</th>\n",
       "      <th>SO2_minimum</th>\n",
       "      <th>SO2_maximum</th>\n",
       "      <th>CO_average</th>\n",
       "      <th>CO_minimum</th>\n",
       "      <th>CO_maximum</th>\n",
       "      <th>OZONE_average</th>\n",
       "      <th>OZONE_minimum</th>\n",
       "      <th>OZONE_maximum</th>\n",
       "      <th>Total Cases</th>\n",
       "      <th>Total_Day_Cases</th>\n",
       "    </tr>\n",
       "  </thead>\n",
       "  <tbody>\n",
       "    <tr>\n",
       "      <td>17111</td>\n",
       "      <td>Delhi</td>\n",
       "      <td>site_106</td>\n",
       "      <td>2020-07-06</td>\n",
       "      <td>58.0</td>\n",
       "      <td>19.0</td>\n",
       "      <td>84.0</td>\n",
       "      <td>89.0</td>\n",
       "      <td>48.0</td>\n",
       "      <td>122.0</td>\n",
       "      <td>24.0</td>\n",
       "      <td>...</td>\n",
       "      <td>NaN</td>\n",
       "      <td>NaN</td>\n",
       "      <td>31.0</td>\n",
       "      <td>23.0</td>\n",
       "      <td>39.0</td>\n",
       "      <td>82.0</td>\n",
       "      <td>27.0</td>\n",
       "      <td>151.0</td>\n",
       "      <td>100823</td>\n",
       "      <td>1379.0</td>\n",
       "    </tr>\n",
       "    <tr>\n",
       "      <td>8463</td>\n",
       "      <td>Delhi</td>\n",
       "      <td>site_1435</td>\n",
       "      <td>2020-07-06</td>\n",
       "      <td>81.0</td>\n",
       "      <td>57.0</td>\n",
       "      <td>98.0</td>\n",
       "      <td>106.0</td>\n",
       "      <td>70.0</td>\n",
       "      <td>171.0</td>\n",
       "      <td>22.0</td>\n",
       "      <td>...</td>\n",
       "      <td>24.0</td>\n",
       "      <td>54.0</td>\n",
       "      <td>91.0</td>\n",
       "      <td>85.0</td>\n",
       "      <td>101.0</td>\n",
       "      <td>53.0</td>\n",
       "      <td>5.0</td>\n",
       "      <td>94.0</td>\n",
       "      <td>100823</td>\n",
       "      <td>1379.0</td>\n",
       "    </tr>\n",
       "    <tr>\n",
       "      <td>11959</td>\n",
       "      <td>Delhi</td>\n",
       "      <td>site_105</td>\n",
       "      <td>2020-07-06</td>\n",
       "      <td>70.0</td>\n",
       "      <td>44.0</td>\n",
       "      <td>93.0</td>\n",
       "      <td>86.0</td>\n",
       "      <td>48.0</td>\n",
       "      <td>120.0</td>\n",
       "      <td>11.0</td>\n",
       "      <td>...</td>\n",
       "      <td>NaN</td>\n",
       "      <td>NaN</td>\n",
       "      <td>33.0</td>\n",
       "      <td>30.0</td>\n",
       "      <td>35.0</td>\n",
       "      <td>55.0</td>\n",
       "      <td>32.0</td>\n",
       "      <td>68.0</td>\n",
       "      <td>100823</td>\n",
       "      <td>1379.0</td>\n",
       "    </tr>\n",
       "    <tr>\n",
       "      <td>7911</td>\n",
       "      <td>Delhi</td>\n",
       "      <td>site_124</td>\n",
       "      <td>2020-07-06</td>\n",
       "      <td>38.0</td>\n",
       "      <td>10.0</td>\n",
       "      <td>63.0</td>\n",
       "      <td>74.0</td>\n",
       "      <td>44.0</td>\n",
       "      <td>109.0</td>\n",
       "      <td>23.0</td>\n",
       "      <td>...</td>\n",
       "      <td>8.0</td>\n",
       "      <td>26.0</td>\n",
       "      <td>45.0</td>\n",
       "      <td>30.0</td>\n",
       "      <td>52.0</td>\n",
       "      <td>12.0</td>\n",
       "      <td>5.0</td>\n",
       "      <td>17.0</td>\n",
       "      <td>100823</td>\n",
       "      <td>1379.0</td>\n",
       "    </tr>\n",
       "    <tr>\n",
       "      <td>5151</td>\n",
       "      <td>Delhi</td>\n",
       "      <td>site_1427</td>\n",
       "      <td>2020-07-06</td>\n",
       "      <td>NaN</td>\n",
       "      <td>NaN</td>\n",
       "      <td>NaN</td>\n",
       "      <td>NaN</td>\n",
       "      <td>NaN</td>\n",
       "      <td>NaN</td>\n",
       "      <td>NaN</td>\n",
       "      <td>...</td>\n",
       "      <td>NaN</td>\n",
       "      <td>NaN</td>\n",
       "      <td>73.0</td>\n",
       "      <td>2.0</td>\n",
       "      <td>117.0</td>\n",
       "      <td>55.0</td>\n",
       "      <td>32.0</td>\n",
       "      <td>76.0</td>\n",
       "      <td>100823</td>\n",
       "      <td>1379.0</td>\n",
       "    </tr>\n",
       "    <tr>\n",
       "      <td>...</td>\n",
       "      <td>...</td>\n",
       "      <td>...</td>\n",
       "      <td>...</td>\n",
       "      <td>...</td>\n",
       "      <td>...</td>\n",
       "      <td>...</td>\n",
       "      <td>...</td>\n",
       "      <td>...</td>\n",
       "      <td>...</td>\n",
       "      <td>...</td>\n",
       "      <td>...</td>\n",
       "      <td>...</td>\n",
       "      <td>...</td>\n",
       "      <td>...</td>\n",
       "      <td>...</td>\n",
       "      <td>...</td>\n",
       "      <td>...</td>\n",
       "      <td>...</td>\n",
       "      <td>...</td>\n",
       "      <td>...</td>\n",
       "      <td>...</td>\n",
       "    </tr>\n",
       "    <tr>\n",
       "      <td>10167</td>\n",
       "      <td>Hyderabad</td>\n",
       "      <td>site_262</td>\n",
       "      <td>2020-11-19</td>\n",
       "      <td>51.0</td>\n",
       "      <td>22.0</td>\n",
       "      <td>123.0</td>\n",
       "      <td>63.0</td>\n",
       "      <td>31.0</td>\n",
       "      <td>124.0</td>\n",
       "      <td>45.0</td>\n",
       "      <td>...</td>\n",
       "      <td>1.0</td>\n",
       "      <td>7.0</td>\n",
       "      <td>40.0</td>\n",
       "      <td>12.0</td>\n",
       "      <td>56.0</td>\n",
       "      <td>21.0</td>\n",
       "      <td>3.0</td>\n",
       "      <td>53.0</td>\n",
       "      <td>2683</td>\n",
       "      <td>0.0</td>\n",
       "    </tr>\n",
       "    <tr>\n",
       "      <td>1335</td>\n",
       "      <td>Hyderabad</td>\n",
       "      <td>site_294</td>\n",
       "      <td>2020-11-19</td>\n",
       "      <td>64.0</td>\n",
       "      <td>29.0</td>\n",
       "      <td>222.0</td>\n",
       "      <td>NaN</td>\n",
       "      <td>NaN</td>\n",
       "      <td>NaN</td>\n",
       "      <td>39.0</td>\n",
       "      <td>...</td>\n",
       "      <td>4.0</td>\n",
       "      <td>8.0</td>\n",
       "      <td>43.0</td>\n",
       "      <td>2.0</td>\n",
       "      <td>61.0</td>\n",
       "      <td>16.0</td>\n",
       "      <td>8.0</td>\n",
       "      <td>34.0</td>\n",
       "      <td>2683</td>\n",
       "      <td>0.0</td>\n",
       "    </tr>\n",
       "    <tr>\n",
       "      <td>9983</td>\n",
       "      <td>Hyderabad</td>\n",
       "      <td>site_298</td>\n",
       "      <td>2020-11-19</td>\n",
       "      <td>82.0</td>\n",
       "      <td>38.0</td>\n",
       "      <td>190.0</td>\n",
       "      <td>101.0</td>\n",
       "      <td>50.0</td>\n",
       "      <td>155.0</td>\n",
       "      <td>82.0</td>\n",
       "      <td>...</td>\n",
       "      <td>4.0</td>\n",
       "      <td>6.0</td>\n",
       "      <td>10.0</td>\n",
       "      <td>8.0</td>\n",
       "      <td>11.0</td>\n",
       "      <td>14.0</td>\n",
       "      <td>12.0</td>\n",
       "      <td>14.0</td>\n",
       "      <td>2683</td>\n",
       "      <td>0.0</td>\n",
       "    </tr>\n",
       "    <tr>\n",
       "      <td>14951</td>\n",
       "      <td>Hyderabad</td>\n",
       "      <td>site_275</td>\n",
       "      <td>2020-11-19</td>\n",
       "      <td>38.0</td>\n",
       "      <td>12.0</td>\n",
       "      <td>126.0</td>\n",
       "      <td>62.0</td>\n",
       "      <td>22.0</td>\n",
       "      <td>155.0</td>\n",
       "      <td>60.0</td>\n",
       "      <td>...</td>\n",
       "      <td>NaN</td>\n",
       "      <td>NaN</td>\n",
       "      <td>41.0</td>\n",
       "      <td>21.0</td>\n",
       "      <td>56.0</td>\n",
       "      <td>9.0</td>\n",
       "      <td>2.0</td>\n",
       "      <td>24.0</td>\n",
       "      <td>2683</td>\n",
       "      <td>0.0</td>\n",
       "    </tr>\n",
       "    <tr>\n",
       "      <td>231</td>\n",
       "      <td>Hyderabad</td>\n",
       "      <td>site_251</td>\n",
       "      <td>2020-11-19</td>\n",
       "      <td>57.0</td>\n",
       "      <td>27.0</td>\n",
       "      <td>173.0</td>\n",
       "      <td>68.0</td>\n",
       "      <td>22.0</td>\n",
       "      <td>159.0</td>\n",
       "      <td>18.0</td>\n",
       "      <td>...</td>\n",
       "      <td>1.0</td>\n",
       "      <td>22.0</td>\n",
       "      <td>45.0</td>\n",
       "      <td>14.0</td>\n",
       "      <td>65.0</td>\n",
       "      <td>15.0</td>\n",
       "      <td>6.0</td>\n",
       "      <td>49.0</td>\n",
       "      <td>2683</td>\n",
       "      <td>0.0</td>\n",
       "    </tr>\n",
       "  </tbody>\n",
       "</table>\n",
       "<p>7488 rows × 23 columns</p>\n",
       "</div>"
      ],
      "text/plain": [
       "            City Station_ID       Date  PM2.5_average  PM2.5_minimum  \\\n",
       "17111      Delhi   site_106 2020-07-06           58.0           19.0   \n",
       "8463       Delhi  site_1435 2020-07-06           81.0           57.0   \n",
       "11959      Delhi   site_105 2020-07-06           70.0           44.0   \n",
       "7911       Delhi   site_124 2020-07-06           38.0           10.0   \n",
       "5151       Delhi  site_1427 2020-07-06            NaN            NaN   \n",
       "...          ...        ...        ...            ...            ...   \n",
       "10167  Hyderabad   site_262 2020-11-19           51.0           22.0   \n",
       "1335   Hyderabad   site_294 2020-11-19           64.0           29.0   \n",
       "9983   Hyderabad   site_298 2020-11-19           82.0           38.0   \n",
       "14951  Hyderabad   site_275 2020-11-19           38.0           12.0   \n",
       "231    Hyderabad   site_251 2020-11-19           57.0           27.0   \n",
       "\n",
       "       PM2.5_maximum  PM10_average  PM10_minimum  PM10_maximum  NO2_average  \\\n",
       "17111           84.0          89.0          48.0         122.0         24.0   \n",
       "8463            98.0         106.0          70.0         171.0         22.0   \n",
       "11959           93.0          86.0          48.0         120.0         11.0   \n",
       "7911            63.0          74.0          44.0         109.0         23.0   \n",
       "5151             NaN           NaN           NaN           NaN          NaN   \n",
       "...              ...           ...           ...           ...          ...   \n",
       "10167          123.0          63.0          31.0         124.0         45.0   \n",
       "1335           222.0           NaN           NaN           NaN         39.0   \n",
       "9983           190.0         101.0          50.0         155.0         82.0   \n",
       "14951          126.0          62.0          22.0         155.0         60.0   \n",
       "231            173.0          68.0          22.0         159.0         18.0   \n",
       "\n",
       "       ...  SO2_minimum  SO2_maximum  CO_average  CO_minimum  CO_maximum  \\\n",
       "17111  ...          NaN          NaN        31.0        23.0        39.0   \n",
       "8463   ...         24.0         54.0        91.0        85.0       101.0   \n",
       "11959  ...          NaN          NaN        33.0        30.0        35.0   \n",
       "7911   ...          8.0         26.0        45.0        30.0        52.0   \n",
       "5151   ...          NaN          NaN        73.0         2.0       117.0   \n",
       "...    ...          ...          ...         ...         ...         ...   \n",
       "10167  ...          1.0          7.0        40.0        12.0        56.0   \n",
       "1335   ...          4.0          8.0        43.0         2.0        61.0   \n",
       "9983   ...          4.0          6.0        10.0         8.0        11.0   \n",
       "14951  ...          NaN          NaN        41.0        21.0        56.0   \n",
       "231    ...          1.0         22.0        45.0        14.0        65.0   \n",
       "\n",
       "       OZONE_average  OZONE_minimum  OZONE_maximum  Total Cases  \\\n",
       "17111           82.0           27.0          151.0       100823   \n",
       "8463            53.0            5.0           94.0       100823   \n",
       "11959           55.0           32.0           68.0       100823   \n",
       "7911            12.0            5.0           17.0       100823   \n",
       "5151            55.0           32.0           76.0       100823   \n",
       "...              ...            ...            ...          ...   \n",
       "10167           21.0            3.0           53.0         2683   \n",
       "1335            16.0            8.0           34.0         2683   \n",
       "9983            14.0           12.0           14.0         2683   \n",
       "14951            9.0            2.0           24.0         2683   \n",
       "231             15.0            6.0           49.0         2683   \n",
       "\n",
       "       Total_Day_Cases  \n",
       "17111           1379.0  \n",
       "8463            1379.0  \n",
       "11959           1379.0  \n",
       "7911            1379.0  \n",
       "5151            1379.0  \n",
       "...                ...  \n",
       "10167              0.0  \n",
       "1335               0.0  \n",
       "9983               0.0  \n",
       "14951              0.0  \n",
       "231                0.0  \n",
       "\n",
       "[7488 rows x 23 columns]"
      ]
     },
     "execution_count": 9,
     "metadata": {},
     "output_type": "execute_result"
    }
   ],
   "source": [
    "major_cities_df.drop(columns = ['Unnamed: 0','State','Station_Name','NH3_average','NH3_minimum','NH3_maximum'],inplace=True)\n",
    "pollutant_cols=list(major_cities_df.drop(columns=[\"City\",\"Station_ID\",\"Date\",\"Total Cases\",\"Total_Day_Cases\"]).columns)\n",
    "major_cities_df.dropna(subset=pollutant_cols,how=\"all\",axis=0,inplace=True)\n",
    "major_cities_df.dropna(subset=[\"Total Cases\"],how=\"all\",axis=0,inplace=True)\n",
    "major_cities_df"
   ]
  },
  {
   "cell_type": "code",
   "execution_count": 10,
   "metadata": {},
   "outputs": [],
   "source": [
    "final_df=major_cities_df.groupby(by=[\"City\",\"Date\"]).count().reset_index()[[\"City\",\"Date\"]]"
   ]
  },
  {
   "cell_type": "code",
   "execution_count": 11,
   "metadata": {},
   "outputs": [],
   "source": [
    "final_df[\"Unique\"]=final_df[\"City\"]+\"|\"+final_df[\"Date\"].astype('str')\n",
    "major_cities_df[\"Unique\"]=major_cities_df[\"City\"]+\"|\"+major_cities_df[\"Date\"].astype('str')"
   ]
  },
  {
   "cell_type": "code",
   "execution_count": 12,
   "metadata": {},
   "outputs": [
    {
     "data": {
      "text/plain": [
       "Index(['City', 'Station_ID', 'Date', 'PM2.5_average', 'PM2.5_minimum',\n",
       "       'PM2.5_maximum', 'PM10_average', 'PM10_minimum', 'PM10_maximum',\n",
       "       'NO2_average', 'NO2_minimum', 'NO2_maximum', 'SO2_average',\n",
       "       'SO2_minimum', 'SO2_maximum', 'CO_average', 'CO_minimum', 'CO_maximum',\n",
       "       'OZONE_average', 'OZONE_minimum', 'OZONE_maximum', 'Total Cases',\n",
       "       'Total_Day_Cases', 'Unique'],\n",
       "      dtype='object')"
      ]
     },
     "execution_count": 12,
     "metadata": {},
     "output_type": "execute_result"
    }
   ],
   "source": [
    "major_cities_df.columns"
   ]
  },
  {
   "cell_type": "code",
   "execution_count": 13,
   "metadata": {},
   "outputs": [
    {
     "data": {
      "text/html": [
       "<div>\n",
       "<style scoped>\n",
       "    .dataframe tbody tr th:only-of-type {\n",
       "        vertical-align: middle;\n",
       "    }\n",
       "\n",
       "    .dataframe tbody tr th {\n",
       "        vertical-align: top;\n",
       "    }\n",
       "\n",
       "    .dataframe thead th {\n",
       "        text-align: right;\n",
       "    }\n",
       "</style>\n",
       "<table border=\"1\" class=\"dataframe\">\n",
       "  <thead>\n",
       "    <tr style=\"text-align: right;\">\n",
       "      <th></th>\n",
       "      <th>City</th>\n",
       "      <th>Date</th>\n",
       "      <th>Unique</th>\n",
       "    </tr>\n",
       "  </thead>\n",
       "  <tbody>\n",
       "    <tr>\n",
       "      <td>0</td>\n",
       "      <td>Chennai</td>\n",
       "      <td>2020-07-06</td>\n",
       "      <td>Chennai|2020-07-06</td>\n",
       "    </tr>\n",
       "    <tr>\n",
       "      <td>1</td>\n",
       "      <td>Chennai</td>\n",
       "      <td>2020-07-07</td>\n",
       "      <td>Chennai|2020-07-07</td>\n",
       "    </tr>\n",
       "    <tr>\n",
       "      <td>2</td>\n",
       "      <td>Chennai</td>\n",
       "      <td>2020-07-08</td>\n",
       "      <td>Chennai|2020-07-08</td>\n",
       "    </tr>\n",
       "    <tr>\n",
       "      <td>3</td>\n",
       "      <td>Chennai</td>\n",
       "      <td>2020-07-09</td>\n",
       "      <td>Chennai|2020-07-09</td>\n",
       "    </tr>\n",
       "    <tr>\n",
       "      <td>4</td>\n",
       "      <td>Chennai</td>\n",
       "      <td>2020-07-10</td>\n",
       "      <td>Chennai|2020-07-10</td>\n",
       "    </tr>\n",
       "    <tr>\n",
       "      <td>...</td>\n",
       "      <td>...</td>\n",
       "      <td>...</td>\n",
       "      <td>...</td>\n",
       "    </tr>\n",
       "    <tr>\n",
       "      <td>680</td>\n",
       "      <td>Mumbai</td>\n",
       "      <td>2020-11-15</td>\n",
       "      <td>Mumbai|2020-11-15</td>\n",
       "    </tr>\n",
       "    <tr>\n",
       "      <td>681</td>\n",
       "      <td>Mumbai</td>\n",
       "      <td>2020-11-16</td>\n",
       "      <td>Mumbai|2020-11-16</td>\n",
       "    </tr>\n",
       "    <tr>\n",
       "      <td>682</td>\n",
       "      <td>Mumbai</td>\n",
       "      <td>2020-11-17</td>\n",
       "      <td>Mumbai|2020-11-17</td>\n",
       "    </tr>\n",
       "    <tr>\n",
       "      <td>683</td>\n",
       "      <td>Mumbai</td>\n",
       "      <td>2020-11-18</td>\n",
       "      <td>Mumbai|2020-11-18</td>\n",
       "    </tr>\n",
       "    <tr>\n",
       "      <td>684</td>\n",
       "      <td>Mumbai</td>\n",
       "      <td>2020-11-19</td>\n",
       "      <td>Mumbai|2020-11-19</td>\n",
       "    </tr>\n",
       "  </tbody>\n",
       "</table>\n",
       "<p>685 rows × 3 columns</p>\n",
       "</div>"
      ],
      "text/plain": [
       "        City       Date              Unique\n",
       "0    Chennai 2020-07-06  Chennai|2020-07-06\n",
       "1    Chennai 2020-07-07  Chennai|2020-07-07\n",
       "2    Chennai 2020-07-08  Chennai|2020-07-08\n",
       "3    Chennai 2020-07-09  Chennai|2020-07-09\n",
       "4    Chennai 2020-07-10  Chennai|2020-07-10\n",
       "..       ...        ...                 ...\n",
       "680   Mumbai 2020-11-15   Mumbai|2020-11-15\n",
       "681   Mumbai 2020-11-16   Mumbai|2020-11-16\n",
       "682   Mumbai 2020-11-17   Mumbai|2020-11-17\n",
       "683   Mumbai 2020-11-18   Mumbai|2020-11-18\n",
       "684   Mumbai 2020-11-19   Mumbai|2020-11-19\n",
       "\n",
       "[685 rows x 3 columns]"
      ]
     },
     "execution_count": 13,
     "metadata": {},
     "output_type": "execute_result"
    }
   ],
   "source": [
    "final_df"
   ]
  },
  {
   "cell_type": "code",
   "execution_count": 14,
   "metadata": {},
   "outputs": [
    {
     "data": {
      "text/plain": [
       "Index(['PM10_average', 'PM10_minimum', 'PM10_maximum'], dtype='object')"
      ]
     },
     "execution_count": 14,
     "metadata": {},
     "output_type": "execute_result"
    }
   ],
   "source": [
    "cols_with_na=major_cities_df.groupby(by=[\"Unique\"]).max().columns[major_cities_df.groupby(by=[\"Unique\"]).max().isna().any()]\n",
    "cols_with_na"
   ]
  },
  {
   "cell_type": "code",
   "execution_count": 15,
   "metadata": {},
   "outputs": [],
   "source": [
    "major_cities_df.drop(columns=cols_with_na,inplace=True)"
   ]
  },
  {
   "cell_type": "code",
   "execution_count": 16,
   "metadata": {},
   "outputs": [],
   "source": [
    "for col in major_cities_df.select_dtypes(include=[np.number]).columns:\n",
    "    groupby_citydate=major_cities_df.groupby(by=[\"Unique\"])\n",
    "    if(col.find('maximum')!=-1):\n",
    "        group_df=pd.DataFrame(groupby_citydate.max()[col])\n",
    "        final_df=final_df.join(group_df,on=\"Unique\")\n",
    "    elif(col.find('minimum')!=-1):\n",
    "        group_df=pd.DataFrame(groupby_citydate.min()[col])\n",
    "        final_df=final_df.join(group_df,on=\"Unique\")\n",
    "    else:\n",
    "        group_df=pd.DataFrame(groupby_citydate.mean()[col])\n",
    "        final_df=final_df.join(group_df,on=\"Unique\")"
   ]
  },
  {
   "cell_type": "code",
   "execution_count": 17,
   "metadata": {},
   "outputs": [
    {
     "data": {
      "text/plain": [
       "0     2020-07-06\n",
       "548   2020-07-06\n",
       "137   2020-07-06\n",
       "411   2020-07-06\n",
       "274   2020-07-06\n",
       "         ...    \n",
       "410   2020-11-19\n",
       "273   2020-11-19\n",
       "136   2020-11-19\n",
       "547   2020-11-19\n",
       "684   2020-11-19\n",
       "Name: Date, Length: 685, dtype: datetime64[ns]"
      ]
     },
     "execution_count": 17,
     "metadata": {},
     "output_type": "execute_result"
    }
   ],
   "source": [
    "final_df[\"Date\"].sort_values()"
   ]
  },
  {
   "cell_type": "code",
   "execution_count": 18,
   "metadata": {},
   "outputs": [
    {
     "data": {
      "text/html": [
       "<div>\n",
       "<style scoped>\n",
       "    .dataframe tbody tr th:only-of-type {\n",
       "        vertical-align: middle;\n",
       "    }\n",
       "\n",
       "    .dataframe tbody tr th {\n",
       "        vertical-align: top;\n",
       "    }\n",
       "\n",
       "    .dataframe thead th {\n",
       "        text-align: right;\n",
       "    }\n",
       "</style>\n",
       "<table border=\"1\" class=\"dataframe\">\n",
       "  <thead>\n",
       "    <tr style=\"text-align: right;\">\n",
       "      <th></th>\n",
       "      <th>City</th>\n",
       "      <th>Date</th>\n",
       "      <th>Unique</th>\n",
       "      <th>PM2.5_average</th>\n",
       "      <th>PM2.5_minimum</th>\n",
       "      <th>PM2.5_maximum</th>\n",
       "      <th>NO2_average</th>\n",
       "      <th>NO2_minimum</th>\n",
       "      <th>NO2_maximum</th>\n",
       "      <th>SO2_average</th>\n",
       "      <th>SO2_minimum</th>\n",
       "      <th>SO2_maximum</th>\n",
       "      <th>CO_average</th>\n",
       "      <th>CO_minimum</th>\n",
       "      <th>CO_maximum</th>\n",
       "      <th>OZONE_average</th>\n",
       "      <th>OZONE_minimum</th>\n",
       "      <th>OZONE_maximum</th>\n",
       "      <th>Total_Day_Cases</th>\n",
       "    </tr>\n",
       "  </thead>\n",
       "  <tbody>\n",
       "    <tr>\n",
       "      <td>0</td>\n",
       "      <td>Chennai</td>\n",
       "      <td>2020-07-06</td>\n",
       "      <td>Chennai|2020-07-06</td>\n",
       "      <td>24.000000</td>\n",
       "      <td>3.0</td>\n",
       "      <td>97.0</td>\n",
       "      <td>12.000000</td>\n",
       "      <td>1.0</td>\n",
       "      <td>101.0</td>\n",
       "      <td>10.333333</td>\n",
       "      <td>1.0</td>\n",
       "      <td>101.0</td>\n",
       "      <td>30.666667</td>\n",
       "      <td>5.0</td>\n",
       "      <td>58.0</td>\n",
       "      <td>52.666667</td>\n",
       "      <td>17.0</td>\n",
       "      <td>252.0</td>\n",
       "      <td>1763.0</td>\n",
       "    </tr>\n",
       "    <tr>\n",
       "      <td>1</td>\n",
       "      <td>Chennai</td>\n",
       "      <td>2020-07-07</td>\n",
       "      <td>Chennai|2020-07-07</td>\n",
       "      <td>25.500000</td>\n",
       "      <td>5.0</td>\n",
       "      <td>71.0</td>\n",
       "      <td>15.000000</td>\n",
       "      <td>2.0</td>\n",
       "      <td>55.0</td>\n",
       "      <td>13.000000</td>\n",
       "      <td>1.0</td>\n",
       "      <td>63.0</td>\n",
       "      <td>32.000000</td>\n",
       "      <td>6.0</td>\n",
       "      <td>61.0</td>\n",
       "      <td>44.500000</td>\n",
       "      <td>18.0</td>\n",
       "      <td>121.0</td>\n",
       "      <td>1213.0</td>\n",
       "    </tr>\n",
       "    <tr>\n",
       "      <td>2</td>\n",
       "      <td>Chennai</td>\n",
       "      <td>2020-07-08</td>\n",
       "      <td>Chennai|2020-07-08</td>\n",
       "      <td>30.000000</td>\n",
       "      <td>4.0</td>\n",
       "      <td>66.0</td>\n",
       "      <td>23.500000</td>\n",
       "      <td>8.0</td>\n",
       "      <td>65.0</td>\n",
       "      <td>7.500000</td>\n",
       "      <td>1.0</td>\n",
       "      <td>67.0</td>\n",
       "      <td>36.500000</td>\n",
       "      <td>2.0</td>\n",
       "      <td>62.0</td>\n",
       "      <td>62.000000</td>\n",
       "      <td>5.0</td>\n",
       "      <td>145.0</td>\n",
       "      <td>1270.0</td>\n",
       "    </tr>\n",
       "    <tr>\n",
       "      <td>3</td>\n",
       "      <td>Chennai</td>\n",
       "      <td>2020-07-09</td>\n",
       "      <td>Chennai|2020-07-09</td>\n",
       "      <td>22.000000</td>\n",
       "      <td>8.0</td>\n",
       "      <td>59.0</td>\n",
       "      <td>12.000000</td>\n",
       "      <td>8.0</td>\n",
       "      <td>15.0</td>\n",
       "      <td>25.000000</td>\n",
       "      <td>3.0</td>\n",
       "      <td>90.0</td>\n",
       "      <td>38.500000</td>\n",
       "      <td>28.0</td>\n",
       "      <td>101.0</td>\n",
       "      <td>36.500000</td>\n",
       "      <td>3.0</td>\n",
       "      <td>72.0</td>\n",
       "      <td>1228.0</td>\n",
       "    </tr>\n",
       "    <tr>\n",
       "      <td>4</td>\n",
       "      <td>Chennai</td>\n",
       "      <td>2020-07-10</td>\n",
       "      <td>Chennai|2020-07-10</td>\n",
       "      <td>16.666667</td>\n",
       "      <td>1.0</td>\n",
       "      <td>82.0</td>\n",
       "      <td>12.333333</td>\n",
       "      <td>1.0</td>\n",
       "      <td>53.0</td>\n",
       "      <td>7.333333</td>\n",
       "      <td>1.0</td>\n",
       "      <td>58.0</td>\n",
       "      <td>35.000000</td>\n",
       "      <td>10.0</td>\n",
       "      <td>58.0</td>\n",
       "      <td>65.000000</td>\n",
       "      <td>2.0</td>\n",
       "      <td>260.0</td>\n",
       "      <td>1241.0</td>\n",
       "    </tr>\n",
       "    <tr>\n",
       "      <td>...</td>\n",
       "      <td>...</td>\n",
       "      <td>...</td>\n",
       "      <td>...</td>\n",
       "      <td>...</td>\n",
       "      <td>...</td>\n",
       "      <td>...</td>\n",
       "      <td>...</td>\n",
       "      <td>...</td>\n",
       "      <td>...</td>\n",
       "      <td>...</td>\n",
       "      <td>...</td>\n",
       "      <td>...</td>\n",
       "      <td>...</td>\n",
       "      <td>...</td>\n",
       "      <td>...</td>\n",
       "      <td>...</td>\n",
       "      <td>...</td>\n",
       "      <td>...</td>\n",
       "      <td>...</td>\n",
       "    </tr>\n",
       "    <tr>\n",
       "      <td>680</td>\n",
       "      <td>Mumbai</td>\n",
       "      <td>2020-11-15</td>\n",
       "      <td>Mumbai|2020-11-15</td>\n",
       "      <td>130.750000</td>\n",
       "      <td>40.0</td>\n",
       "      <td>315.0</td>\n",
       "      <td>49.100000</td>\n",
       "      <td>1.0</td>\n",
       "      <td>173.0</td>\n",
       "      <td>15.444444</td>\n",
       "      <td>3.0</td>\n",
       "      <td>40.0</td>\n",
       "      <td>53.200000</td>\n",
       "      <td>16.0</td>\n",
       "      <td>118.0</td>\n",
       "      <td>20.000000</td>\n",
       "      <td>1.0</td>\n",
       "      <td>265.0</td>\n",
       "      <td>577.0</td>\n",
       "    </tr>\n",
       "    <tr>\n",
       "      <td>681</td>\n",
       "      <td>Mumbai</td>\n",
       "      <td>2020-11-16</td>\n",
       "      <td>Mumbai|2020-11-16</td>\n",
       "      <td>140.000000</td>\n",
       "      <td>50.0</td>\n",
       "      <td>310.0</td>\n",
       "      <td>54.111111</td>\n",
       "      <td>1.0</td>\n",
       "      <td>172.0</td>\n",
       "      <td>17.375000</td>\n",
       "      <td>4.0</td>\n",
       "      <td>56.0</td>\n",
       "      <td>42.909091</td>\n",
       "      <td>1.0</td>\n",
       "      <td>113.0</td>\n",
       "      <td>19.090909</td>\n",
       "      <td>1.0</td>\n",
       "      <td>240.0</td>\n",
       "      <td>409.0</td>\n",
       "    </tr>\n",
       "    <tr>\n",
       "      <td>682</td>\n",
       "      <td>Mumbai</td>\n",
       "      <td>2020-11-17</td>\n",
       "      <td>Mumbai|2020-11-17</td>\n",
       "      <td>167.900000</td>\n",
       "      <td>38.0</td>\n",
       "      <td>395.0</td>\n",
       "      <td>55.400000</td>\n",
       "      <td>1.0</td>\n",
       "      <td>189.0</td>\n",
       "      <td>14.800000</td>\n",
       "      <td>2.0</td>\n",
       "      <td>58.0</td>\n",
       "      <td>46.545455</td>\n",
       "      <td>1.0</td>\n",
       "      <td>98.0</td>\n",
       "      <td>24.333333</td>\n",
       "      <td>1.0</td>\n",
       "      <td>160.0</td>\n",
       "      <td>541.0</td>\n",
       "    </tr>\n",
       "    <tr>\n",
       "      <td>683</td>\n",
       "      <td>Mumbai</td>\n",
       "      <td>2020-11-18</td>\n",
       "      <td>Mumbai|2020-11-18</td>\n",
       "      <td>146.400000</td>\n",
       "      <td>35.0</td>\n",
       "      <td>390.0</td>\n",
       "      <td>55.600000</td>\n",
       "      <td>1.0</td>\n",
       "      <td>246.0</td>\n",
       "      <td>13.500000</td>\n",
       "      <td>1.0</td>\n",
       "      <td>69.0</td>\n",
       "      <td>56.083333</td>\n",
       "      <td>1.0</td>\n",
       "      <td>109.0</td>\n",
       "      <td>27.333333</td>\n",
       "      <td>1.0</td>\n",
       "      <td>275.0</td>\n",
       "      <td>871.0</td>\n",
       "    </tr>\n",
       "    <tr>\n",
       "      <td>684</td>\n",
       "      <td>Mumbai</td>\n",
       "      <td>2020-11-19</td>\n",
       "      <td>Mumbai|2020-11-19</td>\n",
       "      <td>140.250000</td>\n",
       "      <td>35.0</td>\n",
       "      <td>448.0</td>\n",
       "      <td>48.272727</td>\n",
       "      <td>1.0</td>\n",
       "      <td>175.0</td>\n",
       "      <td>12.600000</td>\n",
       "      <td>1.0</td>\n",
       "      <td>54.0</td>\n",
       "      <td>53.187500</td>\n",
       "      <td>1.0</td>\n",
       "      <td>111.0</td>\n",
       "      <td>24.625000</td>\n",
       "      <td>1.0</td>\n",
       "      <td>217.0</td>\n",
       "      <td>924.0</td>\n",
       "    </tr>\n",
       "  </tbody>\n",
       "</table>\n",
       "<p>685 rows × 19 columns</p>\n",
       "</div>"
      ],
      "text/plain": [
       "        City       Date              Unique  PM2.5_average  PM2.5_minimum  \\\n",
       "0    Chennai 2020-07-06  Chennai|2020-07-06      24.000000            3.0   \n",
       "1    Chennai 2020-07-07  Chennai|2020-07-07      25.500000            5.0   \n",
       "2    Chennai 2020-07-08  Chennai|2020-07-08      30.000000            4.0   \n",
       "3    Chennai 2020-07-09  Chennai|2020-07-09      22.000000            8.0   \n",
       "4    Chennai 2020-07-10  Chennai|2020-07-10      16.666667            1.0   \n",
       "..       ...        ...                 ...            ...            ...   \n",
       "680   Mumbai 2020-11-15   Mumbai|2020-11-15     130.750000           40.0   \n",
       "681   Mumbai 2020-11-16   Mumbai|2020-11-16     140.000000           50.0   \n",
       "682   Mumbai 2020-11-17   Mumbai|2020-11-17     167.900000           38.0   \n",
       "683   Mumbai 2020-11-18   Mumbai|2020-11-18     146.400000           35.0   \n",
       "684   Mumbai 2020-11-19   Mumbai|2020-11-19     140.250000           35.0   \n",
       "\n",
       "     PM2.5_maximum  NO2_average  NO2_minimum  NO2_maximum  SO2_average  \\\n",
       "0             97.0    12.000000          1.0        101.0    10.333333   \n",
       "1             71.0    15.000000          2.0         55.0    13.000000   \n",
       "2             66.0    23.500000          8.0         65.0     7.500000   \n",
       "3             59.0    12.000000          8.0         15.0    25.000000   \n",
       "4             82.0    12.333333          1.0         53.0     7.333333   \n",
       "..             ...          ...          ...          ...          ...   \n",
       "680          315.0    49.100000          1.0        173.0    15.444444   \n",
       "681          310.0    54.111111          1.0        172.0    17.375000   \n",
       "682          395.0    55.400000          1.0        189.0    14.800000   \n",
       "683          390.0    55.600000          1.0        246.0    13.500000   \n",
       "684          448.0    48.272727          1.0        175.0    12.600000   \n",
       "\n",
       "     SO2_minimum  SO2_maximum  CO_average  CO_minimum  CO_maximum  \\\n",
       "0            1.0        101.0   30.666667         5.0        58.0   \n",
       "1            1.0         63.0   32.000000         6.0        61.0   \n",
       "2            1.0         67.0   36.500000         2.0        62.0   \n",
       "3            3.0         90.0   38.500000        28.0       101.0   \n",
       "4            1.0         58.0   35.000000        10.0        58.0   \n",
       "..           ...          ...         ...         ...         ...   \n",
       "680          3.0         40.0   53.200000        16.0       118.0   \n",
       "681          4.0         56.0   42.909091         1.0       113.0   \n",
       "682          2.0         58.0   46.545455         1.0        98.0   \n",
       "683          1.0         69.0   56.083333         1.0       109.0   \n",
       "684          1.0         54.0   53.187500         1.0       111.0   \n",
       "\n",
       "     OZONE_average  OZONE_minimum  OZONE_maximum  Total_Day_Cases  \n",
       "0        52.666667           17.0          252.0           1763.0  \n",
       "1        44.500000           18.0          121.0           1213.0  \n",
       "2        62.000000            5.0          145.0           1270.0  \n",
       "3        36.500000            3.0           72.0           1228.0  \n",
       "4        65.000000            2.0          260.0           1241.0  \n",
       "..             ...            ...            ...              ...  \n",
       "680      20.000000            1.0          265.0            577.0  \n",
       "681      19.090909            1.0          240.0            409.0  \n",
       "682      24.333333            1.0          160.0            541.0  \n",
       "683      27.333333            1.0          275.0            871.0  \n",
       "684      24.625000            1.0          217.0            924.0  \n",
       "\n",
       "[685 rows x 19 columns]"
      ]
     },
     "execution_count": 18,
     "metadata": {},
     "output_type": "execute_result"
    }
   ],
   "source": [
    "final_df"
   ]
  },
  {
   "cell_type": "code",
   "execution_count": 19,
   "metadata": {},
   "outputs": [],
   "source": [
    "#final_df['Date1'] = final_df.Date - pd.to_timedelta(2,unit=\"d\")"
   ]
  },
  {
   "cell_type": "code",
   "execution_count": 20,
   "metadata": {},
   "outputs": [
    {
     "data": {
      "text/html": [
       "<div>\n",
       "<style scoped>\n",
       "    .dataframe tbody tr th:only-of-type {\n",
       "        vertical-align: middle;\n",
       "    }\n",
       "\n",
       "    .dataframe tbody tr th {\n",
       "        vertical-align: top;\n",
       "    }\n",
       "\n",
       "    .dataframe thead th {\n",
       "        text-align: right;\n",
       "    }\n",
       "</style>\n",
       "<table border=\"1\" class=\"dataframe\">\n",
       "  <thead>\n",
       "    <tr style=\"text-align: right;\">\n",
       "      <th></th>\n",
       "      <th>City</th>\n",
       "      <th>Date</th>\n",
       "      <th>Unique</th>\n",
       "      <th>PM2.5_average</th>\n",
       "      <th>PM2.5_minimum</th>\n",
       "      <th>PM2.5_maximum</th>\n",
       "      <th>NO2_average</th>\n",
       "      <th>NO2_minimum</th>\n",
       "      <th>NO2_maximum</th>\n",
       "      <th>SO2_average</th>\n",
       "      <th>SO2_minimum</th>\n",
       "      <th>SO2_maximum</th>\n",
       "      <th>CO_average</th>\n",
       "      <th>CO_minimum</th>\n",
       "      <th>CO_maximum</th>\n",
       "      <th>OZONE_average</th>\n",
       "      <th>OZONE_minimum</th>\n",
       "      <th>OZONE_maximum</th>\n",
       "      <th>Total_Day_Cases</th>\n",
       "    </tr>\n",
       "  </thead>\n",
       "  <tbody>\n",
       "    <tr>\n",
       "      <td>0</td>\n",
       "      <td>Chennai</td>\n",
       "      <td>2020-07-06</td>\n",
       "      <td>Chennai|2020-07-06</td>\n",
       "      <td>24.000000</td>\n",
       "      <td>3.0</td>\n",
       "      <td>97.0</td>\n",
       "      <td>12.000000</td>\n",
       "      <td>1.0</td>\n",
       "      <td>101.0</td>\n",
       "      <td>10.333333</td>\n",
       "      <td>1.0</td>\n",
       "      <td>101.0</td>\n",
       "      <td>30.666667</td>\n",
       "      <td>5.0</td>\n",
       "      <td>58.0</td>\n",
       "      <td>52.666667</td>\n",
       "      <td>17.0</td>\n",
       "      <td>252.0</td>\n",
       "      <td>1763.0</td>\n",
       "    </tr>\n",
       "    <tr>\n",
       "      <td>1</td>\n",
       "      <td>Chennai</td>\n",
       "      <td>2020-07-07</td>\n",
       "      <td>Chennai|2020-07-07</td>\n",
       "      <td>25.500000</td>\n",
       "      <td>5.0</td>\n",
       "      <td>71.0</td>\n",
       "      <td>15.000000</td>\n",
       "      <td>2.0</td>\n",
       "      <td>55.0</td>\n",
       "      <td>13.000000</td>\n",
       "      <td>1.0</td>\n",
       "      <td>63.0</td>\n",
       "      <td>32.000000</td>\n",
       "      <td>6.0</td>\n",
       "      <td>61.0</td>\n",
       "      <td>44.500000</td>\n",
       "      <td>18.0</td>\n",
       "      <td>121.0</td>\n",
       "      <td>1213.0</td>\n",
       "    </tr>\n",
       "    <tr>\n",
       "      <td>2</td>\n",
       "      <td>Chennai</td>\n",
       "      <td>2020-07-08</td>\n",
       "      <td>Chennai|2020-07-08</td>\n",
       "      <td>30.000000</td>\n",
       "      <td>4.0</td>\n",
       "      <td>66.0</td>\n",
       "      <td>23.500000</td>\n",
       "      <td>8.0</td>\n",
       "      <td>65.0</td>\n",
       "      <td>7.500000</td>\n",
       "      <td>1.0</td>\n",
       "      <td>67.0</td>\n",
       "      <td>36.500000</td>\n",
       "      <td>2.0</td>\n",
       "      <td>62.0</td>\n",
       "      <td>62.000000</td>\n",
       "      <td>5.0</td>\n",
       "      <td>145.0</td>\n",
       "      <td>1270.0</td>\n",
       "    </tr>\n",
       "    <tr>\n",
       "      <td>3</td>\n",
       "      <td>Chennai</td>\n",
       "      <td>2020-07-09</td>\n",
       "      <td>Chennai|2020-07-09</td>\n",
       "      <td>22.000000</td>\n",
       "      <td>8.0</td>\n",
       "      <td>59.0</td>\n",
       "      <td>12.000000</td>\n",
       "      <td>8.0</td>\n",
       "      <td>15.0</td>\n",
       "      <td>25.000000</td>\n",
       "      <td>3.0</td>\n",
       "      <td>90.0</td>\n",
       "      <td>38.500000</td>\n",
       "      <td>28.0</td>\n",
       "      <td>101.0</td>\n",
       "      <td>36.500000</td>\n",
       "      <td>3.0</td>\n",
       "      <td>72.0</td>\n",
       "      <td>1228.0</td>\n",
       "    </tr>\n",
       "    <tr>\n",
       "      <td>4</td>\n",
       "      <td>Chennai</td>\n",
       "      <td>2020-07-10</td>\n",
       "      <td>Chennai|2020-07-10</td>\n",
       "      <td>16.666667</td>\n",
       "      <td>1.0</td>\n",
       "      <td>82.0</td>\n",
       "      <td>12.333333</td>\n",
       "      <td>1.0</td>\n",
       "      <td>53.0</td>\n",
       "      <td>7.333333</td>\n",
       "      <td>1.0</td>\n",
       "      <td>58.0</td>\n",
       "      <td>35.000000</td>\n",
       "      <td>10.0</td>\n",
       "      <td>58.0</td>\n",
       "      <td>65.000000</td>\n",
       "      <td>2.0</td>\n",
       "      <td>260.0</td>\n",
       "      <td>1241.0</td>\n",
       "    </tr>\n",
       "    <tr>\n",
       "      <td>...</td>\n",
       "      <td>...</td>\n",
       "      <td>...</td>\n",
       "      <td>...</td>\n",
       "      <td>...</td>\n",
       "      <td>...</td>\n",
       "      <td>...</td>\n",
       "      <td>...</td>\n",
       "      <td>...</td>\n",
       "      <td>...</td>\n",
       "      <td>...</td>\n",
       "      <td>...</td>\n",
       "      <td>...</td>\n",
       "      <td>...</td>\n",
       "      <td>...</td>\n",
       "      <td>...</td>\n",
       "      <td>...</td>\n",
       "      <td>...</td>\n",
       "      <td>...</td>\n",
       "      <td>...</td>\n",
       "    </tr>\n",
       "    <tr>\n",
       "      <td>680</td>\n",
       "      <td>Mumbai</td>\n",
       "      <td>2020-11-15</td>\n",
       "      <td>Mumbai|2020-11-15</td>\n",
       "      <td>130.750000</td>\n",
       "      <td>40.0</td>\n",
       "      <td>315.0</td>\n",
       "      <td>49.100000</td>\n",
       "      <td>1.0</td>\n",
       "      <td>173.0</td>\n",
       "      <td>15.444444</td>\n",
       "      <td>3.0</td>\n",
       "      <td>40.0</td>\n",
       "      <td>53.200000</td>\n",
       "      <td>16.0</td>\n",
       "      <td>118.0</td>\n",
       "      <td>20.000000</td>\n",
       "      <td>1.0</td>\n",
       "      <td>265.0</td>\n",
       "      <td>577.0</td>\n",
       "    </tr>\n",
       "    <tr>\n",
       "      <td>681</td>\n",
       "      <td>Mumbai</td>\n",
       "      <td>2020-11-16</td>\n",
       "      <td>Mumbai|2020-11-16</td>\n",
       "      <td>140.000000</td>\n",
       "      <td>50.0</td>\n",
       "      <td>310.0</td>\n",
       "      <td>54.111111</td>\n",
       "      <td>1.0</td>\n",
       "      <td>172.0</td>\n",
       "      <td>17.375000</td>\n",
       "      <td>4.0</td>\n",
       "      <td>56.0</td>\n",
       "      <td>42.909091</td>\n",
       "      <td>1.0</td>\n",
       "      <td>113.0</td>\n",
       "      <td>19.090909</td>\n",
       "      <td>1.0</td>\n",
       "      <td>240.0</td>\n",
       "      <td>409.0</td>\n",
       "    </tr>\n",
       "    <tr>\n",
       "      <td>682</td>\n",
       "      <td>Mumbai</td>\n",
       "      <td>2020-11-17</td>\n",
       "      <td>Mumbai|2020-11-17</td>\n",
       "      <td>167.900000</td>\n",
       "      <td>38.0</td>\n",
       "      <td>395.0</td>\n",
       "      <td>55.400000</td>\n",
       "      <td>1.0</td>\n",
       "      <td>189.0</td>\n",
       "      <td>14.800000</td>\n",
       "      <td>2.0</td>\n",
       "      <td>58.0</td>\n",
       "      <td>46.545455</td>\n",
       "      <td>1.0</td>\n",
       "      <td>98.0</td>\n",
       "      <td>24.333333</td>\n",
       "      <td>1.0</td>\n",
       "      <td>160.0</td>\n",
       "      <td>541.0</td>\n",
       "    </tr>\n",
       "    <tr>\n",
       "      <td>683</td>\n",
       "      <td>Mumbai</td>\n",
       "      <td>2020-11-18</td>\n",
       "      <td>Mumbai|2020-11-18</td>\n",
       "      <td>146.400000</td>\n",
       "      <td>35.0</td>\n",
       "      <td>390.0</td>\n",
       "      <td>55.600000</td>\n",
       "      <td>1.0</td>\n",
       "      <td>246.0</td>\n",
       "      <td>13.500000</td>\n",
       "      <td>1.0</td>\n",
       "      <td>69.0</td>\n",
       "      <td>56.083333</td>\n",
       "      <td>1.0</td>\n",
       "      <td>109.0</td>\n",
       "      <td>27.333333</td>\n",
       "      <td>1.0</td>\n",
       "      <td>275.0</td>\n",
       "      <td>871.0</td>\n",
       "    </tr>\n",
       "    <tr>\n",
       "      <td>684</td>\n",
       "      <td>Mumbai</td>\n",
       "      <td>2020-11-19</td>\n",
       "      <td>Mumbai|2020-11-19</td>\n",
       "      <td>140.250000</td>\n",
       "      <td>35.0</td>\n",
       "      <td>448.0</td>\n",
       "      <td>48.272727</td>\n",
       "      <td>1.0</td>\n",
       "      <td>175.0</td>\n",
       "      <td>12.600000</td>\n",
       "      <td>1.0</td>\n",
       "      <td>54.0</td>\n",
       "      <td>53.187500</td>\n",
       "      <td>1.0</td>\n",
       "      <td>111.0</td>\n",
       "      <td>24.625000</td>\n",
       "      <td>1.0</td>\n",
       "      <td>217.0</td>\n",
       "      <td>924.0</td>\n",
       "    </tr>\n",
       "  </tbody>\n",
       "</table>\n",
       "<p>685 rows × 19 columns</p>\n",
       "</div>"
      ],
      "text/plain": [
       "        City       Date              Unique  PM2.5_average  PM2.5_minimum  \\\n",
       "0    Chennai 2020-07-06  Chennai|2020-07-06      24.000000            3.0   \n",
       "1    Chennai 2020-07-07  Chennai|2020-07-07      25.500000            5.0   \n",
       "2    Chennai 2020-07-08  Chennai|2020-07-08      30.000000            4.0   \n",
       "3    Chennai 2020-07-09  Chennai|2020-07-09      22.000000            8.0   \n",
       "4    Chennai 2020-07-10  Chennai|2020-07-10      16.666667            1.0   \n",
       "..       ...        ...                 ...            ...            ...   \n",
       "680   Mumbai 2020-11-15   Mumbai|2020-11-15     130.750000           40.0   \n",
       "681   Mumbai 2020-11-16   Mumbai|2020-11-16     140.000000           50.0   \n",
       "682   Mumbai 2020-11-17   Mumbai|2020-11-17     167.900000           38.0   \n",
       "683   Mumbai 2020-11-18   Mumbai|2020-11-18     146.400000           35.0   \n",
       "684   Mumbai 2020-11-19   Mumbai|2020-11-19     140.250000           35.0   \n",
       "\n",
       "     PM2.5_maximum  NO2_average  NO2_minimum  NO2_maximum  SO2_average  \\\n",
       "0             97.0    12.000000          1.0        101.0    10.333333   \n",
       "1             71.0    15.000000          2.0         55.0    13.000000   \n",
       "2             66.0    23.500000          8.0         65.0     7.500000   \n",
       "3             59.0    12.000000          8.0         15.0    25.000000   \n",
       "4             82.0    12.333333          1.0         53.0     7.333333   \n",
       "..             ...          ...          ...          ...          ...   \n",
       "680          315.0    49.100000          1.0        173.0    15.444444   \n",
       "681          310.0    54.111111          1.0        172.0    17.375000   \n",
       "682          395.0    55.400000          1.0        189.0    14.800000   \n",
       "683          390.0    55.600000          1.0        246.0    13.500000   \n",
       "684          448.0    48.272727          1.0        175.0    12.600000   \n",
       "\n",
       "     SO2_minimum  SO2_maximum  CO_average  CO_minimum  CO_maximum  \\\n",
       "0            1.0        101.0   30.666667         5.0        58.0   \n",
       "1            1.0         63.0   32.000000         6.0        61.0   \n",
       "2            1.0         67.0   36.500000         2.0        62.0   \n",
       "3            3.0         90.0   38.500000        28.0       101.0   \n",
       "4            1.0         58.0   35.000000        10.0        58.0   \n",
       "..           ...          ...         ...         ...         ...   \n",
       "680          3.0         40.0   53.200000        16.0       118.0   \n",
       "681          4.0         56.0   42.909091         1.0       113.0   \n",
       "682          2.0         58.0   46.545455         1.0        98.0   \n",
       "683          1.0         69.0   56.083333         1.0       109.0   \n",
       "684          1.0         54.0   53.187500         1.0       111.0   \n",
       "\n",
       "     OZONE_average  OZONE_minimum  OZONE_maximum  Total_Day_Cases  \n",
       "0        52.666667           17.0          252.0           1763.0  \n",
       "1        44.500000           18.0          121.0           1213.0  \n",
       "2        62.000000            5.0          145.0           1270.0  \n",
       "3        36.500000            3.0           72.0           1228.0  \n",
       "4        65.000000            2.0          260.0           1241.0  \n",
       "..             ...            ...            ...              ...  \n",
       "680      20.000000            1.0          265.0            577.0  \n",
       "681      19.090909            1.0          240.0            409.0  \n",
       "682      24.333333            1.0          160.0            541.0  \n",
       "683      27.333333            1.0          275.0            871.0  \n",
       "684      24.625000            1.0          217.0            924.0  \n",
       "\n",
       "[685 rows x 19 columns]"
      ]
     },
     "execution_count": 20,
     "metadata": {},
     "output_type": "execute_result"
    }
   ],
   "source": [
    "final_df"
   ]
  },
  {
   "cell_type": "markdown",
   "metadata": {},
   "source": [
    "Threshold of daily cases"
   ]
  },
  {
   "cell_type": "code",
   "execution_count": 21,
   "metadata": {},
   "outputs": [],
   "source": [
    "#final_df_copy=final_df.copy(deep=True)\n",
    "#final_df=final_df_copy.copy(deep=True)"
   ]
  },
  {
   "cell_type": "code",
   "execution_count": 22,
   "metadata": {},
   "outputs": [],
   "source": [
    "#final_df.drop(final_df[final_df['Total_Day_Cases'] > 1500].index, inplace = True) \n",
    "#final_df.drop(final_df[final_df['Total_Day_Cases'] == 0].index, inplace = True) "
   ]
  },
  {
   "cell_type": "code",
   "execution_count": 23,
   "metadata": {
    "scrolled": true
   },
   "outputs": [
    {
     "data": {
      "text/plain": [
       "Index([], dtype='object')"
      ]
     },
     "execution_count": 23,
     "metadata": {},
     "output_type": "execute_result"
    }
   ],
   "source": [
    "cols_with_na=final_df.groupby(by=[\"Unique\"]).max().columns[final_df.groupby(by=[\"Unique\"]).max().isna().any()]\n",
    "cols_with_na"
   ]
  },
  {
   "cell_type": "code",
   "execution_count": 24,
   "metadata": {},
   "outputs": [
    {
     "data": {
      "text/html": [
       "<div>\n",
       "<style scoped>\n",
       "    .dataframe tbody tr th:only-of-type {\n",
       "        vertical-align: middle;\n",
       "    }\n",
       "\n",
       "    .dataframe tbody tr th {\n",
       "        vertical-align: top;\n",
       "    }\n",
       "\n",
       "    .dataframe thead th {\n",
       "        text-align: right;\n",
       "    }\n",
       "</style>\n",
       "<table border=\"1\" class=\"dataframe\">\n",
       "  <thead>\n",
       "    <tr style=\"text-align: right;\">\n",
       "      <th></th>\n",
       "      <th>PM2.5_average</th>\n",
       "      <th>PM2.5_minimum</th>\n",
       "      <th>PM2.5_maximum</th>\n",
       "      <th>NO2_average</th>\n",
       "      <th>NO2_minimum</th>\n",
       "      <th>NO2_maximum</th>\n",
       "      <th>SO2_average</th>\n",
       "      <th>SO2_minimum</th>\n",
       "      <th>SO2_maximum</th>\n",
       "      <th>CO_average</th>\n",
       "      <th>CO_minimum</th>\n",
       "      <th>CO_maximum</th>\n",
       "      <th>OZONE_average</th>\n",
       "      <th>OZONE_minimum</th>\n",
       "      <th>OZONE_maximum</th>\n",
       "      <th>Total_Day_Cases</th>\n",
       "    </tr>\n",
       "  </thead>\n",
       "  <tbody>\n",
       "    <tr>\n",
       "      <td>PM2.5_average</td>\n",
       "      <td>1.000000</td>\n",
       "      <td>0.698462</td>\n",
       "      <td>0.750101</td>\n",
       "      <td>0.868159</td>\n",
       "      <td>0.378606</td>\n",
       "      <td>0.689647</td>\n",
       "      <td>0.453768</td>\n",
       "      <td>-0.058949</td>\n",
       "      <td>0.443605</td>\n",
       "      <td>0.801726</td>\n",
       "      <td>0.026752</td>\n",
       "      <td>0.630388</td>\n",
       "      <td>0.342736</td>\n",
       "      <td>-0.132058</td>\n",
       "      <td>0.649823</td>\n",
       "      <td>0.672047</td>\n",
       "    </tr>\n",
       "    <tr>\n",
       "      <td>PM2.5_minimum</td>\n",
       "      <td>0.698462</td>\n",
       "      <td>1.000000</td>\n",
       "      <td>0.410498</td>\n",
       "      <td>0.644630</td>\n",
       "      <td>0.427448</td>\n",
       "      <td>0.411853</td>\n",
       "      <td>0.305615</td>\n",
       "      <td>0.092907</td>\n",
       "      <td>0.253148</td>\n",
       "      <td>0.427350</td>\n",
       "      <td>0.167686</td>\n",
       "      <td>0.269882</td>\n",
       "      <td>0.263139</td>\n",
       "      <td>0.019215</td>\n",
       "      <td>0.329075</td>\n",
       "      <td>0.239122</td>\n",
       "    </tr>\n",
       "    <tr>\n",
       "      <td>PM2.5_maximum</td>\n",
       "      <td>0.750101</td>\n",
       "      <td>0.410498</td>\n",
       "      <td>1.000000</td>\n",
       "      <td>0.657819</td>\n",
       "      <td>0.180254</td>\n",
       "      <td>0.653177</td>\n",
       "      <td>0.302368</td>\n",
       "      <td>-0.176498</td>\n",
       "      <td>0.448768</td>\n",
       "      <td>0.751568</td>\n",
       "      <td>0.002022</td>\n",
       "      <td>0.690831</td>\n",
       "      <td>0.426133</td>\n",
       "      <td>-0.205167</td>\n",
       "      <td>0.714765</td>\n",
       "      <td>0.587876</td>\n",
       "    </tr>\n",
       "    <tr>\n",
       "      <td>NO2_average</td>\n",
       "      <td>0.868159</td>\n",
       "      <td>0.644630</td>\n",
       "      <td>0.657819</td>\n",
       "      <td>1.000000</td>\n",
       "      <td>0.432640</td>\n",
       "      <td>0.794492</td>\n",
       "      <td>0.363246</td>\n",
       "      <td>-0.071382</td>\n",
       "      <td>0.445365</td>\n",
       "      <td>0.683566</td>\n",
       "      <td>-0.017418</td>\n",
       "      <td>0.556661</td>\n",
       "      <td>0.248666</td>\n",
       "      <td>-0.160746</td>\n",
       "      <td>0.588123</td>\n",
       "      <td>0.497818</td>\n",
       "    </tr>\n",
       "    <tr>\n",
       "      <td>NO2_minimum</td>\n",
       "      <td>0.378606</td>\n",
       "      <td>0.427448</td>\n",
       "      <td>0.180254</td>\n",
       "      <td>0.432640</td>\n",
       "      <td>1.000000</td>\n",
       "      <td>0.194036</td>\n",
       "      <td>0.002898</td>\n",
       "      <td>0.155153</td>\n",
       "      <td>0.073345</td>\n",
       "      <td>0.259341</td>\n",
       "      <td>0.159789</td>\n",
       "      <td>0.118829</td>\n",
       "      <td>0.311516</td>\n",
       "      <td>0.151376</td>\n",
       "      <td>0.174170</td>\n",
       "      <td>0.073301</td>\n",
       "    </tr>\n",
       "    <tr>\n",
       "      <td>NO2_maximum</td>\n",
       "      <td>0.689647</td>\n",
       "      <td>0.411853</td>\n",
       "      <td>0.653177</td>\n",
       "      <td>0.794492</td>\n",
       "      <td>0.194036</td>\n",
       "      <td>1.000000</td>\n",
       "      <td>0.362067</td>\n",
       "      <td>-0.121575</td>\n",
       "      <td>0.471874</td>\n",
       "      <td>0.672592</td>\n",
       "      <td>-0.058482</td>\n",
       "      <td>0.616202</td>\n",
       "      <td>0.216058</td>\n",
       "      <td>-0.226948</td>\n",
       "      <td>0.648637</td>\n",
       "      <td>0.567829</td>\n",
       "    </tr>\n",
       "    <tr>\n",
       "      <td>SO2_average</td>\n",
       "      <td>0.453768</td>\n",
       "      <td>0.305615</td>\n",
       "      <td>0.302368</td>\n",
       "      <td>0.363246</td>\n",
       "      <td>0.002898</td>\n",
       "      <td>0.362067</td>\n",
       "      <td>1.000000</td>\n",
       "      <td>0.257077</td>\n",
       "      <td>0.637131</td>\n",
       "      <td>0.320468</td>\n",
       "      <td>-0.091430</td>\n",
       "      <td>0.282696</td>\n",
       "      <td>-0.109361</td>\n",
       "      <td>-0.213972</td>\n",
       "      <td>0.289046</td>\n",
       "      <td>0.481468</td>\n",
       "    </tr>\n",
       "    <tr>\n",
       "      <td>SO2_minimum</td>\n",
       "      <td>-0.058949</td>\n",
       "      <td>0.092907</td>\n",
       "      <td>-0.176498</td>\n",
       "      <td>-0.071382</td>\n",
       "      <td>0.155153</td>\n",
       "      <td>-0.121575</td>\n",
       "      <td>0.257077</td>\n",
       "      <td>1.000000</td>\n",
       "      <td>-0.055026</td>\n",
       "      <td>-0.125724</td>\n",
       "      <td>0.131515</td>\n",
       "      <td>-0.182627</td>\n",
       "      <td>-0.105249</td>\n",
       "      <td>0.110278</td>\n",
       "      <td>-0.159575</td>\n",
       "      <td>-0.152863</td>\n",
       "    </tr>\n",
       "    <tr>\n",
       "      <td>SO2_maximum</td>\n",
       "      <td>0.443605</td>\n",
       "      <td>0.253148</td>\n",
       "      <td>0.448768</td>\n",
       "      <td>0.445365</td>\n",
       "      <td>0.073345</td>\n",
       "      <td>0.471874</td>\n",
       "      <td>0.637131</td>\n",
       "      <td>-0.055026</td>\n",
       "      <td>1.000000</td>\n",
       "      <td>0.467764</td>\n",
       "      <td>-0.090383</td>\n",
       "      <td>0.459390</td>\n",
       "      <td>0.137918</td>\n",
       "      <td>-0.160390</td>\n",
       "      <td>0.456276</td>\n",
       "      <td>0.443305</td>\n",
       "    </tr>\n",
       "    <tr>\n",
       "      <td>CO_average</td>\n",
       "      <td>0.801726</td>\n",
       "      <td>0.427350</td>\n",
       "      <td>0.751568</td>\n",
       "      <td>0.683566</td>\n",
       "      <td>0.259341</td>\n",
       "      <td>0.672592</td>\n",
       "      <td>0.320468</td>\n",
       "      <td>-0.125724</td>\n",
       "      <td>0.467764</td>\n",
       "      <td>1.000000</td>\n",
       "      <td>0.104890</td>\n",
       "      <td>0.853749</td>\n",
       "      <td>0.391867</td>\n",
       "      <td>-0.143347</td>\n",
       "      <td>0.737088</td>\n",
       "      <td>0.702608</td>\n",
       "    </tr>\n",
       "    <tr>\n",
       "      <td>CO_minimum</td>\n",
       "      <td>0.026752</td>\n",
       "      <td>0.167686</td>\n",
       "      <td>0.002022</td>\n",
       "      <td>-0.017418</td>\n",
       "      <td>0.159789</td>\n",
       "      <td>-0.058482</td>\n",
       "      <td>-0.091430</td>\n",
       "      <td>0.131515</td>\n",
       "      <td>-0.090383</td>\n",
       "      <td>0.104890</td>\n",
       "      <td>1.000000</td>\n",
       "      <td>-0.026788</td>\n",
       "      <td>0.260567</td>\n",
       "      <td>0.284094</td>\n",
       "      <td>0.069752</td>\n",
       "      <td>-0.167280</td>\n",
       "    </tr>\n",
       "    <tr>\n",
       "      <td>CO_maximum</td>\n",
       "      <td>0.630388</td>\n",
       "      <td>0.269882</td>\n",
       "      <td>0.690831</td>\n",
       "      <td>0.556661</td>\n",
       "      <td>0.118829</td>\n",
       "      <td>0.616202</td>\n",
       "      <td>0.282696</td>\n",
       "      <td>-0.182627</td>\n",
       "      <td>0.459390</td>\n",
       "      <td>0.853749</td>\n",
       "      <td>-0.026788</td>\n",
       "      <td>1.000000</td>\n",
       "      <td>0.280323</td>\n",
       "      <td>-0.221104</td>\n",
       "      <td>0.654153</td>\n",
       "      <td>0.632565</td>\n",
       "    </tr>\n",
       "    <tr>\n",
       "      <td>OZONE_average</td>\n",
       "      <td>0.342736</td>\n",
       "      <td>0.263139</td>\n",
       "      <td>0.426133</td>\n",
       "      <td>0.248666</td>\n",
       "      <td>0.311516</td>\n",
       "      <td>0.216058</td>\n",
       "      <td>-0.109361</td>\n",
       "      <td>-0.105249</td>\n",
       "      <td>0.137918</td>\n",
       "      <td>0.391867</td>\n",
       "      <td>0.260567</td>\n",
       "      <td>0.280323</td>\n",
       "      <td>1.000000</td>\n",
       "      <td>0.392803</td>\n",
       "      <td>0.586508</td>\n",
       "      <td>0.176436</td>\n",
       "    </tr>\n",
       "    <tr>\n",
       "      <td>OZONE_minimum</td>\n",
       "      <td>-0.132058</td>\n",
       "      <td>0.019215</td>\n",
       "      <td>-0.205167</td>\n",
       "      <td>-0.160746</td>\n",
       "      <td>0.151376</td>\n",
       "      <td>-0.226948</td>\n",
       "      <td>-0.213972</td>\n",
       "      <td>0.110278</td>\n",
       "      <td>-0.160390</td>\n",
       "      <td>-0.143347</td>\n",
       "      <td>0.284094</td>\n",
       "      <td>-0.221104</td>\n",
       "      <td>0.392803</td>\n",
       "      <td>1.000000</td>\n",
       "      <td>-0.121267</td>\n",
       "      <td>-0.187225</td>\n",
       "    </tr>\n",
       "    <tr>\n",
       "      <td>OZONE_maximum</td>\n",
       "      <td>0.649823</td>\n",
       "      <td>0.329075</td>\n",
       "      <td>0.714765</td>\n",
       "      <td>0.588123</td>\n",
       "      <td>0.174170</td>\n",
       "      <td>0.648637</td>\n",
       "      <td>0.289046</td>\n",
       "      <td>-0.159575</td>\n",
       "      <td>0.456276</td>\n",
       "      <td>0.737088</td>\n",
       "      <td>0.069752</td>\n",
       "      <td>0.654153</td>\n",
       "      <td>0.586508</td>\n",
       "      <td>-0.121267</td>\n",
       "      <td>1.000000</td>\n",
       "      <td>0.577151</td>\n",
       "    </tr>\n",
       "    <tr>\n",
       "      <td>Total_Day_Cases</td>\n",
       "      <td>0.672047</td>\n",
       "      <td>0.239122</td>\n",
       "      <td>0.587876</td>\n",
       "      <td>0.497818</td>\n",
       "      <td>0.073301</td>\n",
       "      <td>0.567829</td>\n",
       "      <td>0.481468</td>\n",
       "      <td>-0.152863</td>\n",
       "      <td>0.443305</td>\n",
       "      <td>0.702608</td>\n",
       "      <td>-0.167280</td>\n",
       "      <td>0.632565</td>\n",
       "      <td>0.176436</td>\n",
       "      <td>-0.187225</td>\n",
       "      <td>0.577151</td>\n",
       "      <td>1.000000</td>\n",
       "    </tr>\n",
       "  </tbody>\n",
       "</table>\n",
       "</div>"
      ],
      "text/plain": [
       "                 PM2.5_average  PM2.5_minimum  PM2.5_maximum  NO2_average  \\\n",
       "PM2.5_average         1.000000       0.698462       0.750101     0.868159   \n",
       "PM2.5_minimum         0.698462       1.000000       0.410498     0.644630   \n",
       "PM2.5_maximum         0.750101       0.410498       1.000000     0.657819   \n",
       "NO2_average           0.868159       0.644630       0.657819     1.000000   \n",
       "NO2_minimum           0.378606       0.427448       0.180254     0.432640   \n",
       "NO2_maximum           0.689647       0.411853       0.653177     0.794492   \n",
       "SO2_average           0.453768       0.305615       0.302368     0.363246   \n",
       "SO2_minimum          -0.058949       0.092907      -0.176498    -0.071382   \n",
       "SO2_maximum           0.443605       0.253148       0.448768     0.445365   \n",
       "CO_average            0.801726       0.427350       0.751568     0.683566   \n",
       "CO_minimum            0.026752       0.167686       0.002022    -0.017418   \n",
       "CO_maximum            0.630388       0.269882       0.690831     0.556661   \n",
       "OZONE_average         0.342736       0.263139       0.426133     0.248666   \n",
       "OZONE_minimum        -0.132058       0.019215      -0.205167    -0.160746   \n",
       "OZONE_maximum         0.649823       0.329075       0.714765     0.588123   \n",
       "Total_Day_Cases       0.672047       0.239122       0.587876     0.497818   \n",
       "\n",
       "                 NO2_minimum  NO2_maximum  SO2_average  SO2_minimum  \\\n",
       "PM2.5_average       0.378606     0.689647     0.453768    -0.058949   \n",
       "PM2.5_minimum       0.427448     0.411853     0.305615     0.092907   \n",
       "PM2.5_maximum       0.180254     0.653177     0.302368    -0.176498   \n",
       "NO2_average         0.432640     0.794492     0.363246    -0.071382   \n",
       "NO2_minimum         1.000000     0.194036     0.002898     0.155153   \n",
       "NO2_maximum         0.194036     1.000000     0.362067    -0.121575   \n",
       "SO2_average         0.002898     0.362067     1.000000     0.257077   \n",
       "SO2_minimum         0.155153    -0.121575     0.257077     1.000000   \n",
       "SO2_maximum         0.073345     0.471874     0.637131    -0.055026   \n",
       "CO_average          0.259341     0.672592     0.320468    -0.125724   \n",
       "CO_minimum          0.159789    -0.058482    -0.091430     0.131515   \n",
       "CO_maximum          0.118829     0.616202     0.282696    -0.182627   \n",
       "OZONE_average       0.311516     0.216058    -0.109361    -0.105249   \n",
       "OZONE_minimum       0.151376    -0.226948    -0.213972     0.110278   \n",
       "OZONE_maximum       0.174170     0.648637     0.289046    -0.159575   \n",
       "Total_Day_Cases     0.073301     0.567829     0.481468    -0.152863   \n",
       "\n",
       "                 SO2_maximum  CO_average  CO_minimum  CO_maximum  \\\n",
       "PM2.5_average       0.443605    0.801726    0.026752    0.630388   \n",
       "PM2.5_minimum       0.253148    0.427350    0.167686    0.269882   \n",
       "PM2.5_maximum       0.448768    0.751568    0.002022    0.690831   \n",
       "NO2_average         0.445365    0.683566   -0.017418    0.556661   \n",
       "NO2_minimum         0.073345    0.259341    0.159789    0.118829   \n",
       "NO2_maximum         0.471874    0.672592   -0.058482    0.616202   \n",
       "SO2_average         0.637131    0.320468   -0.091430    0.282696   \n",
       "SO2_minimum        -0.055026   -0.125724    0.131515   -0.182627   \n",
       "SO2_maximum         1.000000    0.467764   -0.090383    0.459390   \n",
       "CO_average          0.467764    1.000000    0.104890    0.853749   \n",
       "CO_minimum         -0.090383    0.104890    1.000000   -0.026788   \n",
       "CO_maximum          0.459390    0.853749   -0.026788    1.000000   \n",
       "OZONE_average       0.137918    0.391867    0.260567    0.280323   \n",
       "OZONE_minimum      -0.160390   -0.143347    0.284094   -0.221104   \n",
       "OZONE_maximum       0.456276    0.737088    0.069752    0.654153   \n",
       "Total_Day_Cases     0.443305    0.702608   -0.167280    0.632565   \n",
       "\n",
       "                 OZONE_average  OZONE_minimum  OZONE_maximum  Total_Day_Cases  \n",
       "PM2.5_average         0.342736      -0.132058       0.649823         0.672047  \n",
       "PM2.5_minimum         0.263139       0.019215       0.329075         0.239122  \n",
       "PM2.5_maximum         0.426133      -0.205167       0.714765         0.587876  \n",
       "NO2_average           0.248666      -0.160746       0.588123         0.497818  \n",
       "NO2_minimum           0.311516       0.151376       0.174170         0.073301  \n",
       "NO2_maximum           0.216058      -0.226948       0.648637         0.567829  \n",
       "SO2_average          -0.109361      -0.213972       0.289046         0.481468  \n",
       "SO2_minimum          -0.105249       0.110278      -0.159575        -0.152863  \n",
       "SO2_maximum           0.137918      -0.160390       0.456276         0.443305  \n",
       "CO_average            0.391867      -0.143347       0.737088         0.702608  \n",
       "CO_minimum            0.260567       0.284094       0.069752        -0.167280  \n",
       "CO_maximum            0.280323      -0.221104       0.654153         0.632565  \n",
       "OZONE_average         1.000000       0.392803       0.586508         0.176436  \n",
       "OZONE_minimum         0.392803       1.000000      -0.121267        -0.187225  \n",
       "OZONE_maximum         0.586508      -0.121267       1.000000         0.577151  \n",
       "Total_Day_Cases       0.176436      -0.187225       0.577151         1.000000  "
      ]
     },
     "execution_count": 24,
     "metadata": {},
     "output_type": "execute_result"
    }
   ],
   "source": [
    "corr_df=pd.DataFrame(final_df.corr())\n",
    "corr_df"
   ]
  },
  {
   "cell_type": "code",
   "execution_count": 25,
   "metadata": {},
   "outputs": [],
   "source": [
    "high_corr_cols=list(corr_df[(corr_df[\"Total_Day_Cases\"]>0.2) | (corr_df[\"Total_Day_Cases\"]<=-0.2)].index)\n",
    "final_high_df=final_df[high_corr_cols]"
   ]
  },
  {
   "cell_type": "code",
   "execution_count": 26,
   "metadata": {},
   "outputs": [
    {
     "data": {
      "text/plain": [
       "['PM2.5_average',\n",
       " 'PM2.5_minimum',\n",
       " 'PM2.5_maximum',\n",
       " 'NO2_average',\n",
       " 'NO2_maximum',\n",
       " 'SO2_average',\n",
       " 'SO2_maximum',\n",
       " 'CO_average',\n",
       " 'CO_maximum',\n",
       " 'OZONE_maximum',\n",
       " 'Total_Day_Cases']"
      ]
     },
     "execution_count": 26,
     "metadata": {},
     "output_type": "execute_result"
    }
   ],
   "source": [
    "high_corr_cols"
   ]
  },
  {
   "cell_type": "code",
   "execution_count": 27,
   "metadata": {},
   "outputs": [
    {
     "data": {
      "text/plain": [
       "Index(['City', 'Date', 'Unique', 'PM2.5_average', 'PM2.5_minimum',\n",
       "       'PM2.5_maximum', 'NO2_average', 'NO2_minimum', 'NO2_maximum',\n",
       "       'SO2_average', 'SO2_minimum', 'SO2_maximum', 'CO_average', 'CO_minimum',\n",
       "       'CO_maximum', 'OZONE_average', 'OZONE_minimum', 'OZONE_maximum',\n",
       "       'Total_Day_Cases'],\n",
       "      dtype='object')"
      ]
     },
     "execution_count": 27,
     "metadata": {},
     "output_type": "execute_result"
    }
   ],
   "source": [
    "final_df.columns"
   ]
  },
  {
   "cell_type": "code",
   "execution_count": 28,
   "metadata": {},
   "outputs": [
    {
     "data": {
      "text/plain": [
       "['PM2.5_average',\n",
       " 'PM2.5_minimum',\n",
       " 'PM2.5_maximum',\n",
       " 'NO2_average',\n",
       " 'NO2_maximum',\n",
       " 'SO2_average',\n",
       " 'SO2_maximum',\n",
       " 'CO_average',\n",
       " 'CO_maximum',\n",
       " 'OZONE_maximum',\n",
       " 'Total_Day_Cases']"
      ]
     },
     "execution_count": 28,
     "metadata": {},
     "output_type": "execute_result"
    }
   ],
   "source": [
    "final_high_df=final_df[high_corr_cols]\n",
    "high_corr_cols"
   ]
  },
  {
   "cell_type": "markdown",
   "metadata": {},
   "source": [
    "# Train Test Split"
   ]
  },
  {
   "cell_type": "code",
   "execution_count": 29,
   "metadata": {},
   "outputs": [],
   "source": [
    "#final_high_df_1 = final_high_df.head(600)\n",
    "#final_high_df_2 = final_high_df.tail(85)"
   ]
  },
  {
   "cell_type": "code",
   "execution_count": 33,
   "metadata": {},
   "outputs": [],
   "source": [
    "x=final_high_df.drop(columns = ['Total_Day_Cases'])\n",
    "y = final_high_df['Total_Day_Cases']"
   ]
  },
  {
   "cell_type": "code",
   "execution_count": 34,
   "metadata": {},
   "outputs": [],
   "source": [
    "x_train, x_test, y_train, y_test = train_test_split(x, y, test_size=0.3, random_state=10)"
   ]
  },
  {
   "cell_type": "code",
   "execution_count": 35,
   "metadata": {},
   "outputs": [
    {
     "data": {
      "text/plain": [
       "(479, 10)"
      ]
     },
     "execution_count": 35,
     "metadata": {},
     "output_type": "execute_result"
    }
   ],
   "source": [
    "x_train.shape"
   ]
  },
  {
   "cell_type": "markdown",
   "metadata": {},
   "source": [
    "# Linear Regression"
   ]
  },
  {
   "cell_type": "code",
   "execution_count": 36,
   "metadata": {},
   "outputs": [
    {
     "data": {
      "text/html": [
       "<div>\n",
       "<style scoped>\n",
       "    .dataframe tbody tr th:only-of-type {\n",
       "        vertical-align: middle;\n",
       "    }\n",
       "\n",
       "    .dataframe tbody tr th {\n",
       "        vertical-align: top;\n",
       "    }\n",
       "\n",
       "    .dataframe thead th {\n",
       "        text-align: right;\n",
       "    }\n",
       "</style>\n",
       "<table border=\"1\" class=\"dataframe\">\n",
       "  <thead>\n",
       "    <tr style=\"text-align: right;\">\n",
       "      <th></th>\n",
       "      <th>Actual</th>\n",
       "      <th>Predicted</th>\n",
       "    </tr>\n",
       "  </thead>\n",
       "  <tbody>\n",
       "    <tr>\n",
       "      <td>277</td>\n",
       "      <td>0.0</td>\n",
       "      <td>368.277179</td>\n",
       "    </tr>\n",
       "    <tr>\n",
       "      <td>264</td>\n",
       "      <td>7830.0</td>\n",
       "      <td>5844.616138</td>\n",
       "    </tr>\n",
       "    <tr>\n",
       "      <td>442</td>\n",
       "      <td>680.0</td>\n",
       "      <td>371.012179</td>\n",
       "    </tr>\n",
       "    <tr>\n",
       "      <td>444</td>\n",
       "      <td>684.0</td>\n",
       "      <td>664.960302</td>\n",
       "    </tr>\n",
       "    <tr>\n",
       "      <td>240</td>\n",
       "      <td>3259.0</td>\n",
       "      <td>3131.285185</td>\n",
       "    </tr>\n",
       "  </tbody>\n",
       "</table>\n",
       "</div>"
      ],
      "text/plain": [
       "     Actual    Predicted\n",
       "277     0.0   368.277179\n",
       "264  7830.0  5844.616138\n",
       "442   680.0   371.012179\n",
       "444   684.0   664.960302\n",
       "240  3259.0  3131.285185"
      ]
     },
     "execution_count": 36,
     "metadata": {},
     "output_type": "execute_result"
    }
   ],
   "source": [
    "model_lr = LinearRegression()\n",
    "model_lr.fit(x_train,y_train)\n",
    "y_pred = model_lr.predict(x_test)\n",
    "result_lr = pd.DataFrame({'Actual':y_test,'Predicted':y_pred})\n",
    "result_lr.head(5)"
   ]
  },
  {
   "cell_type": "code",
   "execution_count": 37,
   "metadata": {},
   "outputs": [
    {
     "name": "stdout",
     "output_type": "stream",
     "text": [
      "Mean Absolute Error Test   : 505.34021583444286\n",
      "Mean Absolute Error All    : 538.0606325162705\n"
     ]
    },
    {
     "data": {
      "text/plain": [
       "<matplotlib.axes._subplots.AxesSubplot at 0x1a7e0a7fd08>"
      ]
     },
     "execution_count": 37,
     "metadata": {},
     "output_type": "execute_result"
    },
    {
     "data": {
      "image/png": "[encoded data removed]",
      "text/plain": [
       "<Figure size 432x288 with 1 Axes>"
      ]
     },
     "metadata": {
      "needs_background": "light"
     },
     "output_type": "display_data"
    }
   ],
   "source": [
    "#print('Mean Absolute Error Train  :', metrics.mean_absolute_error(y_train, model_lr.predict(x_train)))\n",
    "print('Mean Absolute Error Test   :', metrics.mean_absolute_error(y_test, model_lr.predict(x_test)))\n",
    "print('Mean Absolute Error All    :', metrics.mean_absolute_error(y, model_lr.predict(x)))\n",
    "#final_high_df[(final_high_df[\"Total_Day_Cases\"]-final_high_df[\"Total_Cases_Predicted\"])>500].shape\n",
    "result_lr.head(20).plot(kind = 'box')"
   ]
  },
  {
   "cell_type": "code",
   "execution_count": 39,
   "metadata": {},
   "outputs": [
    {
     "name": "stderr",
     "output_type": "stream",
     "text": [
      "C:\\ProgramData\\Anaconda3\\lib\\site-packages\\ipykernel_launcher.py:1: SettingWithCopyWarning: \n",
      "A value is trying to be set on a copy of a slice from a DataFrame.\n",
      "Try using .loc[row_indexer,col_indexer] = value instead\n",
      "\n",
      "See the caveats in the documentation: http://pandas.pydata.org/pandas-docs/stable/user_guide/indexing.html#returning-a-view-versus-a-copy\n",
      "  \"\"\"Entry point for launching an IPython kernel.\n"
     ]
    }
   ],
   "source": [
    "final_high_df[\"y_lr\"]=model_lr.predict(x)"
   ]
  },
  {
   "cell_type": "markdown",
   "metadata": {},
   "source": [
    "# Logistic Regression"
   ]
  },
  {
   "cell_type": "code",
   "execution_count": 40,
   "metadata": {},
   "outputs": [
    {
     "name": "stderr",
     "output_type": "stream",
     "text": [
      "C:\\ProgramData\\Anaconda3\\lib\\site-packages\\sklearn\\linear_model\\logistic.py:432: FutureWarning: Default solver will be changed to 'lbfgs' in 0.22. Specify a solver to silence this warning.\n",
      "  FutureWarning)\n",
      "C:\\ProgramData\\Anaconda3\\lib\\site-packages\\sklearn\\linear_model\\logistic.py:469: FutureWarning: Default multi_class will be changed to 'auto' in 0.22. Specify the multi_class option to silence this warning.\n",
      "  \"this warning.\", FutureWarning)\n"
     ]
    },
    {
     "data": {
      "text/html": [
       "<div>\n",
       "<style scoped>\n",
       "    .dataframe tbody tr th:only-of-type {\n",
       "        vertical-align: middle;\n",
       "    }\n",
       "\n",
       "    .dataframe tbody tr th {\n",
       "        vertical-align: top;\n",
       "    }\n",
       "\n",
       "    .dataframe thead th {\n",
       "        text-align: right;\n",
       "    }\n",
       "</style>\n",
       "<table border=\"1\" class=\"dataframe\">\n",
       "  <thead>\n",
       "    <tr style=\"text-align: right;\">\n",
       "      <th></th>\n",
       "      <th>Actual</th>\n",
       "      <th>Predicted</th>\n",
       "    </tr>\n",
       "  </thead>\n",
       "  <tbody>\n",
       "    <tr>\n",
       "      <td>277</td>\n",
       "      <td>0.0</td>\n",
       "      <td>0.0</td>\n",
       "    </tr>\n",
       "    <tr>\n",
       "      <td>264</td>\n",
       "      <td>7830.0</td>\n",
       "      <td>7053.0</td>\n",
       "    </tr>\n",
       "    <tr>\n",
       "      <td>442</td>\n",
       "      <td>680.0</td>\n",
       "      <td>675.0</td>\n",
       "    </tr>\n",
       "    <tr>\n",
       "      <td>444</td>\n",
       "      <td>684.0</td>\n",
       "      <td>541.0</td>\n",
       "    </tr>\n",
       "    <tr>\n",
       "      <td>240</td>\n",
       "      <td>3259.0</td>\n",
       "      <td>3886.0</td>\n",
       "    </tr>\n",
       "  </tbody>\n",
       "</table>\n",
       "</div>"
      ],
      "text/plain": [
       "     Actual  Predicted\n",
       "277     0.0        0.0\n",
       "264  7830.0     7053.0\n",
       "442   680.0      675.0\n",
       "444   684.0      541.0\n",
       "240  3259.0     3886.0"
      ]
     },
     "execution_count": 40,
     "metadata": {},
     "output_type": "execute_result"
    }
   ],
   "source": [
    "model_log = LogisticRegression()\n",
    "model_log.fit(x_train,y_train)\n",
    "y_pred = model_log.predict(x_test)\n",
    "result_log = pd.DataFrame({'Actual':y_test,'Predicted':y_pred})\n",
    "result_log.head(5)"
   ]
  },
  {
   "cell_type": "code",
   "execution_count": 41,
   "metadata": {},
   "outputs": [
    {
     "name": "stdout",
     "output_type": "stream",
     "text": [
      "Mean Absolute Error Test   : 610.1359223300971\n",
      "Mean Absolute Error All    : 237.71824817518248\n"
     ]
    },
    {
     "data": {
      "text/plain": [
       "<matplotlib.axes._subplots.AxesSubplot at 0x1a7dc683b48>"
      ]
     },
     "execution_count": 41,
     "metadata": {},
     "output_type": "execute_result"
    },
    {
     "data": {
      "image/png": "[encoded data removed]",
      "text/plain": [
       "<Figure size 432x288 with 1 Axes>"
      ]
     },
     "metadata": {
      "needs_background": "light"
     },
     "output_type": "display_data"
    }
   ],
   "source": [
    "#print('Mean Absolute Error Train  :', metrics.mean_absolute_error(y_train, model_lr.predict(x_train)))\n",
    "print('Mean Absolute Error Test   :', metrics.mean_absolute_error(y_test, y_pred))\n",
    "print('Mean Absolute Error All    :', metrics.mean_absolute_error(y, model_log.predict(x)))\n",
    "#final_high_df[(final_high_df[\"Total_Day_Cases\"]-final_high_df[\"Total_Cases_Predicted\"])>500].shape\n",
    "result_lr.head(20).plot(kind = 'box')"
   ]
  },
  {
   "cell_type": "code",
   "execution_count": 42,
   "metadata": {},
   "outputs": [
    {
     "name": "stderr",
     "output_type": "stream",
     "text": [
      "C:\\ProgramData\\Anaconda3\\lib\\site-packages\\ipykernel_launcher.py:1: SettingWithCopyWarning: \n",
      "A value is trying to be set on a copy of a slice from a DataFrame.\n",
      "Try using .loc[row_indexer,col_indexer] = value instead\n",
      "\n",
      "See the caveats in the documentation: http://pandas.pydata.org/pandas-docs/stable/user_guide/indexing.html#returning-a-view-versus-a-copy\n",
      "  \"\"\"Entry point for launching an IPython kernel.\n"
     ]
    }
   ],
   "source": [
    "final_high_df[\"y_log\"]=model_log.predict(x)"
   ]
  },
  {
   "cell_type": "markdown",
   "metadata": {},
   "source": [
    "# SVR"
   ]
  },
  {
   "cell_type": "code",
   "execution_count": 43,
   "metadata": {},
   "outputs": [
    {
     "name": "stderr",
     "output_type": "stream",
     "text": [
      "C:\\ProgramData\\Anaconda3\\lib\\site-packages\\sklearn\\svm\\base.py:193: FutureWarning: The default value of gamma will change from 'auto' to 'scale' in version 0.22 to account better for unscaled features. Set gamma explicitly to 'auto' or 'scale' to avoid this warning.\n",
      "  \"avoid this warning.\", FutureWarning)\n",
      "C:\\ProgramData\\Anaconda3\\lib\\site-packages\\sklearn\\svm\\base.py:241: ConvergenceWarning: Solver terminated early (max_iter=200).  Consider pre-processing your data with StandardScaler or MinMaxScaler.\n",
      "  % self.max_iter, ConvergenceWarning)\n"
     ]
    },
    {
     "data": {
      "text/html": [
       "<div>\n",
       "<style scoped>\n",
       "    .dataframe tbody tr th:only-of-type {\n",
       "        vertical-align: middle;\n",
       "    }\n",
       "\n",
       "    .dataframe tbody tr th {\n",
       "        vertical-align: top;\n",
       "    }\n",
       "\n",
       "    .dataframe thead th {\n",
       "        text-align: right;\n",
       "    }\n",
       "</style>\n",
       "<table border=\"1\" class=\"dataframe\">\n",
       "  <thead>\n",
       "    <tr style=\"text-align: right;\">\n",
       "      <th></th>\n",
       "      <th>Actual</th>\n",
       "      <th>Predicted</th>\n",
       "    </tr>\n",
       "  </thead>\n",
       "  <tbody>\n",
       "    <tr>\n",
       "      <td>277</td>\n",
       "      <td>0.0</td>\n",
       "      <td>899.5</td>\n",
       "    </tr>\n",
       "    <tr>\n",
       "      <td>264</td>\n",
       "      <td>7830.0</td>\n",
       "      <td>899.5</td>\n",
       "    </tr>\n",
       "    <tr>\n",
       "      <td>442</td>\n",
       "      <td>680.0</td>\n",
       "      <td>899.5</td>\n",
       "    </tr>\n",
       "    <tr>\n",
       "      <td>444</td>\n",
       "      <td>684.0</td>\n",
       "      <td>899.5</td>\n",
       "    </tr>\n",
       "    <tr>\n",
       "      <td>240</td>\n",
       "      <td>3259.0</td>\n",
       "      <td>899.5</td>\n",
       "    </tr>\n",
       "  </tbody>\n",
       "</table>\n",
       "</div>"
      ],
      "text/plain": [
       "     Actual  Predicted\n",
       "277     0.0      899.5\n",
       "264  7830.0      899.5\n",
       "442   680.0      899.5\n",
       "444   684.0      899.5\n",
       "240  3259.0      899.5"
      ]
     },
     "execution_count": 43,
     "metadata": {},
     "output_type": "execute_result"
    }
   ],
   "source": [
    "model_svr = SVR(C=1.0, max_iter=200)\n",
    "model_svr.fit(x_train, y_train)\n",
    "y_pred = model_svr.predict(x_test)\n",
    "result_svr = pd.DataFrame({'Actual':y_test,'Predicted':y_pred})\n",
    "result_svr.head(5)"
   ]
  },
  {
   "cell_type": "code",
   "execution_count": 44,
   "metadata": {},
   "outputs": [
    {
     "name": "stdout",
     "output_type": "stream",
     "text": [
      "Mean Absolute Error Test   : 875.9804914226761\n",
      "Mean Absolute Error All    : 819.1349211012101\n"
     ]
    },
    {
     "data": {
      "text/plain": [
       "<matplotlib.axes._subplots.AxesSubplot at 0x1a7dd45c8c8>"
      ]
     },
     "execution_count": 44,
     "metadata": {},
     "output_type": "execute_result"
    },
    {
     "data": {
      "image/png": "[encoded data removed]",
      "text/plain": [
       "<Figure size 432x288 with 1 Axes>"
      ]
     },
     "metadata": {
      "needs_background": "light"
     },
     "output_type": "display_data"
    }
   ],
   "source": [
    "#print('Mean Absolute Error Train  :', metrics.mean_absolute_error(y_train, model_lr.predict(x_train)))\n",
    "print('Mean Absolute Error Test   :', metrics.mean_absolute_error(y_test, y_pred))\n",
    "print('Mean Absolute Error All    :', metrics.mean_absolute_error(y, model_svr.predict(x)))\n",
    "#final_high_df[(final_high_df[\"Total_Day_Cases\"]-final_high_df[\"Total_Cases_Predicted\"])>500].shape\n",
    "result_lr.head(20).plot(kind = 'box')"
   ]
  },
  {
   "cell_type": "code",
   "execution_count": 45,
   "metadata": {},
   "outputs": [
    {
     "name": "stderr",
     "output_type": "stream",
     "text": [
      "C:\\ProgramData\\Anaconda3\\lib\\site-packages\\ipykernel_launcher.py:1: SettingWithCopyWarning: \n",
      "A value is trying to be set on a copy of a slice from a DataFrame.\n",
      "Try using .loc[row_indexer,col_indexer] = value instead\n",
      "\n",
      "See the caveats in the documentation: http://pandas.pydata.org/pandas-docs/stable/user_guide/indexing.html#returning-a-view-versus-a-copy\n",
      "  \"\"\"Entry point for launching an IPython kernel.\n"
     ]
    }
   ],
   "source": [
    "final_high_df[\"y_svr\"]=model_svr.predict(x)"
   ]
  },
  {
   "cell_type": "markdown",
   "metadata": {},
   "source": [
    "LGBM"
   ]
  },
  {
   "cell_type": "code",
   "execution_count": 46,
   "metadata": {},
   "outputs": [
    {
     "name": "stdout",
     "output_type": "stream",
     "text": [
      "Fitting 3 folds for each of 10 candidates, totalling 30 fits\n",
      "[CV] colsample_bytree=0.3745401188473625, learning_rate=0.9507143064099162, max_depth=12, min_child_weight=1.5593820005455385, n_estimators=1244, num_leaves=122 \n"
     ]
    },
    {
     "name": "stderr",
     "output_type": "stream",
     "text": [
      "[Parallel(n_jobs=1)]: Using backend SequentialBackend with 1 concurrent workers.\n"
     ]
    },
    {
     "name": "stdout",
     "output_type": "stream",
     "text": [
      "[CV]  colsample_bytree=0.3745401188473625, learning_rate=0.9507143064099162, max_depth=12, min_child_weight=1.5593820005455385, n_estimators=1244, num_leaves=122, score=(train=0.991, test=0.286), total=   1.1s\n",
      "[CV] colsample_bytree=0.3745401188473625, learning_rate=0.9507143064099162, max_depth=12, min_child_weight=1.5593820005455385, n_estimators=1244, num_leaves=122 \n"
     ]
    },
    {
     "name": "stderr",
     "output_type": "stream",
     "text": [
      "[Parallel(n_jobs=1)]: Done   1 out of   1 | elapsed:    1.0s remaining:    0.0s\n"
     ]
    },
    {
     "name": "stdout",
     "output_type": "stream",
     "text": [
      "[CV]  colsample_bytree=0.3745401188473625, learning_rate=0.9507143064099162, max_depth=12, min_child_weight=1.5593820005455385, n_estimators=1244, num_leaves=122, score=(train=1.000, test=-0.055), total=   1.0s\n",
      "[CV] colsample_bytree=0.3745401188473625, learning_rate=0.9507143064099162, max_depth=12, min_child_weight=1.5593820005455385, n_estimators=1244, num_leaves=122 \n"
     ]
    },
    {
     "name": "stderr",
     "output_type": "stream",
     "text": [
      "[Parallel(n_jobs=1)]: Done   2 out of   2 | elapsed:    2.0s remaining:    0.0s\n"
     ]
    },
    {
     "name": "stdout",
     "output_type": "stream",
     "text": [
      "[CV]  colsample_bytree=0.3745401188473625, learning_rate=0.9507143064099162, max_depth=12, min_child_weight=1.5593820005455385, n_estimators=1244, num_leaves=122, score=(train=1.000, test=0.448), total=   1.0s\n",
      "[CV] colsample_bytree=0.44583275285359114, learning_rate=0.09997491581800289, max_depth=12, min_child_weight=1.7323522915498704, n_estimators=1323, num_leaves=123 \n"
     ]
    },
    {
     "name": "stderr",
     "output_type": "stream",
     "text": [
      "[Parallel(n_jobs=1)]: Done   3 out of   3 | elapsed:    3.0s remaining:    0.0s\n"
     ]
    },
    {
     "name": "stdout",
     "output_type": "stream",
     "text": [
      "[CV]  colsample_bytree=0.44583275285359114, learning_rate=0.09997491581800289, max_depth=12, min_child_weight=1.7323522915498704, n_estimators=1323, num_leaves=123, score=(train=0.988, test=0.496), total=   1.2s\n",
      "[CV] colsample_bytree=0.44583275285359114, learning_rate=0.09997491581800289, max_depth=12, min_child_weight=1.7323522915498704, n_estimators=1323, num_leaves=123 \n"
     ]
    },
    {
     "name": "stderr",
     "output_type": "stream",
     "text": [
      "[Parallel(n_jobs=1)]: Done   4 out of   4 | elapsed:    4.2s remaining:    0.0s\n"
     ]
    },
    {
     "name": "stdout",
     "output_type": "stream",
     "text": [
      "[CV]  colsample_bytree=0.44583275285359114, learning_rate=0.09997491581800289, max_depth=12, min_child_weight=1.7323522915498704, n_estimators=1323, num_leaves=123, score=(train=0.992, test=0.419), total=   1.0s\n",
      "[CV] colsample_bytree=0.44583275285359114, learning_rate=0.09997491581800289, max_depth=12, min_child_weight=1.7323522915498704, n_estimators=1323, num_leaves=123 \n"
     ]
    },
    {
     "name": "stderr",
     "output_type": "stream",
     "text": [
      "[Parallel(n_jobs=1)]: Done   5 out of   5 | elapsed:    5.3s remaining:    0.0s\n"
     ]
    },
    {
     "name": "stdout",
     "output_type": "stream",
     "text": [
      "[CV]  colsample_bytree=0.44583275285359114, learning_rate=0.09997491581800289, max_depth=12, min_child_weight=1.7323522915498704, n_estimators=1323, num_leaves=123, score=(train=0.992, test=0.659), total=   1.4s\n",
      "[CV] colsample_bytree=0.7080725777960455, learning_rate=0.020584494295802447, max_depth=3, min_child_weight=1.4439975445336495, n_estimators=1005, num_leaves=149 \n"
     ]
    },
    {
     "name": "stderr",
     "output_type": "stream",
     "text": [
      "[Parallel(n_jobs=1)]: Done   6 out of   6 | elapsed:    6.8s remaining:    0.0s\n"
     ]
    },
    {
     "name": "stdout",
     "output_type": "stream",
     "text": [
      "[CV]  colsample_bytree=0.7080725777960455, learning_rate=0.020584494295802447, max_depth=3, min_child_weight=1.4439975445336495, n_estimators=1005, num_leaves=149, score=(train=0.906, test=0.514), total=   0.4s\n",
      "[CV] colsample_bytree=0.7080725777960455, learning_rate=0.020584494295802447, max_depth=3, min_child_weight=1.4439975445336495, n_estimators=1005, num_leaves=149 \n"
     ]
    },
    {
     "name": "stderr",
     "output_type": "stream",
     "text": [
      "[Parallel(n_jobs=1)]: Done   7 out of   7 | elapsed:    7.2s remaining:    0.0s\n"
     ]
    },
    {
     "name": "stdout",
     "output_type": "stream",
     "text": [
      "[CV]  colsample_bytree=0.7080725777960455, learning_rate=0.020584494295802447, max_depth=3, min_child_weight=1.4439975445336495, n_estimators=1005, num_leaves=149, score=(train=0.915, test=0.585), total=   0.4s\n",
      "[CV] colsample_bytree=0.7080725777960455, learning_rate=0.020584494295802447, max_depth=3, min_child_weight=1.4439975445336495, n_estimators=1005, num_leaves=149 \n"
     ]
    },
    {
     "name": "stderr",
     "output_type": "stream",
     "text": [
      "[Parallel(n_jobs=1)]: Done   8 out of   8 | elapsed:    7.6s remaining:    0.0s\n"
     ]
    },
    {
     "name": "stdout",
     "output_type": "stream",
     "text": [
      "[CV]  colsample_bytree=0.7080725777960455, learning_rate=0.020584494295802447, max_depth=3, min_child_weight=1.4439975445336495, n_estimators=1005, num_leaves=149, score=(train=0.893, test=0.698), total=   0.4s\n",
      "[CV] colsample_bytree=0.18182496720710062, learning_rate=0.18340450985343382, max_depth=13, min_child_weight=1.2233063209765618, n_estimators=452, num_leaves=108 \n"
     ]
    },
    {
     "name": "stderr",
     "output_type": "stream",
     "text": [
      "[Parallel(n_jobs=1)]: Done   9 out of   9 | elapsed:    8.1s remaining:    0.0s\n"
     ]
    },
    {
     "name": "stdout",
     "output_type": "stream",
     "text": [
      "[CV]  colsample_bytree=0.18182496720710062, learning_rate=0.18340450985343382, max_depth=13, min_child_weight=1.2233063209765618, n_estimators=452, num_leaves=108, score=(train=0.977, test=0.458), total=   0.4s\n",
      "[CV] colsample_bytree=0.18182496720710062, learning_rate=0.18340450985343382, max_depth=13, min_child_weight=1.2233063209765618, n_estimators=452, num_leaves=108 \n",
      "[CV]  colsample_bytree=0.18182496720710062, learning_rate=0.18340450985343382, max_depth=13, min_child_weight=1.2233063209765618, n_estimators=452, num_leaves=108, score=(train=0.980, test=0.413), total=   0.4s\n",
      "[CV] colsample_bytree=0.18182496720710062, learning_rate=0.18340450985343382, max_depth=13, min_child_weight=1.2233063209765618, n_estimators=452, num_leaves=108 \n",
      "[CV]  colsample_bytree=0.18182496720710062, learning_rate=0.18340450985343382, max_depth=13, min_child_weight=1.2233063209765618, n_estimators=452, num_leaves=108, score=(train=0.978, test=0.617), total=   0.3s\n",
      "[CV] colsample_bytree=0.2912291401980419, learning_rate=0.6118528947223795, max_depth=11, min_child_weight=0.09333132642723085, n_estimators=899, num_leaves=34 \n",
      "[CV]  colsample_bytree=0.2912291401980419, learning_rate=0.6118528947223795, max_depth=11, min_child_weight=0.09333132642723085, n_estimators=899, num_leaves=34, score=(train=0.991, test=0.380), total=   0.7s\n",
      "[CV] colsample_bytree=0.2912291401980419, learning_rate=0.6118528947223795, max_depth=11, min_child_weight=0.09333132642723085, n_estimators=899, num_leaves=34 \n",
      "[CV]  colsample_bytree=0.2912291401980419, learning_rate=0.6118528947223795, max_depth=11, min_child_weight=0.09333132642723085, n_estimators=899, num_leaves=34, score=(train=1.000, test=0.279), total=   0.7s\n",
      "[CV] colsample_bytree=0.2912291401980419, learning_rate=0.6118528947223795, max_depth=11, min_child_weight=0.09333132642723085, n_estimators=899, num_leaves=34 \n",
      "[CV]  colsample_bytree=0.2912291401980419, learning_rate=0.6118528947223795, max_depth=11, min_child_weight=0.09333132642723085, n_estimators=899, num_leaves=34, score=(train=1.000, test=0.638), total=   0.6s\n",
      "[CV] colsample_bytree=0.45606998421703593, learning_rate=0.7851759613930136, max_depth=4, min_child_weight=0.7649239825343255, n_estimators=1467, num_leaves=83 \n",
      "[CV]  colsample_bytree=0.45606998421703593, learning_rate=0.7851759613930136, max_depth=4, min_child_weight=0.7649239825343255, n_estimators=1467, num_leaves=83, score=(train=0.991, test=0.308), total=   0.6s\n",
      "[CV] colsample_bytree=0.45606998421703593, learning_rate=0.7851759613930136, max_depth=4, min_child_weight=0.7649239825343255, n_estimators=1467, num_leaves=83 \n",
      "[CV]  colsample_bytree=0.45606998421703593, learning_rate=0.7851759613930136, max_depth=4, min_child_weight=0.7649239825343255, n_estimators=1467, num_leaves=83, score=(train=1.000, test=0.299), total=   0.5s\n",
      "[CV] colsample_bytree=0.45606998421703593, learning_rate=0.7851759613930136, max_depth=4, min_child_weight=0.7649239825343255, n_estimators=1467, num_leaves=83 \n",
      "[CV]  colsample_bytree=0.45606998421703593, learning_rate=0.7851759613930136, max_depth=4, min_child_weight=0.7649239825343255, n_estimators=1467, num_leaves=83, score=(train=1.000, test=0.612), total=   0.6s\n",
      "[CV] colsample_bytree=0.4667628932479799, learning_rate=0.8599404067363206, max_depth=8, min_child_weight=0.34104824737458306, n_estimators=366, num_leaves=37 \n",
      "[CV]  colsample_bytree=0.4667628932479799, learning_rate=0.8599404067363206, max_depth=8, min_child_weight=0.34104824737458306, n_estimators=366, num_leaves=37, score=(train=0.991, test=0.316), total=   0.3s\n",
      "[CV] colsample_bytree=0.4667628932479799, learning_rate=0.8599404067363206, max_depth=8, min_child_weight=0.34104824737458306, n_estimators=366, num_leaves=37 \n",
      "[CV]  colsample_bytree=0.4667628932479799, learning_rate=0.8599404067363206, max_depth=8, min_child_weight=0.34104824737458306, n_estimators=366, num_leaves=37, score=(train=1.000, test=0.260), total=   0.3s\n",
      "[CV] colsample_bytree=0.4667628932479799, learning_rate=0.8599404067363206, max_depth=8, min_child_weight=0.34104824737458306, n_estimators=366, num_leaves=37 \n",
      "[CV]  colsample_bytree=0.4667628932479799, learning_rate=0.8599404067363206, max_depth=8, min_child_weight=0.34104824737458306, n_estimators=366, num_leaves=37, score=(train=0.999, test=0.552), total=   0.2s\n",
      "[CV] colsample_bytree=0.9488855372533332, learning_rate=0.9656320330745594, max_depth=3, min_child_weight=0.7708330050798322, n_estimators=764, num_leaves=149 \n",
      "[CV]  colsample_bytree=0.9488855372533332, learning_rate=0.9656320330745594, max_depth=3, min_child_weight=0.7708330050798322, n_estimators=764, num_leaves=149, score=(train=0.991, test=0.199), total=   0.3s\n",
      "[CV] colsample_bytree=0.9488855372533332, learning_rate=0.9656320330745594, max_depth=3, min_child_weight=0.7708330050798322, n_estimators=764, num_leaves=149 \n",
      "[CV]  colsample_bytree=0.9488855372533332, learning_rate=0.9656320330745594, max_depth=3, min_child_weight=0.7708330050798322, n_estimators=764, num_leaves=149, score=(train=1.000, test=0.196), total=   0.3s\n",
      "[CV] colsample_bytree=0.9488855372533332, learning_rate=0.9656320330745594, max_depth=3, min_child_weight=0.7708330050798322, n_estimators=764, num_leaves=149 \n",
      "[CV]  colsample_bytree=0.9488855372533332, learning_rate=0.9656320330745594, max_depth=3, min_child_weight=0.7708330050798322, n_estimators=764, num_leaves=149, score=(train=1.000, test=0.589), total=   0.3s\n",
      "[CV] colsample_bytree=0.6842330265121569, learning_rate=0.4401524937396013, max_depth=8, min_child_weight=1.2199933155652418, n_estimators=975, num_leaves=194 \n",
      "[CV]  colsample_bytree=0.6842330265121569, learning_rate=0.4401524937396013, max_depth=8, min_child_weight=1.2199933155652418, n_estimators=975, num_leaves=194, score=(train=0.991, test=0.390), total=   0.6s\n",
      "[CV] colsample_bytree=0.6842330265121569, learning_rate=0.4401524937396013, max_depth=8, min_child_weight=1.2199933155652418, n_estimators=975, num_leaves=194 \n",
      "[CV]  colsample_bytree=0.6842330265121569, learning_rate=0.4401524937396013, max_depth=8, min_child_weight=1.2199933155652418, n_estimators=975, num_leaves=194, score=(train=1.000, test=0.311), total=   0.7s\n",
      "[CV] colsample_bytree=0.6842330265121569, learning_rate=0.4401524937396013, max_depth=8, min_child_weight=1.2199933155652418, n_estimators=975, num_leaves=194 \n",
      "[CV]  colsample_bytree=0.6842330265121569, learning_rate=0.4401524937396013, max_depth=8, min_child_weight=1.2199933155652418, n_estimators=975, num_leaves=194, score=(train=1.000, test=0.669), total=   0.7s\n",
      "[CV] colsample_bytree=0.17336465350777208, learning_rate=0.3910606075732408, max_depth=3, min_child_weight=1.325044568707964, n_estimators=1225, num_leaves=153 \n",
      "[CV]  colsample_bytree=0.17336465350777208, learning_rate=0.3910606075732408, max_depth=3, min_child_weight=1.325044568707964, n_estimators=1225, num_leaves=153, score=(train=0.990, test=0.360), total=   0.4s\n",
      "[CV] colsample_bytree=0.17336465350777208, learning_rate=0.3910606075732408, max_depth=3, min_child_weight=1.325044568707964, n_estimators=1225, num_leaves=153 \n",
      "[CV]  colsample_bytree=0.17336465350777208, learning_rate=0.3910606075732408, max_depth=3, min_child_weight=1.325044568707964, n_estimators=1225, num_leaves=153, score=(train=0.998, test=0.283), total=   0.4s\n",
      "[CV] colsample_bytree=0.17336465350777208, learning_rate=0.3910606075732408, max_depth=3, min_child_weight=1.325044568707964, n_estimators=1225, num_leaves=153 \n",
      "[CV]  colsample_bytree=0.17336465350777208, learning_rate=0.3910606075732408, max_depth=3, min_child_weight=1.325044568707964, n_estimators=1225, num_leaves=153, score=(train=0.996, test=0.558), total=   0.4s\n"
     ]
    },
    {
     "name": "stderr",
     "output_type": "stream",
     "text": [
      "[Parallel(n_jobs=1)]: Done  30 out of  30 | elapsed:   18.2s finished\n",
      "C:\\ProgramData\\Anaconda3\\lib\\site-packages\\sklearn\\model_selection\\_search.py:814: DeprecationWarning: The default of the `iid` parameter will change from True to False in version 0.22 and will be removed in 0.24. This will change numeric results when test-set sizes are unequal.\n",
      "  DeprecationWarning)\n"
     ]
    },
    {
     "data": {
      "text/html": [
       "<div>\n",
       "<style scoped>\n",
       "    .dataframe tbody tr th:only-of-type {\n",
       "        vertical-align: middle;\n",
       "    }\n",
       "\n",
       "    .dataframe tbody tr th {\n",
       "        vertical-align: top;\n",
       "    }\n",
       "\n",
       "    .dataframe thead th {\n",
       "        text-align: right;\n",
       "    }\n",
       "</style>\n",
       "<table border=\"1\" class=\"dataframe\">\n",
       "  <thead>\n",
       "    <tr style=\"text-align: right;\">\n",
       "      <th></th>\n",
       "      <th>Actual</th>\n",
       "      <th>Predicted</th>\n",
       "    </tr>\n",
       "  </thead>\n",
       "  <tbody>\n",
       "    <tr>\n",
       "      <td>277</td>\n",
       "      <td>0.0</td>\n",
       "      <td>993.199394</td>\n",
       "    </tr>\n",
       "    <tr>\n",
       "      <td>264</td>\n",
       "      <td>7830.0</td>\n",
       "      <td>5615.415317</td>\n",
       "    </tr>\n",
       "    <tr>\n",
       "      <td>442</td>\n",
       "      <td>680.0</td>\n",
       "      <td>586.328998</td>\n",
       "    </tr>\n",
       "    <tr>\n",
       "      <td>444</td>\n",
       "      <td>684.0</td>\n",
       "      <td>1024.890247</td>\n",
       "    </tr>\n",
       "    <tr>\n",
       "      <td>240</td>\n",
       "      <td>3259.0</td>\n",
       "      <td>1092.249943</td>\n",
       "    </tr>\n",
       "  </tbody>\n",
       "</table>\n",
       "</div>"
      ],
      "text/plain": [
       "     Actual    Predicted\n",
       "277     0.0   993.199394\n",
       "264  7830.0  5615.415317\n",
       "442   680.0   586.328998\n",
       "444   684.0  1024.890247\n",
       "240  3259.0  1092.249943"
      ]
     },
     "execution_count": 46,
     "metadata": {},
     "output_type": "execute_result"
    }
   ],
   "source": [
    "lgb_model = LGBMRegressor(subsample=0.9)\n",
    "\n",
    "params = {'learning_rate': uniform(0, 1),\n",
    "          'n_estimators': sp_randint(200, 1500),\n",
    "          'num_leaves': sp_randint(20, 200),\n",
    "          'max_depth': sp_randint(2, 15),\n",
    "          'min_child_weight': uniform(0, 2),\n",
    "          'colsample_bytree': uniform(0, 1),\n",
    "         }\n",
    "lgb_random = RandomizedSearchCV(lgb_model, param_distributions=params, n_iter=10, cv=3, random_state=42, \n",
    "                                 verbose=10, return_train_score=True)\n",
    "lgb_random = lgb_random.fit(x_train, y_train)\n",
    "best_params = lgb_random.best_params_\n",
    "model_lgbm = LGBMRegressor(**best_params, subsample=0.9, random_state=42, n_jobs=-1)\n",
    "model_lgbm.fit(x_train, y_train)\n",
    "y_pred = model_lgbm.predict(x_test)\n",
    "result_lgbm = pd.DataFrame({'Actual':y_test,'Predicted':y_pred})\n",
    "result_lgbm.head(5)"
   ]
  },
  {
   "cell_type": "code",
   "execution_count": 47,
   "metadata": {},
   "outputs": [
    {
     "name": "stdout",
     "output_type": "stream",
     "text": [
      "Mean Absolute Error Test   : 454.95059569154523\n",
      "Mean Absolute Error All    : 325.3673029499095\n"
     ]
    },
    {
     "data": {
      "text/plain": [
       "<matplotlib.axes._subplots.AxesSubplot at 0x1a7dd4991c8>"
      ]
     },
     "execution_count": 47,
     "metadata": {},
     "output_type": "execute_result"
    },
    {
     "data": {
      "image/png": "[encoded data removed]",
      "text/plain": [
       "<Figure size 432x288 with 1 Axes>"
      ]
     },
     "metadata": {
      "needs_background": "light"
     },
     "output_type": "display_data"
    }
   ],
   "source": [
    "#print('Mean Absolute Error Train  :', metrics.mean_absolute_error(y_train, model_lr.predict(x_train)))\n",
    "print('Mean Absolute Error Test   :', metrics.mean_absolute_error(y_test, y_pred))\n",
    "print('Mean Absolute Error All    :', metrics.mean_absolute_error(y, model_lgbm.predict(x)))\n",
    "#final_high_df[(final_high_df[\"Total_Day_Cases\"]-final_high_df[\"Total_Cases_Predicted\"])>500].shape\n",
    "result_lr.head(20).plot(kind = 'box')"
   ]
  },
  {
   "cell_type": "code",
   "execution_count": 48,
   "metadata": {},
   "outputs": [
    {
     "name": "stderr",
     "output_type": "stream",
     "text": [
      "C:\\ProgramData\\Anaconda3\\lib\\site-packages\\ipykernel_launcher.py:1: SettingWithCopyWarning: \n",
      "A value is trying to be set on a copy of a slice from a DataFrame.\n",
      "Try using .loc[row_indexer,col_indexer] = value instead\n",
      "\n",
      "See the caveats in the documentation: http://pandas.pydata.org/pandas-docs/stable/user_guide/indexing.html#returning-a-view-versus-a-copy\n",
      "  \"\"\"Entry point for launching an IPython kernel.\n"
     ]
    }
   ],
   "source": [
    "final_high_df[\"y_lgbm\"]=model_lgbm.predict(x)"
   ]
  },
  {
   "cell_type": "markdown",
   "metadata": {},
   "source": [
    "# Stacking"
   ]
  },
  {
   "cell_type": "code",
   "execution_count": 49,
   "metadata": {},
   "outputs": [
    {
     "data": {
      "text/html": [
       "<div>\n",
       "<style scoped>\n",
       "    .dataframe tbody tr th:only-of-type {\n",
       "        vertical-align: middle;\n",
       "    }\n",
       "\n",
       "    .dataframe tbody tr th {\n",
       "        vertical-align: top;\n",
       "    }\n",
       "\n",
       "    .dataframe thead th {\n",
       "        text-align: right;\n",
       "    }\n",
       "</style>\n",
       "<table border=\"1\" class=\"dataframe\">\n",
       "  <thead>\n",
       "    <tr style=\"text-align: right;\">\n",
       "      <th></th>\n",
       "      <th>PM2.5_average</th>\n",
       "      <th>PM2.5_minimum</th>\n",
       "      <th>PM2.5_maximum</th>\n",
       "      <th>NO2_average</th>\n",
       "      <th>NO2_maximum</th>\n",
       "      <th>SO2_average</th>\n",
       "      <th>SO2_maximum</th>\n",
       "      <th>CO_average</th>\n",
       "      <th>CO_maximum</th>\n",
       "      <th>OZONE_maximum</th>\n",
       "      <th>Total_Day_Cases</th>\n",
       "      <th>y_lr</th>\n",
       "      <th>y_log</th>\n",
       "      <th>y_svr</th>\n",
       "      <th>y_lgbm</th>\n",
       "    </tr>\n",
       "  </thead>\n",
       "  <tbody>\n",
       "    <tr>\n",
       "      <td>0</td>\n",
       "      <td>24.000000</td>\n",
       "      <td>3.0</td>\n",
       "      <td>97.0</td>\n",
       "      <td>12.000000</td>\n",
       "      <td>101.0</td>\n",
       "      <td>10.333333</td>\n",
       "      <td>101.0</td>\n",
       "      <td>30.666667</td>\n",
       "      <td>58.0</td>\n",
       "      <td>252.0</td>\n",
       "      <td>1763.0</td>\n",
       "      <td>1111.114879</td>\n",
       "      <td>1763.0</td>\n",
       "      <td>900.5</td>\n",
       "      <td>1562.632017</td>\n",
       "    </tr>\n",
       "    <tr>\n",
       "      <td>1</td>\n",
       "      <td>25.500000</td>\n",
       "      <td>5.0</td>\n",
       "      <td>71.0</td>\n",
       "      <td>15.000000</td>\n",
       "      <td>55.0</td>\n",
       "      <td>13.000000</td>\n",
       "      <td>63.0</td>\n",
       "      <td>32.000000</td>\n",
       "      <td>61.0</td>\n",
       "      <td>121.0</td>\n",
       "      <td>1213.0</td>\n",
       "      <td>885.037210</td>\n",
       "      <td>563.0</td>\n",
       "      <td>899.5</td>\n",
       "      <td>1000.091798</td>\n",
       "    </tr>\n",
       "    <tr>\n",
       "      <td>2</td>\n",
       "      <td>30.000000</td>\n",
       "      <td>4.0</td>\n",
       "      <td>66.0</td>\n",
       "      <td>23.500000</td>\n",
       "      <td>65.0</td>\n",
       "      <td>7.500000</td>\n",
       "      <td>67.0</td>\n",
       "      <td>36.500000</td>\n",
       "      <td>62.0</td>\n",
       "      <td>145.0</td>\n",
       "      <td>1270.0</td>\n",
       "      <td>513.133615</td>\n",
       "      <td>1270.0</td>\n",
       "      <td>900.5</td>\n",
       "      <td>631.443325</td>\n",
       "    </tr>\n",
       "    <tr>\n",
       "      <td>3</td>\n",
       "      <td>22.000000</td>\n",
       "      <td>8.0</td>\n",
       "      <td>59.0</td>\n",
       "      <td>12.000000</td>\n",
       "      <td>15.0</td>\n",
       "      <td>25.000000</td>\n",
       "      <td>90.0</td>\n",
       "      <td>38.500000</td>\n",
       "      <td>101.0</td>\n",
       "      <td>72.0</td>\n",
       "      <td>1228.0</td>\n",
       "      <td>1589.715701</td>\n",
       "      <td>1228.0</td>\n",
       "      <td>900.5</td>\n",
       "      <td>1233.521656</td>\n",
       "    </tr>\n",
       "    <tr>\n",
       "      <td>4</td>\n",
       "      <td>16.666667</td>\n",
       "      <td>1.0</td>\n",
       "      <td>82.0</td>\n",
       "      <td>12.333333</td>\n",
       "      <td>53.0</td>\n",
       "      <td>7.333333</td>\n",
       "      <td>58.0</td>\n",
       "      <td>35.000000</td>\n",
       "      <td>58.0</td>\n",
       "      <td>260.0</td>\n",
       "      <td>1241.0</td>\n",
       "      <td>798.607889</td>\n",
       "      <td>1241.0</td>\n",
       "      <td>900.5</td>\n",
       "      <td>1431.323113</td>\n",
       "    </tr>\n",
       "  </tbody>\n",
       "</table>\n",
       "</div>"
      ],
      "text/plain": [
       "   PM2.5_average  PM2.5_minimum  PM2.5_maximum  NO2_average  NO2_maximum  \\\n",
       "0      24.000000            3.0           97.0    12.000000        101.0   \n",
       "1      25.500000            5.0           71.0    15.000000         55.0   \n",
       "2      30.000000            4.0           66.0    23.500000         65.0   \n",
       "3      22.000000            8.0           59.0    12.000000         15.0   \n",
       "4      16.666667            1.0           82.0    12.333333         53.0   \n",
       "\n",
       "   SO2_average  SO2_maximum  CO_average  CO_maximum  OZONE_maximum  \\\n",
       "0    10.333333        101.0   30.666667        58.0          252.0   \n",
       "1    13.000000         63.0   32.000000        61.0          121.0   \n",
       "2     7.500000         67.0   36.500000        62.0          145.0   \n",
       "3    25.000000         90.0   38.500000       101.0           72.0   \n",
       "4     7.333333         58.0   35.000000        58.0          260.0   \n",
       "\n",
       "   Total_Day_Cases         y_lr   y_log  y_svr       y_lgbm  \n",
       "0           1763.0  1111.114879  1763.0  900.5  1562.632017  \n",
       "1           1213.0   885.037210   563.0  899.5  1000.091798  \n",
       "2           1270.0   513.133615  1270.0  900.5   631.443325  \n",
       "3           1228.0  1589.715701  1228.0  900.5  1233.521656  \n",
       "4           1241.0   798.607889  1241.0  900.5  1431.323113  "
      ]
     },
     "execution_count": 49,
     "metadata": {},
     "output_type": "execute_result"
    }
   ],
   "source": [
    "final_high_df.head(5)"
   ]
  },
  {
   "cell_type": "markdown",
   "metadata": {},
   "source": [
    "Train Test split"
   ]
  },
  {
   "cell_type": "code",
   "execution_count": 50,
   "metadata": {},
   "outputs": [],
   "source": [
    "X  = final_high_df.drop(columns = ['Total_Day_Cases'])\n",
    "Y  = final_high_df['Total_Day_Cases']\n",
    "\n",
    "X_train, X_test, Y_train, Y_test = train_test_split(X, Y, test_size=0.3, random_state=10)"
   ]
  },
  {
   "cell_type": "markdown",
   "metadata": {},
   "source": [
    "Linear Regression"
   ]
  },
  {
   "cell_type": "code",
   "execution_count": 51,
   "metadata": {},
   "outputs": [
    {
     "name": "stdout",
     "output_type": "stream",
     "text": [
      "Mean Absolute Error Test   : 526.1293860174361\n",
      "Mean Absolute Error All    : 257.311380528056\n"
     ]
    },
    {
     "data": {
      "text/plain": [
       "<matplotlib.axes._subplots.AxesSubplot at 0x1a7e0bb85c8>"
      ]
     },
     "execution_count": 51,
     "metadata": {},
     "output_type": "execute_result"
    },
    {
     "data": {
      "image/png": "[encoded data removed]",
      "text/plain": [
       "<Figure size 432x288 with 1 Axes>"
      ]
     },
     "metadata": {
      "needs_background": "light"
     },
     "output_type": "display_data"
    }
   ],
   "source": [
    "model_s_lr = LinearRegression()\n",
    "model_s_lr.fit(X_train,Y_train)\n",
    "Y_pred = model_s_lr.predict(X_test)\n",
    "result_s_lr = pd.DataFrame({'Actual':Y_test,'Predicted':Y_pred})\n",
    "\n",
    "#print('Mean Absolute Error Train  :', metrics.mean_absolute_error(y_train, model_lr.predict(x_train)))\n",
    "print('Mean Absolute Error Test   :', metrics.mean_absolute_error(Y_test, Y_pred))\n",
    "print('Mean Absolute Error All    :', metrics.mean_absolute_error(Y, model_s_lr.predict(X)))\n",
    "#final_high_df[(final_high_df[\"Total_Day_Cases\"]-final_high_df[\"Total_Cases_Predicted\"])>500].shape\n",
    "result_s_lr.head(20).plot(kind = 'box')"
   ]
  },
  {
   "cell_type": "markdown",
   "metadata": {},
   "source": [
    "Logistic Regression"
   ]
  },
  {
   "cell_type": "code",
   "execution_count": 52,
   "metadata": {},
   "outputs": [
    {
     "name": "stderr",
     "output_type": "stream",
     "text": [
      "C:\\ProgramData\\Anaconda3\\lib\\site-packages\\sklearn\\linear_model\\logistic.py:432: FutureWarning: Default solver will be changed to 'lbfgs' in 0.22. Specify a solver to silence this warning.\n",
      "  FutureWarning)\n",
      "C:\\ProgramData\\Anaconda3\\lib\\site-packages\\sklearn\\linear_model\\logistic.py:469: FutureWarning: Default multi_class will be changed to 'auto' in 0.22. Specify the multi_class option to silence this warning.\n",
      "  \"this warning.\", FutureWarning)\n"
     ]
    },
    {
     "name": "stdout",
     "output_type": "stream",
     "text": [
      "Mean Absolute Error Test   : 594.9902912621359\n",
      "Mean Absolute Error All    : 186.8189781021898\n"
     ]
    },
    {
     "data": {
      "text/plain": [
       "<matplotlib.axes._subplots.AxesSubplot at 0x1a7e0cd9588>"
      ]
     },
     "execution_count": 52,
     "metadata": {},
     "output_type": "execute_result"
    },
    {
     "data": {
      "image/png": "[encoded data removed]",
      "text/plain": [
       "<Figure size 432x288 with 1 Axes>"
      ]
     },
     "metadata": {
      "needs_background": "light"
     },
     "output_type": "display_data"
    }
   ],
   "source": [
    "model_s_log = LogisticRegression()\n",
    "model_s_log.fit(X_train,Y_train)\n",
    "Y_pred = model_s_log.predict(X_test)\n",
    "result_s_log = pd.DataFrame({'Actual':y_test,'Predicted':y_pred})\n",
    "\n",
    "#print('Mean Absolute Error Train  :', metrics.mean_absolute_error(y_train, model_lr.predict(x_train)))\n",
    "print('Mean Absolute Error Test   :', metrics.mean_absolute_error(Y_test, Y_pred))\n",
    "print('Mean Absolute Error All    :', metrics.mean_absolute_error(Y, model_s_log.predict(X)))\n",
    "#final_high_df[(final_high_df[\"Total_Day_Cases\"]-final_high_df[\"Total_Cases_Predicted\"])>500].shape\n",
    "result_s_log.head(20).plot(kind = 'box')"
   ]
  },
  {
   "cell_type": "code",
   "execution_count": 54,
   "metadata": {},
   "outputs": [],
   "source": [
    "X  = final_high_df.drop(columns = ['PM2.5_average','PM2.5_minimum','PM2.5_maximum','NO2_average','NO2_maximum','SO2_average',\n",
    "                                  'SO2_maximum','CO_average','CO_maximum','OZONE_maximum','Total_Day_Cases'])\n",
    "Y  = final_high_df['Total_Day_Cases']\n",
    "\n",
    "X_train, X_test, Y_train, Y_test = train_test_split(X, Y, test_size=0.3, random_state=10)"
   ]
  },
  {
   "cell_type": "code",
   "execution_count": 55,
   "metadata": {},
   "outputs": [
    {
     "name": "stdout",
     "output_type": "stream",
     "text": [
      "Mean Absolute Error Test   : 523.0865418854712\n",
      "Mean Absolute Error All    : 257.8935470193574\n"
     ]
    },
    {
     "data": {
      "text/plain": [
       "<matplotlib.axes._subplots.AxesSubplot at 0x1a7e10b10c8>"
      ]
     },
     "execution_count": 55,
     "metadata": {},
     "output_type": "execute_result"
    },
    {
     "data": {
      "image/png": "[encoded data removed]",
      "text/plain": [
       "<Figure size 432x288 with 1 Axes>"
      ]
     },
     "metadata": {
      "needs_background": "light"
     },
     "output_type": "display_data"
    }
   ],
   "source": [
    "model_s_lr = LinearRegression()\n",
    "model_s_lr.fit(X_train,Y_train)\n",
    "Y_pred = model_s_lr.predict(X_test)\n",
    "result_s_lr = pd.DataFrame({'Actual':Y_test,'Predicted':Y_pred})\n",
    "\n",
    "#print('Mean Absolute Error Train  :', metrics.mean_absolute_error(y_train, model_lr.predict(x_train)))\n",
    "print('Mean Absolute Error Test   :', metrics.mean_absolute_error(Y_test, Y_pred))\n",
    "print('Mean Absolute Error All    :', metrics.mean_absolute_error(Y, model_s_lr.predict(X)))\n",
    "#final_high_df[(final_high_df[\"Total_Day_Cases\"]-final_high_df[\"Total_Cases_Predicted\"])>500].shape\n",
    "result_s_lr.head(20).plot(kind = 'box')"
   ]
  },
  {
   "cell_type": "code",
   "execution_count": 58,
   "metadata": {},
   "outputs": [
    {
     "name": "stderr",
     "output_type": "stream",
     "text": [
      "C:\\ProgramData\\Anaconda3\\lib\\site-packages\\ipykernel_launcher.py:1: SettingWithCopyWarning: \n",
      "A value is trying to be set on a copy of a slice from a DataFrame.\n",
      "Try using .loc[row_indexer,col_indexer] = value instead\n",
      "\n",
      "See the caveats in the documentation: http://pandas.pydata.org/pandas-docs/stable/user_guide/indexing.html#returning-a-view-versus-a-copy\n",
      "  \"\"\"Entry point for launching an IPython kernel.\n"
     ]
    },
    {
     "data": {
      "text/plain": [
       "(51, 16)"
      ]
     },
     "execution_count": 58,
     "metadata": {},
     "output_type": "execute_result"
    }
   ],
   "source": [
    "final_high_df[\"Total_Cases_Predicted\"]=model_s_lr.predict(X)\n",
    "final_high_df[(final_high_df[\"Total_Day_Cases\"]-final_high_df[\"Total_Cases_Predicted\"])>500].shape"
   ]
  },
  {
   "cell_type": "code",
   "execution_count": 60,
   "metadata": {},
   "outputs": [
    {
     "data": {
      "text/plain": [
       "<matplotlib.axes._subplots.AxesSubplot at 0x1a7e0769608>"
      ]
     },
     "execution_count": 60,
     "metadata": {},
     "output_type": "execute_result"
    },
    {
     "data": {
      "image/png": "[encoded data removed]",
      "text/plain": [
       "<Figure size 432x288 with 1 Axes>"
      ]
     },
     "metadata": {
      "needs_background": "light"
     },
     "output_type": "display_data"
    }
   ],
   "source": [
    "result_s_log.head(20).plot(kind = 'bar')"
   ]
  }
 ],
 "metadata": {
  "kernelspec": {
   "display_name": "Python 3",
   "language": "python",
   "name": "python3"
  },
  "language_info": {
   "codemirror_mode": {
    "name": "ipython",
    "version": 3
   },
   "file_extension": ".py",
   "mimetype": "text/x-python",
   "name": "python",
   "nbconvert_exporter": "python",
   "pygments_lexer": "ipython3",
   "version": "3.7.4"
  }
 },
 "nbformat": 4,
 "nbformat_minor": 2
}
