{
 "cells": [
  {
   "cell_type": "markdown",
   "metadata": {},
   "source": [
    "# Libraries"
   ]
  },
  {
   "cell_type": "code",
   "execution_count": 347,
   "metadata": {},
   "outputs": [],
   "source": [
    "import numpy as np\n",
    "import pandas as pd\n",
    "import seaborn as sns\n",
    "import datetime\n",
    "from sklearn.model_selection import train_test_split\n",
    "from sklearn.linear_model import LinearRegression,LogisticRegression\n",
    "from sklearn import metrics\n",
    "import matplotlib.pyplot as plt\n",
    "#from matplotlib import style"
   ]
  },
  {
   "cell_type": "markdown",
   "metadata": {},
   "source": [
    "# Read Data"
   ]
  },
  {
   "cell_type": "code",
   "execution_count": 1167,
   "metadata": {},
   "outputs": [],
   "source": [
    "total_case_df = pd.read_excel(\"Case_Data.xlsx\",\"Total Cases\")\n",
    "air_df = pd.read_csv(\"AQI_Data_31Jan2021.csv\")\n",
    "air_df.Date = pd.to_datetime(air_df.Date,dayfirst=True)"
   ]
  },
  {
   "cell_type": "markdown",
   "metadata": {},
   "source": [
    "# Data Mining"
   ]
  },
  {
   "cell_type": "code",
   "execution_count": 1461,
   "metadata": {},
   "outputs": [
    {
     "data": {
      "text/html": [
       "<div>\n",
       "<style scoped>\n",
       "    .dataframe tbody tr th:only-of-type {\n",
       "        vertical-align: middle;\n",
       "    }\n",
       "\n",
       "    .dataframe tbody tr th {\n",
       "        vertical-align: top;\n",
       "    }\n",
       "\n",
       "    .dataframe thead th {\n",
       "        text-align: right;\n",
       "    }\n",
       "</style>\n",
       "<table border=\"1\" class=\"dataframe\">\n",
       "  <thead>\n",
       "    <tr style=\"text-align: right;\">\n",
       "      <th></th>\n",
       "      <th>State</th>\n",
       "      <th>District</th>\n",
       "      <th>2020-01-30 00:00:00</th>\n",
       "      <th>2020-01-31 00:00:00</th>\n",
       "      <th>2020-02-01 00:00:00</th>\n",
       "      <th>2020-02-02 00:00:00</th>\n",
       "      <th>2020-02-03 00:00:00</th>\n",
       "      <th>2020-02-04 00:00:00</th>\n",
       "      <th>2020-02-05 00:00:00</th>\n",
       "      <th>2020-02-06 00:00:00</th>\n",
       "      <th>...</th>\n",
       "      <th>2020-11-10 00:00:00</th>\n",
       "      <th>2020-11-11 00:00:00</th>\n",
       "      <th>2020-11-12 00:00:00</th>\n",
       "      <th>2020-11-13 00:00:00</th>\n",
       "      <th>2020-11-14 00:00:00</th>\n",
       "      <th>2020-11-15 00:00:00</th>\n",
       "      <th>2020-11-16 00:00:00</th>\n",
       "      <th>2020-11-17 00:00:00</th>\n",
       "      <th>2020-11-18 00:00:00</th>\n",
       "      <th>2020-11-19 00:00:00</th>\n",
       "    </tr>\n",
       "  </thead>\n",
       "  <tbody>\n",
       "    <tr>\n",
       "      <th>680</th>\n",
       "      <td>Uttar Pradesh</td>\n",
       "      <td>Lucknow</td>\n",
       "      <td>0.0</td>\n",
       "      <td>0.0</td>\n",
       "      <td>0.0</td>\n",
       "      <td>0.0</td>\n",
       "      <td>0.0</td>\n",
       "      <td>0.0</td>\n",
       "      <td>0.0</td>\n",
       "      <td>0.0</td>\n",
       "      <td>...</td>\n",
       "      <td>65631.0</td>\n",
       "      <td>65929.0</td>\n",
       "      <td>66244.0</td>\n",
       "      <td>66544.0</td>\n",
       "      <td>66930.0</td>\n",
       "      <td>67085.0</td>\n",
       "      <td>67332.0</td>\n",
       "      <td>67534.0</td>\n",
       "      <td>67829.0</td>\n",
       "      <td>68145.0</td>\n",
       "    </tr>\n",
       "  </tbody>\n",
       "</table>\n",
       "<p>1 rows × 297 columns</p>\n",
       "</div>"
      ],
      "text/plain": [
       "             State District  2020-01-30 00:00:00  2020-01-31 00:00:00  \\\n",
       "680  Uttar Pradesh  Lucknow                  0.0                  0.0   \n",
       "\n",
       "     2020-02-01 00:00:00  2020-02-02 00:00:00  2020-02-03 00:00:00  \\\n",
       "680                  0.0                  0.0                  0.0   \n",
       "\n",
       "     2020-02-04 00:00:00  2020-02-05 00:00:00  2020-02-06 00:00:00  ...  \\\n",
       "680                  0.0                  0.0                  0.0  ...   \n",
       "\n",
       "     2020-11-10 00:00:00  2020-11-11 00:00:00  2020-11-12 00:00:00  \\\n",
       "680              65631.0              65929.0              66244.0   \n",
       "\n",
       "     2020-11-13 00:00:00  2020-11-14 00:00:00  2020-11-15 00:00:00  \\\n",
       "680              66544.0              66930.0              67085.0   \n",
       "\n",
       "     2020-11-16 00:00:00  2020-11-17 00:00:00  2020-11-18 00:00:00  \\\n",
       "680              67332.0              67534.0              67829.0   \n",
       "\n",
       "     2020-11-19 00:00:00  \n",
       "680              68145.0  \n",
       "\n",
       "[1 rows x 297 columns]"
      ]
     },
     "execution_count": 1461,
     "metadata": {},
     "output_type": "execute_result"
    }
   ],
   "source": [
    "total_case_df[total_case_df[\"District\"].str.contains(\"Lucknow\")==1]"
   ]
  },
  {
   "cell_type": "code",
   "execution_count": 1185,
   "metadata": {},
   "outputs": [],
   "source": [
    "#air_df_copy=air_df.copy(deep=True)\n",
    "air_df=air_df_copy.copy(deep=True)"
   ]
  },
  {
   "cell_type": "code",
   "execution_count": 1168,
   "metadata": {},
   "outputs": [],
   "source": [
    "air_df.sort_values(by=\"Date\",inplace=True)"
   ]
  },
  {
   "cell_type": "code",
   "execution_count": 1169,
   "metadata": {},
   "outputs": [
    {
     "data": {
      "text/plain": [
       "Delhi         6992\n",
       "Mumbai        3864\n",
       "Chennai       1472\n",
       "Kolkata       1288\n",
       "Pune          1288\n",
       "Hyderabad     1104\n",
       "Lucknow        736\n",
       "Ahmedabad      184\n",
       "Chandigarh     184\n",
       "Name: City, dtype: int64"
      ]
     },
     "execution_count": 1169,
     "metadata": {},
     "output_type": "execute_result"
    }
   ],
   "source": [
    "air_df[\"City\"].value_counts()"
   ]
  },
  {
   "cell_type": "code",
   "execution_count": 1316,
   "metadata": {},
   "outputs": [],
   "source": [
    "def data_mining (cases_city,aqi_city):\n",
    "    print(cases_city)\n",
    "    print(aqi_city)\n",
    "    case_df = total_case_df[total_case_df['District']==cases_city].transpose()\n",
    "    case_df.drop(index=['State','District'],inplace=True)\n",
    "    print(case_df.shape)\n",
    "   # case_df.rename(columns={case_df.columns[0]: \"Total Cases\"},inplace=True)\n",
    "    if len(case_df.columns)==1:\n",
    "        case_df.columns=[\"Total Cases\"]\n",
    "    elif len(case_df.columns)==2:\n",
    "        case_df.columns=[\"Total Cases\",\"1\"]\n",
    "        case_df.drop(columns=\"1\",inplace=True)\n",
    "    case_df['Date'] = case_df.index\n",
    "    first_index_value=case_df.first_valid_index()\n",
    "    if case_df.loc[first_index_value,\"Total Cases\"]==np.nan:\n",
    "        prev_value=0\n",
    "    else:\n",
    "        prev_value=case_df.loc[first_index_value,\"Total Cases\"]\n",
    "        prev_date=case_df.loc[first_index_value,\"Date\"]\n",
    "        daily_cases=0\n",
    "    for i,row in case_df.iterrows():\n",
    "        if(str(row[\"Total Cases\"])!=\"nan\"):\n",
    "            if prev_date!=row[\"Date\"]:\n",
    "                daily_cases=row[\"Total Cases\"]-prev_value\n",
    "                #print(str(row[\"Total Cases\"])+\"...\"+str(daily_cases))\n",
    "                case_df.at[i,\"Total_Day_Cases\"]=daily_cases\n",
    "                prev_value=row[\"Total Cases\"]\n",
    "                prev_date=row[\"Date\"]\n",
    "            else:\n",
    "                case_df.at[i,\"Total_Day_Cases\"]=daily_cases\n",
    "    case_df.reset_index(drop=True, inplace=True)\n",
    "    case_df = (air_df[air_df.City == aqi_city]).join(case_df.set_index('Date'),on='Date')\n",
    "    #print(\"Before...\")\n",
    "    #print(case_df)\n",
    "    \n",
    "\n",
    "    #case_df.drop(columns = ['Unnamed: 0','State','Station_Name','NH3_average','NH3_minimum','NH3_maximum'],inplace=True)\n",
    "    #case_df.dropna(axis=0,inplace=True)\n",
    "    #case_df.dropna()\n",
    "    #case_df['Total Cases'] = case_df['Total Cases'].astype(int)\n",
    "    return(case_df)"
   ]
  },
  {
   "cell_type": "code",
   "execution_count": 1317,
   "metadata": {},
   "outputs": [],
   "source": [
    "air_df.Date=air_df.Date-pd.to_timedelta(2,unit=\"d\")"
   ]
  },
  {
   "cell_type": "code",
   "execution_count": 1787,
   "metadata": {},
   "outputs": [
    {
     "name": "stdout",
     "output_type": "stream",
     "text": [
      "Delhi\n",
      "Delhi\n",
      "(295, 1)\n"
     ]
    }
   ],
   "source": [
    "li=[]\n",
    "aqi_city=[\"Delhi\",\"Chennai\",\"Bangalore\",\"Kolkata\",\"Hyderabad\",\"Mumbai\",\"Pune\",\"Lucknow\",\"Chandigarh\",\"Ahmedabad\"]\n",
    "for i,city in enumerate([\"Delhi\",\"Chennai\",\"Bengaluru Urban\",\"Kolkata\",\"Hyderabad\",\"Mumbai City\",\"Pune\",\"Lucknow\",\"Chandigarh\",\"Ahmedabad\"]):\n",
    "    city_df=data_mining(city,aqi_city[i])\n",
    "    li.append(city_df)\n",
    "major_cities_df=pd.concat(li,ignore_index=False,axis=0)"
   ]
  },
  {
   "cell_type": "code",
   "execution_count": 1935,
   "metadata": {},
   "outputs": [
    {
     "name": "stdout",
     "output_type": "stream",
     "text": [
      "Delhi\n",
      "Delhi\n",
      "(295, 1)\n",
      "Chennai\n",
      "Chennai\n",
      "(295, 1)\n",
      "Kolkata\n",
      "Kolkata\n",
      "(295, 1)\n",
      "Hyderabad\n",
      "Hyderabad\n",
      "(295, 1)\n",
      "Mumbai City\n",
      "Mumbai\n",
      "(295, 1)\n"
     ]
    }
   ],
   "source": [
    "li=[]\n",
    "aqi_city=[\"Delhi\",\"Chennai\",\"Kolkata\",\"Hyderabad\",\"Mumbai\"]\n",
    "#aqi_city=[\"Delhi\"]\n",
    "for i,city in enumerate([\"Delhi\",\"Chennai\",\"Kolkata\",\"Hyderabad\",\"Mumbai City\"]):\n",
    "#for i,city in enumerate([\"Delhi\"]):\n",
    "    city_df=data_mining(city,aqi_city[i])\n",
    "    li.append(city_df)\n",
    "major_cities_df=pd.concat(li,ignore_index=False,axis=0)"
   ]
  },
  {
   "cell_type": "code",
   "execution_count": 1936,
   "metadata": {},
   "outputs": [
    {
     "data": {
      "text/plain": [
       "13016   -819.0\n",
       "1608    -819.0\n",
       "7128    -819.0\n",
       "12464   -819.0\n",
       "12096   -819.0\n",
       "         ...  \n",
       "11040      NaN\n",
       "12880      NaN\n",
       "11960      NaN\n",
       "6992       NaN\n",
       "16744      NaN\n",
       "Name: Total_Day_Cases, Length: 14720, dtype: float64"
      ]
     },
     "execution_count": 1936,
     "metadata": {},
     "output_type": "execute_result"
    }
   ],
   "source": [
    "major_cities_df[\"Total_Day_Cases\"].sort_values()"
   ]
  },
  {
   "cell_type": "code",
   "execution_count": 1937,
   "metadata": {},
   "outputs": [
    {
     "data": {
      "text/html": [
       "<div>\n",
       "<style scoped>\n",
       "    .dataframe tbody tr th:only-of-type {\n",
       "        vertical-align: middle;\n",
       "    }\n",
       "\n",
       "    .dataframe tbody tr th {\n",
       "        vertical-align: top;\n",
       "    }\n",
       "\n",
       "    .dataframe thead th {\n",
       "        text-align: right;\n",
       "    }\n",
       "</style>\n",
       "<table border=\"1\" class=\"dataframe\">\n",
       "  <thead>\n",
       "    <tr style=\"text-align: right;\">\n",
       "      <th></th>\n",
       "      <th>City</th>\n",
       "      <th>Station_ID</th>\n",
       "      <th>Date</th>\n",
       "      <th>PM2.5_average</th>\n",
       "      <th>PM2.5_minimum</th>\n",
       "      <th>PM2.5_maximum</th>\n",
       "      <th>PM10_average</th>\n",
       "      <th>PM10_minimum</th>\n",
       "      <th>PM10_maximum</th>\n",
       "      <th>NO2_average</th>\n",
       "      <th>...</th>\n",
       "      <th>SO2_minimum</th>\n",
       "      <th>SO2_maximum</th>\n",
       "      <th>CO_average</th>\n",
       "      <th>CO_minimum</th>\n",
       "      <th>CO_maximum</th>\n",
       "      <th>OZONE_average</th>\n",
       "      <th>OZONE_minimum</th>\n",
       "      <th>OZONE_maximum</th>\n",
       "      <th>Total Cases</th>\n",
       "      <th>Total_Day_Cases</th>\n",
       "    </tr>\n",
       "  </thead>\n",
       "  <tbody>\n",
       "    <tr>\n",
       "      <th>17111</th>\n",
       "      <td>Delhi</td>\n",
       "      <td>site_106</td>\n",
       "      <td>2020-06-29</td>\n",
       "      <td>58.0</td>\n",
       "      <td>19.0</td>\n",
       "      <td>84.0</td>\n",
       "      <td>89.0</td>\n",
       "      <td>48.0</td>\n",
       "      <td>122.0</td>\n",
       "      <td>24.0</td>\n",
       "      <td>...</td>\n",
       "      <td>NaN</td>\n",
       "      <td>NaN</td>\n",
       "      <td>31.0</td>\n",
       "      <td>23.0</td>\n",
       "      <td>39.0</td>\n",
       "      <td>82.0</td>\n",
       "      <td>27.0</td>\n",
       "      <td>151.0</td>\n",
       "      <td>87360</td>\n",
       "      <td>2199.0</td>\n",
       "    </tr>\n",
       "    <tr>\n",
       "      <th>8463</th>\n",
       "      <td>Delhi</td>\n",
       "      <td>site_1435</td>\n",
       "      <td>2020-06-29</td>\n",
       "      <td>81.0</td>\n",
       "      <td>57.0</td>\n",
       "      <td>98.0</td>\n",
       "      <td>106.0</td>\n",
       "      <td>70.0</td>\n",
       "      <td>171.0</td>\n",
       "      <td>22.0</td>\n",
       "      <td>...</td>\n",
       "      <td>24.0</td>\n",
       "      <td>54.0</td>\n",
       "      <td>91.0</td>\n",
       "      <td>85.0</td>\n",
       "      <td>101.0</td>\n",
       "      <td>53.0</td>\n",
       "      <td>5.0</td>\n",
       "      <td>94.0</td>\n",
       "      <td>87360</td>\n",
       "      <td>2199.0</td>\n",
       "    </tr>\n",
       "    <tr>\n",
       "      <th>11959</th>\n",
       "      <td>Delhi</td>\n",
       "      <td>site_105</td>\n",
       "      <td>2020-06-29</td>\n",
       "      <td>70.0</td>\n",
       "      <td>44.0</td>\n",
       "      <td>93.0</td>\n",
       "      <td>86.0</td>\n",
       "      <td>48.0</td>\n",
       "      <td>120.0</td>\n",
       "      <td>11.0</td>\n",
       "      <td>...</td>\n",
       "      <td>NaN</td>\n",
       "      <td>NaN</td>\n",
       "      <td>33.0</td>\n",
       "      <td>30.0</td>\n",
       "      <td>35.0</td>\n",
       "      <td>55.0</td>\n",
       "      <td>32.0</td>\n",
       "      <td>68.0</td>\n",
       "      <td>87360</td>\n",
       "      <td>2199.0</td>\n",
       "    </tr>\n",
       "    <tr>\n",
       "      <th>7911</th>\n",
       "      <td>Delhi</td>\n",
       "      <td>site_124</td>\n",
       "      <td>2020-06-29</td>\n",
       "      <td>38.0</td>\n",
       "      <td>10.0</td>\n",
       "      <td>63.0</td>\n",
       "      <td>74.0</td>\n",
       "      <td>44.0</td>\n",
       "      <td>109.0</td>\n",
       "      <td>23.0</td>\n",
       "      <td>...</td>\n",
       "      <td>8.0</td>\n",
       "      <td>26.0</td>\n",
       "      <td>45.0</td>\n",
       "      <td>30.0</td>\n",
       "      <td>52.0</td>\n",
       "      <td>12.0</td>\n",
       "      <td>5.0</td>\n",
       "      <td>17.0</td>\n",
       "      <td>87360</td>\n",
       "      <td>2199.0</td>\n",
       "    </tr>\n",
       "    <tr>\n",
       "      <th>5151</th>\n",
       "      <td>Delhi</td>\n",
       "      <td>site_1427</td>\n",
       "      <td>2020-06-29</td>\n",
       "      <td>NaN</td>\n",
       "      <td>NaN</td>\n",
       "      <td>NaN</td>\n",
       "      <td>NaN</td>\n",
       "      <td>NaN</td>\n",
       "      <td>NaN</td>\n",
       "      <td>NaN</td>\n",
       "      <td>...</td>\n",
       "      <td>NaN</td>\n",
       "      <td>NaN</td>\n",
       "      <td>73.0</td>\n",
       "      <td>2.0</td>\n",
       "      <td>117.0</td>\n",
       "      <td>55.0</td>\n",
       "      <td>32.0</td>\n",
       "      <td>76.0</td>\n",
       "      <td>87360</td>\n",
       "      <td>2199.0</td>\n",
       "    </tr>\n",
       "    <tr>\n",
       "      <th>...</th>\n",
       "      <td>...</td>\n",
       "      <td>...</td>\n",
       "      <td>...</td>\n",
       "      <td>...</td>\n",
       "      <td>...</td>\n",
       "      <td>...</td>\n",
       "      <td>...</td>\n",
       "      <td>...</td>\n",
       "      <td>...</td>\n",
       "      <td>...</td>\n",
       "      <td>...</td>\n",
       "      <td>...</td>\n",
       "      <td>...</td>\n",
       "      <td>...</td>\n",
       "      <td>...</td>\n",
       "      <td>...</td>\n",
       "      <td>...</td>\n",
       "      <td>...</td>\n",
       "      <td>...</td>\n",
       "      <td>...</td>\n",
       "      <td>...</td>\n",
       "    </tr>\n",
       "    <tr>\n",
       "      <th>1512</th>\n",
       "      <td>Mumbai</td>\n",
       "      <td>site_5112</td>\n",
       "      <td>2020-11-19</td>\n",
       "      <td>103.0</td>\n",
       "      <td>67.0</td>\n",
       "      <td>158.0</td>\n",
       "      <td>93.0</td>\n",
       "      <td>60.0</td>\n",
       "      <td>111.0</td>\n",
       "      <td>32.0</td>\n",
       "      <td>...</td>\n",
       "      <td>2.0</td>\n",
       "      <td>7.0</td>\n",
       "      <td>44.0</td>\n",
       "      <td>35.0</td>\n",
       "      <td>63.0</td>\n",
       "      <td>89.0</td>\n",
       "      <td>14.0</td>\n",
       "      <td>135.0</td>\n",
       "      <td>272455</td>\n",
       "      <td>924.0</td>\n",
       "    </tr>\n",
       "    <tr>\n",
       "      <th>7400</th>\n",
       "      <td>Mumbai</td>\n",
       "      <td>site_5104</td>\n",
       "      <td>2020-11-19</td>\n",
       "      <td>174.0</td>\n",
       "      <td>85.0</td>\n",
       "      <td>386.0</td>\n",
       "      <td>169.0</td>\n",
       "      <td>103.0</td>\n",
       "      <td>278.0</td>\n",
       "      <td>97.0</td>\n",
       "      <td>...</td>\n",
       "      <td>6.0</td>\n",
       "      <td>18.0</td>\n",
       "      <td>50.0</td>\n",
       "      <td>24.0</td>\n",
       "      <td>76.0</td>\n",
       "      <td>48.0</td>\n",
       "      <td>6.0</td>\n",
       "      <td>100.0</td>\n",
       "      <td>272455</td>\n",
       "      <td>924.0</td>\n",
       "    </tr>\n",
       "    <tr>\n",
       "      <th>11632</th>\n",
       "      <td>Mumbai</td>\n",
       "      <td>site_5120</td>\n",
       "      <td>2020-11-19</td>\n",
       "      <td>75.0</td>\n",
       "      <td>46.0</td>\n",
       "      <td>122.0</td>\n",
       "      <td>77.0</td>\n",
       "      <td>50.0</td>\n",
       "      <td>107.0</td>\n",
       "      <td>75.0</td>\n",
       "      <td>...</td>\n",
       "      <td>20.0</td>\n",
       "      <td>58.0</td>\n",
       "      <td>55.0</td>\n",
       "      <td>43.0</td>\n",
       "      <td>95.0</td>\n",
       "      <td>7.0</td>\n",
       "      <td>6.0</td>\n",
       "      <td>8.0</td>\n",
       "      <td>272455</td>\n",
       "      <td>924.0</td>\n",
       "    </tr>\n",
       "    <tr>\n",
       "      <th>16048</th>\n",
       "      <td>Mumbai</td>\n",
       "      <td>site_5102</td>\n",
       "      <td>2020-11-19</td>\n",
       "      <td>99.0</td>\n",
       "      <td>66.0</td>\n",
       "      <td>191.0</td>\n",
       "      <td>NaN</td>\n",
       "      <td>NaN</td>\n",
       "      <td>NaN</td>\n",
       "      <td>29.0</td>\n",
       "      <td>...</td>\n",
       "      <td>NaN</td>\n",
       "      <td>NaN</td>\n",
       "      <td>32.0</td>\n",
       "      <td>19.0</td>\n",
       "      <td>43.0</td>\n",
       "      <td>NaN</td>\n",
       "      <td>NaN</td>\n",
       "      <td>NaN</td>\n",
       "      <td>272455</td>\n",
       "      <td>924.0</td>\n",
       "    </tr>\n",
       "    <tr>\n",
       "      <th>5560</th>\n",
       "      <td>Mumbai</td>\n",
       "      <td>site_5113</td>\n",
       "      <td>2020-11-19</td>\n",
       "      <td>126.0</td>\n",
       "      <td>73.0</td>\n",
       "      <td>208.0</td>\n",
       "      <td>78.0</td>\n",
       "      <td>52.0</td>\n",
       "      <td>105.0</td>\n",
       "      <td>3.0</td>\n",
       "      <td>...</td>\n",
       "      <td>9.0</td>\n",
       "      <td>12.0</td>\n",
       "      <td>30.0</td>\n",
       "      <td>25.0</td>\n",
       "      <td>36.0</td>\n",
       "      <td>5.0</td>\n",
       "      <td>3.0</td>\n",
       "      <td>7.0</td>\n",
       "      <td>272455</td>\n",
       "      <td>924.0</td>\n",
       "    </tr>\n",
       "  </tbody>\n",
       "</table>\n",
       "<p>7947 rows × 23 columns</p>\n",
       "</div>"
      ],
      "text/plain": [
       "         City Station_ID       Date  PM2.5_average  PM2.5_minimum  \\\n",
       "17111   Delhi   site_106 2020-06-29           58.0           19.0   \n",
       "8463    Delhi  site_1435 2020-06-29           81.0           57.0   \n",
       "11959   Delhi   site_105 2020-06-29           70.0           44.0   \n",
       "7911    Delhi   site_124 2020-06-29           38.0           10.0   \n",
       "5151    Delhi  site_1427 2020-06-29            NaN            NaN   \n",
       "...       ...        ...        ...            ...            ...   \n",
       "1512   Mumbai  site_5112 2020-11-19          103.0           67.0   \n",
       "7400   Mumbai  site_5104 2020-11-19          174.0           85.0   \n",
       "11632  Mumbai  site_5120 2020-11-19           75.0           46.0   \n",
       "16048  Mumbai  site_5102 2020-11-19           99.0           66.0   \n",
       "5560   Mumbai  site_5113 2020-11-19          126.0           73.0   \n",
       "\n",
       "       PM2.5_maximum  PM10_average  PM10_minimum  PM10_maximum  NO2_average  \\\n",
       "17111           84.0          89.0          48.0         122.0         24.0   \n",
       "8463            98.0         106.0          70.0         171.0         22.0   \n",
       "11959           93.0          86.0          48.0         120.0         11.0   \n",
       "7911            63.0          74.0          44.0         109.0         23.0   \n",
       "5151             NaN           NaN           NaN           NaN          NaN   \n",
       "...              ...           ...           ...           ...          ...   \n",
       "1512           158.0          93.0          60.0         111.0         32.0   \n",
       "7400           386.0         169.0         103.0         278.0         97.0   \n",
       "11632          122.0          77.0          50.0         107.0         75.0   \n",
       "16048          191.0           NaN           NaN           NaN         29.0   \n",
       "5560           208.0          78.0          52.0         105.0          3.0   \n",
       "\n",
       "       ...  SO2_minimum  SO2_maximum  CO_average  CO_minimum  CO_maximum  \\\n",
       "17111  ...          NaN          NaN        31.0        23.0        39.0   \n",
       "8463   ...         24.0         54.0        91.0        85.0       101.0   \n",
       "11959  ...          NaN          NaN        33.0        30.0        35.0   \n",
       "7911   ...          8.0         26.0        45.0        30.0        52.0   \n",
       "5151   ...          NaN          NaN        73.0         2.0       117.0   \n",
       "...    ...          ...          ...         ...         ...         ...   \n",
       "1512   ...          2.0          7.0        44.0        35.0        63.0   \n",
       "7400   ...          6.0         18.0        50.0        24.0        76.0   \n",
       "11632  ...         20.0         58.0        55.0        43.0        95.0   \n",
       "16048  ...          NaN          NaN        32.0        19.0        43.0   \n",
       "5560   ...          9.0         12.0        30.0        25.0        36.0   \n",
       "\n",
       "       OZONE_average  OZONE_minimum  OZONE_maximum  Total Cases  \\\n",
       "17111           82.0           27.0          151.0        87360   \n",
       "8463            53.0            5.0           94.0        87360   \n",
       "11959           55.0           32.0           68.0        87360   \n",
       "7911            12.0            5.0           17.0        87360   \n",
       "5151            55.0           32.0           76.0        87360   \n",
       "...              ...            ...            ...          ...   \n",
       "1512            89.0           14.0          135.0       272455   \n",
       "7400            48.0            6.0          100.0       272455   \n",
       "11632            7.0            6.0            8.0       272455   \n",
       "16048            NaN            NaN            NaN       272455   \n",
       "5560             5.0            3.0            7.0       272455   \n",
       "\n",
       "       Total_Day_Cases  \n",
       "17111           2199.0  \n",
       "8463            2199.0  \n",
       "11959           2199.0  \n",
       "7911            2199.0  \n",
       "5151            2199.0  \n",
       "...                ...  \n",
       "1512             924.0  \n",
       "7400             924.0  \n",
       "11632            924.0  \n",
       "16048            924.0  \n",
       "5560             924.0  \n",
       "\n",
       "[7947 rows x 23 columns]"
      ]
     },
     "execution_count": 1937,
     "metadata": {},
     "output_type": "execute_result"
    }
   ],
   "source": [
    "major_cities_df.drop(columns = ['Unnamed: 0','State','Station_Name','NH3_average','NH3_minimum','NH3_maximum'],inplace=True)\n",
    "pollutant_cols=list(major_cities_df.drop(columns=[\"City\",\"Station_ID\",\"Date\",\"Total Cases\",\"Total_Day_Cases\"]).columns)\n",
    "major_cities_df.dropna(subset=pollutant_cols,how=\"all\",axis=0,inplace=True)\n",
    "major_cities_df.dropna(subset=[\"Total Cases\"],how=\"all\",axis=0,inplace=True)\n",
    "major_cities_df"
   ]
  },
  {
   "cell_type": "code",
   "execution_count": 1938,
   "metadata": {},
   "outputs": [],
   "source": [
    "final_df=major_cities_df.groupby(by=[\"City\",\"Date\"]).count().reset_index()[[\"City\",\"Date\"]]"
   ]
  },
  {
   "cell_type": "code",
   "execution_count": 1939,
   "metadata": {},
   "outputs": [],
   "source": [
    "final_df[\"Unique\"]=final_df[\"City\"]+\"|\"+final_df[\"Date\"].astype('str')\n",
    "major_cities_df[\"Unique\"]=major_cities_df[\"City\"]+\"|\"+major_cities_df[\"Date\"].astype('str')"
   ]
  },
  {
   "cell_type": "code",
   "execution_count": 1940,
   "metadata": {},
   "outputs": [
    {
     "data": {
      "text/plain": [
       "Index(['City', 'Station_ID', 'Date', 'PM2.5_average', 'PM2.5_minimum',\n",
       "       'PM2.5_maximum', 'PM10_average', 'PM10_minimum', 'PM10_maximum',\n",
       "       'NO2_average', 'NO2_minimum', 'NO2_maximum', 'SO2_average',\n",
       "       'SO2_minimum', 'SO2_maximum', 'CO_average', 'CO_minimum', 'CO_maximum',\n",
       "       'OZONE_average', 'OZONE_minimum', 'OZONE_maximum', 'Total Cases',\n",
       "       'Total_Day_Cases', 'Unique'],\n",
       "      dtype='object')"
      ]
     },
     "execution_count": 1940,
     "metadata": {},
     "output_type": "execute_result"
    }
   ],
   "source": [
    "major_cities_df.columns"
   ]
  },
  {
   "cell_type": "code",
   "execution_count": 1941,
   "metadata": {},
   "outputs": [
    {
     "data": {
      "text/html": [
       "<div>\n",
       "<style scoped>\n",
       "    .dataframe tbody tr th:only-of-type {\n",
       "        vertical-align: middle;\n",
       "    }\n",
       "\n",
       "    .dataframe tbody tr th {\n",
       "        vertical-align: top;\n",
       "    }\n",
       "\n",
       "    .dataframe thead th {\n",
       "        text-align: right;\n",
       "    }\n",
       "</style>\n",
       "<table border=\"1\" class=\"dataframe\">\n",
       "  <thead>\n",
       "    <tr style=\"text-align: right;\">\n",
       "      <th></th>\n",
       "      <th>City</th>\n",
       "      <th>Date</th>\n",
       "      <th>Unique</th>\n",
       "    </tr>\n",
       "  </thead>\n",
       "  <tbody>\n",
       "    <tr>\n",
       "      <th>0</th>\n",
       "      <td>Chennai</td>\n",
       "      <td>2020-06-29</td>\n",
       "      <td>Chennai|2020-06-29</td>\n",
       "    </tr>\n",
       "    <tr>\n",
       "      <th>1</th>\n",
       "      <td>Chennai</td>\n",
       "      <td>2020-06-30</td>\n",
       "      <td>Chennai|2020-06-30</td>\n",
       "    </tr>\n",
       "    <tr>\n",
       "      <th>2</th>\n",
       "      <td>Chennai</td>\n",
       "      <td>2020-07-01</td>\n",
       "      <td>Chennai|2020-07-01</td>\n",
       "    </tr>\n",
       "    <tr>\n",
       "      <th>3</th>\n",
       "      <td>Chennai</td>\n",
       "      <td>2020-07-02</td>\n",
       "      <td>Chennai|2020-07-02</td>\n",
       "    </tr>\n",
       "    <tr>\n",
       "      <th>4</th>\n",
       "      <td>Chennai</td>\n",
       "      <td>2020-07-03</td>\n",
       "      <td>Chennai|2020-07-03</td>\n",
       "    </tr>\n",
       "    <tr>\n",
       "      <th>...</th>\n",
       "      <td>...</td>\n",
       "      <td>...</td>\n",
       "      <td>...</td>\n",
       "    </tr>\n",
       "    <tr>\n",
       "      <th>715</th>\n",
       "      <td>Mumbai</td>\n",
       "      <td>2020-11-15</td>\n",
       "      <td>Mumbai|2020-11-15</td>\n",
       "    </tr>\n",
       "    <tr>\n",
       "      <th>716</th>\n",
       "      <td>Mumbai</td>\n",
       "      <td>2020-11-16</td>\n",
       "      <td>Mumbai|2020-11-16</td>\n",
       "    </tr>\n",
       "    <tr>\n",
       "      <th>717</th>\n",
       "      <td>Mumbai</td>\n",
       "      <td>2020-11-17</td>\n",
       "      <td>Mumbai|2020-11-17</td>\n",
       "    </tr>\n",
       "    <tr>\n",
       "      <th>718</th>\n",
       "      <td>Mumbai</td>\n",
       "      <td>2020-11-18</td>\n",
       "      <td>Mumbai|2020-11-18</td>\n",
       "    </tr>\n",
       "    <tr>\n",
       "      <th>719</th>\n",
       "      <td>Mumbai</td>\n",
       "      <td>2020-11-19</td>\n",
       "      <td>Mumbai|2020-11-19</td>\n",
       "    </tr>\n",
       "  </tbody>\n",
       "</table>\n",
       "<p>720 rows × 3 columns</p>\n",
       "</div>"
      ],
      "text/plain": [
       "        City       Date              Unique\n",
       "0    Chennai 2020-06-29  Chennai|2020-06-29\n",
       "1    Chennai 2020-06-30  Chennai|2020-06-30\n",
       "2    Chennai 2020-07-01  Chennai|2020-07-01\n",
       "3    Chennai 2020-07-02  Chennai|2020-07-02\n",
       "4    Chennai 2020-07-03  Chennai|2020-07-03\n",
       "..       ...        ...                 ...\n",
       "715   Mumbai 2020-11-15   Mumbai|2020-11-15\n",
       "716   Mumbai 2020-11-16   Mumbai|2020-11-16\n",
       "717   Mumbai 2020-11-17   Mumbai|2020-11-17\n",
       "718   Mumbai 2020-11-18   Mumbai|2020-11-18\n",
       "719   Mumbai 2020-11-19   Mumbai|2020-11-19\n",
       "\n",
       "[720 rows x 3 columns]"
      ]
     },
     "execution_count": 1941,
     "metadata": {},
     "output_type": "execute_result"
    }
   ],
   "source": [
    "final_df"
   ]
  },
  {
   "cell_type": "code",
   "execution_count": 1942,
   "metadata": {},
   "outputs": [
    {
     "data": {
      "text/plain": [
       "Index(['PM10_average', 'PM10_minimum', 'PM10_maximum'], dtype='object')"
      ]
     },
     "execution_count": 1942,
     "metadata": {},
     "output_type": "execute_result"
    }
   ],
   "source": [
    "cols_with_na=major_cities_df.groupby(by=[\"Unique\"]).max().columns[major_cities_df.groupby(by=[\"Unique\"]).max().isna().any()]\n",
    "cols_with_na"
   ]
  },
  {
   "cell_type": "code",
   "execution_count": 1943,
   "metadata": {},
   "outputs": [],
   "source": [
    "major_cities_df.drop(columns=cols_with_na,inplace=True)"
   ]
  },
  {
   "cell_type": "code",
   "execution_count": 1944,
   "metadata": {},
   "outputs": [],
   "source": [
    "for col in major_cities_df.select_dtypes(include=[np.number]).columns:\n",
    "    groupby_citydate=major_cities_df.groupby(by=[\"Unique\"])\n",
    "    if(col.find('maximum')!=-1):\n",
    "        group_df=pd.DataFrame(groupby_citydate.max()[col])\n",
    "        final_df=final_df.join(group_df,on=\"Unique\")\n",
    "    elif(col.find('minimum')!=-1):\n",
    "        group_df=pd.DataFrame(groupby_citydate.min()[col])\n",
    "        final_df=final_df.join(group_df,on=\"Unique\")\n",
    "    else:\n",
    "        group_df=pd.DataFrame(groupby_citydate.mean()[col])\n",
    "        final_df=final_df.join(group_df,on=\"Unique\")\n",
    "    #else:\n",
    "        #group_df=pd.DataFrame(groupby_citydate.mean()[col])\n",
    "        #final_df=final_df.join(group_df,on=\"Unique\")"
   ]
  },
  {
   "cell_type": "code",
   "execution_count": 1945,
   "metadata": {},
   "outputs": [
    {
     "data": {
      "text/plain": [
       "0     2020-06-29\n",
       "576   2020-06-29\n",
       "144   2020-06-29\n",
       "432   2020-06-29\n",
       "288   2020-06-29\n",
       "         ...    \n",
       "575   2020-11-19\n",
       "287   2020-11-19\n",
       "143   2020-11-19\n",
       "431   2020-11-19\n",
       "719   2020-11-19\n",
       "Name: Date, Length: 720, dtype: datetime64[ns]"
      ]
     },
     "execution_count": 1945,
     "metadata": {},
     "output_type": "execute_result"
    }
   ],
   "source": [
    "final_df[\"Date\"].sort_values()"
   ]
  },
  {
   "cell_type": "code",
   "execution_count": 1972,
   "metadata": {},
   "outputs": [
    {
     "data": {
      "text/html": [
       "<div>\n",
       "<style scoped>\n",
       "    .dataframe tbody tr th:only-of-type {\n",
       "        vertical-align: middle;\n",
       "    }\n",
       "\n",
       "    .dataframe tbody tr th {\n",
       "        vertical-align: top;\n",
       "    }\n",
       "\n",
       "    .dataframe thead th {\n",
       "        text-align: right;\n",
       "    }\n",
       "</style>\n",
       "<table border=\"1\" class=\"dataframe\">\n",
       "  <thead>\n",
       "    <tr style=\"text-align: right;\">\n",
       "      <th></th>\n",
       "      <th>City</th>\n",
       "      <th>Date</th>\n",
       "      <th>Unique</th>\n",
       "      <th>PM2.5_average</th>\n",
       "      <th>PM2.5_minimum</th>\n",
       "      <th>PM2.5_maximum</th>\n",
       "      <th>NO2_average</th>\n",
       "      <th>NO2_minimum</th>\n",
       "      <th>NO2_maximum</th>\n",
       "      <th>SO2_average</th>\n",
       "      <th>SO2_minimum</th>\n",
       "      <th>SO2_maximum</th>\n",
       "      <th>CO_average</th>\n",
       "      <th>CO_minimum</th>\n",
       "      <th>CO_maximum</th>\n",
       "      <th>OZONE_average</th>\n",
       "      <th>OZONE_minimum</th>\n",
       "      <th>OZONE_maximum</th>\n",
       "      <th>Total_Day_Cases</th>\n",
       "    </tr>\n",
       "  </thead>\n",
       "  <tbody>\n",
       "    <tr>\n",
       "      <th>0</th>\n",
       "      <td>Chennai</td>\n",
       "      <td>2020-06-29</td>\n",
       "      <td>Chennai|2020-06-29</td>\n",
       "      <td>24.000000</td>\n",
       "      <td>3.0</td>\n",
       "      <td>97.0</td>\n",
       "      <td>12.000000</td>\n",
       "      <td>1.0</td>\n",
       "      <td>101.0</td>\n",
       "      <td>10.333333</td>\n",
       "      <td>1.0</td>\n",
       "      <td>101.0</td>\n",
       "      <td>30.666667</td>\n",
       "      <td>5.0</td>\n",
       "      <td>58.0</td>\n",
       "      <td>52.666667</td>\n",
       "      <td>17.0</td>\n",
       "      <td>252.0</td>\n",
       "      <td>2207.0</td>\n",
       "    </tr>\n",
       "    <tr>\n",
       "      <th>1</th>\n",
       "      <td>Chennai</td>\n",
       "      <td>2020-06-30</td>\n",
       "      <td>Chennai|2020-06-30</td>\n",
       "      <td>25.500000</td>\n",
       "      <td>5.0</td>\n",
       "      <td>71.0</td>\n",
       "      <td>15.000000</td>\n",
       "      <td>2.0</td>\n",
       "      <td>55.0</td>\n",
       "      <td>13.000000</td>\n",
       "      <td>1.0</td>\n",
       "      <td>63.0</td>\n",
       "      <td>32.000000</td>\n",
       "      <td>6.0</td>\n",
       "      <td>61.0</td>\n",
       "      <td>44.500000</td>\n",
       "      <td>18.0</td>\n",
       "      <td>121.0</td>\n",
       "      <td>2358.0</td>\n",
       "    </tr>\n",
       "    <tr>\n",
       "      <th>2</th>\n",
       "      <td>Chennai</td>\n",
       "      <td>2020-07-01</td>\n",
       "      <td>Chennai|2020-07-01</td>\n",
       "      <td>30.000000</td>\n",
       "      <td>4.0</td>\n",
       "      <td>66.0</td>\n",
       "      <td>23.500000</td>\n",
       "      <td>8.0</td>\n",
       "      <td>65.0</td>\n",
       "      <td>7.500000</td>\n",
       "      <td>1.0</td>\n",
       "      <td>67.0</td>\n",
       "      <td>36.500000</td>\n",
       "      <td>2.0</td>\n",
       "      <td>62.0</td>\n",
       "      <td>62.000000</td>\n",
       "      <td>5.0</td>\n",
       "      <td>145.0</td>\n",
       "      <td>2206.0</td>\n",
       "    </tr>\n",
       "    <tr>\n",
       "      <th>3</th>\n",
       "      <td>Chennai</td>\n",
       "      <td>2020-07-02</td>\n",
       "      <td>Chennai|2020-07-02</td>\n",
       "      <td>22.000000</td>\n",
       "      <td>8.0</td>\n",
       "      <td>59.0</td>\n",
       "      <td>12.000000</td>\n",
       "      <td>8.0</td>\n",
       "      <td>15.0</td>\n",
       "      <td>25.000000</td>\n",
       "      <td>3.0</td>\n",
       "      <td>90.0</td>\n",
       "      <td>38.500000</td>\n",
       "      <td>28.0</td>\n",
       "      <td>101.0</td>\n",
       "      <td>36.500000</td>\n",
       "      <td>3.0</td>\n",
       "      <td>72.0</td>\n",
       "      <td>2065.0</td>\n",
       "    </tr>\n",
       "    <tr>\n",
       "      <th>4</th>\n",
       "      <td>Chennai</td>\n",
       "      <td>2020-07-03</td>\n",
       "      <td>Chennai|2020-07-03</td>\n",
       "      <td>16.666667</td>\n",
       "      <td>1.0</td>\n",
       "      <td>82.0</td>\n",
       "      <td>12.333333</td>\n",
       "      <td>1.0</td>\n",
       "      <td>53.0</td>\n",
       "      <td>7.333333</td>\n",
       "      <td>1.0</td>\n",
       "      <td>58.0</td>\n",
       "      <td>35.000000</td>\n",
       "      <td>10.0</td>\n",
       "      <td>58.0</td>\n",
       "      <td>65.000000</td>\n",
       "      <td>2.0</td>\n",
       "      <td>260.0</td>\n",
       "      <td>2091.0</td>\n",
       "    </tr>\n",
       "    <tr>\n",
       "      <th>...</th>\n",
       "      <td>...</td>\n",
       "      <td>...</td>\n",
       "      <td>...</td>\n",
       "      <td>...</td>\n",
       "      <td>...</td>\n",
       "      <td>...</td>\n",
       "      <td>...</td>\n",
       "      <td>...</td>\n",
       "      <td>...</td>\n",
       "      <td>...</td>\n",
       "      <td>...</td>\n",
       "      <td>...</td>\n",
       "      <td>...</td>\n",
       "      <td>...</td>\n",
       "      <td>...</td>\n",
       "      <td>...</td>\n",
       "      <td>...</td>\n",
       "      <td>...</td>\n",
       "      <td>...</td>\n",
       "    </tr>\n",
       "    <tr>\n",
       "      <th>715</th>\n",
       "      <td>Mumbai</td>\n",
       "      <td>2020-11-15</td>\n",
       "      <td>Mumbai|2020-11-15</td>\n",
       "      <td>139.000000</td>\n",
       "      <td>28.0</td>\n",
       "      <td>484.0</td>\n",
       "      <td>31.500000</td>\n",
       "      <td>1.0</td>\n",
       "      <td>135.0</td>\n",
       "      <td>11.000000</td>\n",
       "      <td>1.0</td>\n",
       "      <td>33.0</td>\n",
       "      <td>60.437500</td>\n",
       "      <td>1.0</td>\n",
       "      <td>127.0</td>\n",
       "      <td>37.133333</td>\n",
       "      <td>2.0</td>\n",
       "      <td>246.0</td>\n",
       "      <td>577.0</td>\n",
       "    </tr>\n",
       "    <tr>\n",
       "      <th>716</th>\n",
       "      <td>Mumbai</td>\n",
       "      <td>2020-11-16</td>\n",
       "      <td>Mumbai|2020-11-16</td>\n",
       "      <td>139.916667</td>\n",
       "      <td>33.0</td>\n",
       "      <td>433.0</td>\n",
       "      <td>41.333333</td>\n",
       "      <td>1.0</td>\n",
       "      <td>157.0</td>\n",
       "      <td>12.153846</td>\n",
       "      <td>1.0</td>\n",
       "      <td>47.0</td>\n",
       "      <td>59.375000</td>\n",
       "      <td>1.0</td>\n",
       "      <td>119.0</td>\n",
       "      <td>40.866667</td>\n",
       "      <td>3.0</td>\n",
       "      <td>146.0</td>\n",
       "      <td>409.0</td>\n",
       "    </tr>\n",
       "    <tr>\n",
       "      <th>717</th>\n",
       "      <td>Mumbai</td>\n",
       "      <td>2020-11-17</td>\n",
       "      <td>Mumbai|2020-11-17</td>\n",
       "      <td>138.357143</td>\n",
       "      <td>41.0</td>\n",
       "      <td>459.0</td>\n",
       "      <td>41.125000</td>\n",
       "      <td>1.0</td>\n",
       "      <td>157.0</td>\n",
       "      <td>12.071429</td>\n",
       "      <td>1.0</td>\n",
       "      <td>48.0</td>\n",
       "      <td>58.187500</td>\n",
       "      <td>17.0</td>\n",
       "      <td>113.0</td>\n",
       "      <td>41.800000</td>\n",
       "      <td>3.0</td>\n",
       "      <td>222.0</td>\n",
       "      <td>541.0</td>\n",
       "    </tr>\n",
       "    <tr>\n",
       "      <th>718</th>\n",
       "      <td>Mumbai</td>\n",
       "      <td>2020-11-18</td>\n",
       "      <td>Mumbai|2020-11-18</td>\n",
       "      <td>138.400000</td>\n",
       "      <td>52.0</td>\n",
       "      <td>379.0</td>\n",
       "      <td>43.062500</td>\n",
       "      <td>1.0</td>\n",
       "      <td>133.0</td>\n",
       "      <td>11.357143</td>\n",
       "      <td>1.0</td>\n",
       "      <td>50.0</td>\n",
       "      <td>58.687500</td>\n",
       "      <td>13.0</td>\n",
       "      <td>113.0</td>\n",
       "      <td>41.800000</td>\n",
       "      <td>3.0</td>\n",
       "      <td>216.0</td>\n",
       "      <td>871.0</td>\n",
       "    </tr>\n",
       "    <tr>\n",
       "      <th>719</th>\n",
       "      <td>Mumbai</td>\n",
       "      <td>2020-11-19</td>\n",
       "      <td>Mumbai|2020-11-19</td>\n",
       "      <td>125.750000</td>\n",
       "      <td>38.0</td>\n",
       "      <td>386.0</td>\n",
       "      <td>45.937500</td>\n",
       "      <td>1.0</td>\n",
       "      <td>176.0</td>\n",
       "      <td>11.857143</td>\n",
       "      <td>1.0</td>\n",
       "      <td>58.0</td>\n",
       "      <td>53.625000</td>\n",
       "      <td>7.0</td>\n",
       "      <td>107.0</td>\n",
       "      <td>44.533333</td>\n",
       "      <td>3.0</td>\n",
       "      <td>221.0</td>\n",
       "      <td>924.0</td>\n",
       "    </tr>\n",
       "  </tbody>\n",
       "</table>\n",
       "<p>720 rows × 19 columns</p>\n",
       "</div>"
      ],
      "text/plain": [
       "        City       Date              Unique  PM2.5_average  PM2.5_minimum  \\\n",
       "0    Chennai 2020-06-29  Chennai|2020-06-29      24.000000            3.0   \n",
       "1    Chennai 2020-06-30  Chennai|2020-06-30      25.500000            5.0   \n",
       "2    Chennai 2020-07-01  Chennai|2020-07-01      30.000000            4.0   \n",
       "3    Chennai 2020-07-02  Chennai|2020-07-02      22.000000            8.0   \n",
       "4    Chennai 2020-07-03  Chennai|2020-07-03      16.666667            1.0   \n",
       "..       ...        ...                 ...            ...            ...   \n",
       "715   Mumbai 2020-11-15   Mumbai|2020-11-15     139.000000           28.0   \n",
       "716   Mumbai 2020-11-16   Mumbai|2020-11-16     139.916667           33.0   \n",
       "717   Mumbai 2020-11-17   Mumbai|2020-11-17     138.357143           41.0   \n",
       "718   Mumbai 2020-11-18   Mumbai|2020-11-18     138.400000           52.0   \n",
       "719   Mumbai 2020-11-19   Mumbai|2020-11-19     125.750000           38.0   \n",
       "\n",
       "     PM2.5_maximum  NO2_average  NO2_minimum  NO2_maximum  SO2_average  \\\n",
       "0             97.0    12.000000          1.0        101.0    10.333333   \n",
       "1             71.0    15.000000          2.0         55.0    13.000000   \n",
       "2             66.0    23.500000          8.0         65.0     7.500000   \n",
       "3             59.0    12.000000          8.0         15.0    25.000000   \n",
       "4             82.0    12.333333          1.0         53.0     7.333333   \n",
       "..             ...          ...          ...          ...          ...   \n",
       "715          484.0    31.500000          1.0        135.0    11.000000   \n",
       "716          433.0    41.333333          1.0        157.0    12.153846   \n",
       "717          459.0    41.125000          1.0        157.0    12.071429   \n",
       "718          379.0    43.062500          1.0        133.0    11.357143   \n",
       "719          386.0    45.937500          1.0        176.0    11.857143   \n",
       "\n",
       "     SO2_minimum  SO2_maximum  CO_average  CO_minimum  CO_maximum  \\\n",
       "0            1.0        101.0   30.666667         5.0        58.0   \n",
       "1            1.0         63.0   32.000000         6.0        61.0   \n",
       "2            1.0         67.0   36.500000         2.0        62.0   \n",
       "3            3.0         90.0   38.500000        28.0       101.0   \n",
       "4            1.0         58.0   35.000000        10.0        58.0   \n",
       "..           ...          ...         ...         ...         ...   \n",
       "715          1.0         33.0   60.437500         1.0       127.0   \n",
       "716          1.0         47.0   59.375000         1.0       119.0   \n",
       "717          1.0         48.0   58.187500        17.0       113.0   \n",
       "718          1.0         50.0   58.687500        13.0       113.0   \n",
       "719          1.0         58.0   53.625000         7.0       107.0   \n",
       "\n",
       "     OZONE_average  OZONE_minimum  OZONE_maximum  Total_Day_Cases  \n",
       "0        52.666667           17.0          252.0           2207.0  \n",
       "1        44.500000           18.0          121.0           2358.0  \n",
       "2        62.000000            5.0          145.0           2206.0  \n",
       "3        36.500000            3.0           72.0           2065.0  \n",
       "4        65.000000            2.0          260.0           2091.0  \n",
       "..             ...            ...            ...              ...  \n",
       "715      37.133333            2.0          246.0            577.0  \n",
       "716      40.866667            3.0          146.0            409.0  \n",
       "717      41.800000            3.0          222.0            541.0  \n",
       "718      41.800000            3.0          216.0            871.0  \n",
       "719      44.533333            3.0          221.0            924.0  \n",
       "\n",
       "[720 rows x 19 columns]"
      ]
     },
     "execution_count": 1972,
     "metadata": {},
     "output_type": "execute_result"
    }
   ],
   "source": [
    "final_df"
   ]
  },
  {
   "cell_type": "code",
   "execution_count": 1946,
   "metadata": {
    "scrolled": true
   },
   "outputs": [
    {
     "data": {
      "text/plain": [
       "Index([], dtype='object')"
      ]
     },
     "execution_count": 1946,
     "metadata": {},
     "output_type": "execute_result"
    }
   ],
   "source": [
    "cols_with_na=final_df.groupby(by=[\"Unique\"]).max().columns[final_df.groupby(by=[\"Unique\"]).max().isna().any()]\n",
    "cols_with_na"
   ]
  },
  {
   "cell_type": "code",
   "execution_count": 1947,
   "metadata": {},
   "outputs": [],
   "source": [
    "#sns.pairplot(data = city_df)"
   ]
  },
  {
   "cell_type": "code",
   "execution_count": 1948,
   "metadata": {},
   "outputs": [
    {
     "data": {
      "text/html": [
       "<div>\n",
       "<style scoped>\n",
       "    .dataframe tbody tr th:only-of-type {\n",
       "        vertical-align: middle;\n",
       "    }\n",
       "\n",
       "    .dataframe tbody tr th {\n",
       "        vertical-align: top;\n",
       "    }\n",
       "\n",
       "    .dataframe thead th {\n",
       "        text-align: right;\n",
       "    }\n",
       "</style>\n",
       "<table border=\"1\" class=\"dataframe\">\n",
       "  <thead>\n",
       "    <tr style=\"text-align: right;\">\n",
       "      <th></th>\n",
       "      <th>PM2.5_average</th>\n",
       "      <th>PM2.5_minimum</th>\n",
       "      <th>PM2.5_maximum</th>\n",
       "      <th>NO2_average</th>\n",
       "      <th>NO2_minimum</th>\n",
       "      <th>NO2_maximum</th>\n",
       "      <th>SO2_average</th>\n",
       "      <th>SO2_minimum</th>\n",
       "      <th>SO2_maximum</th>\n",
       "      <th>CO_average</th>\n",
       "      <th>CO_minimum</th>\n",
       "      <th>CO_maximum</th>\n",
       "      <th>OZONE_average</th>\n",
       "      <th>OZONE_minimum</th>\n",
       "      <th>OZONE_maximum</th>\n",
       "      <th>Total_Day_Cases</th>\n",
       "    </tr>\n",
       "  </thead>\n",
       "  <tbody>\n",
       "    <tr>\n",
       "      <th>PM2.5_average</th>\n",
       "      <td>1.000000</td>\n",
       "      <td>0.710142</td>\n",
       "      <td>0.753183</td>\n",
       "      <td>0.863517</td>\n",
       "      <td>0.331769</td>\n",
       "      <td>0.690871</td>\n",
       "      <td>0.472753</td>\n",
       "      <td>-0.013270</td>\n",
       "      <td>0.455844</td>\n",
       "      <td>0.804246</td>\n",
       "      <td>0.047890</td>\n",
       "      <td>0.629907</td>\n",
       "      <td>0.370858</td>\n",
       "      <td>-0.131573</td>\n",
       "      <td>0.659099</td>\n",
       "      <td>0.669215</td>\n",
       "    </tr>\n",
       "    <tr>\n",
       "      <th>PM2.5_minimum</th>\n",
       "      <td>0.710142</td>\n",
       "      <td>1.000000</td>\n",
       "      <td>0.429995</td>\n",
       "      <td>0.658680</td>\n",
       "      <td>0.403302</td>\n",
       "      <td>0.424606</td>\n",
       "      <td>0.330669</td>\n",
       "      <td>0.153983</td>\n",
       "      <td>0.260585</td>\n",
       "      <td>0.442487</td>\n",
       "      <td>0.185022</td>\n",
       "      <td>0.278923</td>\n",
       "      <td>0.295028</td>\n",
       "      <td>0.021599</td>\n",
       "      <td>0.347099</td>\n",
       "      <td>0.266061</td>\n",
       "    </tr>\n",
       "    <tr>\n",
       "      <th>PM2.5_maximum</th>\n",
       "      <td>0.753183</td>\n",
       "      <td>0.429995</td>\n",
       "      <td>1.000000</td>\n",
       "      <td>0.655100</td>\n",
       "      <td>0.157978</td>\n",
       "      <td>0.649077</td>\n",
       "      <td>0.326291</td>\n",
       "      <td>-0.129203</td>\n",
       "      <td>0.456095</td>\n",
       "      <td>0.748367</td>\n",
       "      <td>0.017947</td>\n",
       "      <td>0.683202</td>\n",
       "      <td>0.452697</td>\n",
       "      <td>-0.207623</td>\n",
       "      <td>0.721682</td>\n",
       "      <td>0.560290</td>\n",
       "    </tr>\n",
       "    <tr>\n",
       "      <th>NO2_average</th>\n",
       "      <td>0.863517</td>\n",
       "      <td>0.658680</td>\n",
       "      <td>0.655100</td>\n",
       "      <td>1.000000</td>\n",
       "      <td>0.439185</td>\n",
       "      <td>0.789064</td>\n",
       "      <td>0.360890</td>\n",
       "      <td>-0.032409</td>\n",
       "      <td>0.435539</td>\n",
       "      <td>0.682940</td>\n",
       "      <td>0.008338</td>\n",
       "      <td>0.546471</td>\n",
       "      <td>0.270628</td>\n",
       "      <td>-0.154000</td>\n",
       "      <td>0.586514</td>\n",
       "      <td>0.473738</td>\n",
       "    </tr>\n",
       "    <tr>\n",
       "      <th>NO2_minimum</th>\n",
       "      <td>0.331769</td>\n",
       "      <td>0.403302</td>\n",
       "      <td>0.157978</td>\n",
       "      <td>0.439185</td>\n",
       "      <td>1.000000</td>\n",
       "      <td>0.164076</td>\n",
       "      <td>-0.021999</td>\n",
       "      <td>0.177818</td>\n",
       "      <td>0.029013</td>\n",
       "      <td>0.194422</td>\n",
       "      <td>0.153999</td>\n",
       "      <td>0.060879</td>\n",
       "      <td>0.270491</td>\n",
       "      <td>0.138165</td>\n",
       "      <td>0.123949</td>\n",
       "      <td>0.026345</td>\n",
       "    </tr>\n",
       "    <tr>\n",
       "      <th>NO2_maximum</th>\n",
       "      <td>0.690871</td>\n",
       "      <td>0.424606</td>\n",
       "      <td>0.649077</td>\n",
       "      <td>0.789064</td>\n",
       "      <td>0.164076</td>\n",
       "      <td>1.000000</td>\n",
       "      <td>0.367541</td>\n",
       "      <td>-0.101775</td>\n",
       "      <td>0.472511</td>\n",
       "      <td>0.681528</td>\n",
       "      <td>-0.043802</td>\n",
       "      <td>0.621732</td>\n",
       "      <td>0.232073</td>\n",
       "      <td>-0.227207</td>\n",
       "      <td>0.654492</td>\n",
       "      <td>0.555128</td>\n",
       "    </tr>\n",
       "    <tr>\n",
       "      <th>SO2_average</th>\n",
       "      <td>0.472753</td>\n",
       "      <td>0.330669</td>\n",
       "      <td>0.326291</td>\n",
       "      <td>0.360890</td>\n",
       "      <td>-0.021999</td>\n",
       "      <td>0.367541</td>\n",
       "      <td>1.000000</td>\n",
       "      <td>0.286812</td>\n",
       "      <td>0.644587</td>\n",
       "      <td>0.339634</td>\n",
       "      <td>-0.077160</td>\n",
       "      <td>0.303621</td>\n",
       "      <td>-0.064160</td>\n",
       "      <td>-0.209767</td>\n",
       "      <td>0.308306</td>\n",
       "      <td>0.476039</td>\n",
       "    </tr>\n",
       "    <tr>\n",
       "      <th>SO2_minimum</th>\n",
       "      <td>-0.013270</td>\n",
       "      <td>0.153983</td>\n",
       "      <td>-0.129203</td>\n",
       "      <td>-0.032409</td>\n",
       "      <td>0.177818</td>\n",
       "      <td>-0.101775</td>\n",
       "      <td>0.286812</td>\n",
       "      <td>1.000000</td>\n",
       "      <td>-0.036529</td>\n",
       "      <td>-0.105289</td>\n",
       "      <td>0.140868</td>\n",
       "      <td>-0.162872</td>\n",
       "      <td>-0.061141</td>\n",
       "      <td>0.110554</td>\n",
       "      <td>-0.132743</td>\n",
       "      <td>-0.143474</td>\n",
       "    </tr>\n",
       "    <tr>\n",
       "      <th>SO2_maximum</th>\n",
       "      <td>0.455844</td>\n",
       "      <td>0.260585</td>\n",
       "      <td>0.456095</td>\n",
       "      <td>0.435539</td>\n",
       "      <td>0.029013</td>\n",
       "      <td>0.472511</td>\n",
       "      <td>0.644587</td>\n",
       "      <td>-0.036529</td>\n",
       "      <td>1.000000</td>\n",
       "      <td>0.475530</td>\n",
       "      <td>-0.076494</td>\n",
       "      <td>0.468297</td>\n",
       "      <td>0.155519</td>\n",
       "      <td>-0.163816</td>\n",
       "      <td>0.463314</td>\n",
       "      <td>0.448578</td>\n",
       "    </tr>\n",
       "    <tr>\n",
       "      <th>CO_average</th>\n",
       "      <td>0.804246</td>\n",
       "      <td>0.442487</td>\n",
       "      <td>0.748367</td>\n",
       "      <td>0.682940</td>\n",
       "      <td>0.194422</td>\n",
       "      <td>0.681528</td>\n",
       "      <td>0.339634</td>\n",
       "      <td>-0.105289</td>\n",
       "      <td>0.475530</td>\n",
       "      <td>1.000000</td>\n",
       "      <td>0.111629</td>\n",
       "      <td>0.852149</td>\n",
       "      <td>0.402706</td>\n",
       "      <td>-0.148653</td>\n",
       "      <td>0.746583</td>\n",
       "      <td>0.699713</td>\n",
       "    </tr>\n",
       "    <tr>\n",
       "      <th>CO_minimum</th>\n",
       "      <td>0.047890</td>\n",
       "      <td>0.185022</td>\n",
       "      <td>0.017947</td>\n",
       "      <td>0.008338</td>\n",
       "      <td>0.153999</td>\n",
       "      <td>-0.043802</td>\n",
       "      <td>-0.077160</td>\n",
       "      <td>0.140868</td>\n",
       "      <td>-0.076494</td>\n",
       "      <td>0.111629</td>\n",
       "      <td>1.000000</td>\n",
       "      <td>-0.022604</td>\n",
       "      <td>0.265637</td>\n",
       "      <td>0.278550</td>\n",
       "      <td>0.079463</td>\n",
       "      <td>-0.100695</td>\n",
       "    </tr>\n",
       "    <tr>\n",
       "      <th>CO_maximum</th>\n",
       "      <td>0.629907</td>\n",
       "      <td>0.278923</td>\n",
       "      <td>0.683202</td>\n",
       "      <td>0.546471</td>\n",
       "      <td>0.060879</td>\n",
       "      <td>0.621732</td>\n",
       "      <td>0.303621</td>\n",
       "      <td>-0.162872</td>\n",
       "      <td>0.468297</td>\n",
       "      <td>0.852149</td>\n",
       "      <td>-0.022604</td>\n",
       "      <td>1.000000</td>\n",
       "      <td>0.290405</td>\n",
       "      <td>-0.224838</td>\n",
       "      <td>0.661042</td>\n",
       "      <td>0.624011</td>\n",
       "    </tr>\n",
       "    <tr>\n",
       "      <th>OZONE_average</th>\n",
       "      <td>0.370858</td>\n",
       "      <td>0.295028</td>\n",
       "      <td>0.452697</td>\n",
       "      <td>0.270628</td>\n",
       "      <td>0.270491</td>\n",
       "      <td>0.232073</td>\n",
       "      <td>-0.064160</td>\n",
       "      <td>-0.061141</td>\n",
       "      <td>0.155519</td>\n",
       "      <td>0.402706</td>\n",
       "      <td>0.265637</td>\n",
       "      <td>0.290405</td>\n",
       "      <td>1.000000</td>\n",
       "      <td>0.379550</td>\n",
       "      <td>0.594225</td>\n",
       "      <td>0.200566</td>\n",
       "    </tr>\n",
       "    <tr>\n",
       "      <th>OZONE_minimum</th>\n",
       "      <td>-0.131573</td>\n",
       "      <td>0.021599</td>\n",
       "      <td>-0.207623</td>\n",
       "      <td>-0.154000</td>\n",
       "      <td>0.138165</td>\n",
       "      <td>-0.227207</td>\n",
       "      <td>-0.209767</td>\n",
       "      <td>0.110554</td>\n",
       "      <td>-0.163816</td>\n",
       "      <td>-0.148653</td>\n",
       "      <td>0.278550</td>\n",
       "      <td>-0.224838</td>\n",
       "      <td>0.379550</td>\n",
       "      <td>1.000000</td>\n",
       "      <td>-0.126248</td>\n",
       "      <td>-0.171511</td>\n",
       "    </tr>\n",
       "    <tr>\n",
       "      <th>OZONE_maximum</th>\n",
       "      <td>0.659099</td>\n",
       "      <td>0.347099</td>\n",
       "      <td>0.721682</td>\n",
       "      <td>0.586514</td>\n",
       "      <td>0.123949</td>\n",
       "      <td>0.654492</td>\n",
       "      <td>0.308306</td>\n",
       "      <td>-0.132743</td>\n",
       "      <td>0.463314</td>\n",
       "      <td>0.746583</td>\n",
       "      <td>0.079463</td>\n",
       "      <td>0.661042</td>\n",
       "      <td>0.594225</td>\n",
       "      <td>-0.126248</td>\n",
       "      <td>1.000000</td>\n",
       "      <td>0.571961</td>\n",
       "    </tr>\n",
       "    <tr>\n",
       "      <th>Total_Day_Cases</th>\n",
       "      <td>0.669215</td>\n",
       "      <td>0.266061</td>\n",
       "      <td>0.560290</td>\n",
       "      <td>0.473738</td>\n",
       "      <td>0.026345</td>\n",
       "      <td>0.555128</td>\n",
       "      <td>0.476039</td>\n",
       "      <td>-0.143474</td>\n",
       "      <td>0.448578</td>\n",
       "      <td>0.699713</td>\n",
       "      <td>-0.100695</td>\n",
       "      <td>0.624011</td>\n",
       "      <td>0.200566</td>\n",
       "      <td>-0.171511</td>\n",
       "      <td>0.571961</td>\n",
       "      <td>1.000000</td>\n",
       "    </tr>\n",
       "  </tbody>\n",
       "</table>\n",
       "</div>"
      ],
      "text/plain": [
       "                 PM2.5_average  PM2.5_minimum  PM2.5_maximum  NO2_average  \\\n",
       "PM2.5_average         1.000000       0.710142       0.753183     0.863517   \n",
       "PM2.5_minimum         0.710142       1.000000       0.429995     0.658680   \n",
       "PM2.5_maximum         0.753183       0.429995       1.000000     0.655100   \n",
       "NO2_average           0.863517       0.658680       0.655100     1.000000   \n",
       "NO2_minimum           0.331769       0.403302       0.157978     0.439185   \n",
       "NO2_maximum           0.690871       0.424606       0.649077     0.789064   \n",
       "SO2_average           0.472753       0.330669       0.326291     0.360890   \n",
       "SO2_minimum          -0.013270       0.153983      -0.129203    -0.032409   \n",
       "SO2_maximum           0.455844       0.260585       0.456095     0.435539   \n",
       "CO_average            0.804246       0.442487       0.748367     0.682940   \n",
       "CO_minimum            0.047890       0.185022       0.017947     0.008338   \n",
       "CO_maximum            0.629907       0.278923       0.683202     0.546471   \n",
       "OZONE_average         0.370858       0.295028       0.452697     0.270628   \n",
       "OZONE_minimum        -0.131573       0.021599      -0.207623    -0.154000   \n",
       "OZONE_maximum         0.659099       0.347099       0.721682     0.586514   \n",
       "Total_Day_Cases       0.669215       0.266061       0.560290     0.473738   \n",
       "\n",
       "                 NO2_minimum  NO2_maximum  SO2_average  SO2_minimum  \\\n",
       "PM2.5_average       0.331769     0.690871     0.472753    -0.013270   \n",
       "PM2.5_minimum       0.403302     0.424606     0.330669     0.153983   \n",
       "PM2.5_maximum       0.157978     0.649077     0.326291    -0.129203   \n",
       "NO2_average         0.439185     0.789064     0.360890    -0.032409   \n",
       "NO2_minimum         1.000000     0.164076    -0.021999     0.177818   \n",
       "NO2_maximum         0.164076     1.000000     0.367541    -0.101775   \n",
       "SO2_average        -0.021999     0.367541     1.000000     0.286812   \n",
       "SO2_minimum         0.177818    -0.101775     0.286812     1.000000   \n",
       "SO2_maximum         0.029013     0.472511     0.644587    -0.036529   \n",
       "CO_average          0.194422     0.681528     0.339634    -0.105289   \n",
       "CO_minimum          0.153999    -0.043802    -0.077160     0.140868   \n",
       "CO_maximum          0.060879     0.621732     0.303621    -0.162872   \n",
       "OZONE_average       0.270491     0.232073    -0.064160    -0.061141   \n",
       "OZONE_minimum       0.138165    -0.227207    -0.209767     0.110554   \n",
       "OZONE_maximum       0.123949     0.654492     0.308306    -0.132743   \n",
       "Total_Day_Cases     0.026345     0.555128     0.476039    -0.143474   \n",
       "\n",
       "                 SO2_maximum  CO_average  CO_minimum  CO_maximum  \\\n",
       "PM2.5_average       0.455844    0.804246    0.047890    0.629907   \n",
       "PM2.5_minimum       0.260585    0.442487    0.185022    0.278923   \n",
       "PM2.5_maximum       0.456095    0.748367    0.017947    0.683202   \n",
       "NO2_average         0.435539    0.682940    0.008338    0.546471   \n",
       "NO2_minimum         0.029013    0.194422    0.153999    0.060879   \n",
       "NO2_maximum         0.472511    0.681528   -0.043802    0.621732   \n",
       "SO2_average         0.644587    0.339634   -0.077160    0.303621   \n",
       "SO2_minimum        -0.036529   -0.105289    0.140868   -0.162872   \n",
       "SO2_maximum         1.000000    0.475530   -0.076494    0.468297   \n",
       "CO_average          0.475530    1.000000    0.111629    0.852149   \n",
       "CO_minimum         -0.076494    0.111629    1.000000   -0.022604   \n",
       "CO_maximum          0.468297    0.852149   -0.022604    1.000000   \n",
       "OZONE_average       0.155519    0.402706    0.265637    0.290405   \n",
       "OZONE_minimum      -0.163816   -0.148653    0.278550   -0.224838   \n",
       "OZONE_maximum       0.463314    0.746583    0.079463    0.661042   \n",
       "Total_Day_Cases     0.448578    0.699713   -0.100695    0.624011   \n",
       "\n",
       "                 OZONE_average  OZONE_minimum  OZONE_maximum  Total_Day_Cases  \n",
       "PM2.5_average         0.370858      -0.131573       0.659099         0.669215  \n",
       "PM2.5_minimum         0.295028       0.021599       0.347099         0.266061  \n",
       "PM2.5_maximum         0.452697      -0.207623       0.721682         0.560290  \n",
       "NO2_average           0.270628      -0.154000       0.586514         0.473738  \n",
       "NO2_minimum           0.270491       0.138165       0.123949         0.026345  \n",
       "NO2_maximum           0.232073      -0.227207       0.654492         0.555128  \n",
       "SO2_average          -0.064160      -0.209767       0.308306         0.476039  \n",
       "SO2_minimum          -0.061141       0.110554      -0.132743        -0.143474  \n",
       "SO2_maximum           0.155519      -0.163816       0.463314         0.448578  \n",
       "CO_average            0.402706      -0.148653       0.746583         0.699713  \n",
       "CO_minimum            0.265637       0.278550       0.079463        -0.100695  \n",
       "CO_maximum            0.290405      -0.224838       0.661042         0.624011  \n",
       "OZONE_average         1.000000       0.379550       0.594225         0.200566  \n",
       "OZONE_minimum         0.379550       1.000000      -0.126248        -0.171511  \n",
       "OZONE_maximum         0.594225      -0.126248       1.000000         0.571961  \n",
       "Total_Day_Cases       0.200566      -0.171511       0.571961         1.000000  "
      ]
     },
     "execution_count": 1948,
     "metadata": {},
     "output_type": "execute_result"
    }
   ],
   "source": [
    "corr_df=pd.DataFrame(final_df.corr())\n",
    "corr_df"
   ]
  },
  {
   "cell_type": "code",
   "execution_count": 1949,
   "metadata": {},
   "outputs": [],
   "source": [
    "#high_corr_cols=list(corr_df[(corr_df[\"Total_Day_Cases\"]>0.2) | (corr_df[\"Total_Day_Cases\"]<=-0.2)].index)\n",
    "#final_high_df=final_df[high_corr_cols]"
   ]
  },
  {
   "cell_type": "code",
   "execution_count": 1950,
   "metadata": {},
   "outputs": [
    {
     "data": {
      "text/plain": [
       "['PM2.5_average',\n",
       " 'PM2.5_minimum',\n",
       " 'PM2.5_maximum',\n",
       " 'NO2_average',\n",
       " 'NO2_maximum',\n",
       " 'SO2_average',\n",
       " 'SO2_minimum',\n",
       " 'SO2_maximum',\n",
       " 'CO_average',\n",
       " 'CO_minimum',\n",
       " 'CO_maximum',\n",
       " 'OZONE_minimum',\n",
       " 'OZONE_maximum',\n",
       " 'Total_Day_Cases']"
      ]
     },
     "execution_count": 1950,
     "metadata": {},
     "output_type": "execute_result"
    }
   ],
   "source": [
    "high_corr_cols"
   ]
  },
  {
   "cell_type": "code",
   "execution_count": 1951,
   "metadata": {},
   "outputs": [
    {
     "data": {
      "text/plain": [
       "Index(['City', 'Date', 'Unique', 'PM2.5_average', 'PM2.5_minimum',\n",
       "       'PM2.5_maximum', 'NO2_average', 'NO2_minimum', 'NO2_maximum',\n",
       "       'SO2_average', 'SO2_minimum', 'SO2_maximum', 'CO_average', 'CO_minimum',\n",
       "       'CO_maximum', 'OZONE_average', 'OZONE_minimum', 'OZONE_maximum',\n",
       "       'Total_Day_Cases'],\n",
       "      dtype='object')"
      ]
     },
     "execution_count": 1951,
     "metadata": {},
     "output_type": "execute_result"
    }
   ],
   "source": [
    "final_df.columns"
   ]
  },
  {
   "cell_type": "code",
   "execution_count": 1952,
   "metadata": {},
   "outputs": [],
   "source": [
    "final_high_df=final_df[high_corr_cols]\n",
    "#high_corr_cols"
   ]
  },
  {
   "cell_type": "markdown",
   "metadata": {},
   "source": [
    "# Train Test Split"
   ]
  },
  {
   "cell_type": "code",
   "execution_count": 1953,
   "metadata": {},
   "outputs": [],
   "source": [
    "#x = city_high_df.drop(columns = ['City','Station_ID','Date','Unique','Total Cases'])\n",
    "x=final_high_df.drop(columns = ['Total_Day_Cases'])\n",
    "y = final_high_df['Total_Day_Cases']"
   ]
  },
  {
   "cell_type": "code",
   "execution_count": 1954,
   "metadata": {},
   "outputs": [],
   "source": [
    "x_train, x_test, y_train, y_test = train_test_split(x, y, test_size=0.3, random_state=10)"
   ]
  },
  {
   "cell_type": "code",
   "execution_count": 1955,
   "metadata": {},
   "outputs": [
    {
     "data": {
      "text/plain": [
       "(720, 13)"
      ]
     },
     "execution_count": 1955,
     "metadata": {},
     "output_type": "execute_result"
    }
   ],
   "source": [
    "x.shape"
   ]
  },
  {
   "cell_type": "markdown",
   "metadata": {},
   "source": [
    "# Linear Regression"
   ]
  },
  {
   "cell_type": "code",
   "execution_count": 1830,
   "metadata": {},
   "outputs": [
    {
     "data": {
      "text/html": [
       "<div>\n",
       "<style scoped>\n",
       "    .dataframe tbody tr th:only-of-type {\n",
       "        vertical-align: middle;\n",
       "    }\n",
       "\n",
       "    .dataframe tbody tr th {\n",
       "        vertical-align: top;\n",
       "    }\n",
       "\n",
       "    .dataframe thead th {\n",
       "        text-align: right;\n",
       "    }\n",
       "</style>\n",
       "<table border=\"1\" class=\"dataframe\">\n",
       "  <thead>\n",
       "    <tr style=\"text-align: right;\">\n",
       "      <th></th>\n",
       "      <th>PM2.5_average</th>\n",
       "      <th>PM2.5_minimum</th>\n",
       "      <th>PM2.5_maximum</th>\n",
       "      <th>NO2_average</th>\n",
       "      <th>NO2_maximum</th>\n",
       "      <th>SO2_average</th>\n",
       "      <th>SO2_minimum</th>\n",
       "      <th>SO2_maximum</th>\n",
       "      <th>CO_average</th>\n",
       "      <th>CO_minimum</th>\n",
       "      <th>CO_maximum</th>\n",
       "      <th>OZONE_minimum</th>\n",
       "      <th>OZONE_maximum</th>\n",
       "    </tr>\n",
       "  </thead>\n",
       "  <tbody>\n",
       "    <tr>\n",
       "      <th>442</th>\n",
       "      <td>18.250000</td>\n",
       "      <td>7.0</td>\n",
       "      <td>44.0</td>\n",
       "      <td>8.200000</td>\n",
       "      <td>21.0</td>\n",
       "      <td>13.166667</td>\n",
       "      <td>4.0</td>\n",
       "      <td>52.0</td>\n",
       "      <td>16.666667</td>\n",
       "      <td>6.0</td>\n",
       "      <td>24.0</td>\n",
       "      <td>16.0</td>\n",
       "      <td>124.0</td>\n",
       "    </tr>\n",
       "    <tr>\n",
       "      <th>437</th>\n",
       "      <td>18.000000</td>\n",
       "      <td>5.0</td>\n",
       "      <td>57.0</td>\n",
       "      <td>10.000000</td>\n",
       "      <td>32.0</td>\n",
       "      <td>12.500000</td>\n",
       "      <td>1.0</td>\n",
       "      <td>26.0</td>\n",
       "      <td>18.142857</td>\n",
       "      <td>8.0</td>\n",
       "      <td>36.0</td>\n",
       "      <td>7.0</td>\n",
       "      <td>49.0</td>\n",
       "    </tr>\n",
       "    <tr>\n",
       "      <th>504</th>\n",
       "      <td>29.500000</td>\n",
       "      <td>4.0</td>\n",
       "      <td>97.0</td>\n",
       "      <td>15.500000</td>\n",
       "      <td>77.0</td>\n",
       "      <td>7.666667</td>\n",
       "      <td>2.0</td>\n",
       "      <td>14.0</td>\n",
       "      <td>18.666667</td>\n",
       "      <td>8.0</td>\n",
       "      <td>37.0</td>\n",
       "      <td>1.0</td>\n",
       "      <td>94.0</td>\n",
       "    </tr>\n",
       "    <tr>\n",
       "      <th>295</th>\n",
       "      <td>20.750000</td>\n",
       "      <td>7.0</td>\n",
       "      <td>43.0</td>\n",
       "      <td>13.250000</td>\n",
       "      <td>38.0</td>\n",
       "      <td>6.500000</td>\n",
       "      <td>3.0</td>\n",
       "      <td>11.0</td>\n",
       "      <td>13.250000</td>\n",
       "      <td>2.0</td>\n",
       "      <td>29.0</td>\n",
       "      <td>5.0</td>\n",
       "      <td>30.0</td>\n",
       "    </tr>\n",
       "    <tr>\n",
       "      <th>111</th>\n",
       "      <td>61.000000</td>\n",
       "      <td>21.0</td>\n",
       "      <td>160.0</td>\n",
       "      <td>14.000000</td>\n",
       "      <td>22.0</td>\n",
       "      <td>5.333333</td>\n",
       "      <td>2.0</td>\n",
       "      <td>12.0</td>\n",
       "      <td>47.500000</td>\n",
       "      <td>4.0</td>\n",
       "      <td>135.0</td>\n",
       "      <td>1.0</td>\n",
       "      <td>56.0</td>\n",
       "    </tr>\n",
       "    <tr>\n",
       "      <th>...</th>\n",
       "      <td>...</td>\n",
       "      <td>...</td>\n",
       "      <td>...</td>\n",
       "      <td>...</td>\n",
       "      <td>...</td>\n",
       "      <td>...</td>\n",
       "      <td>...</td>\n",
       "      <td>...</td>\n",
       "      <td>...</td>\n",
       "      <td>...</td>\n",
       "      <td>...</td>\n",
       "      <td>...</td>\n",
       "      <td>...</td>\n",
       "    </tr>\n",
       "    <tr>\n",
       "      <th>369</th>\n",
       "      <td>48.000000</td>\n",
       "      <td>10.0</td>\n",
       "      <td>98.0</td>\n",
       "      <td>33.750000</td>\n",
       "      <td>84.0</td>\n",
       "      <td>5.250000</td>\n",
       "      <td>1.0</td>\n",
       "      <td>14.0</td>\n",
       "      <td>15.500000</td>\n",
       "      <td>5.0</td>\n",
       "      <td>35.0</td>\n",
       "      <td>2.0</td>\n",
       "      <td>72.0</td>\n",
       "    </tr>\n",
       "    <tr>\n",
       "      <th>320</th>\n",
       "      <td>43.200000</td>\n",
       "      <td>10.0</td>\n",
       "      <td>141.0</td>\n",
       "      <td>32.600000</td>\n",
       "      <td>85.0</td>\n",
       "      <td>7.200000</td>\n",
       "      <td>2.0</td>\n",
       "      <td>18.0</td>\n",
       "      <td>33.000000</td>\n",
       "      <td>1.0</td>\n",
       "      <td>104.0</td>\n",
       "      <td>1.0</td>\n",
       "      <td>193.0</td>\n",
       "    </tr>\n",
       "    <tr>\n",
       "      <th>527</th>\n",
       "      <td>28.142857</td>\n",
       "      <td>10.0</td>\n",
       "      <td>83.0</td>\n",
       "      <td>12.000000</td>\n",
       "      <td>57.0</td>\n",
       "      <td>7.428571</td>\n",
       "      <td>3.0</td>\n",
       "      <td>14.0</td>\n",
       "      <td>40.500000</td>\n",
       "      <td>9.0</td>\n",
       "      <td>98.0</td>\n",
       "      <td>3.0</td>\n",
       "      <td>57.0</td>\n",
       "    </tr>\n",
       "    <tr>\n",
       "      <th>125</th>\n",
       "      <td>79.000000</td>\n",
       "      <td>31.0</td>\n",
       "      <td>288.0</td>\n",
       "      <td>14.500000</td>\n",
       "      <td>27.0</td>\n",
       "      <td>14.500000</td>\n",
       "      <td>3.0</td>\n",
       "      <td>44.0</td>\n",
       "      <td>33.750000</td>\n",
       "      <td>4.0</td>\n",
       "      <td>88.0</td>\n",
       "      <td>1.0</td>\n",
       "      <td>119.0</td>\n",
       "    </tr>\n",
       "    <tr>\n",
       "      <th>265</th>\n",
       "      <td>374.275862</td>\n",
       "      <td>90.0</td>\n",
       "      <td>500.0</td>\n",
       "      <td>102.241379</td>\n",
       "      <td>290.0</td>\n",
       "      <td>22.444444</td>\n",
       "      <td>1.0</td>\n",
       "      <td>115.0</td>\n",
       "      <td>103.727273</td>\n",
       "      <td>1.0</td>\n",
       "      <td>198.0</td>\n",
       "      <td>1.0</td>\n",
       "      <td>269.0</td>\n",
       "    </tr>\n",
       "  </tbody>\n",
       "</table>\n",
       "<p>403 rows × 13 columns</p>\n",
       "</div>"
      ],
      "text/plain": [
       "     PM2.5_average  PM2.5_minimum  PM2.5_maximum  NO2_average  NO2_maximum  \\\n",
       "442      18.250000            7.0           44.0     8.200000         21.0   \n",
       "437      18.000000            5.0           57.0    10.000000         32.0   \n",
       "504      29.500000            4.0           97.0    15.500000         77.0   \n",
       "295      20.750000            7.0           43.0    13.250000         38.0   \n",
       "111      61.000000           21.0          160.0    14.000000         22.0   \n",
       "..             ...            ...            ...          ...          ...   \n",
       "369      48.000000           10.0           98.0    33.750000         84.0   \n",
       "320      43.200000           10.0          141.0    32.600000         85.0   \n",
       "527      28.142857           10.0           83.0    12.000000         57.0   \n",
       "125      79.000000           31.0          288.0    14.500000         27.0   \n",
       "265     374.275862           90.0          500.0   102.241379        290.0   \n",
       "\n",
       "     SO2_average  SO2_minimum  SO2_maximum  CO_average  CO_minimum  \\\n",
       "442    13.166667          4.0         52.0   16.666667         6.0   \n",
       "437    12.500000          1.0         26.0   18.142857         8.0   \n",
       "504     7.666667          2.0         14.0   18.666667         8.0   \n",
       "295     6.500000          3.0         11.0   13.250000         2.0   \n",
       "111     5.333333          2.0         12.0   47.500000         4.0   \n",
       "..           ...          ...          ...         ...         ...   \n",
       "369     5.250000          1.0         14.0   15.500000         5.0   \n",
       "320     7.200000          2.0         18.0   33.000000         1.0   \n",
       "527     7.428571          3.0         14.0   40.500000         9.0   \n",
       "125    14.500000          3.0         44.0   33.750000         4.0   \n",
       "265    22.444444          1.0        115.0  103.727273         1.0   \n",
       "\n",
       "     CO_maximum  OZONE_minimum  OZONE_maximum  \n",
       "442        24.0           16.0          124.0  \n",
       "437        36.0            7.0           49.0  \n",
       "504        37.0            1.0           94.0  \n",
       "295        29.0            5.0           30.0  \n",
       "111       135.0            1.0           56.0  \n",
       "..          ...            ...            ...  \n",
       "369        35.0            2.0           72.0  \n",
       "320       104.0            1.0          193.0  \n",
       "527        98.0            3.0           57.0  \n",
       "125        88.0            1.0          119.0  \n",
       "265       198.0            1.0          269.0  \n",
       "\n",
       "[403 rows x 13 columns]"
      ]
     },
     "execution_count": 1830,
     "metadata": {},
     "output_type": "execute_result"
    }
   ],
   "source": [
    "x_train"
   ]
  },
  {
   "cell_type": "code",
   "execution_count": 1831,
   "metadata": {},
   "outputs": [
    {
     "data": {
      "text/plain": [
       "array([  12.19341855,   -8.082441  ,   -1.21877528,  -27.65592133,\n",
       "          4.95119058,    8.70942745, -120.71769488,   -0.41507815,\n",
       "         26.90269483,   -0.97861717,   -2.37196309,   10.65220848,\n",
       "          4.26386187])"
      ]
     },
     "execution_count": 1831,
     "metadata": {},
     "output_type": "execute_result"
    }
   ],
   "source": [
    "model_lr = LinearRegression()\n",
    "model_lr.fit(x_train,y_train)\n",
    "model_lr.coef_"
   ]
  },
  {
   "cell_type": "code",
   "execution_count": 1832,
   "metadata": {},
   "outputs": [
    {
     "data": {
      "text/html": [
       "<div>\n",
       "<style scoped>\n",
       "    .dataframe tbody tr th:only-of-type {\n",
       "        vertical-align: middle;\n",
       "    }\n",
       "\n",
       "    .dataframe tbody tr th {\n",
       "        vertical-align: top;\n",
       "    }\n",
       "\n",
       "    .dataframe thead th {\n",
       "        text-align: right;\n",
       "    }\n",
       "</style>\n",
       "<table border=\"1\" class=\"dataframe\">\n",
       "  <thead>\n",
       "    <tr style=\"text-align: right;\">\n",
       "      <th></th>\n",
       "      <th>Actual</th>\n",
       "      <th>Predicted</th>\n",
       "    </tr>\n",
       "  </thead>\n",
       "  <tbody>\n",
       "    <tr>\n",
       "      <th>425</th>\n",
       "      <td>0.0</td>\n",
       "      <td>-138.917943</td>\n",
       "    </tr>\n",
       "    <tr>\n",
       "      <th>277</th>\n",
       "      <td>5023.0</td>\n",
       "      <td>6619.541846</td>\n",
       "    </tr>\n",
       "    <tr>\n",
       "      <th>47</th>\n",
       "      <td>1184.0</td>\n",
       "      <td>991.007532</td>\n",
       "    </tr>\n",
       "    <tr>\n",
       "      <th>459</th>\n",
       "      <td>648.0</td>\n",
       "      <td>1126.154449</td>\n",
       "    </tr>\n",
       "    <tr>\n",
       "      <th>335</th>\n",
       "      <td>0.0</td>\n",
       "      <td>128.287435</td>\n",
       "    </tr>\n",
       "  </tbody>\n",
       "</table>\n",
       "</div>"
      ],
      "text/plain": [
       "     Actual    Predicted\n",
       "425     0.0  -138.917943\n",
       "277  5023.0  6619.541846\n",
       "47   1184.0   991.007532\n",
       "459   648.0  1126.154449\n",
       "335     0.0   128.287435"
      ]
     },
     "execution_count": 1832,
     "metadata": {},
     "output_type": "execute_result"
    }
   ],
   "source": [
    "y_pred = model_lr.predict(x_test)\n",
    "result_lr = pd.DataFrame({'Actual':y_test,'Predicted':y_pred})\n",
    "result_lr.head(5)"
   ]
  },
  {
   "cell_type": "code",
   "execution_count": 1873,
   "metadata": {},
   "outputs": [
    {
     "name": "stderr",
     "output_type": "stream",
     "text": [
      "C:\\ProgramData\\Anaconda3\\lib\\site-packages\\ipykernel_launcher.py:3: SettingWithCopyWarning: \n",
      "A value is trying to be set on a copy of a slice from a DataFrame.\n",
      "Try using .loc[row_indexer,col_indexer] = value instead\n",
      "\n",
      "See the caveats in the documentation: https://pandas.pydata.org/pandas-docs/stable/user_guide/indexing.html#returning-a-view-versus-a-copy\n",
      "  This is separate from the ipykernel package so we can avoid doing imports until\n"
     ]
    },
    {
     "data": {
      "text/plain": [
       "(54, 15)"
      ]
     },
     "execution_count": 1873,
     "metadata": {},
     "output_type": "execute_result"
    }
   ],
   "source": [
    "y_pred_all=model_lr.predict(x)\n",
    "result_all_df = pd.DataFrame({'Actual':y,'Predicted':y_pred_all})\n",
    "final_high_df[\"Total_Cases_Predicted\"]=result_all_df[\"Predicted\"]\n",
    "final_high_df[(final_high_df[\"Total_Day_Cases\"]-final_high_df[\"Total_Cases_Predicted\"])>500].shape"
   ]
  },
  {
   "cell_type": "markdown",
   "metadata": {},
   "source": [
    "###### Delhi, Chennai, Kolkata, Hyderabad, Mumbai 2-day offset"
   ]
  },
  {
   "cell_type": "code",
   "execution_count": 1836,
   "metadata": {},
   "outputs": [
    {
     "name": "stdout",
     "output_type": "stream",
     "text": [
      "Mean Absolute Error: 485.29165888181586\n",
      "Mean Squared Error: 537321.3140582081\n",
      "Root Mean Squared Error: 733.0220420002445\n"
     ]
    },
    {
     "data": {
      "text/plain": [
       "<matplotlib.axes._subplots.AxesSubplot at 0x18f531f80c8>"
      ]
     },
     "execution_count": 1836,
     "metadata": {},
     "output_type": "execute_result"
    },
    {
     "data": {
      "image/png": "[encoded data removed]",
      "text/plain": [
       "<Figure size 432x288 with 1 Axes>"
      ]
     },
     "metadata": {
      "needs_background": "light"
     },
     "output_type": "display_data"
    }
   ],
   "source": [
    "print('Mean Absolute Error:', metrics.mean_absolute_error(y, y_pred_all))\n",
    "print('Mean Squared Error:', metrics.mean_squared_error(y, y_pred_all))\n",
    "print('Root Mean Squared Error:', np.sqrt(metrics.mean_squared_error(y, y_pred_all)))\n",
    "#result_lr.head(20).plot(kind = 'bar')\n",
    "result_all_df.head(20).plot(kind = 'box')"
   ]
  },
  {
   "cell_type": "markdown",
   "metadata": {},
   "source": [
    "###### Chandigarh 2-day offset"
   ]
  },
  {
   "cell_type": "code",
   "execution_count": 1512,
   "metadata": {},
   "outputs": [
    {
     "name": "stdout",
     "output_type": "stream",
     "text": [
      "Mean Absolute Error: 26.63378490376189\n",
      "Mean Squared Error: 1369.8298111046845\n",
      "Root Mean Squared Error: 37.01121196481797\n"
     ]
    },
    {
     "data": {
      "text/plain": [
       "<matplotlib.axes._subplots.AxesSubplot at 0x18f69b0a688>"
      ]
     },
     "execution_count": 1512,
     "metadata": {},
     "output_type": "execute_result"
    },
    {
     "data": {
      "image/png": "[encoded data removed]",
      "text/plain": [
       "<Figure size 432x288 with 1 Axes>"
      ]
     },
     "metadata": {
      "needs_background": "light"
     },
     "output_type": "display_data"
    }
   ],
   "source": [
    "print('Mean Absolute Error:', metrics.mean_absolute_error(y, y_pred_all))\n",
    "print('Mean Squared Error:', metrics.mean_squared_error(y, y_pred_all))\n",
    "print('Root Mean Squared Error:', np.sqrt(metrics.mean_squared_error(y, y_pred_all)))\n",
    "result_lr.head(20).plot(kind = 'bar')"
   ]
  },
  {
   "cell_type": "markdown",
   "metadata": {},
   "source": [
    "###### Lucknow 2-day offset"
   ]
  },
  {
   "cell_type": "code",
   "execution_count": 1415,
   "metadata": {},
   "outputs": [
    {
     "name": "stdout",
     "output_type": "stream",
     "text": [
      "Mean Absolute Error: 282.0889198034277\n",
      "Mean Squared Error: 360094.0498966971\n",
      "Root Mean Squared Error: 600.0783697957269\n"
     ]
    },
    {
     "data": {
      "text/plain": [
       "<matplotlib.axes._subplots.AxesSubplot at 0x18f691dfa08>"
      ]
     },
     "execution_count": 1415,
     "metadata": {},
     "output_type": "execute_result"
    },
    {
     "data": {
      "image/png": "[encoded data removed]",
      "text/plain": [
       "<Figure size 432x288 with 1 Axes>"
      ]
     },
     "metadata": {
      "needs_background": "light"
     },
     "output_type": "display_data"
    }
   ],
   "source": [
    "print('Mean Absolute Error:', metrics.mean_absolute_error(y, y_pred_all))\n",
    "print('Mean Squared Error:', metrics.mean_squared_error(y, y_pred_all))\n",
    "print('Root Mean Squared Error:', np.sqrt(metrics.mean_squared_error(y, y_pred_all)))\n",
    "result_lr.head(20).plot(kind = 'bar')"
   ]
  },
  {
   "cell_type": "markdown",
   "metadata": {},
   "source": [
    "###### Pune 2-day offset"
   ]
  },
  {
   "cell_type": "code",
   "execution_count": 1391,
   "metadata": {},
   "outputs": [
    {
     "name": "stdout",
     "output_type": "stream",
     "text": [
      "Mean Absolute Error: 748.2183250934667\n",
      "Mean Squared Error: 940133.6161839128\n",
      "Root Mean Squared Error: 969.6048763202012\n"
     ]
    },
    {
     "data": {
      "text/plain": [
       "<matplotlib.axes._subplots.AxesSubplot at 0x18f690fea88>"
      ]
     },
     "execution_count": 1391,
     "metadata": {},
     "output_type": "execute_result"
    },
    {
     "data": {
      "image/png": "[encoded data removed]",
      "text/plain": [
       "<Figure size 432x288 with 1 Axes>"
      ]
     },
     "metadata": {
      "needs_background": "light"
     },
     "output_type": "display_data"
    }
   ],
   "source": [
    "print('Mean Absolute Error:', metrics.mean_absolute_error(y, y_pred_all))\n",
    "print('Mean Squared Error:', metrics.mean_squared_error(y, y_pred_all))\n",
    "print('Root Mean Squared Error:', np.sqrt(metrics.mean_squared_error(y, y_pred_all)))\n",
    "result_lr.head(20).plot(kind = 'bar')"
   ]
  },
  {
   "cell_type": "markdown",
   "metadata": {},
   "source": [
    "###### Mumbai 2-day offset"
   ]
  },
  {
   "cell_type": "code",
   "execution_count": 1367,
   "metadata": {},
   "outputs": [
    {
     "name": "stdout",
     "output_type": "stream",
     "text": [
      "Mean Absolute Error: 373.11482167311084\n",
      "Mean Squared Error: 231169.43490920556\n",
      "Root Mean Squared Error: 480.8008266519574\n"
     ]
    },
    {
     "data": {
      "text/plain": [
       "<matplotlib.axes._subplots.AxesSubplot at 0x18f68e94788>"
      ]
     },
     "execution_count": 1367,
     "metadata": {},
     "output_type": "execute_result"
    },
    {
     "data": {
      "image/png": "[encoded data removed]",
      "text/plain": [
       "<Figure size 432x288 with 1 Axes>"
      ]
     },
     "metadata": {
      "needs_background": "light"
     },
     "output_type": "display_data"
    }
   ],
   "source": [
    "print('Mean Absolute Error:', metrics.mean_absolute_error(y, y_pred_all))\n",
    "print('Mean Squared Error:', metrics.mean_squared_error(y, y_pred_all))\n",
    "print('Root Mean Squared Error:', np.sqrt(metrics.mean_squared_error(y, y_pred_all)))\n",
    "result_lr.head(20).plot(kind = 'bar')"
   ]
  },
  {
   "cell_type": "markdown",
   "metadata": {},
   "source": [
    "###### Kolkata 2-day offset"
   ]
  },
  {
   "cell_type": "code",
   "execution_count": 1265,
   "metadata": {},
   "outputs": [
    {
     "name": "stdout",
     "output_type": "stream",
     "text": [
      "Mean Absolute Error: 1086.4768734143202\n",
      "Mean Squared Error: 2028000.4843274427\n",
      "Root Mean Squared Error: 1424.0788195628227\n"
     ]
    },
    {
     "data": {
      "text/plain": [
       "<matplotlib.axes._subplots.AxesSubplot at 0x18f6307bf08>"
      ]
     },
     "execution_count": 1265,
     "metadata": {},
     "output_type": "execute_result"
    },
    {
     "data": {
      "image/png": "[encoded data removed]",
      "text/plain": [
       "<Figure size 432x288 with 1 Axes>"
      ]
     },
     "metadata": {
      "needs_background": "light"
     },
     "output_type": "display_data"
    }
   ],
   "source": [
    "print('Mean Absolute Error:', metrics.mean_absolute_error(y_test, y_pred))\n",
    "print('Mean Squared Error:', metrics.mean_squared_error(y_test, y_pred))\n",
    "print('Root Mean Squared Error:', np.sqrt(metrics.mean_squared_error(y_test, y_pred)))\n",
    "result_lr.head(20).plot(kind = 'bar')"
   ]
  },
  {
   "cell_type": "markdown",
   "metadata": {},
   "source": [
    "###### Chennai 2-day offset"
   ]
  },
  {
   "cell_type": "code",
   "execution_count": 1238,
   "metadata": {},
   "outputs": [
    {
     "name": "stdout",
     "output_type": "stream",
     "text": [
      "Mean Absolute Error: 1343.8197100166274\n",
      "Mean Squared Error: 2952405.94143432\n",
      "Root Mean Squared Error: 1718.2566576138502\n"
     ]
    },
    {
     "data": {
      "text/plain": [
       "<matplotlib.axes._subplots.AxesSubplot at 0x18f60e36648>"
      ]
     },
     "execution_count": 1238,
     "metadata": {},
     "output_type": "execute_result"
    },
    {
     "data": {
      "image/png": "[encoded data removed]",
      "text/plain": [
       "<Figure size 432x288 with 1 Axes>"
      ]
     },
     "metadata": {
      "needs_background": "light"
     },
     "output_type": "display_data"
    }
   ],
   "source": [
    "print('Mean Absolute Error:', metrics.mean_absolute_error(y_test, y_pred))\n",
    "print('Mean Squared Error:', metrics.mean_squared_error(y_test, y_pred))\n",
    "print('Root Mean Squared Error:', np.sqrt(metrics.mean_squared_error(y_test, y_pred)))\n",
    "result_lr.head(20).plot(kind = 'bar')"
   ]
  },
  {
   "cell_type": "markdown",
   "metadata": {},
   "source": [
    "###### Delhi 2-day offset"
   ]
  },
  {
   "cell_type": "code",
   "execution_count": 1876,
   "metadata": {},
   "outputs": [
    {
     "name": "stdout",
     "output_type": "stream",
     "text": [
      "Mean Absolute Error: 937.2089024316168\n",
      "Mean Squared Error: 1483879.3979382347\n",
      "Root Mean Squared Error: 1218.1458853266445\n"
     ]
    },
    {
     "data": {
      "text/plain": [
       "<matplotlib.axes._subplots.AxesSubplot at 0x18f597c8448>"
      ]
     },
     "execution_count": 1876,
     "metadata": {},
     "output_type": "execute_result"
    },
    {
     "data": {
      "image/png": "[encoded data removed]",
      "text/plain": [
       "<Figure size 432x288 with 1 Axes>"
      ]
     },
     "metadata": {
      "needs_background": "light"
     },
     "output_type": "display_data"
    }
   ],
   "source": [
    "print('Mean Absolute Error:', metrics.mean_absolute_error(y, y_pred_all))\n",
    "print('Mean Squared Error:', metrics.mean_squared_error(y, y_pred_all))\n",
    "print('Root Mean Squared Error:', np.sqrt(metrics.mean_squared_error(y, y_pred_all)))\n",
    "#result_lr.head(20).plot(kind = 'bar')\n",
    "result_all_df.plot(kind = 'box')"
   ]
  },
  {
   "cell_type": "markdown",
   "metadata": {},
   "source": [
    "# Logistic Regression"
   ]
  },
  {
   "cell_type": "code",
   "execution_count": 1956,
   "metadata": {},
   "outputs": [
    {
     "name": "stderr",
     "output_type": "stream",
     "text": [
      "C:\\ProgramData\\Anaconda3\\lib\\site-packages\\sklearn\\linear_model\\_logistic.py:940: ConvergenceWarning: lbfgs failed to converge (status=1):\n",
      "STOP: TOTAL NO. of ITERATIONS REACHED LIMIT.\n",
      "\n",
      "Increase the number of iterations (max_iter) or scale the data as shown in:\n",
      "    https://scikit-learn.org/stable/modules/preprocessing.html\n",
      "Please also refer to the documentation for alternative solver options:\n",
      "    https://scikit-learn.org/stable/modules/linear_model.html#logistic-regression\n",
      "  extra_warning_msg=_LOGISTIC_SOLVER_CONVERGENCE_MSG)\n"
     ]
    },
    {
     "data": {
      "text/plain": [
       "LogisticRegression(C=1.0, class_weight=None, dual=False, fit_intercept=True,\n",
       "                   intercept_scaling=1, l1_ratio=None, max_iter=100,\n",
       "                   multi_class='auto', n_jobs=None, penalty='l2',\n",
       "                   random_state=None, solver='lbfgs', tol=0.0001, verbose=0,\n",
       "                   warm_start=False)"
      ]
     },
     "execution_count": 1956,
     "metadata": {},
     "output_type": "execute_result"
    }
   ],
   "source": [
    "model_log = LogisticRegression()\n",
    "model_log.fit(x_train,y_train)"
   ]
  },
  {
   "cell_type": "code",
   "execution_count": 1957,
   "metadata": {},
   "outputs": [
    {
     "data": {
      "text/html": [
       "<div>\n",
       "<style scoped>\n",
       "    .dataframe tbody tr th:only-of-type {\n",
       "        vertical-align: middle;\n",
       "    }\n",
       "\n",
       "    .dataframe tbody tr th {\n",
       "        vertical-align: top;\n",
       "    }\n",
       "\n",
       "    .dataframe thead th {\n",
       "        text-align: right;\n",
       "    }\n",
       "</style>\n",
       "<table border=\"1\" class=\"dataframe\">\n",
       "  <thead>\n",
       "    <tr style=\"text-align: right;\">\n",
       "      <th></th>\n",
       "      <th>Actual</th>\n",
       "      <th>Predicted</th>\n",
       "    </tr>\n",
       "  </thead>\n",
       "  <tbody>\n",
       "    <tr>\n",
       "      <th>580</th>\n",
       "      <td>1375.0</td>\n",
       "      <td>1200.0</td>\n",
       "    </tr>\n",
       "    <tr>\n",
       "      <th>444</th>\n",
       "      <td>412.0</td>\n",
       "      <td>709.0</td>\n",
       "    </tr>\n",
       "    <tr>\n",
       "      <th>683</th>\n",
       "      <td>2211.0</td>\n",
       "      <td>894.0</td>\n",
       "    </tr>\n",
       "    <tr>\n",
       "      <th>223</th>\n",
       "      <td>4473.0</td>\n",
       "      <td>773.0</td>\n",
       "    </tr>\n",
       "    <tr>\n",
       "      <th>489</th>\n",
       "      <td>541.0</td>\n",
       "      <td>0.0</td>\n",
       "    </tr>\n",
       "  </tbody>\n",
       "</table>\n",
       "</div>"
      ],
      "text/plain": [
       "     Actual  Predicted\n",
       "580  1375.0     1200.0\n",
       "444   412.0      709.0\n",
       "683  2211.0      894.0\n",
       "223  4473.0      773.0\n",
       "489   541.0        0.0"
      ]
     },
     "execution_count": 1957,
     "metadata": {},
     "output_type": "execute_result"
    }
   ],
   "source": [
    "y_pred = model_log.predict(x_test)\n",
    "result_log = pd.DataFrame({'Actual':y_test,'Predicted':y_pred})\n",
    "result_log.head(5)"
   ]
  },
  {
   "cell_type": "code",
   "execution_count": 1958,
   "metadata": {},
   "outputs": [],
   "source": [
    "y_pred_all=model_log.predict(x)\n",
    "result_all_df = pd.DataFrame({'Actual':y,'Predicted':y_pred_all})"
   ]
  },
  {
   "cell_type": "code",
   "execution_count": 1959,
   "metadata": {},
   "outputs": [
    {
     "data": {
      "text/plain": [
       "(720, 2)"
      ]
     },
     "execution_count": 1959,
     "metadata": {},
     "output_type": "execute_result"
    }
   ],
   "source": [
    "result_all_df.shape"
   ]
  },
  {
   "cell_type": "code",
   "execution_count": 1960,
   "metadata": {},
   "outputs": [
    {
     "data": {
      "text/plain": [
       "(43, 2)"
      ]
     },
     "execution_count": 1960,
     "metadata": {},
     "output_type": "execute_result"
    }
   ],
   "source": [
    "result_all_df[np.abs(result_all_df['Predicted']-result_all_df['Actual'])>1000].shape"
   ]
  },
  {
   "cell_type": "markdown",
   "metadata": {},
   "source": [
    "###### Delhi, Chennai, Kolkata, Hyderabad, Mumbai 2-day offset"
   ]
  },
  {
   "cell_type": "code",
   "execution_count": 1961,
   "metadata": {
    "scrolled": true
   },
   "outputs": [
    {
     "name": "stdout",
     "output_type": "stream",
     "text": [
      "Mean Absolute Error: 209.25694444444446\n",
      "Mean Squared Error: 379417.7013888889\n",
      "Root Mean Squared Error: 615.9689126805742\n"
     ]
    }
   ],
   "source": [
    "print('Mean Absolute Error:', metrics.mean_absolute_error(y,y_pred_all))\n",
    "print('Mean Squared Error:', metrics.mean_squared_error(y,y_pred_all))\n",
    "print('Root Mean Squared Error:', np.sqrt(metrics.mean_squared_error(y,y_pred_all)))"
   ]
  },
  {
   "cell_type": "code",
   "execution_count": 1962,
   "metadata": {
    "scrolled": true
   },
   "outputs": [
    {
     "name": "stderr",
     "output_type": "stream",
     "text": [
      "C:\\ProgramData\\Anaconda3\\lib\\site-packages\\ipykernel_launcher.py:1: SettingWithCopyWarning: \n",
      "A value is trying to be set on a copy of a slice from a DataFrame.\n",
      "Try using .loc[row_indexer,col_indexer] = value instead\n",
      "\n",
      "See the caveats in the documentation: https://pandas.pydata.org/pandas-docs/stable/user_guide/indexing.html#returning-a-view-versus-a-copy\n",
      "  \"\"\"Entry point for launching an IPython kernel.\n",
      "C:\\ProgramData\\Anaconda3\\lib\\site-packages\\ipykernel_launcher.py:2: SettingWithCopyWarning: \n",
      "A value is trying to be set on a copy of a slice from a DataFrame.\n",
      "Try using .loc[row_indexer,col_indexer] = value instead\n",
      "\n",
      "See the caveats in the documentation: https://pandas.pydata.org/pandas-docs/stable/user_guide/indexing.html#returning-a-view-versus-a-copy\n",
      "  \n"
     ]
    },
    {
     "data": {
      "text/plain": [
       "(628, 16)"
      ]
     },
     "execution_count": 1962,
     "metadata": {},
     "output_type": "execute_result"
    }
   ],
   "source": [
    "final_high_df[\"Total_Cases_Prediction\"]=y_pred_all\n",
    "final_high_df[\"Difference in Prediction\"]=np.abs(final_high_df[\"Total_Day_Cases\"]-final_high_df[\"Total_Cases_Prediction\"])\n",
    "final_high_df[final_high_df[\"Difference in Prediction\"]<500].shape"
   ]
  },
  {
   "cell_type": "code",
   "execution_count": 1963,
   "metadata": {},
   "outputs": [
    {
     "name": "stderr",
     "output_type": "stream",
     "text": [
      "C:\\ProgramData\\Anaconda3\\lib\\site-packages\\ipykernel_launcher.py:1: SettingWithCopyWarning: \n",
      "A value is trying to be set on a copy of a slice from a DataFrame.\n",
      "Try using .loc[row_indexer,col_indexer] = value instead\n",
      "\n",
      "See the caveats in the documentation: https://pandas.pydata.org/pandas-docs/stable/user_guide/indexing.html#returning-a-view-versus-a-copy\n",
      "  \"\"\"Entry point for launching an IPython kernel.\n",
      "C:\\ProgramData\\Anaconda3\\lib\\site-packages\\ipykernel_launcher.py:2: SettingWithCopyWarning: \n",
      "A value is trying to be set on a copy of a slice from a DataFrame.\n",
      "Try using .loc[row_indexer,col_indexer] = value instead\n",
      "\n",
      "See the caveats in the documentation: https://pandas.pydata.org/pandas-docs/stable/user_guide/indexing.html#returning-a-view-versus-a-copy\n",
      "  \n"
     ]
    }
   ],
   "source": [
    "final_high_df[\"City\"]=final_df[\"City\"]\n",
    "final_high_df[\"Date\"]=final_df[\"Date\"]"
   ]
  },
  {
   "cell_type": "code",
   "execution_count": 1964,
   "metadata": {},
   "outputs": [
    {
     "data": {
      "text/html": [
       "<div>\n",
       "<style scoped>\n",
       "    .dataframe tbody tr th:only-of-type {\n",
       "        vertical-align: middle;\n",
       "    }\n",
       "\n",
       "    .dataframe tbody tr th {\n",
       "        vertical-align: top;\n",
       "    }\n",
       "\n",
       "    .dataframe thead th {\n",
       "        text-align: right;\n",
       "    }\n",
       "</style>\n",
       "<table border=\"1\" class=\"dataframe\">\n",
       "  <thead>\n",
       "    <tr style=\"text-align: right;\">\n",
       "      <th></th>\n",
       "      <th>PM2.5_average</th>\n",
       "      <th>PM2.5_minimum</th>\n",
       "      <th>PM2.5_maximum</th>\n",
       "      <th>NO2_average</th>\n",
       "      <th>NO2_maximum</th>\n",
       "      <th>SO2_average</th>\n",
       "      <th>SO2_minimum</th>\n",
       "      <th>SO2_maximum</th>\n",
       "      <th>CO_average</th>\n",
       "      <th>CO_minimum</th>\n",
       "      <th>CO_maximum</th>\n",
       "      <th>OZONE_minimum</th>\n",
       "      <th>OZONE_maximum</th>\n",
       "      <th>Total_Day_Cases</th>\n",
       "      <th>Total_Cases_Prediction</th>\n",
       "      <th>Difference in Prediction</th>\n",
       "      <th>City</th>\n",
       "      <th>Date</th>\n",
       "    </tr>\n",
       "  </thead>\n",
       "  <tbody>\n",
       "    <tr>\n",
       "      <th>0</th>\n",
       "      <td>24.000000</td>\n",
       "      <td>3.0</td>\n",
       "      <td>97.0</td>\n",
       "      <td>12.000000</td>\n",
       "      <td>101.0</td>\n",
       "      <td>10.333333</td>\n",
       "      <td>1.0</td>\n",
       "      <td>101.0</td>\n",
       "      <td>30.666667</td>\n",
       "      <td>5.0</td>\n",
       "      <td>58.0</td>\n",
       "      <td>17.0</td>\n",
       "      <td>252.0</td>\n",
       "      <td>2207.0</td>\n",
       "      <td>2207.0</td>\n",
       "      <td>0.0</td>\n",
       "      <td>Chennai</td>\n",
       "      <td>2020-06-29</td>\n",
       "    </tr>\n",
       "    <tr>\n",
       "      <th>1</th>\n",
       "      <td>25.500000</td>\n",
       "      <td>5.0</td>\n",
       "      <td>71.0</td>\n",
       "      <td>15.000000</td>\n",
       "      <td>55.0</td>\n",
       "      <td>13.000000</td>\n",
       "      <td>1.0</td>\n",
       "      <td>63.0</td>\n",
       "      <td>32.000000</td>\n",
       "      <td>6.0</td>\n",
       "      <td>61.0</td>\n",
       "      <td>18.0</td>\n",
       "      <td>121.0</td>\n",
       "      <td>2358.0</td>\n",
       "      <td>2358.0</td>\n",
       "      <td>0.0</td>\n",
       "      <td>Chennai</td>\n",
       "      <td>2020-06-30</td>\n",
       "    </tr>\n",
       "    <tr>\n",
       "      <th>2</th>\n",
       "      <td>30.000000</td>\n",
       "      <td>4.0</td>\n",
       "      <td>66.0</td>\n",
       "      <td>23.500000</td>\n",
       "      <td>65.0</td>\n",
       "      <td>7.500000</td>\n",
       "      <td>1.0</td>\n",
       "      <td>67.0</td>\n",
       "      <td>36.500000</td>\n",
       "      <td>2.0</td>\n",
       "      <td>62.0</td>\n",
       "      <td>5.0</td>\n",
       "      <td>145.0</td>\n",
       "      <td>2206.0</td>\n",
       "      <td>2206.0</td>\n",
       "      <td>0.0</td>\n",
       "      <td>Chennai</td>\n",
       "      <td>2020-07-01</td>\n",
       "    </tr>\n",
       "    <tr>\n",
       "      <th>3</th>\n",
       "      <td>22.000000</td>\n",
       "      <td>8.0</td>\n",
       "      <td>59.0</td>\n",
       "      <td>12.000000</td>\n",
       "      <td>15.0</td>\n",
       "      <td>25.000000</td>\n",
       "      <td>3.0</td>\n",
       "      <td>90.0</td>\n",
       "      <td>38.500000</td>\n",
       "      <td>28.0</td>\n",
       "      <td>101.0</td>\n",
       "      <td>3.0</td>\n",
       "      <td>72.0</td>\n",
       "      <td>2065.0</td>\n",
       "      <td>2065.0</td>\n",
       "      <td>0.0</td>\n",
       "      <td>Chennai</td>\n",
       "      <td>2020-07-02</td>\n",
       "    </tr>\n",
       "    <tr>\n",
       "      <th>4</th>\n",
       "      <td>16.666667</td>\n",
       "      <td>1.0</td>\n",
       "      <td>82.0</td>\n",
       "      <td>12.333333</td>\n",
       "      <td>53.0</td>\n",
       "      <td>7.333333</td>\n",
       "      <td>1.0</td>\n",
       "      <td>58.0</td>\n",
       "      <td>35.000000</td>\n",
       "      <td>10.0</td>\n",
       "      <td>58.0</td>\n",
       "      <td>2.0</td>\n",
       "      <td>260.0</td>\n",
       "      <td>2091.0</td>\n",
       "      <td>2091.0</td>\n",
       "      <td>0.0</td>\n",
       "      <td>Chennai</td>\n",
       "      <td>2020-07-03</td>\n",
       "    </tr>\n",
       "    <tr>\n",
       "      <th>...</th>\n",
       "      <td>...</td>\n",
       "      <td>...</td>\n",
       "      <td>...</td>\n",
       "      <td>...</td>\n",
       "      <td>...</td>\n",
       "      <td>...</td>\n",
       "      <td>...</td>\n",
       "      <td>...</td>\n",
       "      <td>...</td>\n",
       "      <td>...</td>\n",
       "      <td>...</td>\n",
       "      <td>...</td>\n",
       "      <td>...</td>\n",
       "      <td>...</td>\n",
       "      <td>...</td>\n",
       "      <td>...</td>\n",
       "      <td>...</td>\n",
       "      <td>...</td>\n",
       "    </tr>\n",
       "    <tr>\n",
       "      <th>715</th>\n",
       "      <td>139.000000</td>\n",
       "      <td>28.0</td>\n",
       "      <td>484.0</td>\n",
       "      <td>31.500000</td>\n",
       "      <td>135.0</td>\n",
       "      <td>11.000000</td>\n",
       "      <td>1.0</td>\n",
       "      <td>33.0</td>\n",
       "      <td>60.437500</td>\n",
       "      <td>1.0</td>\n",
       "      <td>127.0</td>\n",
       "      <td>2.0</td>\n",
       "      <td>246.0</td>\n",
       "      <td>577.0</td>\n",
       "      <td>801.0</td>\n",
       "      <td>224.0</td>\n",
       "      <td>Mumbai</td>\n",
       "      <td>2020-11-15</td>\n",
       "    </tr>\n",
       "    <tr>\n",
       "      <th>716</th>\n",
       "      <td>139.916667</td>\n",
       "      <td>33.0</td>\n",
       "      <td>433.0</td>\n",
       "      <td>41.333333</td>\n",
       "      <td>157.0</td>\n",
       "      <td>12.153846</td>\n",
       "      <td>1.0</td>\n",
       "      <td>47.0</td>\n",
       "      <td>59.375000</td>\n",
       "      <td>1.0</td>\n",
       "      <td>119.0</td>\n",
       "      <td>3.0</td>\n",
       "      <td>146.0</td>\n",
       "      <td>409.0</td>\n",
       "      <td>409.0</td>\n",
       "      <td>0.0</td>\n",
       "      <td>Mumbai</td>\n",
       "      <td>2020-11-16</td>\n",
       "    </tr>\n",
       "    <tr>\n",
       "      <th>717</th>\n",
       "      <td>138.357143</td>\n",
       "      <td>41.0</td>\n",
       "      <td>459.0</td>\n",
       "      <td>41.125000</td>\n",
       "      <td>157.0</td>\n",
       "      <td>12.071429</td>\n",
       "      <td>1.0</td>\n",
       "      <td>48.0</td>\n",
       "      <td>58.187500</td>\n",
       "      <td>17.0</td>\n",
       "      <td>113.0</td>\n",
       "      <td>3.0</td>\n",
       "      <td>222.0</td>\n",
       "      <td>541.0</td>\n",
       "      <td>541.0</td>\n",
       "      <td>0.0</td>\n",
       "      <td>Mumbai</td>\n",
       "      <td>2020-11-17</td>\n",
       "    </tr>\n",
       "    <tr>\n",
       "      <th>718</th>\n",
       "      <td>138.400000</td>\n",
       "      <td>52.0</td>\n",
       "      <td>379.0</td>\n",
       "      <td>43.062500</td>\n",
       "      <td>133.0</td>\n",
       "      <td>11.357143</td>\n",
       "      <td>1.0</td>\n",
       "      <td>50.0</td>\n",
       "      <td>58.687500</td>\n",
       "      <td>13.0</td>\n",
       "      <td>113.0</td>\n",
       "      <td>3.0</td>\n",
       "      <td>216.0</td>\n",
       "      <td>871.0</td>\n",
       "      <td>541.0</td>\n",
       "      <td>330.0</td>\n",
       "      <td>Mumbai</td>\n",
       "      <td>2020-11-18</td>\n",
       "    </tr>\n",
       "    <tr>\n",
       "      <th>719</th>\n",
       "      <td>125.750000</td>\n",
       "      <td>38.0</td>\n",
       "      <td>386.0</td>\n",
       "      <td>45.937500</td>\n",
       "      <td>176.0</td>\n",
       "      <td>11.857143</td>\n",
       "      <td>1.0</td>\n",
       "      <td>58.0</td>\n",
       "      <td>53.625000</td>\n",
       "      <td>7.0</td>\n",
       "      <td>107.0</td>\n",
       "      <td>3.0</td>\n",
       "      <td>221.0</td>\n",
       "      <td>924.0</td>\n",
       "      <td>924.0</td>\n",
       "      <td>0.0</td>\n",
       "      <td>Mumbai</td>\n",
       "      <td>2020-11-19</td>\n",
       "    </tr>\n",
       "  </tbody>\n",
       "</table>\n",
       "<p>720 rows × 18 columns</p>\n",
       "</div>"
      ],
      "text/plain": [
       "     PM2.5_average  PM2.5_minimum  PM2.5_maximum  NO2_average  NO2_maximum  \\\n",
       "0        24.000000            3.0           97.0    12.000000        101.0   \n",
       "1        25.500000            5.0           71.0    15.000000         55.0   \n",
       "2        30.000000            4.0           66.0    23.500000         65.0   \n",
       "3        22.000000            8.0           59.0    12.000000         15.0   \n",
       "4        16.666667            1.0           82.0    12.333333         53.0   \n",
       "..             ...            ...            ...          ...          ...   \n",
       "715     139.000000           28.0          484.0    31.500000        135.0   \n",
       "716     139.916667           33.0          433.0    41.333333        157.0   \n",
       "717     138.357143           41.0          459.0    41.125000        157.0   \n",
       "718     138.400000           52.0          379.0    43.062500        133.0   \n",
       "719     125.750000           38.0          386.0    45.937500        176.0   \n",
       "\n",
       "     SO2_average  SO2_minimum  SO2_maximum  CO_average  CO_minimum  \\\n",
       "0      10.333333          1.0        101.0   30.666667         5.0   \n",
       "1      13.000000          1.0         63.0   32.000000         6.0   \n",
       "2       7.500000          1.0         67.0   36.500000         2.0   \n",
       "3      25.000000          3.0         90.0   38.500000        28.0   \n",
       "4       7.333333          1.0         58.0   35.000000        10.0   \n",
       "..           ...          ...          ...         ...         ...   \n",
       "715    11.000000          1.0         33.0   60.437500         1.0   \n",
       "716    12.153846          1.0         47.0   59.375000         1.0   \n",
       "717    12.071429          1.0         48.0   58.187500        17.0   \n",
       "718    11.357143          1.0         50.0   58.687500        13.0   \n",
       "719    11.857143          1.0         58.0   53.625000         7.0   \n",
       "\n",
       "     CO_maximum  OZONE_minimum  OZONE_maximum  Total_Day_Cases  \\\n",
       "0          58.0           17.0          252.0           2207.0   \n",
       "1          61.0           18.0          121.0           2358.0   \n",
       "2          62.0            5.0          145.0           2206.0   \n",
       "3         101.0            3.0           72.0           2065.0   \n",
       "4          58.0            2.0          260.0           2091.0   \n",
       "..          ...            ...            ...              ...   \n",
       "715       127.0            2.0          246.0            577.0   \n",
       "716       119.0            3.0          146.0            409.0   \n",
       "717       113.0            3.0          222.0            541.0   \n",
       "718       113.0            3.0          216.0            871.0   \n",
       "719       107.0            3.0          221.0            924.0   \n",
       "\n",
       "     Total_Cases_Prediction  Difference in Prediction     City       Date  \n",
       "0                    2207.0                       0.0  Chennai 2020-06-29  \n",
       "1                    2358.0                       0.0  Chennai 2020-06-30  \n",
       "2                    2206.0                       0.0  Chennai 2020-07-01  \n",
       "3                    2065.0                       0.0  Chennai 2020-07-02  \n",
       "4                    2091.0                       0.0  Chennai 2020-07-03  \n",
       "..                      ...                       ...      ...        ...  \n",
       "715                   801.0                     224.0   Mumbai 2020-11-15  \n",
       "716                   409.0                       0.0   Mumbai 2020-11-16  \n",
       "717                   541.0                       0.0   Mumbai 2020-11-17  \n",
       "718                   541.0                     330.0   Mumbai 2020-11-18  \n",
       "719                   924.0                       0.0   Mumbai 2020-11-19  \n",
       "\n",
       "[720 rows x 18 columns]"
      ]
     },
     "execution_count": 1964,
     "metadata": {},
     "output_type": "execute_result"
    }
   ],
   "source": [
    "final_high_df"
   ]
  },
  {
   "cell_type": "code",
   "execution_count": 1971,
   "metadata": {},
   "outputs": [
    {
     "data": {
      "image/png": "[encoded data removed]",
      "text/plain": [
       "<Figure size 432x288 with 1 Axes>"
      ]
     },
     "metadata": {
      "needs_background": "light"
     },
     "output_type": "display_data"
    },
    {
     "data": {
      "text/plain": [
       "<matplotlib.axes._subplots.AxesSubplot at 0x18f54bdc2c8>"
      ]
     },
     "execution_count": 1971,
     "metadata": {},
     "output_type": "execute_result"
    },
    {
     "data": {
      "image/png": "[encoded data removed]",
      "text/plain": [
       "<Figure size 432x288 with 1 Axes>"
      ]
     },
     "metadata": {
      "needs_background": "light"
     },
     "output_type": "display_data"
    }
   ],
   "source": [
    "sns.boxplot(y=\"City\",x=\"Total_Cases_Prediction\",data=final_high_df,orient=\"h\")\n",
    "plt.show()\n",
    "sns.boxplot(y=\"City\",x=\"Total_Day_Cases\",data=final_high_df,orient=\"h\")"
   ]
  },
  {
   "cell_type": "markdown",
   "metadata": {},
   "source": [
    "###### Mumbai 2-day offset"
   ]
  },
  {
   "cell_type": "code",
   "execution_count": 1753,
   "metadata": {},
   "outputs": [
    {
     "name": "stdout",
     "output_type": "stream",
     "text": [
      "Mean Absolute Error: 2378.7291666666665\n",
      "Mean Squared Error: 9525713.479166666\n",
      "Root Mean Squared Error: 3086.3754598503833\n"
     ]
    },
    {
     "data": {
      "text/plain": [
       "<matplotlib.axes._subplots.AxesSubplot at 0x18f56a476c8>"
      ]
     },
     "execution_count": 1753,
     "metadata": {},
     "output_type": "execute_result"
    },
    {
     "data": {
      "image/png": "[encoded data removed]",
      "text/plain": [
       "<Figure size 432x288 with 1 Axes>"
      ]
     },
     "metadata": {
      "needs_background": "light"
     },
     "output_type": "display_data"
    }
   ],
   "source": [
    "print('Mean Absolute Error:', metrics.mean_absolute_error(y,y_pred_all))\n",
    "print('Mean Squared Error:', metrics.mean_squared_error(y,y_pred_all))\n",
    "print('Root Mean Squared Error:', np.sqrt(metrics.mean_squared_error(y,y_pred_all)))\n",
    "result_all_df.head(20).plot(kind = 'bar')"
   ]
  },
  {
   "cell_type": "code",
   "execution_count": 1754,
   "metadata": {},
   "outputs": [
    {
     "name": "stderr",
     "output_type": "stream",
     "text": [
      "C:\\ProgramData\\Anaconda3\\lib\\site-packages\\ipykernel_launcher.py:1: SettingWithCopyWarning: \n",
      "A value is trying to be set on a copy of a slice from a DataFrame.\n",
      "Try using .loc[row_indexer,col_indexer] = value instead\n",
      "\n",
      "See the caveats in the documentation: https://pandas.pydata.org/pandas-docs/stable/user_guide/indexing.html#returning-a-view-versus-a-copy\n",
      "  \"\"\"Entry point for launching an IPython kernel.\n",
      "C:\\ProgramData\\Anaconda3\\lib\\site-packages\\ipykernel_launcher.py:2: SettingWithCopyWarning: \n",
      "A value is trying to be set on a copy of a slice from a DataFrame.\n",
      "Try using .loc[row_indexer,col_indexer] = value instead\n",
      "\n",
      "See the caveats in the documentation: https://pandas.pydata.org/pandas-docs/stable/user_guide/indexing.html#returning-a-view-versus-a-copy\n",
      "  \n"
     ]
    },
    {
     "data": {
      "text/plain": [
       "(43, 7)"
      ]
     },
     "execution_count": 1754,
     "metadata": {},
     "output_type": "execute_result"
    }
   ],
   "source": [
    "final_high_df[\"Total_Cases_Prediction\"]=y_pred_all\n",
    "final_high_df[\"Difference in Prediction\"]=np.abs(final_high_df[\"Total_Day_Cases\"]-final_high_df[\"Total_Cases_Prediction\"])\n",
    "final_high_df[final_high_df[\"Difference in Prediction\"]<500].shape"
   ]
  },
  {
   "cell_type": "markdown",
   "metadata": {},
   "source": [
    "###### Kolkata 2-day offset"
   ]
  },
  {
   "cell_type": "code",
   "execution_count": 1733,
   "metadata": {},
   "outputs": [
    {
     "name": "stdout",
     "output_type": "stream",
     "text": [
      "Mean Absolute Error: 2378.7291666666665\n",
      "Mean Squared Error: 9525713.479166666\n",
      "Root Mean Squared Error: 3086.3754598503833\n"
     ]
    },
    {
     "data": {
      "text/plain": [
       "<matplotlib.axes._subplots.AxesSubplot at 0x18f52fc9908>"
      ]
     },
     "execution_count": 1733,
     "metadata": {},
     "output_type": "execute_result"
    },
    {
     "data": {
      "image/png": "[encoded data removed]",
      "text/plain": [
       "<Figure size 432x288 with 1 Axes>"
      ]
     },
     "metadata": {
      "needs_background": "light"
     },
     "output_type": "display_data"
    }
   ],
   "source": [
    "print('Mean Absolute Error:', metrics.mean_absolute_error(y,y_pred_all))\n",
    "print('Mean Squared Error:', metrics.mean_squared_error(y,y_pred_all))\n",
    "print('Root Mean Squared Error:', np.sqrt(metrics.mean_squared_error(y,y_pred_all)))\n",
    "result_all_df.head(20).plot(kind = 'bar')"
   ]
  },
  {
   "cell_type": "code",
   "execution_count": 1755,
   "metadata": {},
   "outputs": [
    {
     "data": {
      "text/plain": [
       "<matplotlib.axes._subplots.AxesSubplot at 0x18f6330d548>"
      ]
     },
     "execution_count": 1755,
     "metadata": {},
     "output_type": "execute_result"
    },
    {
     "data": {
      "image/png": "[encoded data removed]",
      "text/plain": [
       "<Figure size 432x288 with 1 Axes>"
      ]
     },
     "metadata": {
      "needs_background": "light"
     },
     "output_type": "display_data"
    }
   ],
   "source": [
    "result_all_df.head(20).plot(kind = 'box')"
   ]
  },
  {
   "cell_type": "code",
   "execution_count": 1734,
   "metadata": {},
   "outputs": [
    {
     "name": "stderr",
     "output_type": "stream",
     "text": [
      "C:\\ProgramData\\Anaconda3\\lib\\site-packages\\ipykernel_launcher.py:1: SettingWithCopyWarning: \n",
      "A value is trying to be set on a copy of a slice from a DataFrame.\n",
      "Try using .loc[row_indexer,col_indexer] = value instead\n",
      "\n",
      "See the caveats in the documentation: https://pandas.pydata.org/pandas-docs/stable/user_guide/indexing.html#returning-a-view-versus-a-copy\n",
      "  \"\"\"Entry point for launching an IPython kernel.\n",
      "C:\\ProgramData\\Anaconda3\\lib\\site-packages\\ipykernel_launcher.py:2: SettingWithCopyWarning: \n",
      "A value is trying to be set on a copy of a slice from a DataFrame.\n",
      "Try using .loc[row_indexer,col_indexer] = value instead\n",
      "\n",
      "See the caveats in the documentation: https://pandas.pydata.org/pandas-docs/stable/user_guide/indexing.html#returning-a-view-versus-a-copy\n",
      "  \n"
     ]
    },
    {
     "data": {
      "text/plain": [
       "(24, 19)"
      ]
     },
     "execution_count": 1734,
     "metadata": {},
     "output_type": "execute_result"
    }
   ],
   "source": [
    "final_high_df[\"Total_Cases_Prediction\"]=y_pred_all\n",
    "final_high_df[\"Difference in Prediction\"]=np.abs(final_high_df[\"Total_Day_Cases\"]-final_high_df[\"Total_Cases_Prediction\"])\n",
    "final_high_df[final_high_df[\"Difference in Prediction\"]<500].shape"
   ]
  },
  {
   "cell_type": "markdown",
   "metadata": {},
   "source": [
    "###### Chennai 2-day offset"
   ]
  },
  {
   "cell_type": "code",
   "execution_count": 1705,
   "metadata": {},
   "outputs": [
    {
     "name": "stdout",
     "output_type": "stream",
     "text": [
      "Mean Absolute Error: 2063.3263888888887\n",
      "Mean Squared Error: 8887297.479166666\n",
      "Root Mean Squared Error: 2981.157070529271\n"
     ]
    },
    {
     "data": {
      "text/plain": [
       "<matplotlib.axes._subplots.AxesSubplot at 0x18f543a4b48>"
      ]
     },
     "execution_count": 1705,
     "metadata": {},
     "output_type": "execute_result"
    },
    {
     "data": {
      "image/png": "[encoded data removed]",
      "text/plain": [
       "<Figure size 432x288 with 1 Axes>"
      ]
     },
     "metadata": {
      "needs_background": "light"
     },
     "output_type": "display_data"
    }
   ],
   "source": [
    "print('Mean Absolute Error:', metrics.mean_absolute_error(y,y_pred_all))\n",
    "print('Mean Squared Error:', metrics.mean_squared_error(y,y_pred_all))\n",
    "print('Root Mean Squared Error:', np.sqrt(metrics.mean_squared_error(y,y_pred_all)))\n",
    "result_all_df.head(20).plot(kind = 'bar')"
   ]
  },
  {
   "cell_type": "code",
   "execution_count": 1711,
   "metadata": {},
   "outputs": [
    {
     "name": "stderr",
     "output_type": "stream",
     "text": [
      "C:\\ProgramData\\Anaconda3\\lib\\site-packages\\ipykernel_launcher.py:1: SettingWithCopyWarning: \n",
      "A value is trying to be set on a copy of a slice from a DataFrame.\n",
      "Try using .loc[row_indexer,col_indexer] = value instead\n",
      "\n",
      "See the caveats in the documentation: https://pandas.pydata.org/pandas-docs/stable/user_guide/indexing.html#returning-a-view-versus-a-copy\n",
      "  \"\"\"Entry point for launching an IPython kernel.\n",
      "C:\\ProgramData\\Anaconda3\\lib\\site-packages\\ipykernel_launcher.py:2: SettingWithCopyWarning: \n",
      "A value is trying to be set on a copy of a slice from a DataFrame.\n",
      "Try using .loc[row_indexer,col_indexer] = value instead\n",
      "\n",
      "See the caveats in the documentation: https://pandas.pydata.org/pandas-docs/stable/user_guide/indexing.html#returning-a-view-versus-a-copy\n",
      "  \n"
     ]
    },
    {
     "data": {
      "text/plain": [
       "(43, 14)"
      ]
     },
     "execution_count": 1711,
     "metadata": {},
     "output_type": "execute_result"
    }
   ],
   "source": [
    "final_high_df[\"Total_Cases_Prediction\"]=y_pred_all\n",
    "final_high_df[\"Difference in Prediction\"]=np.abs(final_high_df[\"Total_Day_Cases\"]-final_high_df[\"Total_Cases_Prediction\"])\n",
    "final_high_df[final_high_df[\"Difference in Prediction\"]<500].shape"
   ]
  },
  {
   "cell_type": "markdown",
   "metadata": {},
   "source": [
    "###### Delhi 2-day offset"
   ]
  },
  {
   "cell_type": "code",
   "execution_count": 1883,
   "metadata": {},
   "outputs": [
    {
     "name": "stdout",
     "output_type": "stream",
     "text": [
      "Mean Absolute Error: 493.03472222222223\n",
      "Mean Squared Error: 1109566.173611111\n",
      "Root Mean Squared Error: 1053.3594702717164\n"
     ]
    },
    {
     "data": {
      "text/plain": [
       "<matplotlib.axes._subplots.AxesSubplot at 0x18f65fb0608>"
      ]
     },
     "execution_count": 1883,
     "metadata": {},
     "output_type": "execute_result"
    },
    {
     "data": {
      "image/png": "[encoded data removed]",
      "text/plain": [
       "<Figure size 432x288 with 1 Axes>"
      ]
     },
     "metadata": {
      "needs_background": "light"
     },
     "output_type": "display_data"
    },
    {
     "data": {
      "image/png": "[encoded data removed]",
      "text/plain": [
       "<Figure size 432x288 with 1 Axes>"
      ]
     },
     "metadata": {
      "needs_background": "light"
     },
     "output_type": "display_data"
    }
   ],
   "source": [
    "print('Mean Absolute Error:', metrics.mean_absolute_error(y,y_pred_all))\n",
    "print('Mean Squared Error:', metrics.mean_squared_error(y,y_pred_all))\n",
    "print('Root Mean Squared Error:', np.sqrt(metrics.mean_squared_error(y,y_pred_all)))\n",
    "result_all_df.head(20).plot(kind = 'bar')\n",
    "result_all_df.plot(kind = 'box')"
   ]
  },
  {
   "cell_type": "code",
   "execution_count": 1881,
   "metadata": {},
   "outputs": [
    {
     "name": "stderr",
     "output_type": "stream",
     "text": [
      "C:\\ProgramData\\Anaconda3\\lib\\site-packages\\ipykernel_launcher.py:1: SettingWithCopyWarning: \n",
      "A value is trying to be set on a copy of a slice from a DataFrame.\n",
      "Try using .loc[row_indexer,col_indexer] = value instead\n",
      "\n",
      "See the caveats in the documentation: https://pandas.pydata.org/pandas-docs/stable/user_guide/indexing.html#returning-a-view-versus-a-copy\n",
      "  \"\"\"Entry point for launching an IPython kernel.\n",
      "C:\\ProgramData\\Anaconda3\\lib\\site-packages\\ipykernel_launcher.py:2: SettingWithCopyWarning: \n",
      "A value is trying to be set on a copy of a slice from a DataFrame.\n",
      "Try using .loc[row_indexer,col_indexer] = value instead\n",
      "\n",
      "See the caveats in the documentation: https://pandas.pydata.org/pandas-docs/stable/user_guide/indexing.html#returning-a-view-versus-a-copy\n",
      "  \n"
     ]
    },
    {
     "data": {
      "text/html": [
       "<div>\n",
       "<style scoped>\n",
       "    .dataframe tbody tr th:only-of-type {\n",
       "        vertical-align: middle;\n",
       "    }\n",
       "\n",
       "    .dataframe tbody tr th {\n",
       "        vertical-align: top;\n",
       "    }\n",
       "\n",
       "    .dataframe thead th {\n",
       "        text-align: right;\n",
       "    }\n",
       "</style>\n",
       "<table border=\"1\" class=\"dataframe\">\n",
       "  <thead>\n",
       "    <tr style=\"text-align: right;\">\n",
       "      <th></th>\n",
       "      <th>PM2.5_average</th>\n",
       "      <th>PM2.5_minimum</th>\n",
       "      <th>PM2.5_maximum</th>\n",
       "      <th>NO2_average</th>\n",
       "      <th>NO2_maximum</th>\n",
       "      <th>SO2_average</th>\n",
       "      <th>SO2_minimum</th>\n",
       "      <th>SO2_maximum</th>\n",
       "      <th>CO_average</th>\n",
       "      <th>CO_minimum</th>\n",
       "      <th>CO_maximum</th>\n",
       "      <th>OZONE_minimum</th>\n",
       "      <th>OZONE_maximum</th>\n",
       "      <th>Total_Day_Cases</th>\n",
       "      <th>Total_Cases_Predicted</th>\n",
       "      <th>Total_Cases_Prediction</th>\n",
       "      <th>Difference in Prediction</th>\n",
       "    </tr>\n",
       "  </thead>\n",
       "  <tbody>\n",
       "    <tr>\n",
       "      <th>0</th>\n",
       "      <td>69.700000</td>\n",
       "      <td>10.0</td>\n",
       "      <td>335.0</td>\n",
       "      <td>21.105263</td>\n",
       "      <td>71.0</td>\n",
       "      <td>13.125000</td>\n",
       "      <td>1.0</td>\n",
       "      <td>54.0</td>\n",
       "      <td>45.033333</td>\n",
       "      <td>2.0</td>\n",
       "      <td>122.0</td>\n",
       "      <td>2.0</td>\n",
       "      <td>264.0</td>\n",
       "      <td>2199.0</td>\n",
       "      <td>1925.441392</td>\n",
       "      <td>2199.0</td>\n",
       "      <td>0.0</td>\n",
       "    </tr>\n",
       "    <tr>\n",
       "      <th>3</th>\n",
       "      <td>122.615385</td>\n",
       "      <td>4.0</td>\n",
       "      <td>453.0</td>\n",
       "      <td>29.962963</td>\n",
       "      <td>144.0</td>\n",
       "      <td>13.391304</td>\n",
       "      <td>1.0</td>\n",
       "      <td>79.0</td>\n",
       "      <td>52.758621</td>\n",
       "      <td>1.0</td>\n",
       "      <td>168.0</td>\n",
       "      <td>1.0</td>\n",
       "      <td>271.0</td>\n",
       "      <td>2373.0</td>\n",
       "      <td>2702.645643</td>\n",
       "      <td>2373.0</td>\n",
       "      <td>0.0</td>\n",
       "    </tr>\n",
       "    <tr>\n",
       "      <th>4</th>\n",
       "      <td>76.176471</td>\n",
       "      <td>3.0</td>\n",
       "      <td>446.0</td>\n",
       "      <td>21.750000</td>\n",
       "      <td>289.0</td>\n",
       "      <td>11.000000</td>\n",
       "      <td>1.0</td>\n",
       "      <td>36.0</td>\n",
       "      <td>40.727273</td>\n",
       "      <td>2.0</td>\n",
       "      <td>118.0</td>\n",
       "      <td>1.0</td>\n",
       "      <td>224.0</td>\n",
       "      <td>2520.0</td>\n",
       "      <td>2688.633902</td>\n",
       "      <td>2520.0</td>\n",
       "      <td>0.0</td>\n",
       "    </tr>\n",
       "    <tr>\n",
       "      <th>5</th>\n",
       "      <td>52.346154</td>\n",
       "      <td>1.0</td>\n",
       "      <td>411.0</td>\n",
       "      <td>22.076923</td>\n",
       "      <td>81.0</td>\n",
       "      <td>11.083333</td>\n",
       "      <td>1.0</td>\n",
       "      <td>60.0</td>\n",
       "      <td>42.321429</td>\n",
       "      <td>1.0</td>\n",
       "      <td>104.0</td>\n",
       "      <td>3.0</td>\n",
       "      <td>257.0</td>\n",
       "      <td>2505.0</td>\n",
       "      <td>1647.842851</td>\n",
       "      <td>2505.0</td>\n",
       "      <td>0.0</td>\n",
       "    </tr>\n",
       "    <tr>\n",
       "      <th>6</th>\n",
       "      <td>80.464286</td>\n",
       "      <td>1.0</td>\n",
       "      <td>434.0</td>\n",
       "      <td>26.178571</td>\n",
       "      <td>159.0</td>\n",
       "      <td>14.454545</td>\n",
       "      <td>1.0</td>\n",
       "      <td>107.0</td>\n",
       "      <td>50.281250</td>\n",
       "      <td>1.0</td>\n",
       "      <td>162.0</td>\n",
       "      <td>1.0</td>\n",
       "      <td>169.0</td>\n",
       "      <td>2244.0</td>\n",
       "      <td>1925.320351</td>\n",
       "      <td>2244.0</td>\n",
       "      <td>0.0</td>\n",
       "    </tr>\n",
       "    <tr>\n",
       "      <th>...</th>\n",
       "      <td>...</td>\n",
       "      <td>...</td>\n",
       "      <td>...</td>\n",
       "      <td>...</td>\n",
       "      <td>...</td>\n",
       "      <td>...</td>\n",
       "      <td>...</td>\n",
       "      <td>...</td>\n",
       "      <td>...</td>\n",
       "      <td>...</td>\n",
       "      <td>...</td>\n",
       "      <td>...</td>\n",
       "      <td>...</td>\n",
       "      <td>...</td>\n",
       "      <td>...</td>\n",
       "      <td>...</td>\n",
       "      <td>...</td>\n",
       "    </tr>\n",
       "    <tr>\n",
       "      <th>137</th>\n",
       "      <td>451.515152</td>\n",
       "      <td>82.0</td>\n",
       "      <td>500.0</td>\n",
       "      <td>88.687500</td>\n",
       "      <td>250.0</td>\n",
       "      <td>23.933333</td>\n",
       "      <td>1.0</td>\n",
       "      <td>118.0</td>\n",
       "      <td>115.057143</td>\n",
       "      <td>5.0</td>\n",
       "      <td>181.0</td>\n",
       "      <td>1.0</td>\n",
       "      <td>270.0</td>\n",
       "      <td>7802.0</td>\n",
       "      <td>6638.701618</td>\n",
       "      <td>7802.0</td>\n",
       "      <td>0.0</td>\n",
       "    </tr>\n",
       "    <tr>\n",
       "      <th>139</th>\n",
       "      <td>177.310345</td>\n",
       "      <td>8.0</td>\n",
       "      <td>500.0</td>\n",
       "      <td>41.142857</td>\n",
       "      <td>132.0</td>\n",
       "      <td>14.916667</td>\n",
       "      <td>1.0</td>\n",
       "      <td>120.0</td>\n",
       "      <td>68.366667</td>\n",
       "      <td>7.0</td>\n",
       "      <td>125.0</td>\n",
       "      <td>1.0</td>\n",
       "      <td>280.0</td>\n",
       "      <td>3235.0</td>\n",
       "      <td>3462.010215</td>\n",
       "      <td>3235.0</td>\n",
       "      <td>0.0</td>\n",
       "    </tr>\n",
       "    <tr>\n",
       "      <th>141</th>\n",
       "      <td>253.896552</td>\n",
       "      <td>67.0</td>\n",
       "      <td>462.0</td>\n",
       "      <td>59.444444</td>\n",
       "      <td>183.0</td>\n",
       "      <td>13.521739</td>\n",
       "      <td>1.0</td>\n",
       "      <td>60.0</td>\n",
       "      <td>80.400000</td>\n",
       "      <td>8.0</td>\n",
       "      <td>138.0</td>\n",
       "      <td>1.0</td>\n",
       "      <td>278.0</td>\n",
       "      <td>6396.0</td>\n",
       "      <td>4007.813696</td>\n",
       "      <td>6396.0</td>\n",
       "      <td>0.0</td>\n",
       "    </tr>\n",
       "    <tr>\n",
       "      <th>142</th>\n",
       "      <td>278.529412</td>\n",
       "      <td>42.0</td>\n",
       "      <td>500.0</td>\n",
       "      <td>72.676471</td>\n",
       "      <td>225.0</td>\n",
       "      <td>15.964286</td>\n",
       "      <td>1.0</td>\n",
       "      <td>85.0</td>\n",
       "      <td>75.714286</td>\n",
       "      <td>6.0</td>\n",
       "      <td>147.0</td>\n",
       "      <td>1.0</td>\n",
       "      <td>262.0</td>\n",
       "      <td>7486.0</td>\n",
       "      <td>4103.151826</td>\n",
       "      <td>7486.0</td>\n",
       "      <td>0.0</td>\n",
       "    </tr>\n",
       "    <tr>\n",
       "      <th>143</th>\n",
       "      <td>281.774194</td>\n",
       "      <td>39.0</td>\n",
       "      <td>500.0</td>\n",
       "      <td>70.464286</td>\n",
       "      <td>222.0</td>\n",
       "      <td>16.269231</td>\n",
       "      <td>1.0</td>\n",
       "      <td>85.0</td>\n",
       "      <td>66.766667</td>\n",
       "      <td>14.0</td>\n",
       "      <td>152.0</td>\n",
       "      <td>1.0</td>\n",
       "      <td>209.0</td>\n",
       "      <td>7546.0</td>\n",
       "      <td>3729.557971</td>\n",
       "      <td>7546.0</td>\n",
       "      <td>0.0</td>\n",
       "    </tr>\n",
       "  </tbody>\n",
       "</table>\n",
       "<p>104 rows × 17 columns</p>\n",
       "</div>"
      ],
      "text/plain": [
       "     PM2.5_average  PM2.5_minimum  PM2.5_maximum  NO2_average  NO2_maximum  \\\n",
       "0        69.700000           10.0          335.0    21.105263         71.0   \n",
       "3       122.615385            4.0          453.0    29.962963        144.0   \n",
       "4        76.176471            3.0          446.0    21.750000        289.0   \n",
       "5        52.346154            1.0          411.0    22.076923         81.0   \n",
       "6        80.464286            1.0          434.0    26.178571        159.0   \n",
       "..             ...            ...            ...          ...          ...   \n",
       "137     451.515152           82.0          500.0    88.687500        250.0   \n",
       "139     177.310345            8.0          500.0    41.142857        132.0   \n",
       "141     253.896552           67.0          462.0    59.444444        183.0   \n",
       "142     278.529412           42.0          500.0    72.676471        225.0   \n",
       "143     281.774194           39.0          500.0    70.464286        222.0   \n",
       "\n",
       "     SO2_average  SO2_minimum  SO2_maximum  CO_average  CO_minimum  \\\n",
       "0      13.125000          1.0         54.0   45.033333         2.0   \n",
       "3      13.391304          1.0         79.0   52.758621         1.0   \n",
       "4      11.000000          1.0         36.0   40.727273         2.0   \n",
       "5      11.083333          1.0         60.0   42.321429         1.0   \n",
       "6      14.454545          1.0        107.0   50.281250         1.0   \n",
       "..           ...          ...          ...         ...         ...   \n",
       "137    23.933333          1.0        118.0  115.057143         5.0   \n",
       "139    14.916667          1.0        120.0   68.366667         7.0   \n",
       "141    13.521739          1.0         60.0   80.400000         8.0   \n",
       "142    15.964286          1.0         85.0   75.714286         6.0   \n",
       "143    16.269231          1.0         85.0   66.766667        14.0   \n",
       "\n",
       "     CO_maximum  OZONE_minimum  OZONE_maximum  Total_Day_Cases  \\\n",
       "0         122.0            2.0          264.0           2199.0   \n",
       "3         168.0            1.0          271.0           2373.0   \n",
       "4         118.0            1.0          224.0           2520.0   \n",
       "5         104.0            3.0          257.0           2505.0   \n",
       "6         162.0            1.0          169.0           2244.0   \n",
       "..          ...            ...            ...              ...   \n",
       "137       181.0            1.0          270.0           7802.0   \n",
       "139       125.0            1.0          280.0           3235.0   \n",
       "141       138.0            1.0          278.0           6396.0   \n",
       "142       147.0            1.0          262.0           7486.0   \n",
       "143       152.0            1.0          209.0           7546.0   \n",
       "\n",
       "     Total_Cases_Predicted  Total_Cases_Prediction  Difference in Prediction  \n",
       "0              1925.441392                  2199.0                       0.0  \n",
       "3              2702.645643                  2373.0                       0.0  \n",
       "4              2688.633902                  2520.0                       0.0  \n",
       "5              1647.842851                  2505.0                       0.0  \n",
       "6              1925.320351                  2244.0                       0.0  \n",
       "..                     ...                     ...                       ...  \n",
       "137            6638.701618                  7802.0                       0.0  \n",
       "139            3462.010215                  3235.0                       0.0  \n",
       "141            4007.813696                  6396.0                       0.0  \n",
       "142            4103.151826                  7486.0                       0.0  \n",
       "143            3729.557971                  7546.0                       0.0  \n",
       "\n",
       "[104 rows x 17 columns]"
      ]
     },
     "execution_count": 1881,
     "metadata": {},
     "output_type": "execute_result"
    }
   ],
   "source": [
    "final_high_df[\"Total_Cases_Prediction\"]=y_pred_all\n",
    "final_high_df[\"Difference in Prediction\"]=np.abs(final_high_df[\"Total_Day_Cases\"]-final_high_df[\"Total_Cases_Prediction\"])\n",
    "final_high_df[final_high_df[\"Difference in Prediction\"]<500]"
   ]
  },
  {
   "cell_type": "code",
   "execution_count": null,
   "metadata": {},
   "outputs": [],
   "source": []
  }
 ],
 "metadata": {
  "kernelspec": {
   "display_name": "Python 3",
   "language": "python",
   "name": "python3"
  },
  "language_info": {
   "codemirror_mode": {
    "name": "ipython",
    "version": 3
   },
   "file_extension": ".py",
   "mimetype": "text/x-python",
   "name": "python",
   "nbconvert_exporter": "python",
   "pygments_lexer": "ipython3",
   "version": "3.7.4"
  }
 },
 "nbformat": 4,
 "nbformat_minor": 2
}
