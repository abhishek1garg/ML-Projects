{
 "cells": [
  {
   "cell_type": "markdown",
   "metadata": {},
   "source": [
    "# Libraries"
   ]
  },
  {
   "cell_type": "code",
   "execution_count": 2,
   "metadata": {},
   "outputs": [
    {
     "name": "stdout",
     "output_type": "stream",
     "text": [
      "Collecting lightgbm\n",
      "  Using cached https://files.pythonhosted.org/packages/80/28/fecd02e7856e36afcdc71ee968b1b3859b3bc784e042991d5520e4d7be2c/lightgbm-3.1.1-py2.py3-none-win_amd64.whl\n",
      "Requirement already satisfied: numpy in c:\\programdata\\anaconda3\\lib\\site-packages (from lightgbm) (1.19.5)\n",
      "Requirement already satisfied: scikit-learn!=0.22.0 in c:\\programdata\\anaconda3\\lib\\site-packages (from lightgbm) (0.22.2.post1)\n",
      "Requirement already satisfied: scipy in c:\\programdata\\anaconda3\\lib\\site-packages (from lightgbm) (1.3.1)\n",
      "Requirement already satisfied: wheel in c:\\programdata\\anaconda3\\lib\\site-packages (from lightgbm) (0.33.6)\n",
      "Requirement already satisfied: joblib>=0.11 in c:\\programdata\\anaconda3\\lib\\site-packages (from scikit-learn!=0.22.0->lightgbm) (0.13.2)\n",
      "Installing collected packages: lightgbm\n",
      "Successfully installed lightgbm-3.1.1\n"
     ]
    }
   ],
   "source": [
    "#!pip install lightgbm"
   ]
  },
  {
   "cell_type": "code",
   "execution_count": 3,
   "metadata": {},
   "outputs": [],
   "source": [
    "import numpy as np\n",
    "import pandas as pd\n",
    "import seaborn as sns\n",
    "import datetime\n",
    "from sklearn.model_selection import train_test_split, RandomizedSearchCV\n",
    "from sklearn.linear_model import LinearRegression,LogisticRegression \n",
    "from sklearn.svm import SVR\n",
    "from sklearn import metrics\n",
    "import matplotlib.pyplot as plt\n",
    "from lightgbm import LGBMRegressor\n",
    "from scipy.stats import uniform, randint as sp_randint\n",
    "#from matplotlib import style"
   ]
  },
  {
   "cell_type": "markdown",
   "metadata": {},
   "source": [
    "# Read Data"
   ]
  },
  {
   "cell_type": "code",
   "execution_count": 4,
   "metadata": {},
   "outputs": [],
   "source": [
    "total_case_df = pd.read_excel(\"Case_Data.xlsx\",\"Total Cases\")\n",
    "air_df = pd.read_csv(\"AQI_Data_31Jan2021.csv\")\n",
    "air_df.Date = pd.to_datetime(air_df.Date,dayfirst=True)"
   ]
  },
  {
   "cell_type": "markdown",
   "metadata": {},
   "source": [
    "# Data Mining"
   ]
  },
  {
   "cell_type": "code",
   "execution_count": 8,
   "metadata": {},
   "outputs": [],
   "source": [
    "#air_df_copy=air_df.copy(deep=True)\n",
    "#air_df=air_df_copy.copy(deep=True)\n",
    "air_df.Date=air_df.Date+pd.to_timedelta(5,unit=\"d\")"
   ]
  },
  {
   "cell_type": "code",
   "execution_count": 9,
   "metadata": {},
   "outputs": [],
   "source": [
    "air_df.sort_values(by=\"Date\",inplace=True)"
   ]
  },
  {
   "cell_type": "code",
   "execution_count": 10,
   "metadata": {},
   "outputs": [
    {
     "data": {
      "text/plain": [
       "Delhi         6992\n",
       "Mumbai        3864\n",
       "Chennai       1472\n",
       "Kolkata       1288\n",
       "Pune          1288\n",
       "Hyderabad     1104\n",
       "Lucknow        736\n",
       "Ahmedabad      184\n",
       "Chandigarh     184\n",
       "Name: City, dtype: int64"
      ]
     },
     "execution_count": 10,
     "metadata": {},
     "output_type": "execute_result"
    }
   ],
   "source": [
    "air_df[\"City\"].value_counts()"
   ]
  },
  {
   "cell_type": "code",
   "execution_count": 11,
   "metadata": {},
   "outputs": [],
   "source": [
    "def data_mining (cases_city,aqi_city):\n",
    "    case_df = total_case_df[total_case_df['District']==cases_city].transpose()\n",
    "    case_df.drop(index=['State','District'],inplace=True)\n",
    "    if len(case_df.columns)==1:\n",
    "        case_df.columns=[\"Total Cases\"]\n",
    "    elif len(case_df.columns)==2:\n",
    "        case_df.columns=[\"Total Cases\",\"1\"]\n",
    "        case_df.drop(columns=\"1\",inplace=True)\n",
    "    case_df['Date'] = case_df.index\n",
    "    first_index_value=case_df.first_valid_index()\n",
    "    if case_df.loc[first_index_value,\"Total Cases\"]==np.nan:\n",
    "        prev_value=0\n",
    "    else:\n",
    "        prev_value=case_df.loc[first_index_value,\"Total Cases\"]\n",
    "        prev_date=case_df.loc[first_index_value,\"Date\"]\n",
    "        daily_cases=0\n",
    "    for i,row in case_df.iterrows():\n",
    "        if(str(row[\"Total Cases\"])!=\"nan\"):\n",
    "            if prev_date!=row[\"Date\"]:\n",
    "                daily_cases=row[\"Total Cases\"]-prev_value\n",
    "                case_df.at[i,\"Total_Day_Cases\"]=daily_cases\n",
    "                prev_value=row[\"Total Cases\"]\n",
    "                prev_date=row[\"Date\"]\n",
    "            else:\n",
    "                case_df.at[i,\"Total_Day_Cases\"]=daily_cases\n",
    "    case_df.reset_index(drop=True, inplace=True)\n",
    "    case_df = (air_df[air_df.City == aqi_city]).join(case_df.set_index('Date'),on='Date')\n",
    "    return(case_df)"
   ]
  },
  {
   "cell_type": "code",
   "execution_count": 12,
   "metadata": {},
   "outputs": [],
   "source": [
    "li=[]\n",
    "aqi_city=['Delhi','Mumbai','Chennai','Kolkata','Hyderabad']\n",
    "for i,city in enumerate(['Delhi','Mumbai City','Chennai','Kolkata','Hyderabad']):\n",
    "    city_df=data_mining(city,aqi_city[i])\n",
    "    li.append(city_df)\n",
    "major_cities_df=pd.concat(li,ignore_index=False,axis=0)"
   ]
  },
  {
   "cell_type": "code",
   "execution_count": 13,
   "metadata": {},
   "outputs": [
    {
     "data": {
      "text/plain": [
       "12108   -819.0\n",
       "3276    -819.0\n",
       "12292   -819.0\n",
       "11372   -819.0\n",
       "10452   -819.0\n",
       "         ...  \n",
       "184        NaN\n",
       "3864       NaN\n",
       "1288       NaN\n",
       "14904      NaN\n",
       "10120      NaN\n",
       "Name: Total_Day_Cases, Length: 14720, dtype: float64"
      ]
     },
     "execution_count": 13,
     "metadata": {},
     "output_type": "execute_result"
    }
   ],
   "source": [
    "major_cities_df[\"Total_Day_Cases\"].sort_values()"
   ]
  },
  {
   "cell_type": "code",
   "execution_count": 14,
   "metadata": {},
   "outputs": [
    {
     "data": {
      "text/html": [
       "<div>\n",
       "<style scoped>\n",
       "    .dataframe tbody tr th:only-of-type {\n",
       "        vertical-align: middle;\n",
       "    }\n",
       "\n",
       "    .dataframe tbody tr th {\n",
       "        vertical-align: top;\n",
       "    }\n",
       "\n",
       "    .dataframe thead th {\n",
       "        text-align: right;\n",
       "    }\n",
       "</style>\n",
       "<table border=\"1\" class=\"dataframe\">\n",
       "  <thead>\n",
       "    <tr style=\"text-align: right;\">\n",
       "      <th></th>\n",
       "      <th>City</th>\n",
       "      <th>Station_ID</th>\n",
       "      <th>Date</th>\n",
       "      <th>PM2.5_average</th>\n",
       "      <th>PM2.5_minimum</th>\n",
       "      <th>PM2.5_maximum</th>\n",
       "      <th>PM10_average</th>\n",
       "      <th>PM10_minimum</th>\n",
       "      <th>PM10_maximum</th>\n",
       "      <th>NO2_average</th>\n",
       "      <th>...</th>\n",
       "      <th>SO2_minimum</th>\n",
       "      <th>SO2_maximum</th>\n",
       "      <th>CO_average</th>\n",
       "      <th>CO_minimum</th>\n",
       "      <th>CO_maximum</th>\n",
       "      <th>OZONE_average</th>\n",
       "      <th>OZONE_minimum</th>\n",
       "      <th>OZONE_maximum</th>\n",
       "      <th>Total Cases</th>\n",
       "      <th>Total_Day_Cases</th>\n",
       "    </tr>\n",
       "  </thead>\n",
       "  <tbody>\n",
       "    <tr>\n",
       "      <th>17111</th>\n",
       "      <td>Delhi</td>\n",
       "      <td>site_106</td>\n",
       "      <td>2020-07-11</td>\n",
       "      <td>58.0</td>\n",
       "      <td>19.0</td>\n",
       "      <td>84.0</td>\n",
       "      <td>89.0</td>\n",
       "      <td>48.0</td>\n",
       "      <td>122.0</td>\n",
       "      <td>24.0</td>\n",
       "      <td>...</td>\n",
       "      <td>NaN</td>\n",
       "      <td>NaN</td>\n",
       "      <td>31.0</td>\n",
       "      <td>23.0</td>\n",
       "      <td>39.0</td>\n",
       "      <td>82.0</td>\n",
       "      <td>27.0</td>\n",
       "      <td>151.0</td>\n",
       "      <td>110921</td>\n",
       "      <td>1781.0</td>\n",
       "    </tr>\n",
       "    <tr>\n",
       "      <th>11591</th>\n",
       "      <td>Delhi</td>\n",
       "      <td>site_1560</td>\n",
       "      <td>2020-07-11</td>\n",
       "      <td>94.0</td>\n",
       "      <td>42.0</td>\n",
       "      <td>157.0</td>\n",
       "      <td>130.0</td>\n",
       "      <td>82.0</td>\n",
       "      <td>177.0</td>\n",
       "      <td>27.0</td>\n",
       "      <td>...</td>\n",
       "      <td>13.0</td>\n",
       "      <td>17.0</td>\n",
       "      <td>25.0</td>\n",
       "      <td>20.0</td>\n",
       "      <td>40.0</td>\n",
       "      <td>46.0</td>\n",
       "      <td>6.0</td>\n",
       "      <td>80.0</td>\n",
       "      <td>110921</td>\n",
       "      <td>1781.0</td>\n",
       "    </tr>\n",
       "    <tr>\n",
       "      <th>1287</th>\n",
       "      <td>Delhi</td>\n",
       "      <td>site_107</td>\n",
       "      <td>2020-07-11</td>\n",
       "      <td>66.0</td>\n",
       "      <td>15.0</td>\n",
       "      <td>135.0</td>\n",
       "      <td>92.0</td>\n",
       "      <td>53.0</td>\n",
       "      <td>131.0</td>\n",
       "      <td>7.0</td>\n",
       "      <td>...</td>\n",
       "      <td>NaN</td>\n",
       "      <td>NaN</td>\n",
       "      <td>99.0</td>\n",
       "      <td>94.0</td>\n",
       "      <td>101.0</td>\n",
       "      <td>44.0</td>\n",
       "      <td>17.0</td>\n",
       "      <td>62.0</td>\n",
       "      <td>110921</td>\n",
       "      <td>1781.0</td>\n",
       "    </tr>\n",
       "    <tr>\n",
       "      <th>15271</th>\n",
       "      <td>Delhi</td>\n",
       "      <td>site_119</td>\n",
       "      <td>2020-07-11</td>\n",
       "      <td>33.0</td>\n",
       "      <td>13.0</td>\n",
       "      <td>70.0</td>\n",
       "      <td>62.0</td>\n",
       "      <td>16.0</td>\n",
       "      <td>121.0</td>\n",
       "      <td>27.0</td>\n",
       "      <td>...</td>\n",
       "      <td>11.0</td>\n",
       "      <td>18.0</td>\n",
       "      <td>41.0</td>\n",
       "      <td>12.0</td>\n",
       "      <td>68.0</td>\n",
       "      <td>54.0</td>\n",
       "      <td>9.0</td>\n",
       "      <td>264.0</td>\n",
       "      <td>110921</td>\n",
       "      <td>1781.0</td>\n",
       "    </tr>\n",
       "    <tr>\n",
       "      <th>1839</th>\n",
       "      <td>Delhi</td>\n",
       "      <td>site_114</td>\n",
       "      <td>2020-07-11</td>\n",
       "      <td>94.0</td>\n",
       "      <td>19.0</td>\n",
       "      <td>335.0</td>\n",
       "      <td>NaN</td>\n",
       "      <td>NaN</td>\n",
       "      <td>NaN</td>\n",
       "      <td>21.0</td>\n",
       "      <td>...</td>\n",
       "      <td>1.0</td>\n",
       "      <td>5.0</td>\n",
       "      <td>33.0</td>\n",
       "      <td>19.0</td>\n",
       "      <td>65.0</td>\n",
       "      <td>NaN</td>\n",
       "      <td>NaN</td>\n",
       "      <td>NaN</td>\n",
       "      <td>110921</td>\n",
       "      <td>1781.0</td>\n",
       "    </tr>\n",
       "    <tr>\n",
       "      <th>...</th>\n",
       "      <td>...</td>\n",
       "      <td>...</td>\n",
       "      <td>...</td>\n",
       "      <td>...</td>\n",
       "      <td>...</td>\n",
       "      <td>...</td>\n",
       "      <td>...</td>\n",
       "      <td>...</td>\n",
       "      <td>...</td>\n",
       "      <td>...</td>\n",
       "      <td>...</td>\n",
       "      <td>...</td>\n",
       "      <td>...</td>\n",
       "      <td>...</td>\n",
       "      <td>...</td>\n",
       "      <td>...</td>\n",
       "      <td>...</td>\n",
       "      <td>...</td>\n",
       "      <td>...</td>\n",
       "      <td>...</td>\n",
       "      <td>...</td>\n",
       "    </tr>\n",
       "    <tr>\n",
       "      <th>9988</th>\n",
       "      <td>Hyderabad</td>\n",
       "      <td>site_298</td>\n",
       "      <td>2020-11-19</td>\n",
       "      <td>156.0</td>\n",
       "      <td>102.0</td>\n",
       "      <td>184.0</td>\n",
       "      <td>144.0</td>\n",
       "      <td>125.0</td>\n",
       "      <td>156.0</td>\n",
       "      <td>97.0</td>\n",
       "      <td>...</td>\n",
       "      <td>4.0</td>\n",
       "      <td>6.0</td>\n",
       "      <td>8.0</td>\n",
       "      <td>7.0</td>\n",
       "      <td>13.0</td>\n",
       "      <td>13.0</td>\n",
       "      <td>12.0</td>\n",
       "      <td>14.0</td>\n",
       "      <td>2683</td>\n",
       "      <td>0.0</td>\n",
       "    </tr>\n",
       "    <tr>\n",
       "      <th>14956</th>\n",
       "      <td>Hyderabad</td>\n",
       "      <td>site_275</td>\n",
       "      <td>2020-11-19</td>\n",
       "      <td>132.0</td>\n",
       "      <td>68.0</td>\n",
       "      <td>174.0</td>\n",
       "      <td>132.0</td>\n",
       "      <td>98.0</td>\n",
       "      <td>158.0</td>\n",
       "      <td>71.0</td>\n",
       "      <td>...</td>\n",
       "      <td>2.0</td>\n",
       "      <td>46.0</td>\n",
       "      <td>34.0</td>\n",
       "      <td>25.0</td>\n",
       "      <td>46.0</td>\n",
       "      <td>25.0</td>\n",
       "      <td>13.0</td>\n",
       "      <td>39.0</td>\n",
       "      <td>2683</td>\n",
       "      <td>0.0</td>\n",
       "    </tr>\n",
       "    <tr>\n",
       "      <th>1340</th>\n",
       "      <td>Hyderabad</td>\n",
       "      <td>site_294</td>\n",
       "      <td>2020-11-19</td>\n",
       "      <td>118.0</td>\n",
       "      <td>66.0</td>\n",
       "      <td>208.0</td>\n",
       "      <td>NaN</td>\n",
       "      <td>NaN</td>\n",
       "      <td>NaN</td>\n",
       "      <td>33.0</td>\n",
       "      <td>...</td>\n",
       "      <td>13.0</td>\n",
       "      <td>115.0</td>\n",
       "      <td>26.0</td>\n",
       "      <td>14.0</td>\n",
       "      <td>39.0</td>\n",
       "      <td>57.0</td>\n",
       "      <td>30.0</td>\n",
       "      <td>79.0</td>\n",
       "      <td>2683</td>\n",
       "      <td>0.0</td>\n",
       "    </tr>\n",
       "    <tr>\n",
       "      <th>10172</th>\n",
       "      <td>Hyderabad</td>\n",
       "      <td>site_262</td>\n",
       "      <td>2020-11-19</td>\n",
       "      <td>112.0</td>\n",
       "      <td>65.0</td>\n",
       "      <td>172.0</td>\n",
       "      <td>115.0</td>\n",
       "      <td>87.0</td>\n",
       "      <td>143.0</td>\n",
       "      <td>49.0</td>\n",
       "      <td>...</td>\n",
       "      <td>7.0</td>\n",
       "      <td>57.0</td>\n",
       "      <td>18.0</td>\n",
       "      <td>8.0</td>\n",
       "      <td>27.0</td>\n",
       "      <td>77.0</td>\n",
       "      <td>39.0</td>\n",
       "      <td>88.0</td>\n",
       "      <td>2683</td>\n",
       "      <td>0.0</td>\n",
       "    </tr>\n",
       "    <tr>\n",
       "      <th>236</th>\n",
       "      <td>Hyderabad</td>\n",
       "      <td>site_251</td>\n",
       "      <td>2020-11-19</td>\n",
       "      <td>137.0</td>\n",
       "      <td>66.0</td>\n",
       "      <td>188.0</td>\n",
       "      <td>125.0</td>\n",
       "      <td>65.0</td>\n",
       "      <td>152.0</td>\n",
       "      <td>29.0</td>\n",
       "      <td>...</td>\n",
       "      <td>8.0</td>\n",
       "      <td>64.0</td>\n",
       "      <td>29.0</td>\n",
       "      <td>18.0</td>\n",
       "      <td>32.0</td>\n",
       "      <td>47.0</td>\n",
       "      <td>19.0</td>\n",
       "      <td>79.0</td>\n",
       "      <td>2683</td>\n",
       "      <td>0.0</td>\n",
       "    </tr>\n",
       "  </tbody>\n",
       "</table>\n",
       "<p>7183 rows × 23 columns</p>\n",
       "</div>"
      ],
      "text/plain": [
       "            City Station_ID       Date  PM2.5_average  PM2.5_minimum  \\\n",
       "17111      Delhi   site_106 2020-07-11           58.0           19.0   \n",
       "11591      Delhi  site_1560 2020-07-11           94.0           42.0   \n",
       "1287       Delhi   site_107 2020-07-11           66.0           15.0   \n",
       "15271      Delhi   site_119 2020-07-11           33.0           13.0   \n",
       "1839       Delhi   site_114 2020-07-11           94.0           19.0   \n",
       "...          ...        ...        ...            ...            ...   \n",
       "9988   Hyderabad   site_298 2020-11-19          156.0          102.0   \n",
       "14956  Hyderabad   site_275 2020-11-19          132.0           68.0   \n",
       "1340   Hyderabad   site_294 2020-11-19          118.0           66.0   \n",
       "10172  Hyderabad   site_262 2020-11-19          112.0           65.0   \n",
       "236    Hyderabad   site_251 2020-11-19          137.0           66.0   \n",
       "\n",
       "       PM2.5_maximum  PM10_average  PM10_minimum  PM10_maximum  NO2_average  \\\n",
       "17111           84.0          89.0          48.0         122.0         24.0   \n",
       "11591          157.0         130.0          82.0         177.0         27.0   \n",
       "1287           135.0          92.0          53.0         131.0          7.0   \n",
       "15271           70.0          62.0          16.0         121.0         27.0   \n",
       "1839           335.0           NaN           NaN           NaN         21.0   \n",
       "...              ...           ...           ...           ...          ...   \n",
       "9988           184.0         144.0         125.0         156.0         97.0   \n",
       "14956          174.0         132.0          98.0         158.0         71.0   \n",
       "1340           208.0           NaN           NaN           NaN         33.0   \n",
       "10172          172.0         115.0          87.0         143.0         49.0   \n",
       "236            188.0         125.0          65.0         152.0         29.0   \n",
       "\n",
       "       ...  SO2_minimum  SO2_maximum  CO_average  CO_minimum  CO_maximum  \\\n",
       "17111  ...          NaN          NaN        31.0        23.0        39.0   \n",
       "11591  ...         13.0         17.0        25.0        20.0        40.0   \n",
       "1287   ...          NaN          NaN        99.0        94.0       101.0   \n",
       "15271  ...         11.0         18.0        41.0        12.0        68.0   \n",
       "1839   ...          1.0          5.0        33.0        19.0        65.0   \n",
       "...    ...          ...          ...         ...         ...         ...   \n",
       "9988   ...          4.0          6.0         8.0         7.0        13.0   \n",
       "14956  ...          2.0         46.0        34.0        25.0        46.0   \n",
       "1340   ...         13.0        115.0        26.0        14.0        39.0   \n",
       "10172  ...          7.0         57.0        18.0         8.0        27.0   \n",
       "236    ...          8.0         64.0        29.0        18.0        32.0   \n",
       "\n",
       "       OZONE_average  OZONE_minimum  OZONE_maximum  Total Cases  \\\n",
       "17111           82.0           27.0          151.0       110921   \n",
       "11591           46.0            6.0           80.0       110921   \n",
       "1287            44.0           17.0           62.0       110921   \n",
       "15271           54.0            9.0          264.0       110921   \n",
       "1839             NaN            NaN            NaN       110921   \n",
       "...              ...            ...            ...          ...   \n",
       "9988            13.0           12.0           14.0         2683   \n",
       "14956           25.0           13.0           39.0         2683   \n",
       "1340            57.0           30.0           79.0         2683   \n",
       "10172           77.0           39.0           88.0         2683   \n",
       "236             47.0           19.0           79.0         2683   \n",
       "\n",
       "       Total_Day_Cases  \n",
       "17111           1781.0  \n",
       "11591           1781.0  \n",
       "1287            1781.0  \n",
       "15271           1781.0  \n",
       "1839            1781.0  \n",
       "...                ...  \n",
       "9988               0.0  \n",
       "14956              0.0  \n",
       "1340               0.0  \n",
       "10172              0.0  \n",
       "236                0.0  \n",
       "\n",
       "[7183 rows x 23 columns]"
      ]
     },
     "execution_count": 14,
     "metadata": {},
     "output_type": "execute_result"
    }
   ],
   "source": [
    "major_cities_df.drop(columns = ['Unnamed: 0','State','Station_Name','NH3_average','NH3_minimum','NH3_maximum'],inplace=True)\n",
    "pollutant_cols=list(major_cities_df.drop(columns=[\"City\",\"Station_ID\",\"Date\",\"Total Cases\",\"Total_Day_Cases\"]).columns)\n",
    "major_cities_df.dropna(subset=pollutant_cols,how=\"all\",axis=0,inplace=True)\n",
    "major_cities_df.dropna(subset=[\"Total Cases\"],how=\"all\",axis=0,inplace=True)\n",
    "major_cities_df"
   ]
  },
  {
   "cell_type": "code",
   "execution_count": 119,
   "metadata": {},
   "outputs": [],
   "source": [
    "final_df=major_cities_df.groupby(by=[\"City\",\"Date\"]).count().reset_index()[[\"City\",\"Date\"]]"
   ]
  },
  {
   "cell_type": "code",
   "execution_count": 120,
   "metadata": {},
   "outputs": [],
   "source": [
    "final_df[\"Unique\"]=final_df[\"City\"]+\"|\"+final_df[\"Date\"].astype('str')\n",
    "major_cities_df[\"Unique\"]=major_cities_df[\"City\"]+\"|\"+major_cities_df[\"Date\"].astype('str')"
   ]
  },
  {
   "cell_type": "code",
   "execution_count": 121,
   "metadata": {},
   "outputs": [
    {
     "data": {
      "text/plain": [
       "Index(['City', 'Station_ID', 'Date', 'PM2.5_average', 'PM2.5_minimum',\n",
       "       'PM2.5_maximum', 'NO2_average', 'NO2_minimum', 'NO2_maximum',\n",
       "       'SO2_average', 'SO2_minimum', 'SO2_maximum', 'CO_average', 'CO_minimum',\n",
       "       'CO_maximum', 'OZONE_average', 'OZONE_minimum', 'OZONE_maximum',\n",
       "       'Total Cases', 'Total_Day_Cases', 'Unique'],\n",
       "      dtype='object')"
      ]
     },
     "execution_count": 121,
     "metadata": {},
     "output_type": "execute_result"
    }
   ],
   "source": [
    "major_cities_df.columns"
   ]
  },
  {
   "cell_type": "code",
   "execution_count": 122,
   "metadata": {},
   "outputs": [
    {
     "data": {
      "text/html": [
       "<div>\n",
       "<style scoped>\n",
       "    .dataframe tbody tr th:only-of-type {\n",
       "        vertical-align: middle;\n",
       "    }\n",
       "\n",
       "    .dataframe tbody tr th {\n",
       "        vertical-align: top;\n",
       "    }\n",
       "\n",
       "    .dataframe thead th {\n",
       "        text-align: right;\n",
       "    }\n",
       "</style>\n",
       "<table border=\"1\" class=\"dataframe\">\n",
       "  <thead>\n",
       "    <tr style=\"text-align: right;\">\n",
       "      <th></th>\n",
       "      <th>City</th>\n",
       "      <th>Date</th>\n",
       "      <th>Unique</th>\n",
       "    </tr>\n",
       "  </thead>\n",
       "  <tbody>\n",
       "    <tr>\n",
       "      <th>0</th>\n",
       "      <td>Chennai</td>\n",
       "      <td>2020-07-11</td>\n",
       "      <td>Chennai|2020-07-11</td>\n",
       "    </tr>\n",
       "    <tr>\n",
       "      <th>1</th>\n",
       "      <td>Chennai</td>\n",
       "      <td>2020-07-12</td>\n",
       "      <td>Chennai|2020-07-12</td>\n",
       "    </tr>\n",
       "    <tr>\n",
       "      <th>2</th>\n",
       "      <td>Chennai</td>\n",
       "      <td>2020-07-13</td>\n",
       "      <td>Chennai|2020-07-13</td>\n",
       "    </tr>\n",
       "    <tr>\n",
       "      <th>3</th>\n",
       "      <td>Chennai</td>\n",
       "      <td>2020-07-14</td>\n",
       "      <td>Chennai|2020-07-14</td>\n",
       "    </tr>\n",
       "    <tr>\n",
       "      <th>4</th>\n",
       "      <td>Chennai</td>\n",
       "      <td>2020-07-15</td>\n",
       "      <td>Chennai|2020-07-15</td>\n",
       "    </tr>\n",
       "    <tr>\n",
       "      <th>...</th>\n",
       "      <td>...</td>\n",
       "      <td>...</td>\n",
       "      <td>...</td>\n",
       "    </tr>\n",
       "    <tr>\n",
       "      <th>655</th>\n",
       "      <td>Mumbai</td>\n",
       "      <td>2020-11-15</td>\n",
       "      <td>Mumbai|2020-11-15</td>\n",
       "    </tr>\n",
       "    <tr>\n",
       "      <th>656</th>\n",
       "      <td>Mumbai</td>\n",
       "      <td>2020-11-16</td>\n",
       "      <td>Mumbai|2020-11-16</td>\n",
       "    </tr>\n",
       "    <tr>\n",
       "      <th>657</th>\n",
       "      <td>Mumbai</td>\n",
       "      <td>2020-11-17</td>\n",
       "      <td>Mumbai|2020-11-17</td>\n",
       "    </tr>\n",
       "    <tr>\n",
       "      <th>658</th>\n",
       "      <td>Mumbai</td>\n",
       "      <td>2020-11-18</td>\n",
       "      <td>Mumbai|2020-11-18</td>\n",
       "    </tr>\n",
       "    <tr>\n",
       "      <th>659</th>\n",
       "      <td>Mumbai</td>\n",
       "      <td>2020-11-19</td>\n",
       "      <td>Mumbai|2020-11-19</td>\n",
       "    </tr>\n",
       "  </tbody>\n",
       "</table>\n",
       "<p>660 rows × 3 columns</p>\n",
       "</div>"
      ],
      "text/plain": [
       "        City       Date              Unique\n",
       "0    Chennai 2020-07-11  Chennai|2020-07-11\n",
       "1    Chennai 2020-07-12  Chennai|2020-07-12\n",
       "2    Chennai 2020-07-13  Chennai|2020-07-13\n",
       "3    Chennai 2020-07-14  Chennai|2020-07-14\n",
       "4    Chennai 2020-07-15  Chennai|2020-07-15\n",
       "..       ...        ...                 ...\n",
       "655   Mumbai 2020-11-15   Mumbai|2020-11-15\n",
       "656   Mumbai 2020-11-16   Mumbai|2020-11-16\n",
       "657   Mumbai 2020-11-17   Mumbai|2020-11-17\n",
       "658   Mumbai 2020-11-18   Mumbai|2020-11-18\n",
       "659   Mumbai 2020-11-19   Mumbai|2020-11-19\n",
       "\n",
       "[660 rows x 3 columns]"
      ]
     },
     "execution_count": 122,
     "metadata": {},
     "output_type": "execute_result"
    }
   ],
   "source": [
    "final_df"
   ]
  },
  {
   "cell_type": "code",
   "execution_count": 123,
   "metadata": {},
   "outputs": [
    {
     "data": {
      "text/plain": [
       "Index([], dtype='object')"
      ]
     },
     "execution_count": 123,
     "metadata": {},
     "output_type": "execute_result"
    }
   ],
   "source": [
    "cols_with_na=major_cities_df.groupby(by=[\"Unique\"]).max().columns[major_cities_df.groupby(by=[\"Unique\"]).max().isna().any()]\n",
    "cols_with_na"
   ]
  },
  {
   "cell_type": "code",
   "execution_count": 124,
   "metadata": {},
   "outputs": [],
   "source": [
    "major_cities_df.drop(columns=cols_with_na,inplace=True)"
   ]
  },
  {
   "cell_type": "code",
   "execution_count": 125,
   "metadata": {},
   "outputs": [],
   "source": [
    "for col in major_cities_df.select_dtypes(include=[np.number]).columns:\n",
    "    groupby_citydate=major_cities_df.groupby(by=[\"Unique\"])\n",
    "    if(col.find('maximum')!=-1):\n",
    "        group_df=pd.DataFrame(groupby_citydate.max()[col])\n",
    "        final_df=final_df.join(group_df,on=\"Unique\")\n",
    "    elif(col.find('minimum')!=-1):\n",
    "        group_df=pd.DataFrame(groupby_citydate.min()[col])\n",
    "        final_df=final_df.join(group_df,on=\"Unique\")\n",
    "    else:\n",
    "        group_df=pd.DataFrame(groupby_citydate.mean()[col])\n",
    "        final_df=final_df.join(group_df,on=\"Unique\")"
   ]
  },
  {
   "cell_type": "code",
   "execution_count": 128,
   "metadata": {},
   "outputs": [
    {
     "data": {
      "text/html": [
       "<div>\n",
       "<style scoped>\n",
       "    .dataframe tbody tr th:only-of-type {\n",
       "        vertical-align: middle;\n",
       "    }\n",
       "\n",
       "    .dataframe tbody tr th {\n",
       "        vertical-align: top;\n",
       "    }\n",
       "\n",
       "    .dataframe thead th {\n",
       "        text-align: right;\n",
       "    }\n",
       "</style>\n",
       "<table border=\"1\" class=\"dataframe\">\n",
       "  <thead>\n",
       "    <tr style=\"text-align: right;\">\n",
       "      <th></th>\n",
       "      <th>City</th>\n",
       "      <th>Date</th>\n",
       "      <th>Unique</th>\n",
       "      <th>PM2.5_average</th>\n",
       "      <th>PM2.5_minimum</th>\n",
       "      <th>PM2.5_maximum</th>\n",
       "      <th>NO2_average</th>\n",
       "      <th>NO2_minimum</th>\n",
       "      <th>NO2_maximum</th>\n",
       "      <th>SO2_average</th>\n",
       "      <th>SO2_minimum</th>\n",
       "      <th>SO2_maximum</th>\n",
       "      <th>CO_average</th>\n",
       "      <th>CO_minimum</th>\n",
       "      <th>CO_maximum</th>\n",
       "      <th>OZONE_average</th>\n",
       "      <th>OZONE_minimum</th>\n",
       "      <th>OZONE_maximum</th>\n",
       "      <th>Total_Day_Cases</th>\n",
       "    </tr>\n",
       "  </thead>\n",
       "  <tbody>\n",
       "    <tr>\n",
       "      <th>0</th>\n",
       "      <td>Chennai</td>\n",
       "      <td>2020-07-11</td>\n",
       "      <td>Chennai|2020-07-11</td>\n",
       "      <td>24.000000</td>\n",
       "      <td>3.0</td>\n",
       "      <td>97.0</td>\n",
       "      <td>12.000000</td>\n",
       "      <td>1.0</td>\n",
       "      <td>101.0</td>\n",
       "      <td>10.333333</td>\n",
       "      <td>1.0</td>\n",
       "      <td>101.0</td>\n",
       "      <td>30.666667</td>\n",
       "      <td>5.0</td>\n",
       "      <td>58.0</td>\n",
       "      <td>52.666667</td>\n",
       "      <td>17.0</td>\n",
       "      <td>252.0</td>\n",
       "      <td>1189.0</td>\n",
       "    </tr>\n",
       "    <tr>\n",
       "      <th>1</th>\n",
       "      <td>Chennai</td>\n",
       "      <td>2020-07-12</td>\n",
       "      <td>Chennai|2020-07-12</td>\n",
       "      <td>25.500000</td>\n",
       "      <td>5.0</td>\n",
       "      <td>71.0</td>\n",
       "      <td>15.000000</td>\n",
       "      <td>2.0</td>\n",
       "      <td>55.0</td>\n",
       "      <td>13.000000</td>\n",
       "      <td>1.0</td>\n",
       "      <td>63.0</td>\n",
       "      <td>32.000000</td>\n",
       "      <td>6.0</td>\n",
       "      <td>61.0</td>\n",
       "      <td>44.500000</td>\n",
       "      <td>18.0</td>\n",
       "      <td>121.0</td>\n",
       "      <td>1180.0</td>\n",
       "    </tr>\n",
       "    <tr>\n",
       "      <th>2</th>\n",
       "      <td>Chennai</td>\n",
       "      <td>2020-07-13</td>\n",
       "      <td>Chennai|2020-07-13</td>\n",
       "      <td>30.000000</td>\n",
       "      <td>4.0</td>\n",
       "      <td>66.0</td>\n",
       "      <td>23.500000</td>\n",
       "      <td>8.0</td>\n",
       "      <td>65.0</td>\n",
       "      <td>7.500000</td>\n",
       "      <td>1.0</td>\n",
       "      <td>67.0</td>\n",
       "      <td>36.500000</td>\n",
       "      <td>2.0</td>\n",
       "      <td>62.0</td>\n",
       "      <td>62.000000</td>\n",
       "      <td>5.0</td>\n",
       "      <td>145.0</td>\n",
       "      <td>1235.0</td>\n",
       "    </tr>\n",
       "    <tr>\n",
       "      <th>3</th>\n",
       "      <td>Chennai</td>\n",
       "      <td>2020-07-14</td>\n",
       "      <td>Chennai|2020-07-14</td>\n",
       "      <td>22.000000</td>\n",
       "      <td>8.0</td>\n",
       "      <td>59.0</td>\n",
       "      <td>12.000000</td>\n",
       "      <td>8.0</td>\n",
       "      <td>15.0</td>\n",
       "      <td>25.000000</td>\n",
       "      <td>3.0</td>\n",
       "      <td>90.0</td>\n",
       "      <td>38.500000</td>\n",
       "      <td>28.0</td>\n",
       "      <td>101.0</td>\n",
       "      <td>36.500000</td>\n",
       "      <td>3.0</td>\n",
       "      <td>72.0</td>\n",
       "      <td>1089.0</td>\n",
       "    </tr>\n",
       "    <tr>\n",
       "      <th>4</th>\n",
       "      <td>Chennai</td>\n",
       "      <td>2020-07-15</td>\n",
       "      <td>Chennai|2020-07-15</td>\n",
       "      <td>16.666667</td>\n",
       "      <td>1.0</td>\n",
       "      <td>82.0</td>\n",
       "      <td>12.333333</td>\n",
       "      <td>1.0</td>\n",
       "      <td>53.0</td>\n",
       "      <td>7.333333</td>\n",
       "      <td>1.0</td>\n",
       "      <td>58.0</td>\n",
       "      <td>35.000000</td>\n",
       "      <td>10.0</td>\n",
       "      <td>58.0</td>\n",
       "      <td>65.000000</td>\n",
       "      <td>2.0</td>\n",
       "      <td>260.0</td>\n",
       "      <td>1299.0</td>\n",
       "    </tr>\n",
       "    <tr>\n",
       "      <th>...</th>\n",
       "      <td>...</td>\n",
       "      <td>...</td>\n",
       "      <td>...</td>\n",
       "      <td>...</td>\n",
       "      <td>...</td>\n",
       "      <td>...</td>\n",
       "      <td>...</td>\n",
       "      <td>...</td>\n",
       "      <td>...</td>\n",
       "      <td>...</td>\n",
       "      <td>...</td>\n",
       "      <td>...</td>\n",
       "      <td>...</td>\n",
       "      <td>...</td>\n",
       "      <td>...</td>\n",
       "      <td>...</td>\n",
       "      <td>...</td>\n",
       "      <td>...</td>\n",
       "      <td>...</td>\n",
       "    </tr>\n",
       "    <tr>\n",
       "      <th>655</th>\n",
       "      <td>Mumbai</td>\n",
       "      <td>2020-11-15</td>\n",
       "      <td>Mumbai|2020-11-15</td>\n",
       "      <td>154.285714</td>\n",
       "      <td>43.0</td>\n",
       "      <td>306.0</td>\n",
       "      <td>51.600000</td>\n",
       "      <td>1.0</td>\n",
       "      <td>182.0</td>\n",
       "      <td>15.444444</td>\n",
       "      <td>2.0</td>\n",
       "      <td>44.0</td>\n",
       "      <td>60.400000</td>\n",
       "      <td>21.0</td>\n",
       "      <td>114.0</td>\n",
       "      <td>21.600000</td>\n",
       "      <td>1.0</td>\n",
       "      <td>253.0</td>\n",
       "      <td>577.0</td>\n",
       "    </tr>\n",
       "    <tr>\n",
       "      <th>656</th>\n",
       "      <td>Mumbai</td>\n",
       "      <td>2020-11-16</td>\n",
       "      <td>Mumbai|2020-11-16</td>\n",
       "      <td>137.625000</td>\n",
       "      <td>40.0</td>\n",
       "      <td>325.0</td>\n",
       "      <td>51.700000</td>\n",
       "      <td>1.0</td>\n",
       "      <td>191.0</td>\n",
       "      <td>14.555556</td>\n",
       "      <td>2.0</td>\n",
       "      <td>45.0</td>\n",
       "      <td>50.400000</td>\n",
       "      <td>16.0</td>\n",
       "      <td>126.0</td>\n",
       "      <td>25.500000</td>\n",
       "      <td>1.0</td>\n",
       "      <td>272.0</td>\n",
       "      <td>409.0</td>\n",
       "    </tr>\n",
       "    <tr>\n",
       "      <th>657</th>\n",
       "      <td>Mumbai</td>\n",
       "      <td>2020-11-17</td>\n",
       "      <td>Mumbai|2020-11-17</td>\n",
       "      <td>102.444444</td>\n",
       "      <td>37.0</td>\n",
       "      <td>316.0</td>\n",
       "      <td>44.444444</td>\n",
       "      <td>1.0</td>\n",
       "      <td>156.0</td>\n",
       "      <td>13.375000</td>\n",
       "      <td>2.0</td>\n",
       "      <td>39.0</td>\n",
       "      <td>46.555556</td>\n",
       "      <td>13.0</td>\n",
       "      <td>105.0</td>\n",
       "      <td>28.333333</td>\n",
       "      <td>3.0</td>\n",
       "      <td>248.0</td>\n",
       "      <td>541.0</td>\n",
       "    </tr>\n",
       "    <tr>\n",
       "      <th>658</th>\n",
       "      <td>Mumbai</td>\n",
       "      <td>2020-11-18</td>\n",
       "      <td>Mumbai|2020-11-18</td>\n",
       "      <td>120.750000</td>\n",
       "      <td>53.0</td>\n",
       "      <td>308.0</td>\n",
       "      <td>46.000000</td>\n",
       "      <td>1.0</td>\n",
       "      <td>195.0</td>\n",
       "      <td>13.125000</td>\n",
       "      <td>2.0</td>\n",
       "      <td>40.0</td>\n",
       "      <td>55.400000</td>\n",
       "      <td>14.0</td>\n",
       "      <td>110.0</td>\n",
       "      <td>19.400000</td>\n",
       "      <td>1.0</td>\n",
       "      <td>212.0</td>\n",
       "      <td>871.0</td>\n",
       "    </tr>\n",
       "    <tr>\n",
       "      <th>659</th>\n",
       "      <td>Mumbai</td>\n",
       "      <td>2020-11-19</td>\n",
       "      <td>Mumbai|2020-11-19</td>\n",
       "      <td>120.555556</td>\n",
       "      <td>47.0</td>\n",
       "      <td>310.0</td>\n",
       "      <td>38.600000</td>\n",
       "      <td>1.0</td>\n",
       "      <td>186.0</td>\n",
       "      <td>15.333333</td>\n",
       "      <td>2.0</td>\n",
       "      <td>43.0</td>\n",
       "      <td>53.600000</td>\n",
       "      <td>10.0</td>\n",
       "      <td>107.0</td>\n",
       "      <td>25.200000</td>\n",
       "      <td>1.0</td>\n",
       "      <td>240.0</td>\n",
       "      <td>924.0</td>\n",
       "    </tr>\n",
       "  </tbody>\n",
       "</table>\n",
       "<p>660 rows × 19 columns</p>\n",
       "</div>"
      ],
      "text/plain": [
       "        City       Date              Unique  PM2.5_average  PM2.5_minimum  \\\n",
       "0    Chennai 2020-07-11  Chennai|2020-07-11      24.000000            3.0   \n",
       "1    Chennai 2020-07-12  Chennai|2020-07-12      25.500000            5.0   \n",
       "2    Chennai 2020-07-13  Chennai|2020-07-13      30.000000            4.0   \n",
       "3    Chennai 2020-07-14  Chennai|2020-07-14      22.000000            8.0   \n",
       "4    Chennai 2020-07-15  Chennai|2020-07-15      16.666667            1.0   \n",
       "..       ...        ...                 ...            ...            ...   \n",
       "655   Mumbai 2020-11-15   Mumbai|2020-11-15     154.285714           43.0   \n",
       "656   Mumbai 2020-11-16   Mumbai|2020-11-16     137.625000           40.0   \n",
       "657   Mumbai 2020-11-17   Mumbai|2020-11-17     102.444444           37.0   \n",
       "658   Mumbai 2020-11-18   Mumbai|2020-11-18     120.750000           53.0   \n",
       "659   Mumbai 2020-11-19   Mumbai|2020-11-19     120.555556           47.0   \n",
       "\n",
       "     PM2.5_maximum  NO2_average  NO2_minimum  NO2_maximum  SO2_average  \\\n",
       "0             97.0    12.000000          1.0        101.0    10.333333   \n",
       "1             71.0    15.000000          2.0         55.0    13.000000   \n",
       "2             66.0    23.500000          8.0         65.0     7.500000   \n",
       "3             59.0    12.000000          8.0         15.0    25.000000   \n",
       "4             82.0    12.333333          1.0         53.0     7.333333   \n",
       "..             ...          ...          ...          ...          ...   \n",
       "655          306.0    51.600000          1.0        182.0    15.444444   \n",
       "656          325.0    51.700000          1.0        191.0    14.555556   \n",
       "657          316.0    44.444444          1.0        156.0    13.375000   \n",
       "658          308.0    46.000000          1.0        195.0    13.125000   \n",
       "659          310.0    38.600000          1.0        186.0    15.333333   \n",
       "\n",
       "     SO2_minimum  SO2_maximum  CO_average  CO_minimum  CO_maximum  \\\n",
       "0            1.0        101.0   30.666667         5.0        58.0   \n",
       "1            1.0         63.0   32.000000         6.0        61.0   \n",
       "2            1.0         67.0   36.500000         2.0        62.0   \n",
       "3            3.0         90.0   38.500000        28.0       101.0   \n",
       "4            1.0         58.0   35.000000        10.0        58.0   \n",
       "..           ...          ...         ...         ...         ...   \n",
       "655          2.0         44.0   60.400000        21.0       114.0   \n",
       "656          2.0         45.0   50.400000        16.0       126.0   \n",
       "657          2.0         39.0   46.555556        13.0       105.0   \n",
       "658          2.0         40.0   55.400000        14.0       110.0   \n",
       "659          2.0         43.0   53.600000        10.0       107.0   \n",
       "\n",
       "     OZONE_average  OZONE_minimum  OZONE_maximum  Total_Day_Cases  \n",
       "0        52.666667           17.0          252.0           1189.0  \n",
       "1        44.500000           18.0          121.0           1180.0  \n",
       "2        62.000000            5.0          145.0           1235.0  \n",
       "3        36.500000            3.0           72.0           1089.0  \n",
       "4        65.000000            2.0          260.0           1299.0  \n",
       "..             ...            ...            ...              ...  \n",
       "655      21.600000            1.0          253.0            577.0  \n",
       "656      25.500000            1.0          272.0            409.0  \n",
       "657      28.333333            3.0          248.0            541.0  \n",
       "658      19.400000            1.0          212.0            871.0  \n",
       "659      25.200000            1.0          240.0            924.0  \n",
       "\n",
       "[660 rows x 19 columns]"
      ]
     },
     "execution_count": 128,
     "metadata": {},
     "output_type": "execute_result"
    }
   ],
   "source": [
    "final_df"
   ]
  },
  {
   "cell_type": "code",
   "execution_count": 129,
   "metadata": {},
   "outputs": [],
   "source": [
    "#final_df['Date1'] = final_df.Date - pd.to_timedelta(2,unit=\"d\")"
   ]
  },
  {
   "cell_type": "markdown",
   "metadata": {},
   "source": [
    "Threshold of daily cases"
   ]
  },
  {
   "cell_type": "code",
   "execution_count": 130,
   "metadata": {},
   "outputs": [],
   "source": [
    "#final_df_copy=final_df.copy(deep=True)\n",
    "#final_df=final_df_copy.copy(deep=True)"
   ]
  },
  {
   "cell_type": "code",
   "execution_count": 131,
   "metadata": {},
   "outputs": [],
   "source": [
    "#final_df.drop(final_df[final_df['Total_Day_Cases'] > 1500].index, inplace = True) \n",
    "#final_df.drop(final_df[final_df['Total_Day_Cases'] == 0].index, inplace = True) "
   ]
  },
  {
   "cell_type": "code",
   "execution_count": 132,
   "metadata": {
    "scrolled": true
   },
   "outputs": [
    {
     "data": {
      "text/plain": [
       "Index([], dtype='object')"
      ]
     },
     "execution_count": 132,
     "metadata": {},
     "output_type": "execute_result"
    }
   ],
   "source": [
    "cols_with_na=final_df.groupby(by=[\"Unique\"]).max().columns[final_df.groupby(by=[\"Unique\"]).max().isna().any()]\n",
    "cols_with_na"
   ]
  },
  {
   "cell_type": "code",
   "execution_count": 133,
   "metadata": {
    "scrolled": true
   },
   "outputs": [
    {
     "data": {
      "text/html": [
       "<div>\n",
       "<style scoped>\n",
       "    .dataframe tbody tr th:only-of-type {\n",
       "        vertical-align: middle;\n",
       "    }\n",
       "\n",
       "    .dataframe tbody tr th {\n",
       "        vertical-align: top;\n",
       "    }\n",
       "\n",
       "    .dataframe thead th {\n",
       "        text-align: right;\n",
       "    }\n",
       "</style>\n",
       "<table border=\"1\" class=\"dataframe\">\n",
       "  <thead>\n",
       "    <tr style=\"text-align: right;\">\n",
       "      <th></th>\n",
       "      <th>PM2.5_average</th>\n",
       "      <th>PM2.5_minimum</th>\n",
       "      <th>PM2.5_maximum</th>\n",
       "      <th>NO2_average</th>\n",
       "      <th>NO2_minimum</th>\n",
       "      <th>NO2_maximum</th>\n",
       "      <th>SO2_average</th>\n",
       "      <th>SO2_minimum</th>\n",
       "      <th>SO2_maximum</th>\n",
       "      <th>CO_average</th>\n",
       "      <th>CO_minimum</th>\n",
       "      <th>CO_maximum</th>\n",
       "      <th>OZONE_average</th>\n",
       "      <th>OZONE_minimum</th>\n",
       "      <th>OZONE_maximum</th>\n",
       "      <th>Total_Day_Cases</th>\n",
       "    </tr>\n",
       "  </thead>\n",
       "  <tbody>\n",
       "    <tr>\n",
       "      <th>PM2.5_average</th>\n",
       "      <td>1.000000</td>\n",
       "      <td>0.678551</td>\n",
       "      <td>0.742925</td>\n",
       "      <td>0.861843</td>\n",
       "      <td>0.341938</td>\n",
       "      <td>0.660537</td>\n",
       "      <td>0.426273</td>\n",
       "      <td>-0.070219</td>\n",
       "      <td>0.419932</td>\n",
       "      <td>0.778985</td>\n",
       "      <td>0.045683</td>\n",
       "      <td>0.614698</td>\n",
       "      <td>0.349189</td>\n",
       "      <td>-0.128450</td>\n",
       "      <td>0.640724</td>\n",
       "      <td>0.654915</td>\n",
       "    </tr>\n",
       "    <tr>\n",
       "      <th>PM2.5_minimum</th>\n",
       "      <td>0.678551</td>\n",
       "      <td>1.000000</td>\n",
       "      <td>0.383395</td>\n",
       "      <td>0.620527</td>\n",
       "      <td>0.392286</td>\n",
       "      <td>0.372606</td>\n",
       "      <td>0.275000</td>\n",
       "      <td>0.091955</td>\n",
       "      <td>0.228073</td>\n",
       "      <td>0.393759</td>\n",
       "      <td>0.180047</td>\n",
       "      <td>0.244974</td>\n",
       "      <td>0.246026</td>\n",
       "      <td>0.023076</td>\n",
       "      <td>0.300718</td>\n",
       "      <td>0.222809</td>\n",
       "    </tr>\n",
       "    <tr>\n",
       "      <th>PM2.5_maximum</th>\n",
       "      <td>0.742925</td>\n",
       "      <td>0.383395</td>\n",
       "      <td>1.000000</td>\n",
       "      <td>0.642148</td>\n",
       "      <td>0.150824</td>\n",
       "      <td>0.633493</td>\n",
       "      <td>0.275123</td>\n",
       "      <td>-0.199875</td>\n",
       "      <td>0.431241</td>\n",
       "      <td>0.744701</td>\n",
       "      <td>0.013091</td>\n",
       "      <td>0.683337</td>\n",
       "      <td>0.432453</td>\n",
       "      <td>-0.202436</td>\n",
       "      <td>0.707087</td>\n",
       "      <td>0.580610</td>\n",
       "    </tr>\n",
       "    <tr>\n",
       "      <th>NO2_average</th>\n",
       "      <td>0.861843</td>\n",
       "      <td>0.620527</td>\n",
       "      <td>0.642148</td>\n",
       "      <td>1.000000</td>\n",
       "      <td>0.370757</td>\n",
       "      <td>0.783531</td>\n",
       "      <td>0.324669</td>\n",
       "      <td>-0.125167</td>\n",
       "      <td>0.428103</td>\n",
       "      <td>0.661800</td>\n",
       "      <td>-0.018948</td>\n",
       "      <td>0.547715</td>\n",
       "      <td>0.250213</td>\n",
       "      <td>-0.168951</td>\n",
       "      <td>0.582131</td>\n",
       "      <td>0.499713</td>\n",
       "    </tr>\n",
       "    <tr>\n",
       "      <th>NO2_minimum</th>\n",
       "      <td>0.341938</td>\n",
       "      <td>0.392286</td>\n",
       "      <td>0.150824</td>\n",
       "      <td>0.370757</td>\n",
       "      <td>1.000000</td>\n",
       "      <td>0.154885</td>\n",
       "      <td>-0.062146</td>\n",
       "      <td>0.096494</td>\n",
       "      <td>0.051920</td>\n",
       "      <td>0.229652</td>\n",
       "      <td>0.164892</td>\n",
       "      <td>0.099008</td>\n",
       "      <td>0.322619</td>\n",
       "      <td>0.153654</td>\n",
       "      <td>0.167142</td>\n",
       "      <td>0.075949</td>\n",
       "    </tr>\n",
       "    <tr>\n",
       "      <th>NO2_maximum</th>\n",
       "      <td>0.660537</td>\n",
       "      <td>0.372606</td>\n",
       "      <td>0.633493</td>\n",
       "      <td>0.783531</td>\n",
       "      <td>0.154885</td>\n",
       "      <td>1.000000</td>\n",
       "      <td>0.330480</td>\n",
       "      <td>-0.148184</td>\n",
       "      <td>0.450432</td>\n",
       "      <td>0.646377</td>\n",
       "      <td>-0.057137</td>\n",
       "      <td>0.599795</td>\n",
       "      <td>0.213817</td>\n",
       "      <td>-0.225475</td>\n",
       "      <td>0.632899</td>\n",
       "      <td>0.553306</td>\n",
       "    </tr>\n",
       "    <tr>\n",
       "      <th>SO2_average</th>\n",
       "      <td>0.426273</td>\n",
       "      <td>0.275000</td>\n",
       "      <td>0.275123</td>\n",
       "      <td>0.324669</td>\n",
       "      <td>-0.062146</td>\n",
       "      <td>0.330480</td>\n",
       "      <td>1.000000</td>\n",
       "      <td>0.246728</td>\n",
       "      <td>0.628007</td>\n",
       "      <td>0.284008</td>\n",
       "      <td>-0.101002</td>\n",
       "      <td>0.255214</td>\n",
       "      <td>-0.135484</td>\n",
       "      <td>-0.219632</td>\n",
       "      <td>0.261936</td>\n",
       "      <td>0.469066</td>\n",
       "    </tr>\n",
       "    <tr>\n",
       "      <th>SO2_minimum</th>\n",
       "      <td>-0.070219</td>\n",
       "      <td>0.091955</td>\n",
       "      <td>-0.199875</td>\n",
       "      <td>-0.125167</td>\n",
       "      <td>0.096494</td>\n",
       "      <td>-0.148184</td>\n",
       "      <td>0.246728</td>\n",
       "      <td>1.000000</td>\n",
       "      <td>-0.055942</td>\n",
       "      <td>-0.141318</td>\n",
       "      <td>0.106307</td>\n",
       "      <td>-0.197653</td>\n",
       "      <td>-0.125157</td>\n",
       "      <td>0.099448</td>\n",
       "      <td>-0.183760</td>\n",
       "      <td>-0.138122</td>\n",
       "    </tr>\n",
       "    <tr>\n",
       "      <th>SO2_maximum</th>\n",
       "      <td>0.419932</td>\n",
       "      <td>0.228073</td>\n",
       "      <td>0.431241</td>\n",
       "      <td>0.428103</td>\n",
       "      <td>0.051920</td>\n",
       "      <td>0.450432</td>\n",
       "      <td>0.628007</td>\n",
       "      <td>-0.055942</td>\n",
       "      <td>1.000000</td>\n",
       "      <td>0.447798</td>\n",
       "      <td>-0.090859</td>\n",
       "      <td>0.441437</td>\n",
       "      <td>0.126466</td>\n",
       "      <td>-0.157891</td>\n",
       "      <td>0.443682</td>\n",
       "      <td>0.428324</td>\n",
       "    </tr>\n",
       "    <tr>\n",
       "      <th>CO_average</th>\n",
       "      <td>0.778985</td>\n",
       "      <td>0.393759</td>\n",
       "      <td>0.744701</td>\n",
       "      <td>0.661800</td>\n",
       "      <td>0.229652</td>\n",
       "      <td>0.646377</td>\n",
       "      <td>0.284008</td>\n",
       "      <td>-0.141318</td>\n",
       "      <td>0.447798</td>\n",
       "      <td>1.000000</td>\n",
       "      <td>0.129546</td>\n",
       "      <td>0.851314</td>\n",
       "      <td>0.410694</td>\n",
       "      <td>-0.134488</td>\n",
       "      <td>0.733560</td>\n",
       "      <td>0.673883</td>\n",
       "    </tr>\n",
       "    <tr>\n",
       "      <th>CO_minimum</th>\n",
       "      <td>0.045683</td>\n",
       "      <td>0.180047</td>\n",
       "      <td>0.013091</td>\n",
       "      <td>-0.018948</td>\n",
       "      <td>0.164892</td>\n",
       "      <td>-0.057137</td>\n",
       "      <td>-0.101002</td>\n",
       "      <td>0.106307</td>\n",
       "      <td>-0.090859</td>\n",
       "      <td>0.129546</td>\n",
       "      <td>1.000000</td>\n",
       "      <td>-0.021041</td>\n",
       "      <td>0.262731</td>\n",
       "      <td>0.283088</td>\n",
       "      <td>0.081936</td>\n",
       "      <td>-0.160377</td>\n",
       "    </tr>\n",
       "    <tr>\n",
       "      <th>CO_maximum</th>\n",
       "      <td>0.614698</td>\n",
       "      <td>0.244974</td>\n",
       "      <td>0.683337</td>\n",
       "      <td>0.547715</td>\n",
       "      <td>0.099008</td>\n",
       "      <td>0.599795</td>\n",
       "      <td>0.255214</td>\n",
       "      <td>-0.197653</td>\n",
       "      <td>0.441437</td>\n",
       "      <td>0.851314</td>\n",
       "      <td>-0.021041</td>\n",
       "      <td>1.000000</td>\n",
       "      <td>0.286209</td>\n",
       "      <td>-0.215607</td>\n",
       "      <td>0.645564</td>\n",
       "      <td>0.611497</td>\n",
       "    </tr>\n",
       "    <tr>\n",
       "      <th>OZONE_average</th>\n",
       "      <td>0.349189</td>\n",
       "      <td>0.246026</td>\n",
       "      <td>0.432453</td>\n",
       "      <td>0.250213</td>\n",
       "      <td>0.322619</td>\n",
       "      <td>0.213817</td>\n",
       "      <td>-0.135484</td>\n",
       "      <td>-0.125157</td>\n",
       "      <td>0.126466</td>\n",
       "      <td>0.410694</td>\n",
       "      <td>0.262731</td>\n",
       "      <td>0.286209</td>\n",
       "      <td>1.000000</td>\n",
       "      <td>0.396062</td>\n",
       "      <td>0.599960</td>\n",
       "      <td>0.178294</td>\n",
       "    </tr>\n",
       "    <tr>\n",
       "      <th>OZONE_minimum</th>\n",
       "      <td>-0.128450</td>\n",
       "      <td>0.023076</td>\n",
       "      <td>-0.202436</td>\n",
       "      <td>-0.168951</td>\n",
       "      <td>0.153654</td>\n",
       "      <td>-0.225475</td>\n",
       "      <td>-0.219632</td>\n",
       "      <td>0.099448</td>\n",
       "      <td>-0.157891</td>\n",
       "      <td>-0.134488</td>\n",
       "      <td>0.283088</td>\n",
       "      <td>-0.215607</td>\n",
       "      <td>0.396062</td>\n",
       "      <td>1.000000</td>\n",
       "      <td>-0.112191</td>\n",
       "      <td>-0.194857</td>\n",
       "    </tr>\n",
       "    <tr>\n",
       "      <th>OZONE_maximum</th>\n",
       "      <td>0.640724</td>\n",
       "      <td>0.300718</td>\n",
       "      <td>0.707087</td>\n",
       "      <td>0.582131</td>\n",
       "      <td>0.167142</td>\n",
       "      <td>0.632899</td>\n",
       "      <td>0.261936</td>\n",
       "      <td>-0.183760</td>\n",
       "      <td>0.443682</td>\n",
       "      <td>0.733560</td>\n",
       "      <td>0.081936</td>\n",
       "      <td>0.645564</td>\n",
       "      <td>0.599960</td>\n",
       "      <td>-0.112191</td>\n",
       "      <td>1.000000</td>\n",
       "      <td>0.583106</td>\n",
       "    </tr>\n",
       "    <tr>\n",
       "      <th>Total_Day_Cases</th>\n",
       "      <td>0.654915</td>\n",
       "      <td>0.222809</td>\n",
       "      <td>0.580610</td>\n",
       "      <td>0.499713</td>\n",
       "      <td>0.075949</td>\n",
       "      <td>0.553306</td>\n",
       "      <td>0.469066</td>\n",
       "      <td>-0.138122</td>\n",
       "      <td>0.428324</td>\n",
       "      <td>0.673883</td>\n",
       "      <td>-0.160377</td>\n",
       "      <td>0.611497</td>\n",
       "      <td>0.178294</td>\n",
       "      <td>-0.194857</td>\n",
       "      <td>0.583106</td>\n",
       "      <td>1.000000</td>\n",
       "    </tr>\n",
       "  </tbody>\n",
       "</table>\n",
       "</div>"
      ],
      "text/plain": [
       "                 PM2.5_average  PM2.5_minimum  PM2.5_maximum  NO2_average  \\\n",
       "PM2.5_average         1.000000       0.678551       0.742925     0.861843   \n",
       "PM2.5_minimum         0.678551       1.000000       0.383395     0.620527   \n",
       "PM2.5_maximum         0.742925       0.383395       1.000000     0.642148   \n",
       "NO2_average           0.861843       0.620527       0.642148     1.000000   \n",
       "NO2_minimum           0.341938       0.392286       0.150824     0.370757   \n",
       "NO2_maximum           0.660537       0.372606       0.633493     0.783531   \n",
       "SO2_average           0.426273       0.275000       0.275123     0.324669   \n",
       "SO2_minimum          -0.070219       0.091955      -0.199875    -0.125167   \n",
       "SO2_maximum           0.419932       0.228073       0.431241     0.428103   \n",
       "CO_average            0.778985       0.393759       0.744701     0.661800   \n",
       "CO_minimum            0.045683       0.180047       0.013091    -0.018948   \n",
       "CO_maximum            0.614698       0.244974       0.683337     0.547715   \n",
       "OZONE_average         0.349189       0.246026       0.432453     0.250213   \n",
       "OZONE_minimum        -0.128450       0.023076      -0.202436    -0.168951   \n",
       "OZONE_maximum         0.640724       0.300718       0.707087     0.582131   \n",
       "Total_Day_Cases       0.654915       0.222809       0.580610     0.499713   \n",
       "\n",
       "                 NO2_minimum  NO2_maximum  SO2_average  SO2_minimum  \\\n",
       "PM2.5_average       0.341938     0.660537     0.426273    -0.070219   \n",
       "PM2.5_minimum       0.392286     0.372606     0.275000     0.091955   \n",
       "PM2.5_maximum       0.150824     0.633493     0.275123    -0.199875   \n",
       "NO2_average         0.370757     0.783531     0.324669    -0.125167   \n",
       "NO2_minimum         1.000000     0.154885    -0.062146     0.096494   \n",
       "NO2_maximum         0.154885     1.000000     0.330480    -0.148184   \n",
       "SO2_average        -0.062146     0.330480     1.000000     0.246728   \n",
       "SO2_minimum         0.096494    -0.148184     0.246728     1.000000   \n",
       "SO2_maximum         0.051920     0.450432     0.628007    -0.055942   \n",
       "CO_average          0.229652     0.646377     0.284008    -0.141318   \n",
       "CO_minimum          0.164892    -0.057137    -0.101002     0.106307   \n",
       "CO_maximum          0.099008     0.599795     0.255214    -0.197653   \n",
       "OZONE_average       0.322619     0.213817    -0.135484    -0.125157   \n",
       "OZONE_minimum       0.153654    -0.225475    -0.219632     0.099448   \n",
       "OZONE_maximum       0.167142     0.632899     0.261936    -0.183760   \n",
       "Total_Day_Cases     0.075949     0.553306     0.469066    -0.138122   \n",
       "\n",
       "                 SO2_maximum  CO_average  CO_minimum  CO_maximum  \\\n",
       "PM2.5_average       0.419932    0.778985    0.045683    0.614698   \n",
       "PM2.5_minimum       0.228073    0.393759    0.180047    0.244974   \n",
       "PM2.5_maximum       0.431241    0.744701    0.013091    0.683337   \n",
       "NO2_average         0.428103    0.661800   -0.018948    0.547715   \n",
       "NO2_minimum         0.051920    0.229652    0.164892    0.099008   \n",
       "NO2_maximum         0.450432    0.646377   -0.057137    0.599795   \n",
       "SO2_average         0.628007    0.284008   -0.101002    0.255214   \n",
       "SO2_minimum        -0.055942   -0.141318    0.106307   -0.197653   \n",
       "SO2_maximum         1.000000    0.447798   -0.090859    0.441437   \n",
       "CO_average          0.447798    1.000000    0.129546    0.851314   \n",
       "CO_minimum         -0.090859    0.129546    1.000000   -0.021041   \n",
       "CO_maximum          0.441437    0.851314   -0.021041    1.000000   \n",
       "OZONE_average       0.126466    0.410694    0.262731    0.286209   \n",
       "OZONE_minimum      -0.157891   -0.134488    0.283088   -0.215607   \n",
       "OZONE_maximum       0.443682    0.733560    0.081936    0.645564   \n",
       "Total_Day_Cases     0.428324    0.673883   -0.160377    0.611497   \n",
       "\n",
       "                 OZONE_average  OZONE_minimum  OZONE_maximum  Total_Day_Cases  \n",
       "PM2.5_average         0.349189      -0.128450       0.640724         0.654915  \n",
       "PM2.5_minimum         0.246026       0.023076       0.300718         0.222809  \n",
       "PM2.5_maximum         0.432453      -0.202436       0.707087         0.580610  \n",
       "NO2_average           0.250213      -0.168951       0.582131         0.499713  \n",
       "NO2_minimum           0.322619       0.153654       0.167142         0.075949  \n",
       "NO2_maximum           0.213817      -0.225475       0.632899         0.553306  \n",
       "SO2_average          -0.135484      -0.219632       0.261936         0.469066  \n",
       "SO2_minimum          -0.125157       0.099448      -0.183760        -0.138122  \n",
       "SO2_maximum           0.126466      -0.157891       0.443682         0.428324  \n",
       "CO_average            0.410694      -0.134488       0.733560         0.673883  \n",
       "CO_minimum            0.262731       0.283088       0.081936        -0.160377  \n",
       "CO_maximum            0.286209      -0.215607       0.645564         0.611497  \n",
       "OZONE_average         1.000000       0.396062       0.599960         0.178294  \n",
       "OZONE_minimum         0.396062       1.000000      -0.112191        -0.194857  \n",
       "OZONE_maximum         0.599960      -0.112191       1.000000         0.583106  \n",
       "Total_Day_Cases       0.178294      -0.194857       0.583106         1.000000  "
      ]
     },
     "execution_count": 133,
     "metadata": {},
     "output_type": "execute_result"
    }
   ],
   "source": [
    "corr_df=pd.DataFrame(final_df.corr())\n",
    "corr_df"
   ]
  },
  {
   "cell_type": "code",
   "execution_count": 136,
   "metadata": {},
   "outputs": [],
   "source": [
    "aqi_levels=pd.read_csv(\"AQI_Levels.csv\")"
   ]
  },
  {
   "cell_type": "code",
   "execution_count": 180,
   "metadata": {},
   "outputs": [
    {
     "data": {
      "text/html": [
       "<div>\n",
       "<style scoped>\n",
       "    .dataframe tbody tr th:only-of-type {\n",
       "        vertical-align: middle;\n",
       "    }\n",
       "\n",
       "    .dataframe tbody tr th {\n",
       "        vertical-align: top;\n",
       "    }\n",
       "\n",
       "    .dataframe thead th {\n",
       "        text-align: right;\n",
       "    }\n",
       "</style>\n",
       "<table border=\"1\" class=\"dataframe\">\n",
       "  <thead>\n",
       "    <tr style=\"text-align: right;\">\n",
       "      <th></th>\n",
       "      <th>AQI Category</th>\n",
       "      <th>Pollutant ID</th>\n",
       "      <th>Start Range</th>\n",
       "      <th>End Range</th>\n",
       "    </tr>\n",
       "  </thead>\n",
       "  <tbody>\n",
       "    <tr>\n",
       "      <th>0</th>\n",
       "      <td>Good</td>\n",
       "      <td>CO</td>\n",
       "      <td>0</td>\n",
       "      <td>1</td>\n",
       "    </tr>\n",
       "    <tr>\n",
       "      <th>1</th>\n",
       "      <td>Satisfactory</td>\n",
       "      <td>CO</td>\n",
       "      <td>1</td>\n",
       "      <td>2</td>\n",
       "    </tr>\n",
       "    <tr>\n",
       "      <th>2</th>\n",
       "      <td>Moderately Polluted</td>\n",
       "      <td>CO</td>\n",
       "      <td>2</td>\n",
       "      <td>10</td>\n",
       "    </tr>\n",
       "    <tr>\n",
       "      <th>3</th>\n",
       "      <td>Poor</td>\n",
       "      <td>CO</td>\n",
       "      <td>10</td>\n",
       "      <td>17</td>\n",
       "    </tr>\n",
       "    <tr>\n",
       "      <th>4</th>\n",
       "      <td>Very Poor</td>\n",
       "      <td>CO</td>\n",
       "      <td>17</td>\n",
       "      <td>34</td>\n",
       "    </tr>\n",
       "  </tbody>\n",
       "</table>\n",
       "</div>"
      ],
      "text/plain": [
       "          AQI Category Pollutant ID  Start Range  End Range\n",
       "0                 Good           CO            0          1\n",
       "1         Satisfactory           CO            1          2\n",
       "2  Moderately Polluted           CO            2         10\n",
       "3                 Poor           CO           10         17\n",
       "4            Very Poor           CO           17         34"
      ]
     },
     "execution_count": 180,
     "metadata": {},
     "output_type": "execute_result"
    }
   ],
   "source": [
    "aqi_levels.head(5)"
   ]
  },
  {
   "cell_type": "code",
   "execution_count": 158,
   "metadata": {},
   "outputs": [
    {
     "name": "stdout",
     "output_type": "stream",
     "text": [
      "Col: PM2.5 - 500.0\n",
      "251-500.0\n",
      "Col: NO2 - 422.0\n",
      "401-422.0\n",
      "Col: SO2 - 140.0\n",
      "1601-140.0\n",
      "Col: CO - 200.0\n",
      "34-200.0\n",
      "Col: OZONE - 280.0\n",
      "749-280.0\n"
     ]
    }
   ],
   "source": [
    "#Populating the End Range for the \"Severe\" AQI category\n",
    "for col in final_df.select_dtypes(include=[np.number]).columns:\n",
    "    if('_maximum' in col):\n",
    "        pollutantID=col.split(\"_\")[0]\n",
    "        print(\"Col: \"+pollutantID+\" - \"+str(np.max(final_df[col])))\n",
    "        aqi_severe_rows=list(aqi_levels[(aqi_levels[\"Pollutant ID\"].str.lower()==pollutantID.lower()) & (aqi_levels[\"AQI Category\"]==\"Severe\")].index)\n",
    "        print(str(aqi_levels.loc[aqi_severe_rows[0],\"Start Range\"])+\"-\"+str(np.max(final_df[col])))\n",
    "        if(len(start_range)>0 and aqi_levels.loc[aqi_severe_rows[0],\"Start Range\"]<int(np.max(final_df[col]))):\n",
    "            aqi_levels.loc[aqi_severe_rows[0],\"End Range\"]=np.max(final_df[col])\n",
    "        else:\n",
    "            aqi_levels.loc[aqi_severe_rows[0],\"End Range\"]=aqi_levels.loc[aqi_severe_rows[0],\"Start Range\"]+100"
   ]
  },
  {
   "cell_type": "code",
   "execution_count": 170,
   "metadata": {},
   "outputs": [],
   "source": [
    "aqi_levels=aqi_levels[~aqi_levels[\"Pollutant ID\"].isin(['PM10','NH3'])]\n",
    "aqi_levels[\"Start Range\"]=aqi_levels[\"Start Range\"].astype(int)\n",
    "aqi_levels[\"End Range\"]=aqi_levels[\"End Range\"].astype(int)"
   ]
  },
  {
   "cell_type": "code",
   "execution_count": 227,
   "metadata": {},
   "outputs": [
    {
     "name": "stdout",
     "output_type": "stream",
     "text": [
      "Col: PM2.5 - 446.82142857142856\n",
      "Col: NO2 - 102.24137931034483\n",
      "Col: SO2 - 34.5\n",
      "Col: CO - 115.12903225806451\n",
      "Col: OZONE - 65.0\n"
     ]
    }
   ],
   "source": [
    "#Populating the AQI Category based on the AQI values in main dataset\n",
    "for col in final_df.select_dtypes(include=[np.number]).columns:\n",
    "    if('_average' in col):\n",
    "        pollutantID=col.split(\"_\")[0]\n",
    "        print(\"Col: \"+pollutantID+\" - \"+str(np.max(final_df[col])))\n",
    "        #aqi_severe_rows=list(aqi_levels[(aqi_levels[\"Pollutant ID\"].str.lower()==pollutantID.lower()) & (aqi_levels[\"AQI Category\"]==\"Severe\")].index)\n",
    "        #print(str(aqi_levels.loc[aqi_severe_rows[0],\"Start Range\"])+\"-\"+str(np.max(final_df[col])))\n",
    "        for i,val in enumerate(final_df[col]):\n",
    "            final_df.at[i,pollutantID+\"_AQI_Category\"]=list(aqi_levels[(aqi_levels[\"Pollutant ID\"].str.lower()==pollutantID.lower()) & ((aqi_levels[\"Start Range\"]<=int(val)) & (aqi_levels[\"End Range\"]>=int(val)))][\"AQI Category\"])[0]"
   ]
  },
  {
   "cell_type": "code",
   "execution_count": 228,
   "metadata": {},
   "outputs": [
    {
     "data": {
      "text/plain": [
       "Good                   244\n",
       "Satisfactory           211\n",
       "Moderately Polluted     89\n",
       "Very Poor               58\n",
       "Poor                    34\n",
       "Severe                  24\n",
       "Name: PM2.5_AQI_Category, dtype: int64"
      ]
     },
     "execution_count": 228,
     "metadata": {},
     "output_type": "execute_result"
    }
   ],
   "source": [
    "final_df[\"PM2.5_AQI_Category\"].value_counts()"
   ]
  },
  {
   "cell_type": "code",
   "execution_count": 235,
   "metadata": {},
   "outputs": [
    {
     "data": {
      "text/plain": [
       "Good                   570\n",
       "Satisfactory            77\n",
       "Moderately Polluted     13\n",
       "Name: NO2_AQI_Category, dtype: int64"
      ]
     },
     "execution_count": 235,
     "metadata": {},
     "output_type": "execute_result"
    }
   ],
   "source": [
    "final_df[\"NO2_AQI_Category\"].value_counts()"
   ]
  },
  {
   "cell_type": "markdown",
   "metadata": {},
   "source": [
    "### Correlation of Pollutant values bases on PM2.5 AQI Category"
   ]
  },
  {
   "cell_type": "code",
   "execution_count": 469,
   "metadata": {},
   "outputs": [
    {
     "name": "stdout",
     "output_type": "stream",
     "text": [
      "Good\n",
      "Satisfactory\n",
      "Moderately Polluted\n",
      "Very Poor\n",
      "Poor\n",
      "Severe\n"
     ]
    }
   ],
   "source": [
    "category_wise_corr_list=[]\n",
    "for category in pd.DataFrame(final_df[\"PM2.5_AQI_Category\"].value_counts()).index:\n",
    "    print(category)\n",
    "    category_wise_corr_df=pd.DataFrame(final_df[final_df[\"PM2.5_AQI_Category\"]==category].corr()[\"Total_Day_Cases\"]).transpose()\n",
    "    #category_wise_corr_df.drop(columns=\"Total_Day_cases\",inplace=True)\n",
    "    category_wise_corr_df[\"AQI_Category\"]=category\n",
    "    category_wise_corr_list.append(category_wise_corr_df)\n",
    "category_wise_corr_df=pd.concat(category_wise_corr_list,ignore_index=False)\n",
    "category_wise_corr_df.index=category_wise_corr_df[\"AQI_Category\"]"
   ]
  },
  {
   "cell_type": "code",
   "execution_count": 500,
   "metadata": {},
   "outputs": [],
   "source": [
    "pm2_5_aqi_categories=category_wise_corr_df[\"AQI_Category\"]"
   ]
  },
  {
   "cell_type": "code",
   "execution_count": 470,
   "metadata": {},
   "outputs": [
    {
     "data": {
      "text/html": [
       "<div>\n",
       "<style scoped>\n",
       "    .dataframe tbody tr th:only-of-type {\n",
       "        vertical-align: middle;\n",
       "    }\n",
       "\n",
       "    .dataframe tbody tr th {\n",
       "        vertical-align: top;\n",
       "    }\n",
       "\n",
       "    .dataframe thead th {\n",
       "        text-align: right;\n",
       "    }\n",
       "</style>\n",
       "<table border=\"1\" class=\"dataframe\">\n",
       "  <thead>\n",
       "    <tr style=\"text-align: right;\">\n",
       "      <th></th>\n",
       "      <th>PM2.5_average</th>\n",
       "      <th>PM2.5_minimum</th>\n",
       "      <th>NO2_average</th>\n",
       "      <th>NO2_minimum</th>\n",
       "      <th>SO2_average</th>\n",
       "      <th>SO2_minimum</th>\n",
       "      <th>CO_average</th>\n",
       "      <th>CO_minimum</th>\n",
       "      <th>OZONE_average</th>\n",
       "      <th>OZONE_minimum</th>\n",
       "    </tr>\n",
       "    <tr>\n",
       "      <th>AQI_Category</th>\n",
       "      <th></th>\n",
       "      <th></th>\n",
       "      <th></th>\n",
       "      <th></th>\n",
       "      <th></th>\n",
       "      <th></th>\n",
       "      <th></th>\n",
       "      <th></th>\n",
       "      <th></th>\n",
       "      <th></th>\n",
       "    </tr>\n",
       "  </thead>\n",
       "  <tbody>\n",
       "    <tr>\n",
       "      <th>Good</th>\n",
       "      <td>0.033391</td>\n",
       "      <td>-0.274810</td>\n",
       "      <td>-0.333818</td>\n",
       "      <td>-0.061915</td>\n",
       "      <td>0.429698</td>\n",
       "      <td>0.166314</td>\n",
       "      <td>0.330654</td>\n",
       "      <td>-0.028713</td>\n",
       "      <td>-0.115596</td>\n",
       "      <td>-0.111560</td>\n",
       "    </tr>\n",
       "    <tr>\n",
       "      <th>Satisfactory</th>\n",
       "      <td>0.036585</td>\n",
       "      <td>-0.194703</td>\n",
       "      <td>-0.122362</td>\n",
       "      <td>-0.224689</td>\n",
       "      <td>0.388298</td>\n",
       "      <td>-0.167800</td>\n",
       "      <td>0.365965</td>\n",
       "      <td>-0.090261</td>\n",
       "      <td>0.034374</td>\n",
       "      <td>-0.094763</td>\n",
       "    </tr>\n",
       "    <tr>\n",
       "      <th>Moderately Polluted</th>\n",
       "      <td>0.076133</td>\n",
       "      <td>-0.388447</td>\n",
       "      <td>0.143058</td>\n",
       "      <td>0.049934</td>\n",
       "      <td>0.264058</td>\n",
       "      <td>-0.188103</td>\n",
       "      <td>0.315207</td>\n",
       "      <td>-0.270545</td>\n",
       "      <td>0.016331</td>\n",
       "      <td>-0.329053</td>\n",
       "    </tr>\n",
       "    <tr>\n",
       "      <th>Very Poor</th>\n",
       "      <td>0.491277</td>\n",
       "      <td>-0.601493</td>\n",
       "      <td>0.146462</td>\n",
       "      <td>-0.408032</td>\n",
       "      <td>0.380721</td>\n",
       "      <td>-0.284069</td>\n",
       "      <td>0.713002</td>\n",
       "      <td>-0.433001</td>\n",
       "      <td>0.192054</td>\n",
       "      <td>-0.509395</td>\n",
       "    </tr>\n",
       "    <tr>\n",
       "      <th>Poor</th>\n",
       "      <td>0.106055</td>\n",
       "      <td>-0.425998</td>\n",
       "      <td>0.323923</td>\n",
       "      <td>-0.035432</td>\n",
       "      <td>0.220194</td>\n",
       "      <td>-0.208858</td>\n",
       "      <td>0.497696</td>\n",
       "      <td>-0.382901</td>\n",
       "      <td>0.241730</td>\n",
       "      <td>-0.365741</td>\n",
       "    </tr>\n",
       "    <tr>\n",
       "      <th>Severe</th>\n",
       "      <td>0.350063</td>\n",
       "      <td>-0.003315</td>\n",
       "      <td>0.162083</td>\n",
       "      <td>0.004725</td>\n",
       "      <td>-0.200185</td>\n",
       "      <td>-0.552591</td>\n",
       "      <td>0.317170</td>\n",
       "      <td>-0.437004</td>\n",
       "      <td>-0.070043</td>\n",
       "      <td>-0.528159</td>\n",
       "    </tr>\n",
       "  </tbody>\n",
       "</table>\n",
       "</div>"
      ],
      "text/plain": [
       "                     PM2.5_average  PM2.5_minimum  NO2_average  NO2_minimum  \\\n",
       "AQI_Category                                                                  \n",
       "Good                      0.033391      -0.274810    -0.333818    -0.061915   \n",
       "Satisfactory              0.036585      -0.194703    -0.122362    -0.224689   \n",
       "Moderately Polluted       0.076133      -0.388447     0.143058     0.049934   \n",
       "Very Poor                 0.491277      -0.601493     0.146462    -0.408032   \n",
       "Poor                      0.106055      -0.425998     0.323923    -0.035432   \n",
       "Severe                    0.350063      -0.003315     0.162083     0.004725   \n",
       "\n",
       "                     SO2_average  SO2_minimum  CO_average  CO_minimum  \\\n",
       "AQI_Category                                                            \n",
       "Good                    0.429698     0.166314    0.330654   -0.028713   \n",
       "Satisfactory            0.388298    -0.167800    0.365965   -0.090261   \n",
       "Moderately Polluted     0.264058    -0.188103    0.315207   -0.270545   \n",
       "Very Poor               0.380721    -0.284069    0.713002   -0.433001   \n",
       "Poor                    0.220194    -0.208858    0.497696   -0.382901   \n",
       "Severe                 -0.200185    -0.552591    0.317170   -0.437004   \n",
       "\n",
       "                     OZONE_average  OZONE_minimum  \n",
       "AQI_Category                                       \n",
       "Good                     -0.115596      -0.111560  \n",
       "Satisfactory              0.034374      -0.094763  \n",
       "Moderately Polluted       0.016331      -0.329053  \n",
       "Very Poor                 0.192054      -0.509395  \n",
       "Poor                      0.241730      -0.365741  \n",
       "Severe                   -0.070043      -0.528159  "
      ]
     },
     "execution_count": 470,
     "metadata": {},
     "output_type": "execute_result"
    }
   ],
   "source": [
    "category_wise_corr_df[[col for col in category_wise_corr_df.columns if \"average\" in col or \"minimum\" in col]]"
   ]
  },
  {
   "cell_type": "markdown",
   "metadata": {},
   "source": [
    "### Correlation of Pollutant values bases on NO2 Category"
   ]
  },
  {
   "cell_type": "code",
   "execution_count": 412,
   "metadata": {},
   "outputs": [
    {
     "name": "stdout",
     "output_type": "stream",
     "text": [
      "Good\n",
      "Satisfactory\n",
      "Moderately Polluted\n"
     ]
    }
   ],
   "source": [
    "category_wise_corr_list=[]\n",
    "for category in pd.DataFrame(final_df[\"NO2_AQI_Category\"].value_counts()).index:\n",
    "    print(category)\n",
    "    category_wise_corr_df=pd.DataFrame(final_df[final_df[\"NO2_AQI_Category\"]==category].corr()[\"Total_Day_Cases\"]).transpose()\n",
    "    #category_wise_corr_df.drop(columns=\"Total_Day_cases\",inplace=True)\n",
    "    category_wise_corr_df[\"AQI_Category\"]=category\n",
    "    category_wise_corr_list.append(category_wise_corr_df)\n",
    "category_wise_corr_df=pd.concat(category_wise_corr_list,ignore_index=False)\n",
    "category_wise_corr_df.index=category_wise_corr_df[\"AQI_Category\"]"
   ]
  },
  {
   "cell_type": "code",
   "execution_count": 413,
   "metadata": {},
   "outputs": [
    {
     "data": {
      "text/html": [
       "<div>\n",
       "<style scoped>\n",
       "    .dataframe tbody tr th:only-of-type {\n",
       "        vertical-align: middle;\n",
       "    }\n",
       "\n",
       "    .dataframe tbody tr th {\n",
       "        vertical-align: top;\n",
       "    }\n",
       "\n",
       "    .dataframe thead th {\n",
       "        text-align: right;\n",
       "    }\n",
       "</style>\n",
       "<table border=\"1\" class=\"dataframe\">\n",
       "  <thead>\n",
       "    <tr style=\"text-align: right;\">\n",
       "      <th></th>\n",
       "      <th>PM2.5_average</th>\n",
       "      <th>PM2.5_minimum</th>\n",
       "      <th>NO2_average</th>\n",
       "      <th>NO2_minimum</th>\n",
       "      <th>SO2_average</th>\n",
       "      <th>SO2_minimum</th>\n",
       "      <th>CO_average</th>\n",
       "      <th>CO_minimum</th>\n",
       "      <th>OZONE_average</th>\n",
       "      <th>OZONE_minimum</th>\n",
       "    </tr>\n",
       "    <tr>\n",
       "      <th>AQI_Category</th>\n",
       "      <th></th>\n",
       "      <th></th>\n",
       "      <th></th>\n",
       "      <th></th>\n",
       "      <th></th>\n",
       "      <th></th>\n",
       "      <th></th>\n",
       "      <th></th>\n",
       "      <th></th>\n",
       "      <th></th>\n",
       "    </tr>\n",
       "  </thead>\n",
       "  <tbody>\n",
       "    <tr>\n",
       "      <th>Good</th>\n",
       "      <td>0.219083</td>\n",
       "      <td>-0.066332</td>\n",
       "      <td>0.023641</td>\n",
       "      <td>-0.089817</td>\n",
       "      <td>0.322212</td>\n",
       "      <td>-0.060601</td>\n",
       "      <td>0.397880</td>\n",
       "      <td>-0.061113</td>\n",
       "      <td>0.071544</td>\n",
       "      <td>-0.145315</td>\n",
       "    </tr>\n",
       "    <tr>\n",
       "      <th>Satisfactory</th>\n",
       "      <td>0.745023</td>\n",
       "      <td>-0.350545</td>\n",
       "      <td>0.552451</td>\n",
       "      <td>-0.187732</td>\n",
       "      <td>0.552192</td>\n",
       "      <td>-0.312783</td>\n",
       "      <td>0.842503</td>\n",
       "      <td>-0.506499</td>\n",
       "      <td>0.202377</td>\n",
       "      <td>-0.489334</td>\n",
       "    </tr>\n",
       "    <tr>\n",
       "      <th>Moderately Polluted</th>\n",
       "      <td>0.622816</td>\n",
       "      <td>0.263095</td>\n",
       "      <td>0.032160</td>\n",
       "      <td>-0.531069</td>\n",
       "      <td>0.423636</td>\n",
       "      <td>-0.785268</td>\n",
       "      <td>0.533487</td>\n",
       "      <td>-0.647023</td>\n",
       "      <td>-0.033540</td>\n",
       "      <td>-0.533050</td>\n",
       "    </tr>\n",
       "  </tbody>\n",
       "</table>\n",
       "</div>"
      ],
      "text/plain": [
       "                     PM2.5_average  PM2.5_minimum  NO2_average  NO2_minimum  \\\n",
       "AQI_Category                                                                  \n",
       "Good                      0.219083      -0.066332     0.023641    -0.089817   \n",
       "Satisfactory              0.745023      -0.350545     0.552451    -0.187732   \n",
       "Moderately Polluted       0.622816       0.263095     0.032160    -0.531069   \n",
       "\n",
       "                     SO2_average  SO2_minimum  CO_average  CO_minimum  \\\n",
       "AQI_Category                                                            \n",
       "Good                    0.322212    -0.060601    0.397880   -0.061113   \n",
       "Satisfactory            0.552192    -0.312783    0.842503   -0.506499   \n",
       "Moderately Polluted     0.423636    -0.785268    0.533487   -0.647023   \n",
       "\n",
       "                     OZONE_average  OZONE_minimum  \n",
       "AQI_Category                                       \n",
       "Good                      0.071544      -0.145315  \n",
       "Satisfactory              0.202377      -0.489334  \n",
       "Moderately Polluted      -0.033540      -0.533050  "
      ]
     },
     "execution_count": 413,
     "metadata": {},
     "output_type": "execute_result"
    }
   ],
   "source": [
    "category_wise_corr_df[[col for col in category_wise_corr_df.columns if \"average\" in col or \"minimum\" in col]]"
   ]
  },
  {
   "cell_type": "code",
   "execution_count": 414,
   "metadata": {
    "scrolled": true
   },
   "outputs": [],
   "source": [
    "#category_wise_corr_df.drop(columns=\"Total_Day_Cases\",inplace=True)"
   ]
  },
  {
   "cell_type": "code",
   "execution_count": 415,
   "metadata": {},
   "outputs": [],
   "source": [
    "high_corr_cols=list(corr_df[(corr_df[\"Total_Day_Cases\"]>0.2) | (corr_df[\"Total_Day_Cases\"]<=-0.2)].index)\n",
    "final_high_df=final_df[high_corr_cols]"
   ]
  },
  {
   "cell_type": "code",
   "execution_count": 416,
   "metadata": {},
   "outputs": [
    {
     "data": {
      "text/plain": [
       "['PM2.5_average',\n",
       " 'PM2.5_minimum',\n",
       " 'PM2.5_maximum',\n",
       " 'NO2_average',\n",
       " 'NO2_maximum',\n",
       " 'SO2_average',\n",
       " 'SO2_maximum',\n",
       " 'CO_average',\n",
       " 'CO_maximum',\n",
       " 'OZONE_maximum',\n",
       " 'Total_Day_Cases']"
      ]
     },
     "execution_count": 416,
     "metadata": {},
     "output_type": "execute_result"
    }
   ],
   "source": [
    "high_corr_cols"
   ]
  },
  {
   "cell_type": "code",
   "execution_count": 417,
   "metadata": {},
   "outputs": [
    {
     "data": {
      "text/plain": [
       "Index(['City', 'Date', 'Unique', 'PM2.5_average', 'PM2.5_minimum',\n",
       "       'PM2.5_maximum', 'NO2_average', 'NO2_minimum', 'NO2_maximum',\n",
       "       'SO2_average', 'SO2_minimum', 'SO2_maximum', 'CO_average', 'CO_minimum',\n",
       "       'CO_maximum', 'OZONE_average', 'OZONE_minimum', 'OZONE_maximum',\n",
       "       'Total_Day_Cases', 'PM2.5_AQI_Category', 'NO2_AQI_Category',\n",
       "       'SO2_AQI_Category', 'CO_AQI_Category', 'OZONE_AQI_Category'],\n",
       "      dtype='object')"
      ]
     },
     "execution_count": 417,
     "metadata": {},
     "output_type": "execute_result"
    }
   ],
   "source": [
    "final_df.columns"
   ]
  },
  {
   "cell_type": "code",
   "execution_count": 418,
   "metadata": {},
   "outputs": [
    {
     "data": {
      "text/plain": [
       "['PM2.5_average',\n",
       " 'PM2.5_minimum',\n",
       " 'PM2.5_maximum',\n",
       " 'NO2_average',\n",
       " 'NO2_maximum',\n",
       " 'SO2_average',\n",
       " 'SO2_maximum',\n",
       " 'CO_average',\n",
       " 'CO_maximum',\n",
       " 'OZONE_maximum',\n",
       " 'Total_Day_Cases']"
      ]
     },
     "execution_count": 418,
     "metadata": {},
     "output_type": "execute_result"
    }
   ],
   "source": [
    "final_high_df=final_df[high_corr_cols]\n",
    "high_corr_cols"
   ]
  },
  {
   "cell_type": "code",
   "execution_count": 437,
   "metadata": {},
   "outputs": [
    {
     "data": {
      "text/plain": [
       "['PM2.5_average',\n",
       " 'PM2.5_minimum',\n",
       " 'NO2_average',\n",
       " 'NO2_minimum',\n",
       " 'SO2_average',\n",
       " 'SO2_minimum',\n",
       " 'CO_average',\n",
       " 'CO_minimum',\n",
       " 'OZONE_average',\n",
       " 'OZONE_minimum',\n",
       " 'Total_Day_Cases']"
      ]
     },
     "execution_count": 437,
     "metadata": {},
     "output_type": "execute_result"
    }
   ],
   "source": [
    "average_min_cols=[col for col in final_df.columns if \"minimum\" in col or \"average\" in col]\n",
    "average_min_cols.append(\"Total_Day_Cases\")\n",
    "average_min_cols"
   ]
  },
  {
   "cell_type": "code",
   "execution_count": 699,
   "metadata": {},
   "outputs": [],
   "source": [
    "from scipy.stats import f_oneway\n",
    "pm_2_5_good_aqi=final_df[final_df[\"PM2.5_AQI_Category\"]==\"Good\"][[\"PM2.5_average\",\"Total_Day_Cases\"]]\n",
    "pm_2_5_moderate_aqi=final_df[final_df[\"PM2.5_AQI_Category\"]==\"Moderately Polluted\"][[\"PM2.5_average\",\"Total_Day_Cases\"]]\n",
    "pm_2_5_satisfactory_aqi=final_df[final_df[\"PM2.5_AQI_Category\"]==\"Satisfactory\"][[\"PM2.5_average\",\"Total_Day_Cases\"]]\n",
    "pm_2_5_poor_aqi=final_df[final_df[\"PM2.5_AQI_Category\"]==\"Poor\"][[\"PM2.5_average\",\"Total_Day_Cases\"]]\n",
    "pm_2_5_very_poor_aqi=final_df[final_df[\"PM2.5_AQI_Category\"]==\"Very Poor\"][[\"PM2.5_average\",\"Total_Day_Cases\"]]\n",
    "pm_2_5_severe_aqi=final_df[final_df[\"PM2.5_AQI_Category\"]==\"Severe\"][[\"PM2.5_average\",\"Total_Day_Cases\"]]"
   ]
  },
  {
   "cell_type": "code",
   "execution_count": 701,
   "metadata": {},
   "outputs": [
    {
     "data": {
      "text/plain": [
       "F_onewayResult(statistic=array([2184.02945108,  112.63089382]), pvalue=array([0.00000000e+00, 8.64526313e-86]))"
      ]
     },
     "execution_count": 701,
     "metadata": {},
     "output_type": "execute_result"
    }
   ],
   "source": [
    "f_oneway(pm_2_5_good_aqi,pm_2_5_moderate_aqi,pm_2_5_satisfactory_aqi,pm_2_5_poor_aqi,pm_2_5_very_poor_aqi,pm_2_5_severe_aqi)"
   ]
  },
  {
   "cell_type": "code",
   "execution_count": 719,
   "metadata": {},
   "outputs": [
    {
     "data": {
      "text/plain": [
       "'2.300766492750391e-05'"
      ]
     },
     "execution_count": 719,
     "metadata": {},
     "output_type": "execute_result"
    }
   ],
   "source": [
    "F,p=f_oneway(pm_2_5_good_aqi,pm_2_5_satisfactory_aqi)\n",
    "str(p[1])"
   ]
  },
  {
   "cell_type": "code",
   "execution_count": 720,
   "metadata": {},
   "outputs": [
    {
     "data": {
      "text/plain": [
       "'0.47402183759701744'"
      ]
     },
     "execution_count": 720,
     "metadata": {},
     "output_type": "execute_result"
    }
   ],
   "source": [
    "F,p=f_oneway(pm_2_5_satisfactory_aqi,pm_2_5_moderate_aqi)\n",
    "str(p[1])"
   ]
  },
  {
   "cell_type": "code",
   "execution_count": 721,
   "metadata": {},
   "outputs": [
    {
     "data": {
      "text/plain": [
       "'0.04561854370455736'"
      ]
     },
     "execution_count": 721,
     "metadata": {},
     "output_type": "execute_result"
    }
   ],
   "source": [
    "F,p=f_oneway(pm_2_5_moderate_aqi,pm_2_5_poor_aqi)\n",
    "str(p[1])"
   ]
  },
  {
   "cell_type": "code",
   "execution_count": 722,
   "metadata": {},
   "outputs": [
    {
     "data": {
      "text/plain": [
       "'0.8676743148696257'"
      ]
     },
     "execution_count": 722,
     "metadata": {},
     "output_type": "execute_result"
    }
   ],
   "source": [
    "F,p=f_oneway(pm_2_5_poor_aqi,pm_2_5_very_poor_aqi)\n",
    "str(p[1])"
   ]
  },
  {
   "cell_type": "code",
   "execution_count": 723,
   "metadata": {},
   "outputs": [
    {
     "data": {
      "text/plain": [
       "'1.3860505593244535e-14'"
      ]
     },
     "execution_count": 723,
     "metadata": {},
     "output_type": "execute_result"
    }
   ],
   "source": [
    "F,p=f_oneway(pm_2_5_very_poor_aqi,pm_2_5_severe_aqi)\n",
    "str(p[1])"
   ]
  },
  {
   "cell_type": "code",
   "execution_count": null,
   "metadata": {},
   "outputs": [],
   "source": [
    "good,moderate\n",
    "satisfactory,poor"
   ]
  },
  {
   "cell_type": "code",
   "execution_count": 616,
   "metadata": {},
   "outputs": [],
   "source": [
    "#final_high_df=final_df[final_df[\"Date\"]<datetime.datetime(2020,10,23)][average_min_cols]"
   ]
  },
  {
   "cell_type": "code",
   "execution_count": 646,
   "metadata": {},
   "outputs": [],
   "source": [
    "final_high_df=final_df[final_df[\"PM2.5_AQI_Category\"]!=\"Severe\"][average_min_cols]"
   ]
  },
  {
   "cell_type": "code",
   "execution_count": 647,
   "metadata": {},
   "outputs": [
    {
     "data": {
      "text/plain": [
       "(660, 24)"
      ]
     },
     "execution_count": 647,
     "metadata": {},
     "output_type": "execute_result"
    }
   ],
   "source": [
    "final_df.shape"
   ]
  },
  {
   "cell_type": "code",
   "execution_count": 648,
   "metadata": {},
   "outputs": [
    {
     "data": {
      "text/plain": [
       "(636, 11)"
      ]
     },
     "execution_count": 648,
     "metadata": {},
     "output_type": "execute_result"
    }
   ],
   "source": [
    "final_high_df.shape"
   ]
  },
  {
   "cell_type": "markdown",
   "metadata": {},
   "source": [
    "# Train Test Split"
   ]
  },
  {
   "cell_type": "code",
   "execution_count": 649,
   "metadata": {},
   "outputs": [],
   "source": [
    "#final_high_df_1 = final_high_df.head(600)\n",
    "#final_high_df_2 = final_high_df.tail(85)"
   ]
  },
  {
   "cell_type": "code",
   "execution_count": 650,
   "metadata": {},
   "outputs": [],
   "source": [
    "x=final_high_df.drop(columns = ['Total_Day_Cases'])\n",
    "y = final_high_df['Total_Day_Cases']"
   ]
  },
  {
   "cell_type": "code",
   "execution_count": 651,
   "metadata": {},
   "outputs": [],
   "source": [
    "x_train, x_test, y_train, y_test = train_test_split(x, y, test_size=0.3, random_state=10)"
   ]
  },
  {
   "cell_type": "code",
   "execution_count": 652,
   "metadata": {},
   "outputs": [
    {
     "data": {
      "text/plain": [
       "(445, 10)"
      ]
     },
     "execution_count": 652,
     "metadata": {},
     "output_type": "execute_result"
    }
   ],
   "source": [
    "x_train.shape"
   ]
  },
  {
   "cell_type": "markdown",
   "metadata": {},
   "source": [
    "# Linear Regression"
   ]
  },
  {
   "cell_type": "code",
   "execution_count": 653,
   "metadata": {},
   "outputs": [
    {
     "data": {
      "text/html": [
       "<div>\n",
       "<style scoped>\n",
       "    .dataframe tbody tr th:only-of-type {\n",
       "        vertical-align: middle;\n",
       "    }\n",
       "\n",
       "    .dataframe tbody tr th {\n",
       "        vertical-align: top;\n",
       "    }\n",
       "\n",
       "    .dataframe thead th {\n",
       "        text-align: right;\n",
       "    }\n",
       "</style>\n",
       "<table border=\"1\" class=\"dataframe\">\n",
       "  <thead>\n",
       "    <tr style=\"text-align: right;\">\n",
       "      <th></th>\n",
       "      <th>Actual</th>\n",
       "      <th>Predicted</th>\n",
       "    </tr>\n",
       "  </thead>\n",
       "  <tbody>\n",
       "    <tr>\n",
       "      <th>27</th>\n",
       "      <td>1013.0</td>\n",
       "      <td>1832.824097</td>\n",
       "    </tr>\n",
       "    <tr>\n",
       "      <th>498</th>\n",
       "      <td>879.0</td>\n",
       "      <td>833.470028</td>\n",
       "    </tr>\n",
       "    <tr>\n",
       "      <th>332</th>\n",
       "      <td>0.0</td>\n",
       "      <td>380.109391</td>\n",
       "    </tr>\n",
       "    <tr>\n",
       "      <th>243</th>\n",
       "      <td>5891.0</td>\n",
       "      <td>2907.427339</td>\n",
       "    </tr>\n",
       "    <tr>\n",
       "      <th>595</th>\n",
       "      <td>2378.0</td>\n",
       "      <td>1196.900440</td>\n",
       "    </tr>\n",
       "  </tbody>\n",
       "</table>\n",
       "</div>"
      ],
      "text/plain": [
       "     Actual    Predicted\n",
       "27   1013.0  1832.824097\n",
       "498   879.0   833.470028\n",
       "332     0.0   380.109391\n",
       "243  5891.0  2907.427339\n",
       "595  2378.0  1196.900440"
      ]
     },
     "execution_count": 653,
     "metadata": {},
     "output_type": "execute_result"
    }
   ],
   "source": [
    "model_lr = LinearRegression()\n",
    "model_lr.fit(x_train,y_train)\n",
    "y_pred = model_lr.predict(x_test)\n",
    "result_lr = pd.DataFrame({'Actual':y_test,'Predicted':y_pred})\n",
    "result_lr.head(5)"
   ]
  },
  {
   "cell_type": "code",
   "execution_count": 654,
   "metadata": {},
   "outputs": [
    {
     "name": "stdout",
     "output_type": "stream",
     "text": [
      "Mean Absolute Error Test   : 498.32944896079766\n",
      "Mean Absolute Error All    : 519.9633027330672\n"
     ]
    },
    {
     "data": {
      "text/plain": [
       "<matplotlib.axes._subplots.AxesSubplot at 0x16531756d48>"
      ]
     },
     "execution_count": 654,
     "metadata": {},
     "output_type": "execute_result"
    },
    {
     "data": {
      "image/png": "[encoded data removed]",
      "text/plain": [
       "<Figure size 432x288 with 1 Axes>"
      ]
     },
     "metadata": {
      "needs_background": "light"
     },
     "output_type": "display_data"
    }
   ],
   "source": [
    "#print('Mean Absolute Error Train  :', metrics.mean_absolute_error(y_train, model_lr.predict(x_train)))\n",
    "print('Mean Absolute Error Test   :', metrics.mean_absolute_error(y_test, model_lr.predict(x_test)))\n",
    "print('Mean Absolute Error All    :', metrics.mean_absolute_error(y, model_lr.predict(x)))\n",
    "#final_high_df[(final_high_df[\"Total_Day_Cases\"]-final_high_df[\"Total_Cases_Predicted\"])>500].shape\n",
    "result_lr.head(20).plot(kind = 'box')"
   ]
  },
  {
   "cell_type": "code",
   "execution_count": 655,
   "metadata": {},
   "outputs": [],
   "source": [
    "final_high_df[\"y_lr\"]=model_lr.predict(x)"
   ]
  },
  {
   "cell_type": "markdown",
   "metadata": {},
   "source": [
    "# Logistic Regression"
   ]
  },
  {
   "cell_type": "code",
   "execution_count": 656,
   "metadata": {},
   "outputs": [
    {
     "name": "stderr",
     "output_type": "stream",
     "text": [
      "C:\\ProgramData\\Anaconda3\\lib\\site-packages\\sklearn\\linear_model\\_logistic.py:940: ConvergenceWarning: lbfgs failed to converge (status=1):\n",
      "STOP: TOTAL NO. of ITERATIONS REACHED LIMIT.\n",
      "\n",
      "Increase the number of iterations (max_iter) or scale the data as shown in:\n",
      "    https://scikit-learn.org/stable/modules/preprocessing.html\n",
      "Please also refer to the documentation for alternative solver options:\n",
      "    https://scikit-learn.org/stable/modules/linear_model.html#logistic-regression\n",
      "  extra_warning_msg=_LOGISTIC_SOLVER_CONVERGENCE_MSG)\n"
     ]
    },
    {
     "data": {
      "text/html": [
       "<div>\n",
       "<style scoped>\n",
       "    .dataframe tbody tr th:only-of-type {\n",
       "        vertical-align: middle;\n",
       "    }\n",
       "\n",
       "    .dataframe tbody tr th {\n",
       "        vertical-align: top;\n",
       "    }\n",
       "\n",
       "    .dataframe thead th {\n",
       "        text-align: right;\n",
       "    }\n",
       "</style>\n",
       "<table border=\"1\" class=\"dataframe\">\n",
       "  <thead>\n",
       "    <tr style=\"text-align: right;\">\n",
       "      <th></th>\n",
       "      <th>Actual</th>\n",
       "      <th>Predicted</th>\n",
       "    </tr>\n",
       "  </thead>\n",
       "  <tbody>\n",
       "    <tr>\n",
       "      <th>27</th>\n",
       "      <td>1013.0</td>\n",
       "      <td>1083.0</td>\n",
       "    </tr>\n",
       "    <tr>\n",
       "      <th>498</th>\n",
       "      <td>879.0</td>\n",
       "      <td>1056.0</td>\n",
       "    </tr>\n",
       "    <tr>\n",
       "      <th>332</th>\n",
       "      <td>0.0</td>\n",
       "      <td>0.0</td>\n",
       "    </tr>\n",
       "    <tr>\n",
       "      <th>243</th>\n",
       "      <td>5891.0</td>\n",
       "      <td>5739.0</td>\n",
       "    </tr>\n",
       "    <tr>\n",
       "      <th>595</th>\n",
       "      <td>2378.0</td>\n",
       "      <td>1069.0</td>\n",
       "    </tr>\n",
       "  </tbody>\n",
       "</table>\n",
       "</div>"
      ],
      "text/plain": [
       "     Actual  Predicted\n",
       "27   1013.0     1083.0\n",
       "498   879.0     1056.0\n",
       "332     0.0        0.0\n",
       "243  5891.0     5739.0\n",
       "595  2378.0     1069.0"
      ]
     },
     "execution_count": 656,
     "metadata": {},
     "output_type": "execute_result"
    }
   ],
   "source": [
    "model_log = LogisticRegression()\n",
    "model_log.fit(x_train,y_train)\n",
    "y_pred = model_log.predict(x_test)\n",
    "result_log = pd.DataFrame({'Actual':y_test,'Predicted':y_pred})\n",
    "result_log.head(5)"
   ]
  },
  {
   "cell_type": "code",
   "execution_count": 657,
   "metadata": {},
   "outputs": [
    {
     "name": "stdout",
     "output_type": "stream",
     "text": [
      "Mean Absolute Error Test   : 339.6806282722513\n",
      "Mean Absolute Error All    : 134.8820754716981\n"
     ]
    },
    {
     "data": {
      "text/plain": [
       "<matplotlib.axes._subplots.AxesSubplot at 0x165316537c8>"
      ]
     },
     "execution_count": 657,
     "metadata": {},
     "output_type": "execute_result"
    },
    {
     "data": {
      "image/png": "[encoded data removed]",
      "text/plain": [
       "<Figure size 432x288 with 1 Axes>"
      ]
     },
     "metadata": {
      "needs_background": "light"
     },
     "output_type": "display_data"
    }
   ],
   "source": [
    "#print('Mean Absolute Error Train  :', metrics.mean_absolute_error(y_train, model_lr.predict(x_train)))\n",
    "print('Mean Absolute Error Test   :', metrics.mean_absolute_error(y_test, y_pred))\n",
    "print('Mean Absolute Error All    :', metrics.mean_absolute_error(y, model_log.predict(x)))\n",
    "#final_high_df[(final_high_df[\"Total_Day_Cases\"]-final_high_df[\"Total_Cases_Predicted\"])>500].shape\n",
    "result_lr.head(20).plot(kind = 'box')"
   ]
  },
  {
   "cell_type": "code",
   "execution_count": 658,
   "metadata": {},
   "outputs": [],
   "source": [
    "final_high_df[\"y_log\"]=model_log.predict(x)"
   ]
  },
  {
   "cell_type": "markdown",
   "metadata": {},
   "source": [
    "# SVR"
   ]
  },
  {
   "cell_type": "code",
   "execution_count": 659,
   "metadata": {},
   "outputs": [
    {
     "name": "stderr",
     "output_type": "stream",
     "text": [
      "C:\\ProgramData\\Anaconda3\\lib\\site-packages\\sklearn\\svm\\_base.py:231: ConvergenceWarning: Solver terminated early (max_iter=200).  Consider pre-processing your data with StandardScaler or MinMaxScaler.\n",
      "  % self.max_iter, ConvergenceWarning)\n"
     ]
    },
    {
     "data": {
      "text/html": [
       "<div>\n",
       "<style scoped>\n",
       "    .dataframe tbody tr th:only-of-type {\n",
       "        vertical-align: middle;\n",
       "    }\n",
       "\n",
       "    .dataframe tbody tr th {\n",
       "        vertical-align: top;\n",
       "    }\n",
       "\n",
       "    .dataframe thead th {\n",
       "        text-align: right;\n",
       "    }\n",
       "</style>\n",
       "<table border=\"1\" class=\"dataframe\">\n",
       "  <thead>\n",
       "    <tr style=\"text-align: right;\">\n",
       "      <th></th>\n",
       "      <th>Actual</th>\n",
       "      <th>Predicted</th>\n",
       "    </tr>\n",
       "  </thead>\n",
       "  <tbody>\n",
       "    <tr>\n",
       "      <th>27</th>\n",
       "      <td>1013.0</td>\n",
       "      <td>774.076793</td>\n",
       "    </tr>\n",
       "    <tr>\n",
       "      <th>498</th>\n",
       "      <td>879.0</td>\n",
       "      <td>763.383733</td>\n",
       "    </tr>\n",
       "    <tr>\n",
       "      <th>332</th>\n",
       "      <td>0.0</td>\n",
       "      <td>739.408399</td>\n",
       "    </tr>\n",
       "    <tr>\n",
       "      <th>243</th>\n",
       "      <td>5891.0</td>\n",
       "      <td>753.848150</td>\n",
       "    </tr>\n",
       "    <tr>\n",
       "      <th>595</th>\n",
       "      <td>2378.0</td>\n",
       "      <td>757.398244</td>\n",
       "    </tr>\n",
       "  </tbody>\n",
       "</table>\n",
       "</div>"
      ],
      "text/plain": [
       "     Actual   Predicted\n",
       "27   1013.0  774.076793\n",
       "498   879.0  763.383733\n",
       "332     0.0  739.408399\n",
       "243  5891.0  753.848150\n",
       "595  2378.0  757.398244"
      ]
     },
     "execution_count": 659,
     "metadata": {},
     "output_type": "execute_result"
    }
   ],
   "source": [
    "model_svr = SVR(C=1.0, max_iter=200)\n",
    "model_svr.fit(x_train, y_train)\n",
    "y_pred = model_svr.predict(x_test)\n",
    "result_svr = pd.DataFrame({'Actual':y_test,'Predicted':y_pred})\n",
    "result_svr.head(5)"
   ]
  },
  {
   "cell_type": "code",
   "execution_count": 660,
   "metadata": {},
   "outputs": [
    {
     "name": "stdout",
     "output_type": "stream",
     "text": [
      "Mean Absolute Error Test   : 684.410869344173\n",
      "Mean Absolute Error All    : 676.6864017857092\n"
     ]
    },
    {
     "data": {
      "text/plain": [
       "<matplotlib.axes._subplots.AxesSubplot at 0x1652bed9448>"
      ]
     },
     "execution_count": 660,
     "metadata": {},
     "output_type": "execute_result"
    },
    {
     "data": {
      "image/png": "[encoded data removed]",
      "text/plain": [
       "<Figure size 432x288 with 1 Axes>"
      ]
     },
     "metadata": {
      "needs_background": "light"
     },
     "output_type": "display_data"
    }
   ],
   "source": [
    "#print('Mean Absolute Error Train  :', metrics.mean_absolute_error(y_train, model_lr.predict(x_train)))\n",
    "print('Mean Absolute Error Test   :', metrics.mean_absolute_error(y_test, y_pred))\n",
    "print('Mean Absolute Error All    :', metrics.mean_absolute_error(y, model_svr.predict(x)))\n",
    "#final_high_df[(final_high_df[\"Total_Day_Cases\"]-final_high_df[\"Total_Cases_Predicted\"])>500].shape\n",
    "result_lr.head(20).plot(kind = 'box')"
   ]
  },
  {
   "cell_type": "code",
   "execution_count": 661,
   "metadata": {},
   "outputs": [],
   "source": [
    "final_high_df[\"y_svr\"]=model_svr.predict(x)"
   ]
  },
  {
   "cell_type": "markdown",
   "metadata": {},
   "source": [
    "LGBM"
   ]
  },
  {
   "cell_type": "code",
   "execution_count": 662,
   "metadata": {},
   "outputs": [
    {
     "name": "stdout",
     "output_type": "stream",
     "text": [
      "Fitting 3 folds for each of 10 candidates, totalling 30 fits\n",
      "[CV] colsample_bytree=0.3745401188473625, learning_rate=0.9507143064099162, max_depth=12, min_child_weight=1.5593820005455385, n_estimators=1244, num_leaves=122 \n"
     ]
    },
    {
     "name": "stderr",
     "output_type": "stream",
     "text": [
      "[Parallel(n_jobs=1)]: Using backend SequentialBackend with 1 concurrent workers.\n"
     ]
    },
    {
     "name": "stdout",
     "output_type": "stream",
     "text": [
      "[CV]  colsample_bytree=0.3745401188473625, learning_rate=0.9507143064099162, max_depth=12, min_child_weight=1.5593820005455385, n_estimators=1244, num_leaves=122, score=(train=1.000, test=0.241), total=   1.1s\n",
      "[CV] colsample_bytree=0.3745401188473625, learning_rate=0.9507143064099162, max_depth=12, min_child_weight=1.5593820005455385, n_estimators=1244, num_leaves=122 \n"
     ]
    },
    {
     "name": "stderr",
     "output_type": "stream",
     "text": [
      "[Parallel(n_jobs=1)]: Done   1 out of   1 | elapsed:    1.0s remaining:    0.0s\n"
     ]
    },
    {
     "name": "stdout",
     "output_type": "stream",
     "text": [
      "[CV]  colsample_bytree=0.3745401188473625, learning_rate=0.9507143064099162, max_depth=12, min_child_weight=1.5593820005455385, n_estimators=1244, num_leaves=122, score=(train=1.000, test=0.020), total=   0.7s\n",
      "[CV] colsample_bytree=0.3745401188473625, learning_rate=0.9507143064099162, max_depth=12, min_child_weight=1.5593820005455385, n_estimators=1244, num_leaves=122 \n"
     ]
    },
    {
     "name": "stderr",
     "output_type": "stream",
     "text": [
      "[Parallel(n_jobs=1)]: Done   2 out of   2 | elapsed:    1.7s remaining:    0.0s\n"
     ]
    },
    {
     "name": "stdout",
     "output_type": "stream",
     "text": [
      "[CV]  colsample_bytree=0.3745401188473625, learning_rate=0.9507143064099162, max_depth=12, min_child_weight=1.5593820005455385, n_estimators=1244, num_leaves=122, score=(train=1.000, test=0.263), total=   0.6s\n",
      "[CV] colsample_bytree=0.44583275285359114, learning_rate=0.09997491581800289, max_depth=12, min_child_weight=1.7323522915498704, n_estimators=1323, num_leaves=123 \n"
     ]
    },
    {
     "name": "stderr",
     "output_type": "stream",
     "text": [
      "[Parallel(n_jobs=1)]: Done   3 out of   3 | elapsed:    2.3s remaining:    0.0s\n"
     ]
    },
    {
     "name": "stdout",
     "output_type": "stream",
     "text": [
      "[CV]  colsample_bytree=0.44583275285359114, learning_rate=0.09997491581800289, max_depth=12, min_child_weight=1.7323522915498704, n_estimators=1323, num_leaves=123, score=(train=1.000, test=0.408), total=   0.6s\n",
      "[CV] colsample_bytree=0.44583275285359114, learning_rate=0.09997491581800289, max_depth=12, min_child_weight=1.7323522915498704, n_estimators=1323, num_leaves=123 \n"
     ]
    },
    {
     "name": "stderr",
     "output_type": "stream",
     "text": [
      "[Parallel(n_jobs=1)]: Done   4 out of   4 | elapsed:    3.0s remaining:    0.0s\n"
     ]
    },
    {
     "name": "stdout",
     "output_type": "stream",
     "text": [
      "[CV]  colsample_bytree=0.44583275285359114, learning_rate=0.09997491581800289, max_depth=12, min_child_weight=1.7323522915498704, n_estimators=1323, num_leaves=123, score=(train=1.000, test=0.509), total=   1.4s\n",
      "[CV] colsample_bytree=0.44583275285359114, learning_rate=0.09997491581800289, max_depth=12, min_child_weight=1.7323522915498704, n_estimators=1323, num_leaves=123 \n"
     ]
    },
    {
     "name": "stderr",
     "output_type": "stream",
     "text": [
      "[Parallel(n_jobs=1)]: Done   5 out of   5 | elapsed:    4.4s remaining:    0.0s\n"
     ]
    },
    {
     "name": "stdout",
     "output_type": "stream",
     "text": [
      "[CV]  colsample_bytree=0.44583275285359114, learning_rate=0.09997491581800289, max_depth=12, min_child_weight=1.7323522915498704, n_estimators=1323, num_leaves=123, score=(train=0.999, test=0.505), total=   0.9s\n",
      "[CV] colsample_bytree=0.7080725777960455, learning_rate=0.020584494295802447, max_depth=3, min_child_weight=1.4439975445336495, n_estimators=1005, num_leaves=149 \n"
     ]
    },
    {
     "name": "stderr",
     "output_type": "stream",
     "text": [
      "[Parallel(n_jobs=1)]: Done   6 out of   6 | elapsed:    5.3s remaining:    0.0s\n"
     ]
    },
    {
     "name": "stdout",
     "output_type": "stream",
     "text": [
      "[CV]  colsample_bytree=0.7080725777960455, learning_rate=0.020584494295802447, max_depth=3, min_child_weight=1.4439975445336495, n_estimators=1005, num_leaves=149, score=(train=0.868, test=0.557), total=   0.2s\n",
      "[CV] colsample_bytree=0.7080725777960455, learning_rate=0.020584494295802447, max_depth=3, min_child_weight=1.4439975445336495, n_estimators=1005, num_leaves=149 \n"
     ]
    },
    {
     "name": "stderr",
     "output_type": "stream",
     "text": [
      "[Parallel(n_jobs=1)]: Done   7 out of   7 | elapsed:    5.5s remaining:    0.0s\n"
     ]
    },
    {
     "name": "stdout",
     "output_type": "stream",
     "text": [
      "[CV]  colsample_bytree=0.7080725777960455, learning_rate=0.020584494295802447, max_depth=3, min_child_weight=1.4439975445336495, n_estimators=1005, num_leaves=149, score=(train=0.896, test=0.542), total=   0.3s\n",
      "[CV] colsample_bytree=0.7080725777960455, learning_rate=0.020584494295802447, max_depth=3, min_child_weight=1.4439975445336495, n_estimators=1005, num_leaves=149 \n"
     ]
    },
    {
     "name": "stderr",
     "output_type": "stream",
     "text": [
      "[Parallel(n_jobs=1)]: Done   8 out of   8 | elapsed:    5.8s remaining:    0.0s\n"
     ]
    },
    {
     "name": "stdout",
     "output_type": "stream",
     "text": [
      "[CV]  colsample_bytree=0.7080725777960455, learning_rate=0.020584494295802447, max_depth=3, min_child_weight=1.4439975445336495, n_estimators=1005, num_leaves=149, score=(train=0.897, test=0.569), total=   0.3s\n",
      "[CV] colsample_bytree=0.18182496720710062, learning_rate=0.18340450985343382, max_depth=13, min_child_weight=1.2233063209765618, n_estimators=452, num_leaves=108 \n"
     ]
    },
    {
     "name": "stderr",
     "output_type": "stream",
     "text": [
      "[Parallel(n_jobs=1)]: Done   9 out of   9 | elapsed:    6.1s remaining:    0.0s\n"
     ]
    },
    {
     "name": "stdout",
     "output_type": "stream",
     "text": [
      "[CV]  colsample_bytree=0.18182496720710062, learning_rate=0.18340450985343382, max_depth=13, min_child_weight=1.2233063209765618, n_estimators=452, num_leaves=108, score=(train=0.977, test=0.278), total=   0.2s\n",
      "[CV] colsample_bytree=0.18182496720710062, learning_rate=0.18340450985343382, max_depth=13, min_child_weight=1.2233063209765618, n_estimators=452, num_leaves=108 \n",
      "[CV]  colsample_bytree=0.18182496720710062, learning_rate=0.18340450985343382, max_depth=13, min_child_weight=1.2233063209765618, n_estimators=452, num_leaves=108, score=(train=0.976, test=0.430), total=   0.3s\n",
      "[CV] colsample_bytree=0.18182496720710062, learning_rate=0.18340450985343382, max_depth=13, min_child_weight=1.2233063209765618, n_estimators=452, num_leaves=108 \n",
      "[CV]  colsample_bytree=0.18182496720710062, learning_rate=0.18340450985343382, max_depth=13, min_child_weight=1.2233063209765618, n_estimators=452, num_leaves=108, score=(train=0.971, test=0.288), total=   0.2s\n",
      "[CV] colsample_bytree=0.2912291401980419, learning_rate=0.6118528947223795, max_depth=11, min_child_weight=0.09333132642723085, n_estimators=899, num_leaves=34 \n",
      "[CV]  colsample_bytree=0.2912291401980419, learning_rate=0.6118528947223795, max_depth=11, min_child_weight=0.09333132642723085, n_estimators=899, num_leaves=34, score=(train=1.000, test=0.414), total=   0.5s\n",
      "[CV] colsample_bytree=0.2912291401980419, learning_rate=0.6118528947223795, max_depth=11, min_child_weight=0.09333132642723085, n_estimators=899, num_leaves=34 \n",
      "[CV]  colsample_bytree=0.2912291401980419, learning_rate=0.6118528947223795, max_depth=11, min_child_weight=0.09333132642723085, n_estimators=899, num_leaves=34, score=(train=1.000, test=0.446), total=   4.7s\n",
      "[CV] colsample_bytree=0.2912291401980419, learning_rate=0.6118528947223795, max_depth=11, min_child_weight=0.09333132642723085, n_estimators=899, num_leaves=34 \n",
      "[CV]  colsample_bytree=0.2912291401980419, learning_rate=0.6118528947223795, max_depth=11, min_child_weight=0.09333132642723085, n_estimators=899, num_leaves=34, score=(train=1.000, test=0.378), total=   0.9s\n",
      "[CV] colsample_bytree=0.45606998421703593, learning_rate=0.7851759613930136, max_depth=4, min_child_weight=0.7649239825343255, n_estimators=1467, num_leaves=83 \n",
      "[CV]  colsample_bytree=0.45606998421703593, learning_rate=0.7851759613930136, max_depth=4, min_child_weight=0.7649239825343255, n_estimators=1467, num_leaves=83, score=(train=1.000, test=0.450), total=   0.7s\n",
      "[CV] colsample_bytree=0.45606998421703593, learning_rate=0.7851759613930136, max_depth=4, min_child_weight=0.7649239825343255, n_estimators=1467, num_leaves=83 \n",
      "[CV]  colsample_bytree=0.45606998421703593, learning_rate=0.7851759613930136, max_depth=4, min_child_weight=0.7649239825343255, n_estimators=1467, num_leaves=83, score=(train=1.000, test=0.426), total=   0.8s\n",
      "[CV] colsample_bytree=0.45606998421703593, learning_rate=0.7851759613930136, max_depth=4, min_child_weight=0.7649239825343255, n_estimators=1467, num_leaves=83 \n",
      "[CV]  colsample_bytree=0.45606998421703593, learning_rate=0.7851759613930136, max_depth=4, min_child_weight=0.7649239825343255, n_estimators=1467, num_leaves=83, score=(train=1.000, test=0.378), total=   2.8s\n",
      "[CV] colsample_bytree=0.4667628932479799, learning_rate=0.8599404067363206, max_depth=8, min_child_weight=0.34104824737458306, n_estimators=366, num_leaves=37 \n",
      "[CV]  colsample_bytree=0.4667628932479799, learning_rate=0.8599404067363206, max_depth=8, min_child_weight=0.34104824737458306, n_estimators=366, num_leaves=37, score=(train=1.000, test=0.391), total=   0.4s\n",
      "[CV] colsample_bytree=0.4667628932479799, learning_rate=0.8599404067363206, max_depth=8, min_child_weight=0.34104824737458306, n_estimators=366, num_leaves=37 \n",
      "[CV]  colsample_bytree=0.4667628932479799, learning_rate=0.8599404067363206, max_depth=8, min_child_weight=0.34104824737458306, n_estimators=366, num_leaves=37, score=(train=1.000, test=0.465), total=   0.4s\n",
      "[CV] colsample_bytree=0.4667628932479799, learning_rate=0.8599404067363206, max_depth=8, min_child_weight=0.34104824737458306, n_estimators=366, num_leaves=37 \n",
      "[CV]  colsample_bytree=0.4667628932479799, learning_rate=0.8599404067363206, max_depth=8, min_child_weight=0.34104824737458306, n_estimators=366, num_leaves=37, score=(train=1.000, test=0.322), total=   3.2s\n",
      "[CV] colsample_bytree=0.9488855372533332, learning_rate=0.9656320330745594, max_depth=3, min_child_weight=0.7708330050798322, n_estimators=764, num_leaves=149 \n",
      "[CV]  colsample_bytree=0.9488855372533332, learning_rate=0.9656320330745594, max_depth=3, min_child_weight=0.7708330050798322, n_estimators=764, num_leaves=149, score=(train=1.000, test=0.519), total=   0.4s\n",
      "[CV] colsample_bytree=0.9488855372533332, learning_rate=0.9656320330745594, max_depth=3, min_child_weight=0.7708330050798322, n_estimators=764, num_leaves=149 \n",
      "[CV]  colsample_bytree=0.9488855372533332, learning_rate=0.9656320330745594, max_depth=3, min_child_weight=0.7708330050798322, n_estimators=764, num_leaves=149, score=(train=1.000, test=0.415), total=   0.3s\n",
      "[CV] colsample_bytree=0.9488855372533332, learning_rate=0.9656320330745594, max_depth=3, min_child_weight=0.7708330050798322, n_estimators=764, num_leaves=149 \n",
      "[CV]  colsample_bytree=0.9488855372533332, learning_rate=0.9656320330745594, max_depth=3, min_child_weight=0.7708330050798322, n_estimators=764, num_leaves=149, score=(train=1.000, test=0.389), total=   0.3s\n",
      "[CV] colsample_bytree=0.6842330265121569, learning_rate=0.4401524937396013, max_depth=8, min_child_weight=1.2199933155652418, n_estimators=975, num_leaves=194 \n",
      "[CV]  colsample_bytree=0.6842330265121569, learning_rate=0.4401524937396013, max_depth=8, min_child_weight=1.2199933155652418, n_estimators=975, num_leaves=194, score=(train=1.000, test=0.524), total=   0.7s\n",
      "[CV] colsample_bytree=0.6842330265121569, learning_rate=0.4401524937396013, max_depth=8, min_child_weight=1.2199933155652418, n_estimators=975, num_leaves=194 \n",
      "[CV]  colsample_bytree=0.6842330265121569, learning_rate=0.4401524937396013, max_depth=8, min_child_weight=1.2199933155652418, n_estimators=975, num_leaves=194, score=(train=1.000, test=0.524), total=   2.0s\n",
      "[CV] colsample_bytree=0.6842330265121569, learning_rate=0.4401524937396013, max_depth=8, min_child_weight=1.2199933155652418, n_estimators=975, num_leaves=194 \n",
      "[CV]  colsample_bytree=0.6842330265121569, learning_rate=0.4401524937396013, max_depth=8, min_child_weight=1.2199933155652418, n_estimators=975, num_leaves=194, score=(train=1.000, test=0.502), total=   1.3s\n",
      "[CV] colsample_bytree=0.17336465350777208, learning_rate=0.3910606075732408, max_depth=3, min_child_weight=1.325044568707964, n_estimators=1225, num_leaves=153 \n",
      "[CV]  colsample_bytree=0.17336465350777208, learning_rate=0.3910606075732408, max_depth=3, min_child_weight=1.325044568707964, n_estimators=1225, num_leaves=153, score=(train=0.996, test=0.173), total=   0.6s\n",
      "[CV] colsample_bytree=0.17336465350777208, learning_rate=0.3910606075732408, max_depth=3, min_child_weight=1.325044568707964, n_estimators=1225, num_leaves=153 \n",
      "[CV]  colsample_bytree=0.17336465350777208, learning_rate=0.3910606075732408, max_depth=3, min_child_weight=1.325044568707964, n_estimators=1225, num_leaves=153, score=(train=0.997, test=0.337), total=   0.7s\n",
      "[CV] colsample_bytree=0.17336465350777208, learning_rate=0.3910606075732408, max_depth=3, min_child_weight=1.325044568707964, n_estimators=1225, num_leaves=153 \n",
      "[CV]  colsample_bytree=0.17336465350777208, learning_rate=0.3910606075732408, max_depth=3, min_child_weight=1.325044568707964, n_estimators=1225, num_leaves=153, score=(train=0.994, test=0.144), total=   0.6s\n"
     ]
    },
    {
     "name": "stderr",
     "output_type": "stream",
     "text": [
      "[Parallel(n_jobs=1)]: Done  30 out of  30 | elapsed:   28.5s finished\n"
     ]
    },
    {
     "data": {
      "text/html": [
       "<div>\n",
       "<style scoped>\n",
       "    .dataframe tbody tr th:only-of-type {\n",
       "        vertical-align: middle;\n",
       "    }\n",
       "\n",
       "    .dataframe tbody tr th {\n",
       "        vertical-align: top;\n",
       "    }\n",
       "\n",
       "    .dataframe thead th {\n",
       "        text-align: right;\n",
       "    }\n",
       "</style>\n",
       "<table border=\"1\" class=\"dataframe\">\n",
       "  <thead>\n",
       "    <tr style=\"text-align: right;\">\n",
       "      <th></th>\n",
       "      <th>Actual</th>\n",
       "      <th>Predicted</th>\n",
       "    </tr>\n",
       "  </thead>\n",
       "  <tbody>\n",
       "    <tr>\n",
       "      <th>27</th>\n",
       "      <td>1013.0</td>\n",
       "      <td>1322.668852</td>\n",
       "    </tr>\n",
       "    <tr>\n",
       "      <th>498</th>\n",
       "      <td>879.0</td>\n",
       "      <td>808.928666</td>\n",
       "    </tr>\n",
       "    <tr>\n",
       "      <th>332</th>\n",
       "      <td>0.0</td>\n",
       "      <td>38.615970</td>\n",
       "    </tr>\n",
       "    <tr>\n",
       "      <th>243</th>\n",
       "      <td>5891.0</td>\n",
       "      <td>3429.285461</td>\n",
       "    </tr>\n",
       "    <tr>\n",
       "      <th>595</th>\n",
       "      <td>2378.0</td>\n",
       "      <td>872.894793</td>\n",
       "    </tr>\n",
       "  </tbody>\n",
       "</table>\n",
       "</div>"
      ],
      "text/plain": [
       "     Actual    Predicted\n",
       "27   1013.0  1322.668852\n",
       "498   879.0   808.928666\n",
       "332     0.0    38.615970\n",
       "243  5891.0  3429.285461\n",
       "595  2378.0   872.894793"
      ]
     },
     "execution_count": 662,
     "metadata": {},
     "output_type": "execute_result"
    }
   ],
   "source": [
    "lgb_model = LGBMRegressor(subsample=0.9)\n",
    "\n",
    "params = {'learning_rate': uniform(0, 1),\n",
    "          'n_estimators': sp_randint(200, 1500),\n",
    "          'num_leaves': sp_randint(20, 200),\n",
    "          'max_depth': sp_randint(2, 15),\n",
    "          'min_child_weight': uniform(0, 2),\n",
    "          'colsample_bytree': uniform(0, 1),\n",
    "         }\n",
    "lgb_random = RandomizedSearchCV(lgb_model, param_distributions=params, n_iter=10, cv=3, random_state=42, \n",
    "                                 verbose=10, return_train_score=True)\n",
    "lgb_random = lgb_random.fit(x_train, y_train)\n",
    "best_params = lgb_random.best_params_\n",
    "model_lgbm = LGBMRegressor(**best_params, subsample=0.9, random_state=42, n_jobs=-1)\n",
    "model_lgbm.fit(x_train, y_train)\n",
    "y_pred = model_lgbm.predict(x_test)\n",
    "result_lgbm = pd.DataFrame({'Actual':y_test,'Predicted':y_pred})\n",
    "result_lgbm.head(5)"
   ]
  },
  {
   "cell_type": "code",
   "execution_count": 663,
   "metadata": {},
   "outputs": [
    {
     "name": "stdout",
     "output_type": "stream",
     "text": [
      "Mean Absolute Error Test   : 373.68164890335646\n",
      "Mean Absolute Error All    : 286.3978612020374\n"
     ]
    },
    {
     "data": {
      "text/plain": [
       "<matplotlib.axes._subplots.AxesSubplot at 0x1652f04c988>"
      ]
     },
     "execution_count": 663,
     "metadata": {},
     "output_type": "execute_result"
    },
    {
     "data": {
      "image/png": "[encoded data removed]",
      "text/plain": [
       "<Figure size 432x288 with 1 Axes>"
      ]
     },
     "metadata": {
      "needs_background": "light"
     },
     "output_type": "display_data"
    }
   ],
   "source": [
    "#print('Mean Absolute Error Train  :', metrics.mean_absolute_error(y_train, model_lr.predict(x_train)))\n",
    "print('Mean Absolute Error Test   :', metrics.mean_absolute_error(y_test, y_pred))\n",
    "print('Mean Absolute Error All    :', metrics.mean_absolute_error(y, model_lgbm.predict(x)))\n",
    "#final_high_df[(final_high_df[\"Total_Day_Cases\"]-final_high_df[\"Total_Cases_Predicted\"])>500].shape\n",
    "result_lr.head(20).plot(kind = 'box')"
   ]
  },
  {
   "cell_type": "code",
   "execution_count": 664,
   "metadata": {},
   "outputs": [],
   "source": [
    "final_high_df[\"y_lgbm\"]=model_lgbm.predict(x)"
   ]
  },
  {
   "cell_type": "markdown",
   "metadata": {},
   "source": [
    "# Stacking"
   ]
  },
  {
   "cell_type": "code",
   "execution_count": 665,
   "metadata": {},
   "outputs": [
    {
     "data": {
      "text/html": [
       "<div>\n",
       "<style scoped>\n",
       "    .dataframe tbody tr th:only-of-type {\n",
       "        vertical-align: middle;\n",
       "    }\n",
       "\n",
       "    .dataframe tbody tr th {\n",
       "        vertical-align: top;\n",
       "    }\n",
       "\n",
       "    .dataframe thead th {\n",
       "        text-align: right;\n",
       "    }\n",
       "</style>\n",
       "<table border=\"1\" class=\"dataframe\">\n",
       "  <thead>\n",
       "    <tr style=\"text-align: right;\">\n",
       "      <th></th>\n",
       "      <th>PM2.5_average</th>\n",
       "      <th>PM2.5_minimum</th>\n",
       "      <th>NO2_average</th>\n",
       "      <th>NO2_minimum</th>\n",
       "      <th>SO2_average</th>\n",
       "      <th>SO2_minimum</th>\n",
       "      <th>CO_average</th>\n",
       "      <th>CO_minimum</th>\n",
       "      <th>OZONE_average</th>\n",
       "      <th>OZONE_minimum</th>\n",
       "      <th>Total_Day_Cases</th>\n",
       "      <th>y_lr</th>\n",
       "      <th>y_log</th>\n",
       "      <th>y_svr</th>\n",
       "      <th>y_lgbm</th>\n",
       "    </tr>\n",
       "  </thead>\n",
       "  <tbody>\n",
       "    <tr>\n",
       "      <th>0</th>\n",
       "      <td>24.000000</td>\n",
       "      <td>3.0</td>\n",
       "      <td>12.000000</td>\n",
       "      <td>1.0</td>\n",
       "      <td>10.333333</td>\n",
       "      <td>1.0</td>\n",
       "      <td>30.666667</td>\n",
       "      <td>5.0</td>\n",
       "      <td>52.666667</td>\n",
       "      <td>17.0</td>\n",
       "      <td>1189.0</td>\n",
       "      <td>1102.096412</td>\n",
       "      <td>563.0</td>\n",
       "      <td>751.609604</td>\n",
       "      <td>1190.257590</td>\n",
       "    </tr>\n",
       "    <tr>\n",
       "      <th>1</th>\n",
       "      <td>25.500000</td>\n",
       "      <td>5.0</td>\n",
       "      <td>15.000000</td>\n",
       "      <td>2.0</td>\n",
       "      <td>13.000000</td>\n",
       "      <td>1.0</td>\n",
       "      <td>32.000000</td>\n",
       "      <td>6.0</td>\n",
       "      <td>44.500000</td>\n",
       "      <td>18.0</td>\n",
       "      <td>1180.0</td>\n",
       "      <td>1139.505964</td>\n",
       "      <td>648.0</td>\n",
       "      <td>750.935858</td>\n",
       "      <td>1174.385624</td>\n",
       "    </tr>\n",
       "    <tr>\n",
       "      <th>2</th>\n",
       "      <td>30.000000</td>\n",
       "      <td>4.0</td>\n",
       "      <td>23.500000</td>\n",
       "      <td>8.0</td>\n",
       "      <td>7.500000</td>\n",
       "      <td>1.0</td>\n",
       "      <td>36.500000</td>\n",
       "      <td>2.0</td>\n",
       "      <td>62.000000</td>\n",
       "      <td>5.0</td>\n",
       "      <td>1235.0</td>\n",
       "      <td>1186.856589</td>\n",
       "      <td>1235.0</td>\n",
       "      <td>755.657679</td>\n",
       "      <td>986.459208</td>\n",
       "    </tr>\n",
       "    <tr>\n",
       "      <th>3</th>\n",
       "      <td>22.000000</td>\n",
       "      <td>8.0</td>\n",
       "      <td>12.000000</td>\n",
       "      <td>8.0</td>\n",
       "      <td>25.000000</td>\n",
       "      <td>3.0</td>\n",
       "      <td>38.500000</td>\n",
       "      <td>28.0</td>\n",
       "      <td>36.500000</td>\n",
       "      <td>3.0</td>\n",
       "      <td>1089.0</td>\n",
       "      <td>1119.694212</td>\n",
       "      <td>1089.0</td>\n",
       "      <td>752.737951</td>\n",
       "      <td>994.873376</td>\n",
       "    </tr>\n",
       "    <tr>\n",
       "      <th>4</th>\n",
       "      <td>16.666667</td>\n",
       "      <td>1.0</td>\n",
       "      <td>12.333333</td>\n",
       "      <td>1.0</td>\n",
       "      <td>7.333333</td>\n",
       "      <td>1.0</td>\n",
       "      <td>35.000000</td>\n",
       "      <td>10.0</td>\n",
       "      <td>65.000000</td>\n",
       "      <td>2.0</td>\n",
       "      <td>1299.0</td>\n",
       "      <td>1035.605029</td>\n",
       "      <td>1299.0</td>\n",
       "      <td>752.659711</td>\n",
       "      <td>1095.599508</td>\n",
       "    </tr>\n",
       "  </tbody>\n",
       "</table>\n",
       "</div>"
      ],
      "text/plain": [
       "   PM2.5_average  PM2.5_minimum  NO2_average  NO2_minimum  SO2_average  \\\n",
       "0      24.000000            3.0    12.000000          1.0    10.333333   \n",
       "1      25.500000            5.0    15.000000          2.0    13.000000   \n",
       "2      30.000000            4.0    23.500000          8.0     7.500000   \n",
       "3      22.000000            8.0    12.000000          8.0    25.000000   \n",
       "4      16.666667            1.0    12.333333          1.0     7.333333   \n",
       "\n",
       "   SO2_minimum  CO_average  CO_minimum  OZONE_average  OZONE_minimum  \\\n",
       "0          1.0   30.666667         5.0      52.666667           17.0   \n",
       "1          1.0   32.000000         6.0      44.500000           18.0   \n",
       "2          1.0   36.500000         2.0      62.000000            5.0   \n",
       "3          3.0   38.500000        28.0      36.500000            3.0   \n",
       "4          1.0   35.000000        10.0      65.000000            2.0   \n",
       "\n",
       "   Total_Day_Cases         y_lr   y_log       y_svr       y_lgbm  \n",
       "0           1189.0  1102.096412   563.0  751.609604  1190.257590  \n",
       "1           1180.0  1139.505964   648.0  750.935858  1174.385624  \n",
       "2           1235.0  1186.856589  1235.0  755.657679   986.459208  \n",
       "3           1089.0  1119.694212  1089.0  752.737951   994.873376  \n",
       "4           1299.0  1035.605029  1299.0  752.659711  1095.599508  "
      ]
     },
     "execution_count": 665,
     "metadata": {},
     "output_type": "execute_result"
    }
   ],
   "source": [
    "final_high_df.head(5)"
   ]
  },
  {
   "cell_type": "markdown",
   "metadata": {},
   "source": [
    "Train Test split"
   ]
  },
  {
   "cell_type": "code",
   "execution_count": 666,
   "metadata": {},
   "outputs": [],
   "source": [
    "X  = final_high_df.drop(columns = ['Total_Day_Cases'])\n",
    "Y  = final_high_df['Total_Day_Cases']\n",
    "\n",
    "X_train, X_test, Y_train, Y_test = train_test_split(X, Y, test_size=0.3, random_state=10)"
   ]
  },
  {
   "cell_type": "markdown",
   "metadata": {},
   "source": [
    "Linear Regression"
   ]
  },
  {
   "cell_type": "code",
   "execution_count": 667,
   "metadata": {},
   "outputs": [
    {
     "name": "stdout",
     "output_type": "stream",
     "text": [
      "Mean Absolute Error Test   : 321.7643184457619\n",
      "Mean Absolute Error All    : 170.88557287891325\n"
     ]
    },
    {
     "data": {
      "text/plain": [
       "<matplotlib.axes._subplots.AxesSubplot at 0x16531746888>"
      ]
     },
     "execution_count": 667,
     "metadata": {},
     "output_type": "execute_result"
    },
    {
     "data": {
      "image/png": "[encoded data removed]",
      "text/plain": [
       "<Figure size 432x288 with 1 Axes>"
      ]
     },
     "metadata": {
      "needs_background": "light"
     },
     "output_type": "display_data"
    }
   ],
   "source": [
    "model_s_lr = LinearRegression()\n",
    "model_s_lr.fit(X_train,Y_train)\n",
    "Y_pred = model_s_lr.predict(X_test)\n",
    "result_s_lr = pd.DataFrame({'Actual':Y_test,'Predicted':Y_pred})\n",
    "\n",
    "#print('Mean Absolute Error Train  :', metrics.mean_absolute_error(y_train, model_lr.predict(x_train)))\n",
    "print('Mean Absolute Error Test   :', metrics.mean_absolute_error(Y_test, Y_pred))\n",
    "print('Mean Absolute Error All    :', metrics.mean_absolute_error(Y, model_s_lr.predict(X)))\n",
    "#final_high_df[(final_high_df[\"Total_Day_Cases\"]-final_high_df[\"Total_Cases_Predicted\"])>500].shape\n",
    "result_s_lr.head(20).plot(kind = 'box')"
   ]
  },
  {
   "cell_type": "markdown",
   "metadata": {},
   "source": [
    "Logistic Regression"
   ]
  },
  {
   "cell_type": "code",
   "execution_count": 668,
   "metadata": {},
   "outputs": [
    {
     "name": "stdout",
     "output_type": "stream",
     "text": [
      "Mean Absolute Error Test   : 338.21989528795814\n",
      "Mean Absolute Error All    : 133.36635220125785\n"
     ]
    },
    {
     "name": "stderr",
     "output_type": "stream",
     "text": [
      "C:\\ProgramData\\Anaconda3\\lib\\site-packages\\sklearn\\linear_model\\_logistic.py:940: ConvergenceWarning: lbfgs failed to converge (status=1):\n",
      "STOP: TOTAL NO. of ITERATIONS REACHED LIMIT.\n",
      "\n",
      "Increase the number of iterations (max_iter) or scale the data as shown in:\n",
      "    https://scikit-learn.org/stable/modules/preprocessing.html\n",
      "Please also refer to the documentation for alternative solver options:\n",
      "    https://scikit-learn.org/stable/modules/linear_model.html#logistic-regression\n",
      "  extra_warning_msg=_LOGISTIC_SOLVER_CONVERGENCE_MSG)\n"
     ]
    },
    {
     "data": {
      "text/plain": [
       "<matplotlib.axes._subplots.AxesSubplot at 0x16531ad1248>"
      ]
     },
     "execution_count": 668,
     "metadata": {},
     "output_type": "execute_result"
    },
    {
     "data": {
      "image/png": "[encoded data removed]",
      "text/plain": [
       "<Figure size 432x288 with 1 Axes>"
      ]
     },
     "metadata": {
      "needs_background": "light"
     },
     "output_type": "display_data"
    }
   ],
   "source": [
    "model_s_log = LogisticRegression()\n",
    "model_s_log.fit(X_train,Y_train)\n",
    "Y_pred = model_s_log.predict(X_test)\n",
    "result_s_log = pd.DataFrame({'Actual':y_test,'Predicted':y_pred})\n",
    "\n",
    "#print('Mean Absolute Error Train  :', metrics.mean_absolute_error(y_train, model_lr.predict(x_train)))\n",
    "print('Mean Absolute Error Test   :', metrics.mean_absolute_error(Y_test, Y_pred))\n",
    "print('Mean Absolute Error All    :', metrics.mean_absolute_error(Y, model_s_log.predict(X)))\n",
    "#final_high_df[(final_high_df[\"Total_Day_Cases\"]-final_high_df[\"Total_Cases_Predicted\"])>500].shape\n",
    "result_s_log.head(20).plot(kind = 'box')"
   ]
  },
  {
   "cell_type": "code",
   "execution_count": 669,
   "metadata": {},
   "outputs": [],
   "source": [
    "X  = final_high_df.drop(columns = average_min_cols)\n",
    "Y  = final_high_df['Total_Day_Cases']\n",
    "\n",
    "X_train, X_test, Y_train, Y_test = train_test_split(X, Y, test_size=0.3, random_state=10)"
   ]
  },
  {
   "cell_type": "code",
   "execution_count": 670,
   "metadata": {},
   "outputs": [
    {
     "name": "stdout",
     "output_type": "stream",
     "text": [
      "Mean Absolute Error Test   : 323.3741549485614\n",
      "Mean Absolute Error All    : 170.7590769747376\n"
     ]
    },
    {
     "data": {
      "text/plain": [
       "<matplotlib.axes._subplots.AxesSubplot at 0x16531a893c8>"
      ]
     },
     "execution_count": 670,
     "metadata": {},
     "output_type": "execute_result"
    },
    {
     "data": {
      "image/png": "[encoded data removed]",
      "text/plain": [
       "<Figure size 432x288 with 1 Axes>"
      ]
     },
     "metadata": {
      "needs_background": "light"
     },
     "output_type": "display_data"
    }
   ],
   "source": [
    "model_s_lr = LinearRegression()\n",
    "model_s_lr.fit(X_train,Y_train)\n",
    "Y_pred = model_s_lr.predict(X_test)\n",
    "result_s_lr = pd.DataFrame({'Actual':Y_test,'Predicted':Y_pred})\n",
    "\n",
    "#print('Mean Absolute Error Train  :', metrics.mean_absolute_error(y_train, model_lr.predict(x_train)))\n",
    "print('Mean Absolute Error Test   :', metrics.mean_absolute_error(Y_test, Y_pred))\n",
    "print('Mean Absolute Error All    :', metrics.mean_absolute_error(Y, model_s_lr.predict(X)))\n",
    "#final_high_df[(final_high_df[\"Total_Day_Cases\"]-final_high_df[\"Total_Cases_Predicted\"])>500].shape\n",
    "result_s_lr.head(20).plot(kind = 'box')"
   ]
  },
  {
   "cell_type": "code",
   "execution_count": 671,
   "metadata": {
    "scrolled": true
   },
   "outputs": [
    {
     "data": {
      "text/plain": [
       "(24, 17)"
      ]
     },
     "execution_count": 671,
     "metadata": {},
     "output_type": "execute_result"
    }
   ],
   "source": [
    "final_high_df[\"Total_Cases_Predicted\"]=model_s_lr.predict(X)\n",
    "final_high_df[\"PM2.5_AQI_Category\"]=final_df[\"PM2.5_AQI_Category\"]\n",
    "final_high_df[(final_high_df[\"Total_Day_Cases\"]-final_high_df[\"Total_Cases_Predicted\"])>500].shape"
   ]
  },
  {
   "cell_type": "code",
   "execution_count": 672,
   "metadata": {},
   "outputs": [
    {
     "data": {
      "text/plain": [
       "<matplotlib.axes._subplots.AxesSubplot at 0x1652f388e88>"
      ]
     },
     "execution_count": 672,
     "metadata": {},
     "output_type": "execute_result"
    },
    {
     "data": {
      "image/png": "[encoded data removed]",
      "text/plain": [
       "<Figure size 432x288 with 1 Axes>"
      ]
     },
     "metadata": {
      "needs_background": "light"
     },
     "output_type": "display_data"
    }
   ],
   "source": [
    "result_s_log.head(20).plot(kind = 'bar')"
   ]
  },
  {
   "cell_type": "code",
   "execution_count": 673,
   "metadata": {},
   "outputs": [
    {
     "data": {
      "text/html": [
       "<div>\n",
       "<style scoped>\n",
       "    .dataframe tbody tr th:only-of-type {\n",
       "        vertical-align: middle;\n",
       "    }\n",
       "\n",
       "    .dataframe tbody tr th {\n",
       "        vertical-align: top;\n",
       "    }\n",
       "\n",
       "    .dataframe thead th {\n",
       "        text-align: right;\n",
       "    }\n",
       "</style>\n",
       "<table border=\"1\" class=\"dataframe\">\n",
       "  <thead>\n",
       "    <tr style=\"text-align: right;\">\n",
       "      <th></th>\n",
       "      <th>PM2.5_average</th>\n",
       "      <th>PM2.5_minimum</th>\n",
       "      <th>NO2_average</th>\n",
       "      <th>NO2_minimum</th>\n",
       "      <th>SO2_average</th>\n",
       "      <th>SO2_minimum</th>\n",
       "      <th>CO_average</th>\n",
       "      <th>CO_minimum</th>\n",
       "      <th>OZONE_average</th>\n",
       "      <th>OZONE_minimum</th>\n",
       "      <th>Total_Day_Cases</th>\n",
       "      <th>y_lr</th>\n",
       "      <th>y_log</th>\n",
       "      <th>y_svr</th>\n",
       "      <th>y_lgbm</th>\n",
       "      <th>Total_Cases_Predicted</th>\n",
       "      <th>PM2.5_AQI_Category</th>\n",
       "    </tr>\n",
       "  </thead>\n",
       "  <tbody>\n",
       "    <tr>\n",
       "      <th>0</th>\n",
       "      <td>24.000000</td>\n",
       "      <td>3.0</td>\n",
       "      <td>12.000000</td>\n",
       "      <td>1.0</td>\n",
       "      <td>10.333333</td>\n",
       "      <td>1.0</td>\n",
       "      <td>30.666667</td>\n",
       "      <td>5.0</td>\n",
       "      <td>52.666667</td>\n",
       "      <td>17.0</td>\n",
       "      <td>1189.0</td>\n",
       "      <td>1102.096412</td>\n",
       "      <td>563.0</td>\n",
       "      <td>751.609604</td>\n",
       "      <td>1190.257590</td>\n",
       "      <td>765.788094</td>\n",
       "      <td>Good</td>\n",
       "    </tr>\n",
       "    <tr>\n",
       "      <th>1</th>\n",
       "      <td>25.500000</td>\n",
       "      <td>5.0</td>\n",
       "      <td>15.000000</td>\n",
       "      <td>2.0</td>\n",
       "      <td>13.000000</td>\n",
       "      <td>1.0</td>\n",
       "      <td>32.000000</td>\n",
       "      <td>6.0</td>\n",
       "      <td>44.500000</td>\n",
       "      <td>18.0</td>\n",
       "      <td>1180.0</td>\n",
       "      <td>1139.505964</td>\n",
       "      <td>648.0</td>\n",
       "      <td>750.935858</td>\n",
       "      <td>1174.385624</td>\n",
       "      <td>815.633131</td>\n",
       "      <td>Good</td>\n",
       "    </tr>\n",
       "    <tr>\n",
       "      <th>2</th>\n",
       "      <td>30.000000</td>\n",
       "      <td>4.0</td>\n",
       "      <td>23.500000</td>\n",
       "      <td>8.0</td>\n",
       "      <td>7.500000</td>\n",
       "      <td>1.0</td>\n",
       "      <td>36.500000</td>\n",
       "      <td>2.0</td>\n",
       "      <td>62.000000</td>\n",
       "      <td>5.0</td>\n",
       "      <td>1235.0</td>\n",
       "      <td>1186.856589</td>\n",
       "      <td>1235.0</td>\n",
       "      <td>755.657679</td>\n",
       "      <td>986.459208</td>\n",
       "      <td>1137.803803</td>\n",
       "      <td>Good</td>\n",
       "    </tr>\n",
       "    <tr>\n",
       "      <th>3</th>\n",
       "      <td>22.000000</td>\n",
       "      <td>8.0</td>\n",
       "      <td>12.000000</td>\n",
       "      <td>8.0</td>\n",
       "      <td>25.000000</td>\n",
       "      <td>3.0</td>\n",
       "      <td>38.500000</td>\n",
       "      <td>28.0</td>\n",
       "      <td>36.500000</td>\n",
       "      <td>3.0</td>\n",
       "      <td>1089.0</td>\n",
       "      <td>1119.694212</td>\n",
       "      <td>1089.0</td>\n",
       "      <td>752.737951</td>\n",
       "      <td>994.873376</td>\n",
       "      <td>1049.429244</td>\n",
       "      <td>Good</td>\n",
       "    </tr>\n",
       "    <tr>\n",
       "      <th>4</th>\n",
       "      <td>16.666667</td>\n",
       "      <td>1.0</td>\n",
       "      <td>12.333333</td>\n",
       "      <td>1.0</td>\n",
       "      <td>7.333333</td>\n",
       "      <td>1.0</td>\n",
       "      <td>35.000000</td>\n",
       "      <td>10.0</td>\n",
       "      <td>65.000000</td>\n",
       "      <td>2.0</td>\n",
       "      <td>1299.0</td>\n",
       "      <td>1035.605029</td>\n",
       "      <td>1299.0</td>\n",
       "      <td>752.659711</td>\n",
       "      <td>1095.599508</td>\n",
       "      <td>1245.843640</td>\n",
       "      <td>Good</td>\n",
       "    </tr>\n",
       "    <tr>\n",
       "      <th>...</th>\n",
       "      <td>...</td>\n",
       "      <td>...</td>\n",
       "      <td>...</td>\n",
       "      <td>...</td>\n",
       "      <td>...</td>\n",
       "      <td>...</td>\n",
       "      <td>...</td>\n",
       "      <td>...</td>\n",
       "      <td>...</td>\n",
       "      <td>...</td>\n",
       "      <td>...</td>\n",
       "      <td>...</td>\n",
       "      <td>...</td>\n",
       "      <td>...</td>\n",
       "      <td>...</td>\n",
       "      <td>...</td>\n",
       "      <td>...</td>\n",
       "    </tr>\n",
       "    <tr>\n",
       "      <th>655</th>\n",
       "      <td>154.285714</td>\n",
       "      <td>43.0</td>\n",
       "      <td>51.600000</td>\n",
       "      <td>1.0</td>\n",
       "      <td>15.444444</td>\n",
       "      <td>2.0</td>\n",
       "      <td>60.400000</td>\n",
       "      <td>21.0</td>\n",
       "      <td>21.600000</td>\n",
       "      <td>1.0</td>\n",
       "      <td>577.0</td>\n",
       "      <td>1327.453315</td>\n",
       "      <td>409.0</td>\n",
       "      <td>753.037498</td>\n",
       "      <td>689.612583</td>\n",
       "      <td>428.377292</td>\n",
       "      <td>Very Poor</td>\n",
       "    </tr>\n",
       "    <tr>\n",
       "      <th>656</th>\n",
       "      <td>137.625000</td>\n",
       "      <td>40.0</td>\n",
       "      <td>51.700000</td>\n",
       "      <td>1.0</td>\n",
       "      <td>14.555556</td>\n",
       "      <td>2.0</td>\n",
       "      <td>50.400000</td>\n",
       "      <td>16.0</td>\n",
       "      <td>25.500000</td>\n",
       "      <td>1.0</td>\n",
       "      <td>409.0</td>\n",
       "      <td>1129.282501</td>\n",
       "      <td>409.0</td>\n",
       "      <td>755.221746</td>\n",
       "      <td>749.020670</td>\n",
       "      <td>469.988067</td>\n",
       "      <td>Very Poor</td>\n",
       "    </tr>\n",
       "    <tr>\n",
       "      <th>657</th>\n",
       "      <td>102.444444</td>\n",
       "      <td>37.0</td>\n",
       "      <td>44.444444</td>\n",
       "      <td>1.0</td>\n",
       "      <td>13.375000</td>\n",
       "      <td>2.0</td>\n",
       "      <td>46.555556</td>\n",
       "      <td>13.0</td>\n",
       "      <td>28.333333</td>\n",
       "      <td>3.0</td>\n",
       "      <td>541.0</td>\n",
       "      <td>935.229365</td>\n",
       "      <td>541.0</td>\n",
       "      <td>761.409589</td>\n",
       "      <td>785.725520</td>\n",
       "      <td>589.343485</td>\n",
       "      <td>Poor</td>\n",
       "    </tr>\n",
       "    <tr>\n",
       "      <th>658</th>\n",
       "      <td>120.750000</td>\n",
       "      <td>53.0</td>\n",
       "      <td>46.000000</td>\n",
       "      <td>1.0</td>\n",
       "      <td>13.125000</td>\n",
       "      <td>2.0</td>\n",
       "      <td>55.400000</td>\n",
       "      <td>14.0</td>\n",
       "      <td>19.400000</td>\n",
       "      <td>1.0</td>\n",
       "      <td>871.0</td>\n",
       "      <td>916.887368</td>\n",
       "      <td>576.0</td>\n",
       "      <td>754.398983</td>\n",
       "      <td>952.119868</td>\n",
       "      <td>692.112427</td>\n",
       "      <td>Poor</td>\n",
       "    </tr>\n",
       "    <tr>\n",
       "      <th>659</th>\n",
       "      <td>120.555556</td>\n",
       "      <td>47.0</td>\n",
       "      <td>38.600000</td>\n",
       "      <td>1.0</td>\n",
       "      <td>15.333333</td>\n",
       "      <td>2.0</td>\n",
       "      <td>53.600000</td>\n",
       "      <td>10.0</td>\n",
       "      <td>25.200000</td>\n",
       "      <td>1.0</td>\n",
       "      <td>924.0</td>\n",
       "      <td>1348.188266</td>\n",
       "      <td>924.0</td>\n",
       "      <td>757.687976</td>\n",
       "      <td>818.360422</td>\n",
       "      <td>833.271852</td>\n",
       "      <td>Poor</td>\n",
       "    </tr>\n",
       "  </tbody>\n",
       "</table>\n",
       "<p>636 rows × 17 columns</p>\n",
       "</div>"
      ],
      "text/plain": [
       "     PM2.5_average  PM2.5_minimum  NO2_average  NO2_minimum  SO2_average  \\\n",
       "0        24.000000            3.0    12.000000          1.0    10.333333   \n",
       "1        25.500000            5.0    15.000000          2.0    13.000000   \n",
       "2        30.000000            4.0    23.500000          8.0     7.500000   \n",
       "3        22.000000            8.0    12.000000          8.0    25.000000   \n",
       "4        16.666667            1.0    12.333333          1.0     7.333333   \n",
       "..             ...            ...          ...          ...          ...   \n",
       "655     154.285714           43.0    51.600000          1.0    15.444444   \n",
       "656     137.625000           40.0    51.700000          1.0    14.555556   \n",
       "657     102.444444           37.0    44.444444          1.0    13.375000   \n",
       "658     120.750000           53.0    46.000000          1.0    13.125000   \n",
       "659     120.555556           47.0    38.600000          1.0    15.333333   \n",
       "\n",
       "     SO2_minimum  CO_average  CO_minimum  OZONE_average  OZONE_minimum  \\\n",
       "0            1.0   30.666667         5.0      52.666667           17.0   \n",
       "1            1.0   32.000000         6.0      44.500000           18.0   \n",
       "2            1.0   36.500000         2.0      62.000000            5.0   \n",
       "3            3.0   38.500000        28.0      36.500000            3.0   \n",
       "4            1.0   35.000000        10.0      65.000000            2.0   \n",
       "..           ...         ...         ...            ...            ...   \n",
       "655          2.0   60.400000        21.0      21.600000            1.0   \n",
       "656          2.0   50.400000        16.0      25.500000            1.0   \n",
       "657          2.0   46.555556        13.0      28.333333            3.0   \n",
       "658          2.0   55.400000        14.0      19.400000            1.0   \n",
       "659          2.0   53.600000        10.0      25.200000            1.0   \n",
       "\n",
       "     Total_Day_Cases         y_lr   y_log       y_svr       y_lgbm  \\\n",
       "0             1189.0  1102.096412   563.0  751.609604  1190.257590   \n",
       "1             1180.0  1139.505964   648.0  750.935858  1174.385624   \n",
       "2             1235.0  1186.856589  1235.0  755.657679   986.459208   \n",
       "3             1089.0  1119.694212  1089.0  752.737951   994.873376   \n",
       "4             1299.0  1035.605029  1299.0  752.659711  1095.599508   \n",
       "..               ...          ...     ...         ...          ...   \n",
       "655            577.0  1327.453315   409.0  753.037498   689.612583   \n",
       "656            409.0  1129.282501   409.0  755.221746   749.020670   \n",
       "657            541.0   935.229365   541.0  761.409589   785.725520   \n",
       "658            871.0   916.887368   576.0  754.398983   952.119868   \n",
       "659            924.0  1348.188266   924.0  757.687976   818.360422   \n",
       "\n",
       "     Total_Cases_Predicted PM2.5_AQI_Category  \n",
       "0               765.788094               Good  \n",
       "1               815.633131               Good  \n",
       "2              1137.803803               Good  \n",
       "3              1049.429244               Good  \n",
       "4              1245.843640               Good  \n",
       "..                     ...                ...  \n",
       "655             428.377292          Very Poor  \n",
       "656             469.988067          Very Poor  \n",
       "657             589.343485               Poor  \n",
       "658             692.112427               Poor  \n",
       "659             833.271852               Poor  \n",
       "\n",
       "[636 rows x 17 columns]"
      ]
     },
     "execution_count": 673,
     "metadata": {},
     "output_type": "execute_result"
    }
   ],
   "source": [
    "final_high_df"
   ]
  },
  {
   "cell_type": "code",
   "execution_count": 674,
   "metadata": {},
   "outputs": [
    {
     "data": {
      "text/plain": [
       "<matplotlib.axes._subplots.AxesSubplot at 0x1652f3fb248>"
      ]
     },
     "execution_count": 674,
     "metadata": {},
     "output_type": "execute_result"
    },
    {
     "data": {
      "image/png": "[encoded data removed]",
      "text/plain": [
       "<Figure size 432x288 with 1 Axes>"
      ]
     },
     "metadata": {
      "needs_background": "light"
     },
     "output_type": "display_data"
    }
   ],
   "source": [
    "sns.boxplot(data=final_high_df,x=\"Total_Day_Cases\",y=\"PM2.5_AQI_Category\",orient=\"h\")"
   ]
  },
  {
   "cell_type": "code",
   "execution_count": 675,
   "metadata": {},
   "outputs": [
    {
     "name": "stdout",
     "output_type": "stream",
     "text": [
      "Good\n",
      "Mean Absolute Error All    : 153.0166622072952\n",
      "Satisfactory\n",
      "Mean Absolute Error All    : 186.49865814758135\n",
      "Moderately Polluted\n",
      "Mean Absolute Error All    : 188.6826653552823\n",
      "Very Poor\n",
      "Mean Absolute Error All    : 195.5047399636779\n",
      "Poor\n",
      "Mean Absolute Error All    : 111.27818746176396\n"
     ]
    }
   ],
   "source": [
    "for category in [\"Good\",\"Satisfactory\",\"Moderately Polluted\",\"Very Poor\",\"Poor\"]:\n",
    "    print(category)\n",
    "    data_df=final_high_df[final_high_df[\"PM2.5_AQI_Category\"]==category]\n",
    "    print('Mean Absolute Error All    :', metrics.mean_absolute_error(data_df[\"Total_Day_Cases\"],data_df[\"Total_Cases_Predicted\"]))"
   ]
  },
  {
   "cell_type": "code",
   "execution_count": 501,
   "metadata": {},
   "outputs": [
    {
     "name": "stdout",
     "output_type": "stream",
     "text": [
      "Good\n",
      "Mean Absolute Error All    : 175.40923219701202\n",
      "Satisfactory\n",
      "Mean Absolute Error All    : 194.74205987646684\n",
      "Moderately Polluted\n",
      "Mean Absolute Error All    : 180.4107443131397\n",
      "Very Poor\n",
      "Mean Absolute Error All    : 240.74421391242953\n",
      "Poor\n",
      "Mean Absolute Error All    : 169.33065669682847\n",
      "Severe\n",
      "Mean Absolute Error All    : 799.9381966707818\n"
     ]
    }
   ],
   "source": [
    "for category in pm2_5_aqi_categories:\n",
    "    print(category)\n",
    "    data_df=final_high_df[final_high_df[\"PM2.5_AQI_Category\"]==category]\n",
    "    print('Mean Absolute Error All    :', metrics.mean_absolute_error(data_df[\"Total_Day_Cases\"],data_df[\"Total_Cases_Predicted\"]))"
   ]
  },
  {
   "cell_type": "code",
   "execution_count": 676,
   "metadata": {},
   "outputs": [
    {
     "data": {
      "text/plain": [
       "<matplotlib.axes._subplots.AxesSubplot at 0x16531010448>"
      ]
     },
     "execution_count": 676,
     "metadata": {},
     "output_type": "execute_result"
    },
    {
     "data": {
      "image/png": "[encoded data removed]",
      "text/plain": [
       "<Figure size 432x288 with 1 Axes>"
      ]
     },
     "metadata": {
      "needs_background": "light"
     },
     "output_type": "display_data"
    }
   ],
   "source": [
    "sns.boxplot(data=final_high_df,x=\"Total_Cases_Predicted\",y=\"PM2.5_AQI_Category\",orient=\"h\")"
   ]
  },
  {
   "cell_type": "code",
   "execution_count": 492,
   "metadata": {},
   "outputs": [
    {
     "data": {
      "text/plain": [
       "<matplotlib.axes._subplots.AxesSubplot at 0x1653321ce88>"
      ]
     },
     "execution_count": 492,
     "metadata": {},
     "output_type": "execute_result"
    },
    {
     "data": {
      "image/png": "[encoded data removed]",
      "text/plain": [
       "<Figure size 432x288 with 1 Axes>"
      ]
     },
     "metadata": {
      "needs_background": "light"
     },
     "output_type": "display_data"
    }
   ],
   "source": [
    "sns.boxplot(data=final_high_df,x=\"Total_Cases_Predicted\",y=\"PM2.5_AQI_Category\",orient=\"h\")"
   ]
  },
  {
   "cell_type": "code",
   "execution_count": 677,
   "metadata": {},
   "outputs": [
    {
     "name": "stdout",
     "output_type": "stream",
     "text": [
      "Good\n",
      "Mean Absolute Error All    : 131.4262295081967\n",
      "Satisfactory\n",
      "Mean Absolute Error All    : 159.46445497630333\n",
      "Moderately Polluted\n",
      "Mean Absolute Error All    : 134.1685393258427\n",
      "Very Poor\n",
      "Mean Absolute Error All    : 113.72413793103448\n",
      "Poor\n",
      "Mean Absolute Error All    : 45.088235294117645\n"
     ]
    }
   ],
   "source": [
    "for category in [\"Good\",\"Satisfactory\",\"Moderately Polluted\",\"Very Poor\",\"Poor\"]:\n",
    "    print(category)\n",
    "    data_df=final_high_df[final_high_df[\"PM2.5_AQI_Category\"]==category]\n",
    "    print('Mean Absolute Error All    :', metrics.mean_absolute_error(data_df[\"Total_Day_Cases\"],data_df[\"y_log\"]))"
   ]
  },
  {
   "cell_type": "code",
   "execution_count": 645,
   "metadata": {},
   "outputs": [
    {
     "name": "stdout",
     "output_type": "stream",
     "text": [
      "Good\n",
      "Mean Absolute Error All    : 96.49152542372882\n",
      "Satisfactory\n",
      "Mean Absolute Error All    : 144.86885245901638\n",
      "Moderately Polluted\n",
      "Mean Absolute Error All    : 296.65671641791045\n",
      "Very Poor\n",
      "Mean Absolute Error All    : 124.33333333333333\n",
      "Poor\n",
      "Mean Absolute Error All    : 143.75\n",
      "Severe\n"
     ]
    },
    {
     "ename": "ValueError",
     "evalue": "Found array with 0 sample(s) (shape=(0,)) while a minimum of 1 is required.",
     "output_type": "error",
     "traceback": [
      "\u001b[1;31m---------------------------------------------------------------------------\u001b[0m",
      "\u001b[1;31mValueError\u001b[0m                                Traceback (most recent call last)",
      "\u001b[1;32m<ipython-input-645-0df77d68a54d>\u001b[0m in \u001b[0;36m<module>\u001b[1;34m\u001b[0m\n\u001b[0;32m      2\u001b[0m     \u001b[0mprint\u001b[0m\u001b[1;33m(\u001b[0m\u001b[0mcategory\u001b[0m\u001b[1;33m)\u001b[0m\u001b[1;33m\u001b[0m\u001b[1;33m\u001b[0m\u001b[0m\n\u001b[0;32m      3\u001b[0m     \u001b[0mdata_df\u001b[0m\u001b[1;33m=\u001b[0m\u001b[0mfinal_high_df\u001b[0m\u001b[1;33m[\u001b[0m\u001b[0mfinal_high_df\u001b[0m\u001b[1;33m[\u001b[0m\u001b[1;34m\"PM2.5_AQI_Category\"\u001b[0m\u001b[1;33m]\u001b[0m\u001b[1;33m==\u001b[0m\u001b[0mcategory\u001b[0m\u001b[1;33m]\u001b[0m\u001b[1;33m\u001b[0m\u001b[1;33m\u001b[0m\u001b[0m\n\u001b[1;32m----> 4\u001b[1;33m     \u001b[0mprint\u001b[0m\u001b[1;33m(\u001b[0m\u001b[1;34m'Mean Absolute Error All    :'\u001b[0m\u001b[1;33m,\u001b[0m \u001b[0mmetrics\u001b[0m\u001b[1;33m.\u001b[0m\u001b[0mmean_absolute_error\u001b[0m\u001b[1;33m(\u001b[0m\u001b[0mdata_df\u001b[0m\u001b[1;33m[\u001b[0m\u001b[1;34m\"Total_Day_Cases\"\u001b[0m\u001b[1;33m]\u001b[0m\u001b[1;33m,\u001b[0m\u001b[0mdata_df\u001b[0m\u001b[1;33m[\u001b[0m\u001b[1;34m\"y_log\"\u001b[0m\u001b[1;33m]\u001b[0m\u001b[1;33m)\u001b[0m\u001b[1;33m)\u001b[0m\u001b[1;33m\u001b[0m\u001b[1;33m\u001b[0m\u001b[0m\n\u001b[0m",
      "\u001b[1;32mC:\\ProgramData\\Anaconda3\\lib\\site-packages\\sklearn\\metrics\\_regression.py\u001b[0m in \u001b[0;36mmean_absolute_error\u001b[1;34m(y_true, y_pred, sample_weight, multioutput)\u001b[0m\n\u001b[0;32m    176\u001b[0m     \"\"\"\n\u001b[0;32m    177\u001b[0m     y_type, y_true, y_pred, multioutput = _check_reg_targets(\n\u001b[1;32m--> 178\u001b[1;33m         y_true, y_pred, multioutput)\n\u001b[0m\u001b[0;32m    179\u001b[0m     \u001b[0mcheck_consistent_length\u001b[0m\u001b[1;33m(\u001b[0m\u001b[0my_true\u001b[0m\u001b[1;33m,\u001b[0m \u001b[0my_pred\u001b[0m\u001b[1;33m,\u001b[0m \u001b[0msample_weight\u001b[0m\u001b[1;33m)\u001b[0m\u001b[1;33m\u001b[0m\u001b[1;33m\u001b[0m\u001b[0m\n\u001b[0;32m    180\u001b[0m     output_errors = np.average(np.abs(y_pred - y_true),\n",
      "\u001b[1;32mC:\\ProgramData\\Anaconda3\\lib\\site-packages\\sklearn\\metrics\\_regression.py\u001b[0m in \u001b[0;36m_check_reg_targets\u001b[1;34m(y_true, y_pred, multioutput, dtype)\u001b[0m\n\u001b[0;32m     83\u001b[0m     \"\"\"\n\u001b[0;32m     84\u001b[0m     \u001b[0mcheck_consistent_length\u001b[0m\u001b[1;33m(\u001b[0m\u001b[0my_true\u001b[0m\u001b[1;33m,\u001b[0m \u001b[0my_pred\u001b[0m\u001b[1;33m)\u001b[0m\u001b[1;33m\u001b[0m\u001b[1;33m\u001b[0m\u001b[0m\n\u001b[1;32m---> 85\u001b[1;33m     \u001b[0my_true\u001b[0m \u001b[1;33m=\u001b[0m \u001b[0mcheck_array\u001b[0m\u001b[1;33m(\u001b[0m\u001b[0my_true\u001b[0m\u001b[1;33m,\u001b[0m \u001b[0mensure_2d\u001b[0m\u001b[1;33m=\u001b[0m\u001b[1;32mFalse\u001b[0m\u001b[1;33m,\u001b[0m \u001b[0mdtype\u001b[0m\u001b[1;33m=\u001b[0m\u001b[0mdtype\u001b[0m\u001b[1;33m)\u001b[0m\u001b[1;33m\u001b[0m\u001b[1;33m\u001b[0m\u001b[0m\n\u001b[0m\u001b[0;32m     86\u001b[0m     \u001b[0my_pred\u001b[0m \u001b[1;33m=\u001b[0m \u001b[0mcheck_array\u001b[0m\u001b[1;33m(\u001b[0m\u001b[0my_pred\u001b[0m\u001b[1;33m,\u001b[0m \u001b[0mensure_2d\u001b[0m\u001b[1;33m=\u001b[0m\u001b[1;32mFalse\u001b[0m\u001b[1;33m,\u001b[0m \u001b[0mdtype\u001b[0m\u001b[1;33m=\u001b[0m\u001b[0mdtype\u001b[0m\u001b[1;33m)\u001b[0m\u001b[1;33m\u001b[0m\u001b[1;33m\u001b[0m\u001b[0m\n\u001b[0;32m     87\u001b[0m \u001b[1;33m\u001b[0m\u001b[0m\n",
      "\u001b[1;32mC:\\ProgramData\\Anaconda3\\lib\\site-packages\\sklearn\\utils\\validation.py\u001b[0m in \u001b[0;36mcheck_array\u001b[1;34m(array, accept_sparse, accept_large_sparse, dtype, order, copy, force_all_finite, ensure_2d, allow_nd, ensure_min_samples, ensure_min_features, warn_on_dtype, estimator)\u001b[0m\n\u001b[0;32m    584\u001b[0m                              \u001b[1;34m\" minimum of %d is required%s.\"\u001b[0m\u001b[1;33m\u001b[0m\u001b[1;33m\u001b[0m\u001b[0m\n\u001b[0;32m    585\u001b[0m                              % (n_samples, array.shape, ensure_min_samples,\n\u001b[1;32m--> 586\u001b[1;33m                                 context))\n\u001b[0m\u001b[0;32m    587\u001b[0m \u001b[1;33m\u001b[0m\u001b[0m\n\u001b[0;32m    588\u001b[0m     \u001b[1;32mif\u001b[0m \u001b[0mensure_min_features\u001b[0m \u001b[1;33m>\u001b[0m \u001b[1;36m0\u001b[0m \u001b[1;32mand\u001b[0m \u001b[0marray\u001b[0m\u001b[1;33m.\u001b[0m\u001b[0mndim\u001b[0m \u001b[1;33m==\u001b[0m \u001b[1;36m2\u001b[0m\u001b[1;33m:\u001b[0m\u001b[1;33m\u001b[0m\u001b[1;33m\u001b[0m\u001b[0m\n",
      "\u001b[1;31mValueError\u001b[0m: Found array with 0 sample(s) (shape=(0,)) while a minimum of 1 is required."
     ]
    }
   ],
   "source": [
    "for category in pm2_5_aqi_categories:\n",
    "    print(category)\n",
    "    data_df=final_high_df[final_high_df[\"PM2.5_AQI_Category\"]==category]\n",
    "    print('Mean Absolute Error All    :', metrics.mean_absolute_error(data_df[\"Total_Day_Cases\"],data_df[\"y_log\"]))"
   ]
  },
  {
   "cell_type": "code",
   "execution_count": 678,
   "metadata": {},
   "outputs": [
    {
     "data": {
      "text/plain": [
       "<matplotlib.axes._subplots.AxesSubplot at 0x1652f43c108>"
      ]
     },
     "execution_count": 678,
     "metadata": {},
     "output_type": "execute_result"
    },
    {
     "data": {
      "image/png": "[encoded data removed]",
      "text/plain": [
       "<Figure size 432x288 with 1 Axes>"
      ]
     },
     "metadata": {
      "needs_background": "light"
     },
     "output_type": "display_data"
    }
   ],
   "source": [
    "sns.boxplot(data=final_high_df,x=\"y_log\",y=\"PM2.5_AQI_Category\",orient=\"h\")"
   ]
  },
  {
   "cell_type": "code",
   "execution_count": 494,
   "metadata": {},
   "outputs": [
    {
     "data": {
      "text/plain": [
       "<matplotlib.axes._subplots.AxesSubplot at 0x165333aab08>"
      ]
     },
     "execution_count": 494,
     "metadata": {},
     "output_type": "execute_result"
    },
    {
     "data": {
      "image/png": "[encoded data removed]",
      "text/plain": [
       "<Figure size 432x288 with 1 Axes>"
      ]
     },
     "metadata": {
      "needs_background": "light"
     },
     "output_type": "display_data"
    }
   ],
   "source": [
    "sns.boxplot(data=final_high_df,x=\"y_log\",y=\"PM2.5_AQI_Category\",orient=\"h\")"
   ]
  },
  {
   "cell_type": "code",
   "execution_count": 540,
   "metadata": {},
   "outputs": [
    {
     "data": {
      "text/plain": [
       "<matplotlib.axes._subplots.AxesSubplot at 0x16534a02bc8>"
      ]
     },
     "execution_count": 540,
     "metadata": {},
     "output_type": "execute_result"
    },
    {
     "data": {
      "image/png": "[encoded data removed]",
      "text/plain": [
       "<Figure size 432x288 with 1 Axes>"
      ]
     },
     "metadata": {
      "needs_background": "light"
     },
     "output_type": "display_data"
    }
   ],
   "source": [
    "sns.boxplot(data=final_high_df,x=\"Total_Day_Cases\",y=\"PM2.5_AQI_Category\",orient=\"h\")"
   ]
  },
  {
   "cell_type": "code",
   "execution_count": null,
   "metadata": {},
   "outputs": [],
   "source": []
  }
 ],
 "metadata": {
  "kernelspec": {
   "display_name": "Python 3",
   "language": "python",
   "name": "python3"
  },
  "language_info": {
   "codemirror_mode": {
    "name": "ipython",
    "version": 3
   },
   "file_extension": ".py",
   "mimetype": "text/x-python",
   "name": "python",
   "nbconvert_exporter": "python",
   "pygments_lexer": "ipython3",
   "version": "3.7.4"
  }
 },
 "nbformat": 4,
 "nbformat_minor": 2
}
